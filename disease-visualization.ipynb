{
 "cells": [
  {
   "cell_type": "code",
   "execution_count": null,
   "id": "lightweight-nickname",
   "metadata": {
    "_cell_guid": "b1076dfc-b9ad-4769-8c92-a6c4dae69d19",
    "_uuid": "8f2839f25d086af736a60e9eeb907d3b93b6e0e5",
    "execution": {
     "iopub.execute_input": "2021-07-06T10:17:32.223864Z",
     "iopub.status.busy": "2021-07-06T10:17:32.222765Z",
     "iopub.status.idle": "2021-07-06T10:17:32.234543Z",
     "shell.execute_reply": "2021-07-06T10:17:32.235279Z",
     "shell.execute_reply.started": "2021-07-06T10:10:29.246496Z"
    },
    "papermill": {
     "duration": 0.054182,
     "end_time": "2021-07-06T10:17:32.235643",
     "exception": false,
     "start_time": "2021-07-06T10:17:32.181461",
     "status": "completed"
    },
    "tags": []
   },
   "outputs": [
    {
     "name": "stdout",
     "output_type": "stream",
     "text": [
      "/kaggle/input/disease-outbreaks-in-nigeria-datasets/meningitis_dataset.csv\n"
     ]
    }
   ],
   "source": [
    "# This Python 3 environment comes with many helpful analytics libraries installed\n",
    "# It is defined by the kaggle/python Docker image: https://github.com/kaggle/docker-python\n",
    "\n",
    "\n",
    "import numpy as np # linear algebra\n",
    "import pandas as pd # data processing, CSV file I/O (e.g. pd.read_csv)\n",
    "\n",
    "# Input data files are available in the read-only \"../input/\" directory\n",
    "# For example, running this (by clicking run or pressing Shift+Enter) will list all files under the input directory\n",
    "\n",
    "import os\n",
    "for dirname, _, filenames in os.walk('/kaggle/input'):\n",
    "    for filename in filenames:\n",
    "        print(os.path.join(dirname, filename))\n",
    "\n",
    "# You can write up to 20GB to the current directory (/kaggle/working/) that gets preserved as output when you create a version using \"Save & Run All\" \n",
    "# You can also write temporary files to /kaggle/temp/, but they won't be saved outside of the current session"
   ]
  },
  {
   "cell_type": "code",
   "execution_count": 2,
   "id": "sharing-championship",
   "metadata": {
    "execution": {
     "iopub.execute_input": "2021-07-06T10:17:32.327303Z",
     "iopub.status.busy": "2021-07-06T10:17:32.326527Z",
     "iopub.status.idle": "2021-07-06T10:17:34.643919Z",
     "shell.execute_reply": "2021-07-06T10:17:34.645009Z",
     "shell.execute_reply.started": "2021-07-06T10:10:29.266781Z"
    },
    "papermill": {
     "duration": 2.36683,
     "end_time": "2021-07-06T10:17:34.645209",
     "exception": false,
     "start_time": "2021-07-06T10:17:32.278379",
     "status": "completed"
    },
    "tags": []
   },
   "outputs": [
    {
     "data": {
      "text/html": [
       "        <script type=\"text/javascript\">\n",
       "        window.PlotlyConfig = {MathJaxConfig: 'local'};\n",
       "        if (window.MathJax) {MathJax.Hub.Config({SVG: {font: \"STIX-Web\"}});}\n",
       "        if (typeof require !== 'undefined') {\n",
       "        require.undef(\"plotly\");\n",
       "        requirejs.config({\n",
       "            paths: {\n",
       "                'plotly': ['https://cdn.plot.ly/plotly-latest.min']\n",
       "            }\n",
       "        });\n",
       "        require(['plotly'], function(Plotly) {\n",
       "            window._Plotly = Plotly;\n",
       "        });\n",
       "        }\n",
       "        </script>\n",
       "        "
      ]
     },
     "metadata": {},
     "output_type": "display_data"
    }
   ],
   "source": [
    "import numpy as np \n",
    "import pandas as pd \n",
    "import seaborn as sns; sns.set(style=\"ticks\", color_codes=True)\n",
    "import matplotlib.pyplot as plt\n",
    "import plotly.graph_objs as go\n",
    "from plotly.subplots import make_subplots\n",
    "import seaborn as sns\n",
    "import plotly.express as px\n",
    "%matplotlib inline\n",
    "\n",
    "from plotly.offline import download_plotlyjs, init_notebook_mode, plot, iplot\n",
    "init_notebook_mode(connected = True)"
   ]
  },
  {
   "cell_type": "code",
   "execution_count": 3,
   "id": "straight-oliver",
   "metadata": {
    "execution": {
     "iopub.execute_input": "2021-07-06T10:17:34.717349Z",
     "iopub.status.busy": "2021-07-06T10:17:34.716544Z",
     "iopub.status.idle": "2021-07-06T10:17:36.674427Z",
     "shell.execute_reply": "2021-07-06T10:17:36.673708Z",
     "shell.execute_reply.started": "2021-07-06T10:10:29.305489Z"
    },
    "papermill": {
     "duration": 1.995381,
     "end_time": "2021-07-06T10:17:36.674567",
     "exception": false,
     "start_time": "2021-07-06T10:17:34.679186",
     "status": "completed"
    },
    "tags": []
   },
   "outputs": [
    {
     "data": {
      "text/html": [
       "<div>\n",
       "<style scoped>\n",
       "    .dataframe tbody tr th:only-of-type {\n",
       "        vertical-align: middle;\n",
       "    }\n",
       "\n",
       "    .dataframe tbody tr th {\n",
       "        vertical-align: top;\n",
       "    }\n",
       "\n",
       "    .dataframe thead th {\n",
       "        text-align: right;\n",
       "    }\n",
       "</style>\n",
       "<table border=\"1\" class=\"dataframe\">\n",
       "  <thead>\n",
       "    <tr style=\"text-align: right;\">\n",
       "      <th></th>\n",
       "      <th>id</th>\n",
       "      <th>surname</th>\n",
       "      <th>firstname</th>\n",
       "      <th>middlename</th>\n",
       "      <th>gender</th>\n",
       "      <th>gender_male</th>\n",
       "      <th>gender_female</th>\n",
       "      <th>state</th>\n",
       "      <th>settlement</th>\n",
       "      <th>rural_settlement</th>\n",
       "      <th>urban_settlement</th>\n",
       "      <th>report_date</th>\n",
       "      <th>report_year</th>\n",
       "      <th>age</th>\n",
       "      <th>age_str</th>\n",
       "      <th>date_of_birth</th>\n",
       "      <th>child_group</th>\n",
       "      <th>adult_group</th>\n",
       "      <th>disease</th>\n",
       "      <th>cholera</th>\n",
       "      <th>diarrhoea</th>\n",
       "      <th>measles</th>\n",
       "      <th>viral_haemmorrhaphic_fever</th>\n",
       "      <th>meningitis</th>\n",
       "      <th>ebola</th>\n",
       "      <th>marburg_virus</th>\n",
       "      <th>yellow_fever</th>\n",
       "      <th>rubella_mars</th>\n",
       "      <th>malaria</th>\n",
       "      <th>serotype</th>\n",
       "      <th>NmA</th>\n",
       "      <th>NmC</th>\n",
       "      <th>NmW</th>\n",
       "      <th>health_status</th>\n",
       "      <th>alive</th>\n",
       "      <th>dead</th>\n",
       "      <th>report_outcome</th>\n",
       "      <th>unconfirmed</th>\n",
       "      <th>confirmed</th>\n",
       "      <th>null_serotype</th>\n",
       "    </tr>\n",
       "  </thead>\n",
       "  <tbody>\n",
       "    <tr>\n",
       "      <th>0</th>\n",
       "      <td>1</td>\n",
       "      <td>Solade</td>\n",
       "      <td>Grace</td>\n",
       "      <td>Solape</td>\n",
       "      <td>Female</td>\n",
       "      <td>0</td>\n",
       "      <td>1</td>\n",
       "      <td>Rivers</td>\n",
       "      <td>Rural</td>\n",
       "      <td>1</td>\n",
       "      <td>0</td>\n",
       "      <td>2018-05-15</td>\n",
       "      <td>2018</td>\n",
       "      <td>32</td>\n",
       "      <td>32 years</td>\n",
       "      <td>1986-01-17</td>\n",
       "      <td>0</td>\n",
       "      <td>1</td>\n",
       "      <td>Cholera</td>\n",
       "      <td>1</td>\n",
       "      <td>0</td>\n",
       "      <td>0</td>\n",
       "      <td>0</td>\n",
       "      <td>0</td>\n",
       "      <td>0</td>\n",
       "      <td>0</td>\n",
       "      <td>0</td>\n",
       "      <td>0</td>\n",
       "      <td>0</td>\n",
       "      <td>NaN</td>\n",
       "      <td>0</td>\n",
       "      <td>0</td>\n",
       "      <td>0</td>\n",
       "      <td>alive</td>\n",
       "      <td>1</td>\n",
       "      <td>0</td>\n",
       "      <td>confirmed</td>\n",
       "      <td>0</td>\n",
       "      <td>1</td>\n",
       "      <td>1</td>\n",
       "    </tr>\n",
       "    <tr>\n",
       "      <th>1</th>\n",
       "      <td>2</td>\n",
       "      <td>Eneche</td>\n",
       "      <td>Kure</td>\n",
       "      <td>Balogun</td>\n",
       "      <td>Male</td>\n",
       "      <td>1</td>\n",
       "      <td>0</td>\n",
       "      <td>Ebonyi</td>\n",
       "      <td>Rural</td>\n",
       "      <td>1</td>\n",
       "      <td>0</td>\n",
       "      <td>2017-02-28</td>\n",
       "      <td>2017</td>\n",
       "      <td>32</td>\n",
       "      <td>32 years</td>\n",
       "      <td>1985-09-01</td>\n",
       "      <td>0</td>\n",
       "      <td>1</td>\n",
       "      <td>Marburg Virus</td>\n",
       "      <td>0</td>\n",
       "      <td>0</td>\n",
       "      <td>0</td>\n",
       "      <td>0</td>\n",
       "      <td>0</td>\n",
       "      <td>0</td>\n",
       "      <td>1</td>\n",
       "      <td>0</td>\n",
       "      <td>0</td>\n",
       "      <td>0</td>\n",
       "      <td>NaN</td>\n",
       "      <td>0</td>\n",
       "      <td>0</td>\n",
       "      <td>1</td>\n",
       "      <td>Alive</td>\n",
       "      <td>1</td>\n",
       "      <td>0</td>\n",
       "      <td>Confirmed</td>\n",
       "      <td>1</td>\n",
       "      <td>0</td>\n",
       "      <td>1</td>\n",
       "    </tr>\n",
       "    <tr>\n",
       "      <th>2</th>\n",
       "      <td>3</td>\n",
       "      <td>Sanusi</td>\n",
       "      <td>Adaugo</td>\n",
       "      <td>Katerine</td>\n",
       "      <td>Female</td>\n",
       "      <td>0</td>\n",
       "      <td>1</td>\n",
       "      <td>Ogun</td>\n",
       "      <td>Urban</td>\n",
       "      <td>0</td>\n",
       "      <td>1</td>\n",
       "      <td>2012-03-02</td>\n",
       "      <td>2012</td>\n",
       "      <td>24</td>\n",
       "      <td>24 years</td>\n",
       "      <td>1988-05-01</td>\n",
       "      <td>0</td>\n",
       "      <td>1</td>\n",
       "      <td>Marburg Virus</td>\n",
       "      <td>0</td>\n",
       "      <td>0</td>\n",
       "      <td>0</td>\n",
       "      <td>0</td>\n",
       "      <td>0</td>\n",
       "      <td>0</td>\n",
       "      <td>1</td>\n",
       "      <td>0</td>\n",
       "      <td>0</td>\n",
       "      <td>0</td>\n",
       "      <td>NaN</td>\n",
       "      <td>0</td>\n",
       "      <td>0</td>\n",
       "      <td>1</td>\n",
       "      <td>Dead</td>\n",
       "      <td>0</td>\n",
       "      <td>1</td>\n",
       "      <td>Not Confirmed</td>\n",
       "      <td>1</td>\n",
       "      <td>0</td>\n",
       "      <td>1</td>\n",
       "    </tr>\n",
       "    <tr>\n",
       "      <th>3</th>\n",
       "      <td>4</td>\n",
       "      <td>Sowore</td>\n",
       "      <td>Mooslemat</td>\n",
       "      <td>Ifedayo</td>\n",
       "      <td>Female</td>\n",
       "      <td>0</td>\n",
       "      <td>1</td>\n",
       "      <td>Ondo</td>\n",
       "      <td>Rural</td>\n",
       "      <td>1</td>\n",
       "      <td>0</td>\n",
       "      <td>2010-05-21</td>\n",
       "      <td>2010</td>\n",
       "      <td>63</td>\n",
       "      <td>63 years</td>\n",
       "      <td>1947-05-24</td>\n",
       "      <td>0</td>\n",
       "      <td>1</td>\n",
       "      <td>Measles</td>\n",
       "      <td>0</td>\n",
       "      <td>0</td>\n",
       "      <td>1</td>\n",
       "      <td>0</td>\n",
       "      <td>0</td>\n",
       "      <td>0</td>\n",
       "      <td>0</td>\n",
       "      <td>0</td>\n",
       "      <td>0</td>\n",
       "      <td>0</td>\n",
       "      <td>NaN</td>\n",
       "      <td>0</td>\n",
       "      <td>0</td>\n",
       "      <td>1</td>\n",
       "      <td>Alive</td>\n",
       "      <td>1</td>\n",
       "      <td>0</td>\n",
       "      <td>Not Confirmed</td>\n",
       "      <td>1</td>\n",
       "      <td>0</td>\n",
       "      <td>1</td>\n",
       "    </tr>\n",
       "    <tr>\n",
       "      <th>4</th>\n",
       "      <td>5</td>\n",
       "      <td>Abdusalam</td>\n",
       "      <td>Yusuf</td>\n",
       "      <td>Okafor</td>\n",
       "      <td>Male</td>\n",
       "      <td>1</td>\n",
       "      <td>0</td>\n",
       "      <td>Oyo</td>\n",
       "      <td>Urban</td>\n",
       "      <td>0</td>\n",
       "      <td>1</td>\n",
       "      <td>2017-08-28</td>\n",
       "      <td>2017</td>\n",
       "      <td>9</td>\n",
       "      <td>9 years</td>\n",
       "      <td>2008-01-07</td>\n",
       "      <td>1</td>\n",
       "      <td>0</td>\n",
       "      <td>Rubella Mars</td>\n",
       "      <td>0</td>\n",
       "      <td>0</td>\n",
       "      <td>0</td>\n",
       "      <td>0</td>\n",
       "      <td>0</td>\n",
       "      <td>0</td>\n",
       "      <td>0</td>\n",
       "      <td>0</td>\n",
       "      <td>1</td>\n",
       "      <td>0</td>\n",
       "      <td>NaN</td>\n",
       "      <td>0</td>\n",
       "      <td>0</td>\n",
       "      <td>1</td>\n",
       "      <td>Alive</td>\n",
       "      <td>1</td>\n",
       "      <td>0</td>\n",
       "      <td>Confirmed</td>\n",
       "      <td>1</td>\n",
       "      <td>0</td>\n",
       "      <td>1</td>\n",
       "    </tr>\n",
       "    <tr>\n",
       "      <th>...</th>\n",
       "      <td>...</td>\n",
       "      <td>...</td>\n",
       "      <td>...</td>\n",
       "      <td>...</td>\n",
       "      <td>...</td>\n",
       "      <td>...</td>\n",
       "      <td>...</td>\n",
       "      <td>...</td>\n",
       "      <td>...</td>\n",
       "      <td>...</td>\n",
       "      <td>...</td>\n",
       "      <td>...</td>\n",
       "      <td>...</td>\n",
       "      <td>...</td>\n",
       "      <td>...</td>\n",
       "      <td>...</td>\n",
       "      <td>...</td>\n",
       "      <td>...</td>\n",
       "      <td>...</td>\n",
       "      <td>...</td>\n",
       "      <td>...</td>\n",
       "      <td>...</td>\n",
       "      <td>...</td>\n",
       "      <td>...</td>\n",
       "      <td>...</td>\n",
       "      <td>...</td>\n",
       "      <td>...</td>\n",
       "      <td>...</td>\n",
       "      <td>...</td>\n",
       "      <td>...</td>\n",
       "      <td>...</td>\n",
       "      <td>...</td>\n",
       "      <td>...</td>\n",
       "      <td>...</td>\n",
       "      <td>...</td>\n",
       "      <td>...</td>\n",
       "      <td>...</td>\n",
       "      <td>...</td>\n",
       "      <td>...</td>\n",
       "      <td>...</td>\n",
       "    </tr>\n",
       "    <tr>\n",
       "      <th>284479</th>\n",
       "      <td>288418</td>\n",
       "      <td>Mukthar</td>\n",
       "      <td>Alimat</td>\n",
       "      <td>Ajibewa</td>\n",
       "      <td>Female</td>\n",
       "      <td>0</td>\n",
       "      <td>1</td>\n",
       "      <td>Cross River</td>\n",
       "      <td>Rural</td>\n",
       "      <td>1</td>\n",
       "      <td>0</td>\n",
       "      <td>2012-08-24</td>\n",
       "      <td>2012</td>\n",
       "      <td>67</td>\n",
       "      <td>67 years</td>\n",
       "      <td>1945-07-10</td>\n",
       "      <td>0</td>\n",
       "      <td>1</td>\n",
       "      <td>Ebola</td>\n",
       "      <td>0</td>\n",
       "      <td>0</td>\n",
       "      <td>0</td>\n",
       "      <td>0</td>\n",
       "      <td>0</td>\n",
       "      <td>1</td>\n",
       "      <td>0</td>\n",
       "      <td>0</td>\n",
       "      <td>0</td>\n",
       "      <td>0</td>\n",
       "      <td>NaN</td>\n",
       "      <td>0</td>\n",
       "      <td>0</td>\n",
       "      <td>1</td>\n",
       "      <td>Dead</td>\n",
       "      <td>0</td>\n",
       "      <td>1</td>\n",
       "      <td>Confirmed</td>\n",
       "      <td>1</td>\n",
       "      <td>0</td>\n",
       "      <td>1</td>\n",
       "    </tr>\n",
       "    <tr>\n",
       "      <th>284480</th>\n",
       "      <td>288419</td>\n",
       "      <td>Akenzua</td>\n",
       "      <td>Deborah</td>\n",
       "      <td>Rofeeqat</td>\n",
       "      <td>Female</td>\n",
       "      <td>0</td>\n",
       "      <td>1</td>\n",
       "      <td>Kwara</td>\n",
       "      <td>Urban</td>\n",
       "      <td>0</td>\n",
       "      <td>1</td>\n",
       "      <td>2009-01-19</td>\n",
       "      <td>2009</td>\n",
       "      <td>64</td>\n",
       "      <td>64 years</td>\n",
       "      <td>1945-01-27</td>\n",
       "      <td>0</td>\n",
       "      <td>1</td>\n",
       "      <td>Ebola</td>\n",
       "      <td>0</td>\n",
       "      <td>0</td>\n",
       "      <td>0</td>\n",
       "      <td>0</td>\n",
       "      <td>0</td>\n",
       "      <td>1</td>\n",
       "      <td>0</td>\n",
       "      <td>0</td>\n",
       "      <td>0</td>\n",
       "      <td>0</td>\n",
       "      <td>NaN</td>\n",
       "      <td>0</td>\n",
       "      <td>0</td>\n",
       "      <td>1</td>\n",
       "      <td>Dead</td>\n",
       "      <td>0</td>\n",
       "      <td>1</td>\n",
       "      <td>Confirmed</td>\n",
       "      <td>1</td>\n",
       "      <td>0</td>\n",
       "      <td>1</td>\n",
       "    </tr>\n",
       "    <tr>\n",
       "      <th>284481</th>\n",
       "      <td>288420</td>\n",
       "      <td>Isa</td>\n",
       "      <td>Deborah</td>\n",
       "      <td>Tofunmi</td>\n",
       "      <td>Female</td>\n",
       "      <td>0</td>\n",
       "      <td>1</td>\n",
       "      <td>Katsina</td>\n",
       "      <td>Rural</td>\n",
       "      <td>1</td>\n",
       "      <td>0</td>\n",
       "      <td>2010-06-10</td>\n",
       "      <td>2010</td>\n",
       "      <td>33</td>\n",
       "      <td>33 years</td>\n",
       "      <td>1977-10-03</td>\n",
       "      <td>0</td>\n",
       "      <td>1</td>\n",
       "      <td>Malaria</td>\n",
       "      <td>0</td>\n",
       "      <td>0</td>\n",
       "      <td>0</td>\n",
       "      <td>0</td>\n",
       "      <td>0</td>\n",
       "      <td>0</td>\n",
       "      <td>0</td>\n",
       "      <td>0</td>\n",
       "      <td>0</td>\n",
       "      <td>1</td>\n",
       "      <td>NaN</td>\n",
       "      <td>0</td>\n",
       "      <td>0</td>\n",
       "      <td>1</td>\n",
       "      <td>Alive</td>\n",
       "      <td>1</td>\n",
       "      <td>0</td>\n",
       "      <td>Confirmed</td>\n",
       "      <td>0</td>\n",
       "      <td>1</td>\n",
       "      <td>1</td>\n",
       "    </tr>\n",
       "    <tr>\n",
       "      <th>284482</th>\n",
       "      <td>288421</td>\n",
       "      <td>Uba</td>\n",
       "      <td>Ismail</td>\n",
       "      <td>Akpabio</td>\n",
       "      <td>Male</td>\n",
       "      <td>1</td>\n",
       "      <td>0</td>\n",
       "      <td>Jigawa</td>\n",
       "      <td>Rural</td>\n",
       "      <td>1</td>\n",
       "      <td>0</td>\n",
       "      <td>2016-01-11</td>\n",
       "      <td>2016</td>\n",
       "      <td>18</td>\n",
       "      <td>18 years</td>\n",
       "      <td>1998-05-07</td>\n",
       "      <td>0</td>\n",
       "      <td>1</td>\n",
       "      <td>Malaria</td>\n",
       "      <td>0</td>\n",
       "      <td>0</td>\n",
       "      <td>0</td>\n",
       "      <td>0</td>\n",
       "      <td>0</td>\n",
       "      <td>0</td>\n",
       "      <td>0</td>\n",
       "      <td>0</td>\n",
       "      <td>0</td>\n",
       "      <td>1</td>\n",
       "      <td>NaN</td>\n",
       "      <td>0</td>\n",
       "      <td>0</td>\n",
       "      <td>1</td>\n",
       "      <td>Dead</td>\n",
       "      <td>0</td>\n",
       "      <td>1</td>\n",
       "      <td>Not Confirmed</td>\n",
       "      <td>1</td>\n",
       "      <td>0</td>\n",
       "      <td>1</td>\n",
       "    </tr>\n",
       "    <tr>\n",
       "      <th>284483</th>\n",
       "      <td>288422</td>\n",
       "      <td>Alao</td>\n",
       "      <td>Paulina</td>\n",
       "      <td>Sade</td>\n",
       "      <td>Female</td>\n",
       "      <td>0</td>\n",
       "      <td>1</td>\n",
       "      <td>Kogi</td>\n",
       "      <td>Urban</td>\n",
       "      <td>0</td>\n",
       "      <td>1</td>\n",
       "      <td>2013-08-18</td>\n",
       "      <td>2013</td>\n",
       "      <td>7</td>\n",
       "      <td>7 months</td>\n",
       "      <td>2013-01-07</td>\n",
       "      <td>1</td>\n",
       "      <td>0</td>\n",
       "      <td>Yellow Fever</td>\n",
       "      <td>0</td>\n",
       "      <td>0</td>\n",
       "      <td>0</td>\n",
       "      <td>0</td>\n",
       "      <td>0</td>\n",
       "      <td>0</td>\n",
       "      <td>0</td>\n",
       "      <td>1</td>\n",
       "      <td>0</td>\n",
       "      <td>0</td>\n",
       "      <td>NaN</td>\n",
       "      <td>0</td>\n",
       "      <td>0</td>\n",
       "      <td>1</td>\n",
       "      <td>Alive</td>\n",
       "      <td>1</td>\n",
       "      <td>0</td>\n",
       "      <td>Confirmed</td>\n",
       "      <td>0</td>\n",
       "      <td>1</td>\n",
       "      <td>1</td>\n",
       "    </tr>\n",
       "  </tbody>\n",
       "</table>\n",
       "<p>284484 rows × 40 columns</p>\n",
       "</div>"
      ],
      "text/plain": [
       "            id    surname  firstname middlename  gender  gender_male  gender_female        state settlement  rural_settlement  urban_settlement report_date  report_year  age   age_str date_of_birth  child_group  adult_group        disease  cholera  diarrhoea  measles  viral_haemmorrhaphic_fever  meningitis  ebola  marburg_virus  yellow_fever  rubella_mars  malaria serotype  NmA  NmC  NmW health_status  alive  dead report_outcome  unconfirmed  confirmed  null_serotype\n",
       "0            1     Solade      Grace     Solape  Female            0              1       Rivers      Rural                 1                 0  2018-05-15         2018   32  32 years    1986-01-17            0            1        Cholera        1          0        0                           0           0      0              0             0             0        0      NaN    0    0    0         alive      1     0      confirmed            0          1              1\n",
       "1            2     Eneche       Kure    Balogun    Male            1              0       Ebonyi      Rural                 1                 0  2017-02-28         2017   32  32 years    1985-09-01            0            1  Marburg Virus        0          0        0                           0           0      0              1             0             0        0      NaN    0    0    1         Alive      1     0      Confirmed            1          0              1\n",
       "2            3     Sanusi     Adaugo   Katerine  Female            0              1         Ogun      Urban                 0                 1  2012-03-02         2012   24  24 years    1988-05-01            0            1  Marburg Virus        0          0        0                           0           0      0              1             0             0        0      NaN    0    0    1          Dead      0     1  Not Confirmed            1          0              1\n",
       "3            4     Sowore  Mooslemat    Ifedayo  Female            0              1         Ondo      Rural                 1                 0  2010-05-21         2010   63  63 years    1947-05-24            0            1        Measles        0          0        1                           0           0      0              0             0             0        0      NaN    0    0    1         Alive      1     0  Not Confirmed            1          0              1\n",
       "4            5  Abdusalam      Yusuf     Okafor    Male            1              0          Oyo      Urban                 0                 1  2017-08-28         2017    9   9 years    2008-01-07            1            0   Rubella Mars        0          0        0                           0           0      0              0             0             1        0      NaN    0    0    1         Alive      1     0      Confirmed            1          0              1\n",
       "...        ...        ...        ...        ...     ...          ...            ...          ...        ...               ...               ...         ...          ...  ...       ...           ...          ...          ...            ...      ...        ...      ...                         ...         ...    ...            ...           ...           ...      ...      ...  ...  ...  ...           ...    ...   ...            ...          ...        ...            ...\n",
       "284479  288418    Mukthar     Alimat    Ajibewa  Female            0              1  Cross River      Rural                 1                 0  2012-08-24         2012   67  67 years    1945-07-10            0            1          Ebola        0          0        0                           0           0      1              0             0             0        0      NaN    0    0    1          Dead      0     1      Confirmed            1          0              1\n",
       "284480  288419    Akenzua    Deborah   Rofeeqat  Female            0              1        Kwara      Urban                 0                 1  2009-01-19         2009   64  64 years    1945-01-27            0            1          Ebola        0          0        0                           0           0      1              0             0             0        0      NaN    0    0    1          Dead      0     1      Confirmed            1          0              1\n",
       "284481  288420        Isa    Deborah    Tofunmi  Female            0              1      Katsina      Rural                 1                 0  2010-06-10         2010   33  33 years    1977-10-03            0            1        Malaria        0          0        0                           0           0      0              0             0             0        1      NaN    0    0    1         Alive      1     0      Confirmed            0          1              1\n",
       "284482  288421        Uba     Ismail    Akpabio    Male            1              0       Jigawa      Rural                 1                 0  2016-01-11         2016   18  18 years    1998-05-07            0            1        Malaria        0          0        0                           0           0      0              0             0             0        1      NaN    0    0    1          Dead      0     1  Not Confirmed            1          0              1\n",
       "284483  288422       Alao    Paulina       Sade  Female            0              1         Kogi      Urban                 0                 1  2013-08-18         2013    7  7 months    2013-01-07            1            0   Yellow Fever        0          0        0                           0           0      0              0             1             0        0      NaN    0    0    1         Alive      1     0      Confirmed            0          1              1\n",
       "\n",
       "[284484 rows x 40 columns]"
      ]
     },
     "execution_count": 3,
     "metadata": {},
     "output_type": "execute_result"
    }
   ],
   "source": [
    "NA_list=['NaN', 'Null', 'null serotype' ]\n",
    "df=pd.read_csv('/kaggle/input/disease-outbreaks-in-nigeria-datasets/meningitis_dataset.csv', na_values=NA_list)\n",
    "pd.set_option('display.max_rows', 500)\n",
    "pd.set_option('display.max_columns', 500)\n",
    "pd.set_option('display.width', 1000)\n",
    "df"
   ]
  },
  {
   "cell_type": "code",
   "execution_count": 4,
   "id": "chemical-cooperative",
   "metadata": {
    "execution": {
     "iopub.execute_input": "2021-07-06T10:17:36.809719Z",
     "iopub.status.busy": "2021-07-06T10:17:36.807081Z",
     "iopub.status.idle": "2021-07-06T10:17:36.814727Z",
     "shell.execute_reply": "2021-07-06T10:17:36.814215Z",
     "shell.execute_reply.started": "2021-07-06T10:10:30.666603Z"
    },
    "papermill": {
     "duration": 0.108063,
     "end_time": "2021-07-06T10:17:36.814887",
     "exception": false,
     "start_time": "2021-07-06T10:17:36.706824",
     "status": "completed"
    },
    "tags": []
   },
   "outputs": [
    {
     "data": {
      "text/plain": [
       "Cholera                       28589\n",
       "Diarrhoea                     28550\n",
       "Rubella Mars                  28539\n",
       "Malaria                       28535\n",
       "Measles                       28471\n",
       "Marburg Virus                 28430\n",
       "Yellow Fever                  28428\n",
       "Viral Haemmorrhaphic Fever    28401\n",
       "Meningitis                    28362\n",
       "Ebola                         28179\n",
       "Name: disease, dtype: int64"
      ]
     },
     "execution_count": 4,
     "metadata": {},
     "output_type": "execute_result"
    }
   ],
   "source": [
    "# how many dieseas are there in data?\n",
    "\n",
    "df.disease.value_counts()"
   ]
  },
  {
   "cell_type": "code",
   "execution_count": 5,
   "id": "existing-maldives",
   "metadata": {
    "execution": {
     "iopub.execute_input": "2021-07-06T10:17:36.888438Z",
     "iopub.status.busy": "2021-07-06T10:17:36.887641Z",
     "iopub.status.idle": "2021-07-06T10:17:36.914098Z",
     "shell.execute_reply": "2021-07-06T10:17:36.913496Z",
     "shell.execute_reply.started": "2021-07-06T10:10:30.740004Z"
    },
    "papermill": {
     "duration": 0.066427,
     "end_time": "2021-07-06T10:17:36.914244",
     "exception": false,
     "start_time": "2021-07-06T10:17:36.847817",
     "status": "completed"
    },
    "tags": []
   },
   "outputs": [
    {
     "data": {
      "text/html": [
       "<div>\n",
       "<style scoped>\n",
       "    .dataframe tbody tr th:only-of-type {\n",
       "        vertical-align: middle;\n",
       "    }\n",
       "\n",
       "    .dataframe tbody tr th {\n",
       "        vertical-align: top;\n",
       "    }\n",
       "\n",
       "    .dataframe thead th {\n",
       "        text-align: right;\n",
       "    }\n",
       "</style>\n",
       "<table border=\"1\" class=\"dataframe\">\n",
       "  <thead>\n",
       "    <tr style=\"text-align: right;\">\n",
       "      <th></th>\n",
       "      <th>id</th>\n",
       "      <th>gender</th>\n",
       "      <th>state</th>\n",
       "      <th>settlement</th>\n",
       "      <th>report_year</th>\n",
       "      <th>age</th>\n",
       "      <th>disease</th>\n",
       "      <th>serotype</th>\n",
       "      <th>health_status</th>\n",
       "      <th>report_outcome</th>\n",
       "    </tr>\n",
       "  </thead>\n",
       "  <tbody>\n",
       "    <tr>\n",
       "      <th>0</th>\n",
       "      <td>1</td>\n",
       "      <td>Female</td>\n",
       "      <td>Rivers</td>\n",
       "      <td>Rural</td>\n",
       "      <td>2018</td>\n",
       "      <td>32</td>\n",
       "      <td>Cholera</td>\n",
       "      <td>NaN</td>\n",
       "      <td>alive</td>\n",
       "      <td>confirmed</td>\n",
       "    </tr>\n",
       "    <tr>\n",
       "      <th>1</th>\n",
       "      <td>2</td>\n",
       "      <td>Male</td>\n",
       "      <td>Ebonyi</td>\n",
       "      <td>Rural</td>\n",
       "      <td>2017</td>\n",
       "      <td>32</td>\n",
       "      <td>Marburg Virus</td>\n",
       "      <td>NaN</td>\n",
       "      <td>Alive</td>\n",
       "      <td>Confirmed</td>\n",
       "    </tr>\n",
       "    <tr>\n",
       "      <th>2</th>\n",
       "      <td>3</td>\n",
       "      <td>Female</td>\n",
       "      <td>Ogun</td>\n",
       "      <td>Urban</td>\n",
       "      <td>2012</td>\n",
       "      <td>24</td>\n",
       "      <td>Marburg Virus</td>\n",
       "      <td>NaN</td>\n",
       "      <td>Dead</td>\n",
       "      <td>Not Confirmed</td>\n",
       "    </tr>\n",
       "    <tr>\n",
       "      <th>3</th>\n",
       "      <td>4</td>\n",
       "      <td>Female</td>\n",
       "      <td>Ondo</td>\n",
       "      <td>Rural</td>\n",
       "      <td>2010</td>\n",
       "      <td>63</td>\n",
       "      <td>Measles</td>\n",
       "      <td>NaN</td>\n",
       "      <td>Alive</td>\n",
       "      <td>Not Confirmed</td>\n",
       "    </tr>\n",
       "    <tr>\n",
       "      <th>4</th>\n",
       "      <td>5</td>\n",
       "      <td>Male</td>\n",
       "      <td>Oyo</td>\n",
       "      <td>Urban</td>\n",
       "      <td>2017</td>\n",
       "      <td>9</td>\n",
       "      <td>Rubella Mars</td>\n",
       "      <td>NaN</td>\n",
       "      <td>Alive</td>\n",
       "      <td>Confirmed</td>\n",
       "    </tr>\n",
       "  </tbody>\n",
       "</table>\n",
       "</div>"
      ],
      "text/plain": [
       "   id  gender   state settlement  report_year  age        disease serotype health_status report_outcome\n",
       "0   1  Female  Rivers      Rural         2018   32        Cholera      NaN         alive      confirmed\n",
       "1   2    Male  Ebonyi      Rural         2017   32  Marburg Virus      NaN         Alive      Confirmed\n",
       "2   3  Female    Ogun      Urban         2012   24  Marburg Virus      NaN          Dead  Not Confirmed\n",
       "3   4  Female    Ondo      Rural         2010   63        Measles      NaN         Alive  Not Confirmed\n",
       "4   5    Male     Oyo      Urban         2017    9   Rubella Mars      NaN         Alive      Confirmed"
      ]
     },
     "execution_count": 5,
     "metadata": {},
     "output_type": "execute_result"
    }
   ],
   "source": [
    "data=df[['id', 'gender', 'state', 'settlement', 'report_year', 'age', 'disease', 'serotype', \n",
    "         'health_status', 'report_outcome']]\n",
    "data.head()"
   ]
  },
  {
   "cell_type": "code",
   "execution_count": 6,
   "id": "entitled-superior",
   "metadata": {
    "execution": {
     "iopub.execute_input": "2021-07-06T10:17:37.143691Z",
     "iopub.status.busy": "2021-07-06T10:17:36.984342Z",
     "iopub.status.idle": "2021-07-06T10:17:37.154834Z",
     "shell.execute_reply": "2021-07-06T10:17:37.154209Z",
     "shell.execute_reply.started": "2021-07-06T10:10:30.784680Z"
    },
    "papermill": {
     "duration": 0.208163,
     "end_time": "2021-07-06T10:17:37.154990",
     "exception": false,
     "start_time": "2021-07-06T10:17:36.946827",
     "status": "completed"
    },
    "tags": []
   },
   "outputs": [
    {
     "data": {
      "text/plain": [
       "id                     0\n",
       "gender                 0\n",
       "state                  0\n",
       "settlement             0\n",
       "report_year            0\n",
       "age                    0\n",
       "disease                0\n",
       "serotype          256122\n",
       "health_status          0\n",
       "report_outcome         0\n",
       "dtype: int64"
      ]
     },
     "execution_count": 6,
     "metadata": {},
     "output_type": "execute_result"
    }
   ],
   "source": [
    "data.isnull().sum()"
   ]
  },
  {
   "cell_type": "markdown",
   "id": "manual-wellington",
   "metadata": {
    "papermill": {
     "duration": 0.033162,
     "end_time": "2021-07-06T10:17:37.221107",
     "exception": false,
     "start_time": "2021-07-06T10:17:37.187945",
     "status": "completed"
    },
    "tags": []
   },
   "source": [
    "we can with aid of LabelEncoder later dedicate Null-Values to a separtae Class."
   ]
  },
  {
   "cell_type": "code",
   "execution_count": null,
   "id": "female-savannah",
   "metadata": {
    "papermill": {
     "duration": 0.032224,
     "end_time": "2021-07-06T10:17:37.286907",
     "exception": false,
     "start_time": "2021-07-06T10:17:37.254683",
     "status": "completed"
    },
    "tags": []
   },
   "outputs": [],
   "source": []
  },
  {
   "cell_type": "markdown",
   "id": "elementary-glenn",
   "metadata": {
    "papermill": {
     "duration": 0.032282,
     "end_time": "2021-07-06T10:17:37.351660",
     "exception": false,
     "start_time": "2021-07-06T10:17:37.319378",
     "status": "completed"
    },
    "tags": []
   },
   "source": [
    "# Data Visualization"
   ]
  },
  {
   "cell_type": "markdown",
   "id": "sonic-electron",
   "metadata": {
    "papermill": {
     "duration": 0.032182,
     "end_time": "2021-07-06T10:17:37.416351",
     "exception": false,
     "start_time": "2021-07-06T10:17:37.384169",
     "status": "completed"
    },
    "tags": []
   },
   "source": [
    "Diseases and states or settelment"
   ]
  },
  {
   "cell_type": "code",
   "execution_count": 7,
   "id": "ethical-vessel",
   "metadata": {
    "execution": {
     "iopub.execute_input": "2021-07-06T10:17:37.494433Z",
     "iopub.status.busy": "2021-07-06T10:17:37.493387Z",
     "iopub.status.idle": "2021-07-06T10:17:38.730767Z",
     "shell.execute_reply": "2021-07-06T10:17:38.731318Z",
     "shell.execute_reply.started": "2021-07-06T10:10:30.960149Z"
    },
    "papermill": {
     "duration": 1.282626,
     "end_time": "2021-07-06T10:17:38.731494",
     "exception": false,
     "start_time": "2021-07-06T10:17:37.448868",
     "status": "completed"
    },
    "tags": []
   },
   "outputs": [
    {
     "data": {
      "application/vnd.plotly.v1+json": {
       "config": {
        "plotlyServerURL": "https://plot.ly"
       },
       "data": [
        {
         "alignmentgroup": "True",
         "hovertemplate": "disease=Meningitis<br>state=%{x}<br>Number of Patients=%{y}<extra></extra>",
         "legendgroup": "Meningitis",
         "marker": {
          "color": "#636efa"
         },
         "name": "Meningitis",
         "offsetgroup": "Meningitis",
         "orientation": "v",
         "showlegend": true,
         "textposition": "auto",
         "type": "bar",
         "x": [
          "Benue",
          "Ebonyi",
          "Federal Capital Territory",
          "Imo",
          "Niger",
          "Kebbi",
          "Ogun",
          "Anambra",
          "Ondo",
          "Kaduna",
          "Lagos",
          "Bayelsa",
          "Gombe",
          "Jigawa",
          "Osun",
          "Kano",
          "Yobe",
          "Oyo",
          "Adamawa",
          "Taraba",
          "Akwa Ibom",
          "Rivers",
          "Delta",
          "Kogi",
          "Ekiti",
          "Borno",
          "Nasarawa",
          "Enugu",
          "Abia",
          "Sokoto",
          "Bauchi",
          "Plateau",
          "Cross River",
          "Katsina",
          "Zamfara",
          "Edo",
          "Kwara"
         ],
         "xaxis": "x",
         "y": [
          849,
          822,
          797,
          795,
          793,
          789,
          789,
          789,
          783,
          783,
          782,
          782,
          780,
          780,
          778,
          772,
          768,
          767,
          767,
          765,
          764,
          763,
          762,
          762,
          754,
          753,
          753,
          751,
          748,
          747,
          740,
          739,
          731,
          729,
          726,
          719,
          691
         ],
         "yaxis": "y"
        },
        {
         "alignmentgroup": "True",
         "hovertemplate": "disease=Measles<br>state=%{x}<br>Number of Patients=%{y}<extra></extra>",
         "legendgroup": "Measles",
         "marker": {
          "color": "#EF553B"
         },
         "name": "Measles",
         "offsetgroup": "Measles",
         "orientation": "v",
         "showlegend": true,
         "textposition": "auto",
         "type": "bar",
         "x": [
          "Kwara",
          "Kano",
          "Rivers",
          "Bayelsa",
          "Anambra",
          "Niger",
          "Nasarawa",
          "Yobe",
          "Bauchi",
          "Imo",
          "Kebbi",
          "Ondo",
          "Ebonyi",
          "Gombe",
          "Delta",
          "Sokoto",
          "Adamawa",
          "Borno",
          "Ekiti",
          "Kaduna",
          "Katsina",
          "Enugu",
          "Lagos",
          "Abia",
          "Jigawa",
          "Akwa Ibom",
          "Zamfara",
          "Taraba",
          "Plateau",
          "Benue",
          "Cross River",
          "Federal Capital Territory",
          "Ogun",
          "Osun",
          "Oyo",
          "Edo",
          "Kogi"
         ],
         "xaxis": "x",
         "y": [
          849,
          823,
          814,
          812,
          801,
          799,
          796,
          793,
          791,
          789,
          788,
          787,
          782,
          779,
          768,
          768,
          768,
          765,
          764,
          764,
          762,
          759,
          758,
          757,
          757,
          753,
          752,
          751,
          751,
          750,
          748,
          742,
          742,
          738,
          730,
          729,
          692
         ],
         "yaxis": "y"
        },
        {
         "alignmentgroup": "True",
         "hovertemplate": "disease=Marburg Virus<br>state=%{x}<br>Number of Patients=%{y}<extra></extra>",
         "legendgroup": "Marburg Virus",
         "marker": {
          "color": "#00cc96"
         },
         "name": "Marburg Virus",
         "offsetgroup": "Marburg Virus",
         "orientation": "v",
         "showlegend": true,
         "textposition": "auto",
         "type": "bar",
         "x": [
          "Abia",
          "Benue",
          "Kogi",
          "Plateau",
          "Kano",
          "Enugu",
          "Ondo",
          "Anambra",
          "Federal Capital Territory",
          "Edo",
          "Zamfara",
          "Oyo",
          "Rivers",
          "Kaduna",
          "Gombe",
          "Osun",
          "Bayelsa",
          "Kebbi",
          "Jigawa",
          "Akwa Ibom",
          "Ogun",
          "Imo",
          "Lagos",
          "Nasarawa",
          "Borno",
          "Niger",
          "Taraba",
          "Ebonyi",
          "Yobe",
          "Bauchi",
          "Delta",
          "Cross River",
          "Adamawa",
          "Sokoto",
          "Ekiti",
          "Katsina",
          "Kwara"
         ],
         "xaxis": "x",
         "y": [
          849,
          831,
          821,
          820,
          802,
          802,
          797,
          796,
          791,
          787,
          785,
          781,
          779,
          779,
          776,
          775,
          772,
          772,
          769,
          757,
          752,
          751,
          751,
          751,
          749,
          746,
          744,
          742,
          741,
          740,
          739,
          738,
          735,
          732,
          732,
          728,
          718
         ],
         "yaxis": "y"
        },
        {
         "alignmentgroup": "True",
         "hovertemplate": "disease=Diarrhoea<br>state=%{x}<br>Number of Patients=%{y}<extra></extra>",
         "legendgroup": "Diarrhoea",
         "marker": {
          "color": "#ab63fa"
         },
         "name": "Diarrhoea",
         "offsetgroup": "Diarrhoea",
         "orientation": "v",
         "showlegend": true,
         "textposition": "auto",
         "type": "bar",
         "x": [
          "Ogun",
          "Sokoto",
          "Plateau",
          "Edo",
          "Enugu",
          "Delta",
          "Bayelsa",
          "Ondo",
          "Zamfara",
          "Yobe",
          "Anambra",
          "Jigawa",
          "Nasarawa",
          "Kaduna",
          "Kwara",
          "Gombe",
          "Osun",
          "Niger",
          "Kogi",
          "Bauchi",
          "Katsina",
          "Kebbi",
          "Lagos",
          "Akwa Ibom",
          "Benue",
          "Imo",
          "Federal Capital Territory",
          "Rivers",
          "Taraba",
          "Ekiti",
          "Kano",
          "Oyo",
          "Ebonyi",
          "Adamawa",
          "Borno",
          "Abia",
          "Cross River"
         ],
         "xaxis": "x",
         "y": [
          838,
          813,
          807,
          807,
          806,
          801,
          798,
          793,
          790,
          787,
          787,
          787,
          785,
          785,
          777,
          776,
          775,
          773,
          773,
          768,
          767,
          767,
          766,
          763,
          761,
          752,
          750,
          749,
          748,
          747,
          747,
          747,
          736,
          734,
          733,
          731,
          726
         ],
         "yaxis": "y"
        },
        {
         "alignmentgroup": "True",
         "hovertemplate": "disease=Malaria<br>state=%{x}<br>Number of Patients=%{y}<extra></extra>",
         "legendgroup": "Malaria",
         "marker": {
          "color": "#FFA15A"
         },
         "name": "Malaria",
         "offsetgroup": "Malaria",
         "orientation": "v",
         "showlegend": true,
         "textposition": "auto",
         "type": "bar",
         "x": [
          "Kwara",
          "Kano",
          "Ebonyi",
          "Edo",
          "Federal Capital Territory",
          "Jigawa",
          "Akwa Ibom",
          "Abia",
          "Kebbi",
          "Taraba",
          "Bayelsa",
          "Sokoto",
          "Ogun",
          "Katsina",
          "Kogi",
          "Adamawa",
          "Delta",
          "Benue",
          "Osun",
          "Niger",
          "Ondo",
          "Cross River",
          "Yobe",
          "Lagos",
          "Rivers",
          "Oyo",
          "Ekiti",
          "Anambra",
          "Zamfara",
          "Kaduna",
          "Bauchi",
          "Enugu",
          "Nasarawa",
          "Imo",
          "Gombe",
          "Borno",
          "Plateau"
         ],
         "xaxis": "x",
         "y": [
          833,
          833,
          831,
          805,
          805,
          801,
          801,
          798,
          797,
          786,
          783,
          783,
          780,
          778,
          778,
          778,
          773,
          771,
          770,
          769,
          769,
          768,
          767,
          767,
          759,
          758,
          755,
          753,
          753,
          751,
          746,
          742,
          730,
          721,
          721,
          713,
          709
         ],
         "yaxis": "y"
        },
        {
         "alignmentgroup": "True",
         "hovertemplate": "disease=Yellow Fever<br>state=%{x}<br>Number of Patients=%{y}<extra></extra>",
         "legendgroup": "Yellow Fever",
         "marker": {
          "color": "#19d3f3"
         },
         "name": "Yellow Fever",
         "offsetgroup": "Yellow Fever",
         "orientation": "v",
         "showlegend": true,
         "textposition": "auto",
         "type": "bar",
         "x": [
          "Borno",
          "Adamawa",
          "Bauchi",
          "Ekiti",
          "Imo",
          "Gombe",
          "Sokoto",
          "Yobe",
          "Kaduna",
          "Abia",
          "Edo",
          "Plateau",
          "Kogi",
          "Katsina",
          "Ebonyi",
          "Niger",
          "Oyo",
          "Zamfara",
          "Ogun",
          "Lagos",
          "Federal Capital Territory",
          "Nasarawa",
          "Benue",
          "Delta",
          "Rivers",
          "Ondo",
          "Akwa Ibom",
          "Enugu",
          "Cross River",
          "Taraba",
          "Kano",
          "Kwara",
          "Anambra",
          "Jigawa",
          "Kebbi",
          "Bayelsa",
          "Osun"
         ],
         "xaxis": "x",
         "y": [
          833,
          807,
          803,
          801,
          796,
          792,
          788,
          786,
          783,
          783,
          782,
          782,
          780,
          780,
          779,
          776,
          774,
          771,
          770,
          769,
          769,
          767,
          767,
          767,
          764,
          759,
          753,
          752,
          751,
          744,
          742,
          741,
          736,
          731,
          722,
          716,
          712
         ],
         "yaxis": "y"
        },
        {
         "alignmentgroup": "True",
         "hovertemplate": "disease=Ebola<br>state=%{x}<br>Number of Patients=%{y}<extra></extra>",
         "legendgroup": "Ebola",
         "marker": {
          "color": "#FF6692"
         },
         "name": "Ebola",
         "offsetgroup": "Ebola",
         "orientation": "v",
         "showlegend": true,
         "textposition": "auto",
         "type": "bar",
         "x": [
          "Ondo",
          "Osun",
          "Ebonyi",
          "Katsina",
          "Kwara",
          "Kaduna",
          "Oyo",
          "Kano",
          "Jigawa",
          "Taraba",
          "Imo",
          "Nasarawa",
          "Anambra",
          "Federal Capital Territory",
          "Niger",
          "Bauchi",
          "Sokoto",
          "Ogun",
          "Gombe",
          "Borno",
          "Delta",
          "Bayelsa",
          "Cross River",
          "Enugu",
          "Adamawa",
          "Kogi",
          "Benue",
          "Kebbi",
          "Ekiti",
          "Yobe",
          "Akwa Ibom",
          "Zamfara",
          "Rivers",
          "Lagos",
          "Abia",
          "Plateau",
          "Edo"
         ],
         "xaxis": "x",
         "y": [
          824,
          818,
          812,
          806,
          797,
          796,
          793,
          785,
          785,
          784,
          780,
          778,
          774,
          772,
          772,
          767,
          765,
          761,
          757,
          757,
          753,
          752,
          752,
          751,
          747,
          746,
          744,
          743,
          733,
          731,
          730,
          728,
          726,
          725,
          718,
          712,
          705
         ],
         "yaxis": "y"
        },
        {
         "alignmentgroup": "True",
         "hovertemplate": "disease=Rubella Mars<br>state=%{x}<br>Number of Patients=%{y}<extra></extra>",
         "legendgroup": "Rubella Mars",
         "marker": {
          "color": "#B6E880"
         },
         "name": "Rubella Mars",
         "offsetgroup": "Rubella Mars",
         "orientation": "v",
         "showlegend": true,
         "textposition": "auto",
         "type": "bar",
         "x": [
          "Kebbi",
          "Lagos",
          "Imo",
          "Niger",
          "Abia",
          "Yobe",
          "Nasarawa",
          "Federal Capital Territory",
          "Oyo",
          "Ekiti",
          "Enugu",
          "Osun",
          "Bayelsa",
          "Rivers",
          "Taraba",
          "Ebonyi",
          "Zamfara",
          "Kogi",
          "Cross River",
          "Bauchi",
          "Adamawa",
          "Benue",
          "Edo",
          "Kwara",
          "Gombe",
          "Kano",
          "Sokoto",
          "Plateau",
          "Katsina",
          "Akwa Ibom",
          "Jigawa",
          "Kaduna",
          "Delta",
          "Ondo",
          "Borno",
          "Anambra",
          "Ogun"
         ],
         "xaxis": "x",
         "y": [
          820,
          813,
          804,
          801,
          799,
          798,
          798,
          796,
          795,
          794,
          792,
          792,
          792,
          781,
          780,
          779,
          775,
          775,
          770,
          770,
          768,
          763,
          761,
          759,
          759,
          758,
          758,
          757,
          756,
          752,
          746,
          746,
          739,
          736,
          728,
          728,
          701
         ],
         "yaxis": "y"
        },
        {
         "alignmentgroup": "True",
         "hovertemplate": "disease=Cholera<br>state=%{x}<br>Number of Patients=%{y}<extra></extra>",
         "legendgroup": "Cholera",
         "marker": {
          "color": "#FF97FF"
         },
         "name": "Cholera",
         "offsetgroup": "Cholera",
         "orientation": "v",
         "showlegend": true,
         "textposition": "auto",
         "type": "bar",
         "x": [
          "Borno",
          "Benue",
          "Kebbi",
          "Imo",
          "Adamawa",
          "Bayelsa",
          "Niger",
          "Ondo",
          "Oyo",
          "Osun",
          "Akwa Ibom",
          "Bauchi",
          "Enugu",
          "Sokoto",
          "Zamfara",
          "Yobe",
          "Rivers",
          "Cross River",
          "Lagos",
          "Anambra",
          "Kaduna",
          "Kwara",
          "Abia",
          "Delta",
          "Gombe",
          "Jigawa",
          "Kogi",
          "Nasarawa",
          "Plateau",
          "Edo",
          "Kano",
          "Katsina",
          "Taraba",
          "Ogun",
          "Federal Capital Territory",
          "Ebonyi",
          "Ekiti"
         ],
         "xaxis": "x",
         "y": [
          819,
          816,
          812,
          811,
          810,
          809,
          805,
          802,
          802,
          794,
          794,
          791,
          789,
          789,
          788,
          783,
          779,
          776,
          775,
          772,
          770,
          768,
          767,
          767,
          766,
          765,
          765,
          761,
          749,
          748,
          741,
          727,
          724,
          723,
          723,
          715,
          694
         ],
         "yaxis": "y"
        },
        {
         "alignmentgroup": "True",
         "hovertemplate": "disease=Viral Haemmorrhaphic Fever<br>state=%{x}<br>Number of Patients=%{y}<extra></extra>",
         "legendgroup": "Viral Haemmorrhaphic Fever",
         "marker": {
          "color": "#FECB52"
         },
         "name": "Viral Haemmorrhaphic Fever",
         "offsetgroup": "Viral Haemmorrhaphic Fever",
         "orientation": "v",
         "showlegend": true,
         "textposition": "auto",
         "type": "bar",
         "x": [
          "Kano",
          "Delta",
          "Nasarawa",
          "Niger",
          "Yobe",
          "Ogun",
          "Kaduna",
          "Kwara",
          "Ekiti",
          "Ondo",
          "Imo",
          "Jigawa",
          "Bayelsa",
          "Enugu",
          "Oyo",
          "Adamawa",
          "Osun",
          "Anambra",
          "Kogi",
          "Katsina",
          "Cross River",
          "Zamfara",
          "Kebbi",
          "Akwa Ibom",
          "Edo",
          "Lagos",
          "Gombe",
          "Bauchi",
          "Ebonyi",
          "Sokoto",
          "Abia",
          "Taraba",
          "Rivers",
          "Benue",
          "Plateau",
          "Federal Capital Territory",
          "Borno"
         ],
         "xaxis": "x",
         "y": [
          819,
          809,
          809,
          808,
          806,
          805,
          797,
          793,
          786,
          785,
          784,
          783,
          781,
          778,
          777,
          774,
          774,
          774,
          770,
          766,
          764,
          764,
          754,
          754,
          753,
          753,
          751,
          749,
          749,
          748,
          747,
          734,
          728,
          724,
          719,
          718,
          714
         ],
         "yaxis": "y"
        }
       ],
       "layout": {
        "barmode": "relative",
        "legend": {
         "title": {
          "text": "disease"
         },
         "tracegroupgap": 0
        },
        "margin": {
         "t": 60
        },
        "template": {
         "data": {
          "bar": [
           {
            "error_x": {
             "color": "#2a3f5f"
            },
            "error_y": {
             "color": "#2a3f5f"
            },
            "marker": {
             "line": {
              "color": "#E5ECF6",
              "width": 0.5
             }
            },
            "type": "bar"
           }
          ],
          "barpolar": [
           {
            "marker": {
             "line": {
              "color": "#E5ECF6",
              "width": 0.5
             }
            },
            "type": "barpolar"
           }
          ],
          "carpet": [
           {
            "aaxis": {
             "endlinecolor": "#2a3f5f",
             "gridcolor": "white",
             "linecolor": "white",
             "minorgridcolor": "white",
             "startlinecolor": "#2a3f5f"
            },
            "baxis": {
             "endlinecolor": "#2a3f5f",
             "gridcolor": "white",
             "linecolor": "white",
             "minorgridcolor": "white",
             "startlinecolor": "#2a3f5f"
            },
            "type": "carpet"
           }
          ],
          "choropleth": [
           {
            "colorbar": {
             "outlinewidth": 0,
             "ticks": ""
            },
            "type": "choropleth"
           }
          ],
          "contour": [
           {
            "colorbar": {
             "outlinewidth": 0,
             "ticks": ""
            },
            "colorscale": [
             [
              0,
              "#0d0887"
             ],
             [
              0.1111111111111111,
              "#46039f"
             ],
             [
              0.2222222222222222,
              "#7201a8"
             ],
             [
              0.3333333333333333,
              "#9c179e"
             ],
             [
              0.4444444444444444,
              "#bd3786"
             ],
             [
              0.5555555555555556,
              "#d8576b"
             ],
             [
              0.6666666666666666,
              "#ed7953"
             ],
             [
              0.7777777777777778,
              "#fb9f3a"
             ],
             [
              0.8888888888888888,
              "#fdca26"
             ],
             [
              1,
              "#f0f921"
             ]
            ],
            "type": "contour"
           }
          ],
          "contourcarpet": [
           {
            "colorbar": {
             "outlinewidth": 0,
             "ticks": ""
            },
            "type": "contourcarpet"
           }
          ],
          "heatmap": [
           {
            "colorbar": {
             "outlinewidth": 0,
             "ticks": ""
            },
            "colorscale": [
             [
              0,
              "#0d0887"
             ],
             [
              0.1111111111111111,
              "#46039f"
             ],
             [
              0.2222222222222222,
              "#7201a8"
             ],
             [
              0.3333333333333333,
              "#9c179e"
             ],
             [
              0.4444444444444444,
              "#bd3786"
             ],
             [
              0.5555555555555556,
              "#d8576b"
             ],
             [
              0.6666666666666666,
              "#ed7953"
             ],
             [
              0.7777777777777778,
              "#fb9f3a"
             ],
             [
              0.8888888888888888,
              "#fdca26"
             ],
             [
              1,
              "#f0f921"
             ]
            ],
            "type": "heatmap"
           }
          ],
          "heatmapgl": [
           {
            "colorbar": {
             "outlinewidth": 0,
             "ticks": ""
            },
            "colorscale": [
             [
              0,
              "#0d0887"
             ],
             [
              0.1111111111111111,
              "#46039f"
             ],
             [
              0.2222222222222222,
              "#7201a8"
             ],
             [
              0.3333333333333333,
              "#9c179e"
             ],
             [
              0.4444444444444444,
              "#bd3786"
             ],
             [
              0.5555555555555556,
              "#d8576b"
             ],
             [
              0.6666666666666666,
              "#ed7953"
             ],
             [
              0.7777777777777778,
              "#fb9f3a"
             ],
             [
              0.8888888888888888,
              "#fdca26"
             ],
             [
              1,
              "#f0f921"
             ]
            ],
            "type": "heatmapgl"
           }
          ],
          "histogram": [
           {
            "marker": {
             "colorbar": {
              "outlinewidth": 0,
              "ticks": ""
             }
            },
            "type": "histogram"
           }
          ],
          "histogram2d": [
           {
            "colorbar": {
             "outlinewidth": 0,
             "ticks": ""
            },
            "colorscale": [
             [
              0,
              "#0d0887"
             ],
             [
              0.1111111111111111,
              "#46039f"
             ],
             [
              0.2222222222222222,
              "#7201a8"
             ],
             [
              0.3333333333333333,
              "#9c179e"
             ],
             [
              0.4444444444444444,
              "#bd3786"
             ],
             [
              0.5555555555555556,
              "#d8576b"
             ],
             [
              0.6666666666666666,
              "#ed7953"
             ],
             [
              0.7777777777777778,
              "#fb9f3a"
             ],
             [
              0.8888888888888888,
              "#fdca26"
             ],
             [
              1,
              "#f0f921"
             ]
            ],
            "type": "histogram2d"
           }
          ],
          "histogram2dcontour": [
           {
            "colorbar": {
             "outlinewidth": 0,
             "ticks": ""
            },
            "colorscale": [
             [
              0,
              "#0d0887"
             ],
             [
              0.1111111111111111,
              "#46039f"
             ],
             [
              0.2222222222222222,
              "#7201a8"
             ],
             [
              0.3333333333333333,
              "#9c179e"
             ],
             [
              0.4444444444444444,
              "#bd3786"
             ],
             [
              0.5555555555555556,
              "#d8576b"
             ],
             [
              0.6666666666666666,
              "#ed7953"
             ],
             [
              0.7777777777777778,
              "#fb9f3a"
             ],
             [
              0.8888888888888888,
              "#fdca26"
             ],
             [
              1,
              "#f0f921"
             ]
            ],
            "type": "histogram2dcontour"
           }
          ],
          "mesh3d": [
           {
            "colorbar": {
             "outlinewidth": 0,
             "ticks": ""
            },
            "type": "mesh3d"
           }
          ],
          "parcoords": [
           {
            "line": {
             "colorbar": {
              "outlinewidth": 0,
              "ticks": ""
             }
            },
            "type": "parcoords"
           }
          ],
          "pie": [
           {
            "automargin": true,
            "type": "pie"
           }
          ],
          "scatter": [
           {
            "marker": {
             "colorbar": {
              "outlinewidth": 0,
              "ticks": ""
             }
            },
            "type": "scatter"
           }
          ],
          "scatter3d": [
           {
            "line": {
             "colorbar": {
              "outlinewidth": 0,
              "ticks": ""
             }
            },
            "marker": {
             "colorbar": {
              "outlinewidth": 0,
              "ticks": ""
             }
            },
            "type": "scatter3d"
           }
          ],
          "scattercarpet": [
           {
            "marker": {
             "colorbar": {
              "outlinewidth": 0,
              "ticks": ""
             }
            },
            "type": "scattercarpet"
           }
          ],
          "scattergeo": [
           {
            "marker": {
             "colorbar": {
              "outlinewidth": 0,
              "ticks": ""
             }
            },
            "type": "scattergeo"
           }
          ],
          "scattergl": [
           {
            "marker": {
             "colorbar": {
              "outlinewidth": 0,
              "ticks": ""
             }
            },
            "type": "scattergl"
           }
          ],
          "scattermapbox": [
           {
            "marker": {
             "colorbar": {
              "outlinewidth": 0,
              "ticks": ""
             }
            },
            "type": "scattermapbox"
           }
          ],
          "scatterpolar": [
           {
            "marker": {
             "colorbar": {
              "outlinewidth": 0,
              "ticks": ""
             }
            },
            "type": "scatterpolar"
           }
          ],
          "scatterpolargl": [
           {
            "marker": {
             "colorbar": {
              "outlinewidth": 0,
              "ticks": ""
             }
            },
            "type": "scatterpolargl"
           }
          ],
          "scatterternary": [
           {
            "marker": {
             "colorbar": {
              "outlinewidth": 0,
              "ticks": ""
             }
            },
            "type": "scatterternary"
           }
          ],
          "surface": [
           {
            "colorbar": {
             "outlinewidth": 0,
             "ticks": ""
            },
            "colorscale": [
             [
              0,
              "#0d0887"
             ],
             [
              0.1111111111111111,
              "#46039f"
             ],
             [
              0.2222222222222222,
              "#7201a8"
             ],
             [
              0.3333333333333333,
              "#9c179e"
             ],
             [
              0.4444444444444444,
              "#bd3786"
             ],
             [
              0.5555555555555556,
              "#d8576b"
             ],
             [
              0.6666666666666666,
              "#ed7953"
             ],
             [
              0.7777777777777778,
              "#fb9f3a"
             ],
             [
              0.8888888888888888,
              "#fdca26"
             ],
             [
              1,
              "#f0f921"
             ]
            ],
            "type": "surface"
           }
          ],
          "table": [
           {
            "cells": {
             "fill": {
              "color": "#EBF0F8"
             },
             "line": {
              "color": "white"
             }
            },
            "header": {
             "fill": {
              "color": "#C8D4E3"
             },
             "line": {
              "color": "white"
             }
            },
            "type": "table"
           }
          ]
         },
         "layout": {
          "annotationdefaults": {
           "arrowcolor": "#2a3f5f",
           "arrowhead": 0,
           "arrowwidth": 1
          },
          "autotypenumbers": "strict",
          "coloraxis": {
           "colorbar": {
            "outlinewidth": 0,
            "ticks": ""
           }
          },
          "colorscale": {
           "diverging": [
            [
             0,
             "#8e0152"
            ],
            [
             0.1,
             "#c51b7d"
            ],
            [
             0.2,
             "#de77ae"
            ],
            [
             0.3,
             "#f1b6da"
            ],
            [
             0.4,
             "#fde0ef"
            ],
            [
             0.5,
             "#f7f7f7"
            ],
            [
             0.6,
             "#e6f5d0"
            ],
            [
             0.7,
             "#b8e186"
            ],
            [
             0.8,
             "#7fbc41"
            ],
            [
             0.9,
             "#4d9221"
            ],
            [
             1,
             "#276419"
            ]
           ],
           "sequential": [
            [
             0,
             "#0d0887"
            ],
            [
             0.1111111111111111,
             "#46039f"
            ],
            [
             0.2222222222222222,
             "#7201a8"
            ],
            [
             0.3333333333333333,
             "#9c179e"
            ],
            [
             0.4444444444444444,
             "#bd3786"
            ],
            [
             0.5555555555555556,
             "#d8576b"
            ],
            [
             0.6666666666666666,
             "#ed7953"
            ],
            [
             0.7777777777777778,
             "#fb9f3a"
            ],
            [
             0.8888888888888888,
             "#fdca26"
            ],
            [
             1,
             "#f0f921"
            ]
           ],
           "sequentialminus": [
            [
             0,
             "#0d0887"
            ],
            [
             0.1111111111111111,
             "#46039f"
            ],
            [
             0.2222222222222222,
             "#7201a8"
            ],
            [
             0.3333333333333333,
             "#9c179e"
            ],
            [
             0.4444444444444444,
             "#bd3786"
            ],
            [
             0.5555555555555556,
             "#d8576b"
            ],
            [
             0.6666666666666666,
             "#ed7953"
            ],
            [
             0.7777777777777778,
             "#fb9f3a"
            ],
            [
             0.8888888888888888,
             "#fdca26"
            ],
            [
             1,
             "#f0f921"
            ]
           ]
          },
          "colorway": [
           "#636efa",
           "#EF553B",
           "#00cc96",
           "#ab63fa",
           "#FFA15A",
           "#19d3f3",
           "#FF6692",
           "#B6E880",
           "#FF97FF",
           "#FECB52"
          ],
          "font": {
           "color": "#2a3f5f"
          },
          "geo": {
           "bgcolor": "white",
           "lakecolor": "white",
           "landcolor": "#E5ECF6",
           "showlakes": true,
           "showland": true,
           "subunitcolor": "white"
          },
          "hoverlabel": {
           "align": "left"
          },
          "hovermode": "closest",
          "mapbox": {
           "style": "light"
          },
          "paper_bgcolor": "white",
          "plot_bgcolor": "#E5ECF6",
          "polar": {
           "angularaxis": {
            "gridcolor": "white",
            "linecolor": "white",
            "ticks": ""
           },
           "bgcolor": "#E5ECF6",
           "radialaxis": {
            "gridcolor": "white",
            "linecolor": "white",
            "ticks": ""
           }
          },
          "scene": {
           "xaxis": {
            "backgroundcolor": "#E5ECF6",
            "gridcolor": "white",
            "gridwidth": 2,
            "linecolor": "white",
            "showbackground": true,
            "ticks": "",
            "zerolinecolor": "white"
           },
           "yaxis": {
            "backgroundcolor": "#E5ECF6",
            "gridcolor": "white",
            "gridwidth": 2,
            "linecolor": "white",
            "showbackground": true,
            "ticks": "",
            "zerolinecolor": "white"
           },
           "zaxis": {
            "backgroundcolor": "#E5ECF6",
            "gridcolor": "white",
            "gridwidth": 2,
            "linecolor": "white",
            "showbackground": true,
            "ticks": "",
            "zerolinecolor": "white"
           }
          },
          "shapedefaults": {
           "line": {
            "color": "#2a3f5f"
           }
          },
          "ternary": {
           "aaxis": {
            "gridcolor": "white",
            "linecolor": "white",
            "ticks": ""
           },
           "baxis": {
            "gridcolor": "white",
            "linecolor": "white",
            "ticks": ""
           },
           "bgcolor": "#E5ECF6",
           "caxis": {
            "gridcolor": "white",
            "linecolor": "white",
            "ticks": ""
           }
          },
          "title": {
           "x": 0.05
          },
          "xaxis": {
           "automargin": true,
           "gridcolor": "white",
           "linecolor": "white",
           "ticks": "",
           "title": {
            "standoff": 15
           },
           "zerolinecolor": "white",
           "zerolinewidth": 2
          },
          "yaxis": {
           "automargin": true,
           "gridcolor": "white",
           "linecolor": "white",
           "ticks": "",
           "title": {
            "standoff": 15
           },
           "zerolinecolor": "white",
           "zerolinewidth": 2
          }
         }
        },
        "xaxis": {
         "anchor": "y",
         "domain": [
          0,
          1
         ],
         "title": {
          "text": "state"
         }
        },
        "yaxis": {
         "anchor": "x",
         "domain": [
          0,
          1
         ],
         "title": {
          "text": "Number of Patients"
         }
        }
       }
      },
      "text/html": [
       "<div>                            <div id=\"bcb17492-b67d-4d12-b452-275704886ff4\" class=\"plotly-graph-div\" style=\"height:525px; width:100%;\"></div>            <script type=\"text/javascript\">                require([\"plotly\"], function(Plotly) {                    window.PLOTLYENV=window.PLOTLYENV || {};                                    if (document.getElementById(\"bcb17492-b67d-4d12-b452-275704886ff4\")) {                    Plotly.newPlot(                        \"bcb17492-b67d-4d12-b452-275704886ff4\",                        [{\"alignmentgroup\": \"True\", \"hovertemplate\": \"disease=Meningitis<br>state=%{x}<br>Number of Patients=%{y}<extra></extra>\", \"legendgroup\": \"Meningitis\", \"marker\": {\"color\": \"#636efa\"}, \"name\": \"Meningitis\", \"offsetgroup\": \"Meningitis\", \"orientation\": \"v\", \"showlegend\": true, \"textposition\": \"auto\", \"type\": \"bar\", \"x\": [\"Benue\", \"Ebonyi\", \"Federal Capital Territory\", \"Imo\", \"Niger\", \"Kebbi\", \"Ogun\", \"Anambra\", \"Ondo\", \"Kaduna\", \"Lagos\", \"Bayelsa\", \"Gombe\", \"Jigawa\", \"Osun\", \"Kano\", \"Yobe\", \"Oyo\", \"Adamawa\", \"Taraba\", \"Akwa Ibom\", \"Rivers\", \"Delta\", \"Kogi\", \"Ekiti\", \"Borno\", \"Nasarawa\", \"Enugu\", \"Abia\", \"Sokoto\", \"Bauchi\", \"Plateau\", \"Cross River\", \"Katsina\", \"Zamfara\", \"Edo\", \"Kwara\"], \"xaxis\": \"x\", \"y\": [849, 822, 797, 795, 793, 789, 789, 789, 783, 783, 782, 782, 780, 780, 778, 772, 768, 767, 767, 765, 764, 763, 762, 762, 754, 753, 753, 751, 748, 747, 740, 739, 731, 729, 726, 719, 691], \"yaxis\": \"y\"}, {\"alignmentgroup\": \"True\", \"hovertemplate\": \"disease=Measles<br>state=%{x}<br>Number of Patients=%{y}<extra></extra>\", \"legendgroup\": \"Measles\", \"marker\": {\"color\": \"#EF553B\"}, \"name\": \"Measles\", \"offsetgroup\": \"Measles\", \"orientation\": \"v\", \"showlegend\": true, \"textposition\": \"auto\", \"type\": \"bar\", \"x\": [\"Kwara\", \"Kano\", \"Rivers\", \"Bayelsa\", \"Anambra\", \"Niger\", \"Nasarawa\", \"Yobe\", \"Bauchi\", \"Imo\", \"Kebbi\", \"Ondo\", \"Ebonyi\", \"Gombe\", \"Delta\", \"Sokoto\", \"Adamawa\", \"Borno\", \"Ekiti\", \"Kaduna\", \"Katsina\", \"Enugu\", \"Lagos\", \"Abia\", \"Jigawa\", \"Akwa Ibom\", \"Zamfara\", \"Taraba\", \"Plateau\", \"Benue\", \"Cross River\", \"Federal Capital Territory\", \"Ogun\", \"Osun\", \"Oyo\", \"Edo\", \"Kogi\"], \"xaxis\": \"x\", \"y\": [849, 823, 814, 812, 801, 799, 796, 793, 791, 789, 788, 787, 782, 779, 768, 768, 768, 765, 764, 764, 762, 759, 758, 757, 757, 753, 752, 751, 751, 750, 748, 742, 742, 738, 730, 729, 692], \"yaxis\": \"y\"}, {\"alignmentgroup\": \"True\", \"hovertemplate\": \"disease=Marburg Virus<br>state=%{x}<br>Number of Patients=%{y}<extra></extra>\", \"legendgroup\": \"Marburg Virus\", \"marker\": {\"color\": \"#00cc96\"}, \"name\": \"Marburg Virus\", \"offsetgroup\": \"Marburg Virus\", \"orientation\": \"v\", \"showlegend\": true, \"textposition\": \"auto\", \"type\": \"bar\", \"x\": [\"Abia\", \"Benue\", \"Kogi\", \"Plateau\", \"Kano\", \"Enugu\", \"Ondo\", \"Anambra\", \"Federal Capital Territory\", \"Edo\", \"Zamfara\", \"Oyo\", \"Rivers\", \"Kaduna\", \"Gombe\", \"Osun\", \"Bayelsa\", \"Kebbi\", \"Jigawa\", \"Akwa Ibom\", \"Ogun\", \"Imo\", \"Lagos\", \"Nasarawa\", \"Borno\", \"Niger\", \"Taraba\", \"Ebonyi\", \"Yobe\", \"Bauchi\", \"Delta\", \"Cross River\", \"Adamawa\", \"Sokoto\", \"Ekiti\", \"Katsina\", \"Kwara\"], \"xaxis\": \"x\", \"y\": [849, 831, 821, 820, 802, 802, 797, 796, 791, 787, 785, 781, 779, 779, 776, 775, 772, 772, 769, 757, 752, 751, 751, 751, 749, 746, 744, 742, 741, 740, 739, 738, 735, 732, 732, 728, 718], \"yaxis\": \"y\"}, {\"alignmentgroup\": \"True\", \"hovertemplate\": \"disease=Diarrhoea<br>state=%{x}<br>Number of Patients=%{y}<extra></extra>\", \"legendgroup\": \"Diarrhoea\", \"marker\": {\"color\": \"#ab63fa\"}, \"name\": \"Diarrhoea\", \"offsetgroup\": \"Diarrhoea\", \"orientation\": \"v\", \"showlegend\": true, \"textposition\": \"auto\", \"type\": \"bar\", \"x\": [\"Ogun\", \"Sokoto\", \"Plateau\", \"Edo\", \"Enugu\", \"Delta\", \"Bayelsa\", \"Ondo\", \"Zamfara\", \"Yobe\", \"Anambra\", \"Jigawa\", \"Nasarawa\", \"Kaduna\", \"Kwara\", \"Gombe\", \"Osun\", \"Niger\", \"Kogi\", \"Bauchi\", \"Katsina\", \"Kebbi\", \"Lagos\", \"Akwa Ibom\", \"Benue\", \"Imo\", \"Federal Capital Territory\", \"Rivers\", \"Taraba\", \"Ekiti\", \"Kano\", \"Oyo\", \"Ebonyi\", \"Adamawa\", \"Borno\", \"Abia\", \"Cross River\"], \"xaxis\": \"x\", \"y\": [838, 813, 807, 807, 806, 801, 798, 793, 790, 787, 787, 787, 785, 785, 777, 776, 775, 773, 773, 768, 767, 767, 766, 763, 761, 752, 750, 749, 748, 747, 747, 747, 736, 734, 733, 731, 726], \"yaxis\": \"y\"}, {\"alignmentgroup\": \"True\", \"hovertemplate\": \"disease=Malaria<br>state=%{x}<br>Number of Patients=%{y}<extra></extra>\", \"legendgroup\": \"Malaria\", \"marker\": {\"color\": \"#FFA15A\"}, \"name\": \"Malaria\", \"offsetgroup\": \"Malaria\", \"orientation\": \"v\", \"showlegend\": true, \"textposition\": \"auto\", \"type\": \"bar\", \"x\": [\"Kwara\", \"Kano\", \"Ebonyi\", \"Edo\", \"Federal Capital Territory\", \"Jigawa\", \"Akwa Ibom\", \"Abia\", \"Kebbi\", \"Taraba\", \"Bayelsa\", \"Sokoto\", \"Ogun\", \"Katsina\", \"Kogi\", \"Adamawa\", \"Delta\", \"Benue\", \"Osun\", \"Niger\", \"Ondo\", \"Cross River\", \"Yobe\", \"Lagos\", \"Rivers\", \"Oyo\", \"Ekiti\", \"Anambra\", \"Zamfara\", \"Kaduna\", \"Bauchi\", \"Enugu\", \"Nasarawa\", \"Imo\", \"Gombe\", \"Borno\", \"Plateau\"], \"xaxis\": \"x\", \"y\": [833, 833, 831, 805, 805, 801, 801, 798, 797, 786, 783, 783, 780, 778, 778, 778, 773, 771, 770, 769, 769, 768, 767, 767, 759, 758, 755, 753, 753, 751, 746, 742, 730, 721, 721, 713, 709], \"yaxis\": \"y\"}, {\"alignmentgroup\": \"True\", \"hovertemplate\": \"disease=Yellow Fever<br>state=%{x}<br>Number of Patients=%{y}<extra></extra>\", \"legendgroup\": \"Yellow Fever\", \"marker\": {\"color\": \"#19d3f3\"}, \"name\": \"Yellow Fever\", \"offsetgroup\": \"Yellow Fever\", \"orientation\": \"v\", \"showlegend\": true, \"textposition\": \"auto\", \"type\": \"bar\", \"x\": [\"Borno\", \"Adamawa\", \"Bauchi\", \"Ekiti\", \"Imo\", \"Gombe\", \"Sokoto\", \"Yobe\", \"Kaduna\", \"Abia\", \"Edo\", \"Plateau\", \"Kogi\", \"Katsina\", \"Ebonyi\", \"Niger\", \"Oyo\", \"Zamfara\", \"Ogun\", \"Lagos\", \"Federal Capital Territory\", \"Nasarawa\", \"Benue\", \"Delta\", \"Rivers\", \"Ondo\", \"Akwa Ibom\", \"Enugu\", \"Cross River\", \"Taraba\", \"Kano\", \"Kwara\", \"Anambra\", \"Jigawa\", \"Kebbi\", \"Bayelsa\", \"Osun\"], \"xaxis\": \"x\", \"y\": [833, 807, 803, 801, 796, 792, 788, 786, 783, 783, 782, 782, 780, 780, 779, 776, 774, 771, 770, 769, 769, 767, 767, 767, 764, 759, 753, 752, 751, 744, 742, 741, 736, 731, 722, 716, 712], \"yaxis\": \"y\"}, {\"alignmentgroup\": \"True\", \"hovertemplate\": \"disease=Ebola<br>state=%{x}<br>Number of Patients=%{y}<extra></extra>\", \"legendgroup\": \"Ebola\", \"marker\": {\"color\": \"#FF6692\"}, \"name\": \"Ebola\", \"offsetgroup\": \"Ebola\", \"orientation\": \"v\", \"showlegend\": true, \"textposition\": \"auto\", \"type\": \"bar\", \"x\": [\"Ondo\", \"Osun\", \"Ebonyi\", \"Katsina\", \"Kwara\", \"Kaduna\", \"Oyo\", \"Kano\", \"Jigawa\", \"Taraba\", \"Imo\", \"Nasarawa\", \"Anambra\", \"Federal Capital Territory\", \"Niger\", \"Bauchi\", \"Sokoto\", \"Ogun\", \"Gombe\", \"Borno\", \"Delta\", \"Bayelsa\", \"Cross River\", \"Enugu\", \"Adamawa\", \"Kogi\", \"Benue\", \"Kebbi\", \"Ekiti\", \"Yobe\", \"Akwa Ibom\", \"Zamfara\", \"Rivers\", \"Lagos\", \"Abia\", \"Plateau\", \"Edo\"], \"xaxis\": \"x\", \"y\": [824, 818, 812, 806, 797, 796, 793, 785, 785, 784, 780, 778, 774, 772, 772, 767, 765, 761, 757, 757, 753, 752, 752, 751, 747, 746, 744, 743, 733, 731, 730, 728, 726, 725, 718, 712, 705], \"yaxis\": \"y\"}, {\"alignmentgroup\": \"True\", \"hovertemplate\": \"disease=Rubella Mars<br>state=%{x}<br>Number of Patients=%{y}<extra></extra>\", \"legendgroup\": \"Rubella Mars\", \"marker\": {\"color\": \"#B6E880\"}, \"name\": \"Rubella Mars\", \"offsetgroup\": \"Rubella Mars\", \"orientation\": \"v\", \"showlegend\": true, \"textposition\": \"auto\", \"type\": \"bar\", \"x\": [\"Kebbi\", \"Lagos\", \"Imo\", \"Niger\", \"Abia\", \"Yobe\", \"Nasarawa\", \"Federal Capital Territory\", \"Oyo\", \"Ekiti\", \"Enugu\", \"Osun\", \"Bayelsa\", \"Rivers\", \"Taraba\", \"Ebonyi\", \"Zamfara\", \"Kogi\", \"Cross River\", \"Bauchi\", \"Adamawa\", \"Benue\", \"Edo\", \"Kwara\", \"Gombe\", \"Kano\", \"Sokoto\", \"Plateau\", \"Katsina\", \"Akwa Ibom\", \"Jigawa\", \"Kaduna\", \"Delta\", \"Ondo\", \"Borno\", \"Anambra\", \"Ogun\"], \"xaxis\": \"x\", \"y\": [820, 813, 804, 801, 799, 798, 798, 796, 795, 794, 792, 792, 792, 781, 780, 779, 775, 775, 770, 770, 768, 763, 761, 759, 759, 758, 758, 757, 756, 752, 746, 746, 739, 736, 728, 728, 701], \"yaxis\": \"y\"}, {\"alignmentgroup\": \"True\", \"hovertemplate\": \"disease=Cholera<br>state=%{x}<br>Number of Patients=%{y}<extra></extra>\", \"legendgroup\": \"Cholera\", \"marker\": {\"color\": \"#FF97FF\"}, \"name\": \"Cholera\", \"offsetgroup\": \"Cholera\", \"orientation\": \"v\", \"showlegend\": true, \"textposition\": \"auto\", \"type\": \"bar\", \"x\": [\"Borno\", \"Benue\", \"Kebbi\", \"Imo\", \"Adamawa\", \"Bayelsa\", \"Niger\", \"Ondo\", \"Oyo\", \"Osun\", \"Akwa Ibom\", \"Bauchi\", \"Enugu\", \"Sokoto\", \"Zamfara\", \"Yobe\", \"Rivers\", \"Cross River\", \"Lagos\", \"Anambra\", \"Kaduna\", \"Kwara\", \"Abia\", \"Delta\", \"Gombe\", \"Jigawa\", \"Kogi\", \"Nasarawa\", \"Plateau\", \"Edo\", \"Kano\", \"Katsina\", \"Taraba\", \"Ogun\", \"Federal Capital Territory\", \"Ebonyi\", \"Ekiti\"], \"xaxis\": \"x\", \"y\": [819, 816, 812, 811, 810, 809, 805, 802, 802, 794, 794, 791, 789, 789, 788, 783, 779, 776, 775, 772, 770, 768, 767, 767, 766, 765, 765, 761, 749, 748, 741, 727, 724, 723, 723, 715, 694], \"yaxis\": \"y\"}, {\"alignmentgroup\": \"True\", \"hovertemplate\": \"disease=Viral Haemmorrhaphic Fever<br>state=%{x}<br>Number of Patients=%{y}<extra></extra>\", \"legendgroup\": \"Viral Haemmorrhaphic Fever\", \"marker\": {\"color\": \"#FECB52\"}, \"name\": \"Viral Haemmorrhaphic Fever\", \"offsetgroup\": \"Viral Haemmorrhaphic Fever\", \"orientation\": \"v\", \"showlegend\": true, \"textposition\": \"auto\", \"type\": \"bar\", \"x\": [\"Kano\", \"Delta\", \"Nasarawa\", \"Niger\", \"Yobe\", \"Ogun\", \"Kaduna\", \"Kwara\", \"Ekiti\", \"Ondo\", \"Imo\", \"Jigawa\", \"Bayelsa\", \"Enugu\", \"Oyo\", \"Adamawa\", \"Osun\", \"Anambra\", \"Kogi\", \"Katsina\", \"Cross River\", \"Zamfara\", \"Kebbi\", \"Akwa Ibom\", \"Edo\", \"Lagos\", \"Gombe\", \"Bauchi\", \"Ebonyi\", \"Sokoto\", \"Abia\", \"Taraba\", \"Rivers\", \"Benue\", \"Plateau\", \"Federal Capital Territory\", \"Borno\"], \"xaxis\": \"x\", \"y\": [819, 809, 809, 808, 806, 805, 797, 793, 786, 785, 784, 783, 781, 778, 777, 774, 774, 774, 770, 766, 764, 764, 754, 754, 753, 753, 751, 749, 749, 748, 747, 734, 728, 724, 719, 718, 714], \"yaxis\": \"y\"}],                        {\"barmode\": \"relative\", \"legend\": {\"title\": {\"text\": \"disease\"}, \"tracegroupgap\": 0}, \"margin\": {\"t\": 60}, \"template\": {\"data\": {\"bar\": [{\"error_x\": {\"color\": \"#2a3f5f\"}, \"error_y\": {\"color\": \"#2a3f5f\"}, \"marker\": {\"line\": {\"color\": \"#E5ECF6\", \"width\": 0.5}}, \"type\": \"bar\"}], \"barpolar\": [{\"marker\": {\"line\": {\"color\": \"#E5ECF6\", \"width\": 0.5}}, \"type\": \"barpolar\"}], \"carpet\": [{\"aaxis\": {\"endlinecolor\": \"#2a3f5f\", \"gridcolor\": \"white\", \"linecolor\": \"white\", \"minorgridcolor\": \"white\", \"startlinecolor\": \"#2a3f5f\"}, \"baxis\": {\"endlinecolor\": \"#2a3f5f\", \"gridcolor\": \"white\", \"linecolor\": \"white\", \"minorgridcolor\": \"white\", \"startlinecolor\": \"#2a3f5f\"}, \"type\": \"carpet\"}], \"choropleth\": [{\"colorbar\": {\"outlinewidth\": 0, \"ticks\": \"\"}, \"type\": \"choropleth\"}], \"contour\": [{\"colorbar\": {\"outlinewidth\": 0, \"ticks\": \"\"}, \"colorscale\": [[0.0, \"#0d0887\"], [0.1111111111111111, \"#46039f\"], [0.2222222222222222, \"#7201a8\"], [0.3333333333333333, \"#9c179e\"], [0.4444444444444444, \"#bd3786\"], [0.5555555555555556, \"#d8576b\"], [0.6666666666666666, \"#ed7953\"], [0.7777777777777778, \"#fb9f3a\"], [0.8888888888888888, \"#fdca26\"], [1.0, \"#f0f921\"]], \"type\": \"contour\"}], \"contourcarpet\": [{\"colorbar\": {\"outlinewidth\": 0, \"ticks\": \"\"}, \"type\": \"contourcarpet\"}], \"heatmap\": [{\"colorbar\": {\"outlinewidth\": 0, \"ticks\": \"\"}, \"colorscale\": [[0.0, \"#0d0887\"], [0.1111111111111111, \"#46039f\"], [0.2222222222222222, \"#7201a8\"], [0.3333333333333333, \"#9c179e\"], [0.4444444444444444, \"#bd3786\"], [0.5555555555555556, \"#d8576b\"], [0.6666666666666666, \"#ed7953\"], [0.7777777777777778, \"#fb9f3a\"], [0.8888888888888888, \"#fdca26\"], [1.0, \"#f0f921\"]], \"type\": \"heatmap\"}], \"heatmapgl\": [{\"colorbar\": {\"outlinewidth\": 0, \"ticks\": \"\"}, \"colorscale\": [[0.0, \"#0d0887\"], [0.1111111111111111, \"#46039f\"], [0.2222222222222222, \"#7201a8\"], [0.3333333333333333, \"#9c179e\"], [0.4444444444444444, \"#bd3786\"], [0.5555555555555556, \"#d8576b\"], [0.6666666666666666, \"#ed7953\"], [0.7777777777777778, \"#fb9f3a\"], [0.8888888888888888, \"#fdca26\"], [1.0, \"#f0f921\"]], \"type\": \"heatmapgl\"}], \"histogram\": [{\"marker\": {\"colorbar\": {\"outlinewidth\": 0, \"ticks\": \"\"}}, \"type\": \"histogram\"}], \"histogram2d\": [{\"colorbar\": {\"outlinewidth\": 0, \"ticks\": \"\"}, \"colorscale\": [[0.0, \"#0d0887\"], [0.1111111111111111, \"#46039f\"], [0.2222222222222222, \"#7201a8\"], [0.3333333333333333, \"#9c179e\"], [0.4444444444444444, \"#bd3786\"], [0.5555555555555556, \"#d8576b\"], [0.6666666666666666, \"#ed7953\"], [0.7777777777777778, \"#fb9f3a\"], [0.8888888888888888, \"#fdca26\"], [1.0, \"#f0f921\"]], \"type\": \"histogram2d\"}], \"histogram2dcontour\": [{\"colorbar\": {\"outlinewidth\": 0, \"ticks\": \"\"}, \"colorscale\": [[0.0, \"#0d0887\"], [0.1111111111111111, \"#46039f\"], [0.2222222222222222, \"#7201a8\"], [0.3333333333333333, \"#9c179e\"], [0.4444444444444444, \"#bd3786\"], [0.5555555555555556, \"#d8576b\"], [0.6666666666666666, \"#ed7953\"], [0.7777777777777778, \"#fb9f3a\"], [0.8888888888888888, \"#fdca26\"], [1.0, \"#f0f921\"]], \"type\": \"histogram2dcontour\"}], \"mesh3d\": [{\"colorbar\": {\"outlinewidth\": 0, \"ticks\": \"\"}, \"type\": \"mesh3d\"}], \"parcoords\": [{\"line\": {\"colorbar\": {\"outlinewidth\": 0, \"ticks\": \"\"}}, \"type\": \"parcoords\"}], \"pie\": [{\"automargin\": true, \"type\": \"pie\"}], \"scatter\": [{\"marker\": {\"colorbar\": {\"outlinewidth\": 0, \"ticks\": \"\"}}, \"type\": \"scatter\"}], \"scatter3d\": [{\"line\": {\"colorbar\": {\"outlinewidth\": 0, \"ticks\": \"\"}}, \"marker\": {\"colorbar\": {\"outlinewidth\": 0, \"ticks\": \"\"}}, \"type\": \"scatter3d\"}], \"scattercarpet\": [{\"marker\": {\"colorbar\": {\"outlinewidth\": 0, \"ticks\": \"\"}}, \"type\": \"scattercarpet\"}], \"scattergeo\": [{\"marker\": {\"colorbar\": {\"outlinewidth\": 0, \"ticks\": \"\"}}, \"type\": \"scattergeo\"}], \"scattergl\": [{\"marker\": {\"colorbar\": {\"outlinewidth\": 0, \"ticks\": \"\"}}, \"type\": \"scattergl\"}], \"scattermapbox\": [{\"marker\": {\"colorbar\": {\"outlinewidth\": 0, \"ticks\": \"\"}}, \"type\": \"scattermapbox\"}], \"scatterpolar\": [{\"marker\": {\"colorbar\": {\"outlinewidth\": 0, \"ticks\": \"\"}}, \"type\": \"scatterpolar\"}], \"scatterpolargl\": [{\"marker\": {\"colorbar\": {\"outlinewidth\": 0, \"ticks\": \"\"}}, \"type\": \"scatterpolargl\"}], \"scatterternary\": [{\"marker\": {\"colorbar\": {\"outlinewidth\": 0, \"ticks\": \"\"}}, \"type\": \"scatterternary\"}], \"surface\": [{\"colorbar\": {\"outlinewidth\": 0, \"ticks\": \"\"}, \"colorscale\": [[0.0, \"#0d0887\"], [0.1111111111111111, \"#46039f\"], [0.2222222222222222, \"#7201a8\"], [0.3333333333333333, \"#9c179e\"], [0.4444444444444444, \"#bd3786\"], [0.5555555555555556, \"#d8576b\"], [0.6666666666666666, \"#ed7953\"], [0.7777777777777778, \"#fb9f3a\"], [0.8888888888888888, \"#fdca26\"], [1.0, \"#f0f921\"]], \"type\": \"surface\"}], \"table\": [{\"cells\": {\"fill\": {\"color\": \"#EBF0F8\"}, \"line\": {\"color\": \"white\"}}, \"header\": {\"fill\": {\"color\": \"#C8D4E3\"}, \"line\": {\"color\": \"white\"}}, \"type\": \"table\"}]}, \"layout\": {\"annotationdefaults\": {\"arrowcolor\": \"#2a3f5f\", \"arrowhead\": 0, \"arrowwidth\": 1}, \"autotypenumbers\": \"strict\", \"coloraxis\": {\"colorbar\": {\"outlinewidth\": 0, \"ticks\": \"\"}}, \"colorscale\": {\"diverging\": [[0, \"#8e0152\"], [0.1, \"#c51b7d\"], [0.2, \"#de77ae\"], [0.3, \"#f1b6da\"], [0.4, \"#fde0ef\"], [0.5, \"#f7f7f7\"], [0.6, \"#e6f5d0\"], [0.7, \"#b8e186\"], [0.8, \"#7fbc41\"], [0.9, \"#4d9221\"], [1, \"#276419\"]], \"sequential\": [[0.0, \"#0d0887\"], [0.1111111111111111, \"#46039f\"], [0.2222222222222222, \"#7201a8\"], [0.3333333333333333, \"#9c179e\"], [0.4444444444444444, \"#bd3786\"], [0.5555555555555556, \"#d8576b\"], [0.6666666666666666, \"#ed7953\"], [0.7777777777777778, \"#fb9f3a\"], [0.8888888888888888, \"#fdca26\"], [1.0, \"#f0f921\"]], \"sequentialminus\": [[0.0, \"#0d0887\"], [0.1111111111111111, \"#46039f\"], [0.2222222222222222, \"#7201a8\"], [0.3333333333333333, \"#9c179e\"], [0.4444444444444444, \"#bd3786\"], [0.5555555555555556, \"#d8576b\"], [0.6666666666666666, \"#ed7953\"], [0.7777777777777778, \"#fb9f3a\"], [0.8888888888888888, \"#fdca26\"], [1.0, \"#f0f921\"]]}, \"colorway\": [\"#636efa\", \"#EF553B\", \"#00cc96\", \"#ab63fa\", \"#FFA15A\", \"#19d3f3\", \"#FF6692\", \"#B6E880\", \"#FF97FF\", \"#FECB52\"], \"font\": {\"color\": \"#2a3f5f\"}, \"geo\": {\"bgcolor\": \"white\", \"lakecolor\": \"white\", \"landcolor\": \"#E5ECF6\", \"showlakes\": true, \"showland\": true, \"subunitcolor\": \"white\"}, \"hoverlabel\": {\"align\": \"left\"}, \"hovermode\": \"closest\", \"mapbox\": {\"style\": \"light\"}, \"paper_bgcolor\": \"white\", \"plot_bgcolor\": \"#E5ECF6\", \"polar\": {\"angularaxis\": {\"gridcolor\": \"white\", \"linecolor\": \"white\", \"ticks\": \"\"}, \"bgcolor\": \"#E5ECF6\", \"radialaxis\": {\"gridcolor\": \"white\", \"linecolor\": \"white\", \"ticks\": \"\"}}, \"scene\": {\"xaxis\": {\"backgroundcolor\": \"#E5ECF6\", \"gridcolor\": \"white\", \"gridwidth\": 2, \"linecolor\": \"white\", \"showbackground\": true, \"ticks\": \"\", \"zerolinecolor\": \"white\"}, \"yaxis\": {\"backgroundcolor\": \"#E5ECF6\", \"gridcolor\": \"white\", \"gridwidth\": 2, \"linecolor\": \"white\", \"showbackground\": true, \"ticks\": \"\", \"zerolinecolor\": \"white\"}, \"zaxis\": {\"backgroundcolor\": \"#E5ECF6\", \"gridcolor\": \"white\", \"gridwidth\": 2, \"linecolor\": \"white\", \"showbackground\": true, \"ticks\": \"\", \"zerolinecolor\": \"white\"}}, \"shapedefaults\": {\"line\": {\"color\": \"#2a3f5f\"}}, \"ternary\": {\"aaxis\": {\"gridcolor\": \"white\", \"linecolor\": \"white\", \"ticks\": \"\"}, \"baxis\": {\"gridcolor\": \"white\", \"linecolor\": \"white\", \"ticks\": \"\"}, \"bgcolor\": \"#E5ECF6\", \"caxis\": {\"gridcolor\": \"white\", \"linecolor\": \"white\", \"ticks\": \"\"}}, \"title\": {\"x\": 0.05}, \"xaxis\": {\"automargin\": true, \"gridcolor\": \"white\", \"linecolor\": \"white\", \"ticks\": \"\", \"title\": {\"standoff\": 15}, \"zerolinecolor\": \"white\", \"zerolinewidth\": 2}, \"yaxis\": {\"automargin\": true, \"gridcolor\": \"white\", \"linecolor\": \"white\", \"ticks\": \"\", \"title\": {\"standoff\": 15}, \"zerolinecolor\": \"white\", \"zerolinewidth\": 2}}}, \"xaxis\": {\"anchor\": \"y\", \"domain\": [0.0, 1.0], \"title\": {\"text\": \"state\"}}, \"yaxis\": {\"anchor\": \"x\", \"domain\": [0.0, 1.0], \"title\": {\"text\": \"Number of Patients\"}}},                        {\"responsive\": true}                    ).then(function(){\n",
       "                            \n",
       "var gd = document.getElementById('bcb17492-b67d-4d12-b452-275704886ff4');\n",
       "var x = new MutationObserver(function (mutations, observer) {{\n",
       "        var display = window.getComputedStyle(gd).display;\n",
       "        if (!display || display === 'none') {{\n",
       "            console.log([gd, 'removed!']);\n",
       "            Plotly.purge(gd);\n",
       "            observer.disconnect();\n",
       "        }}\n",
       "}});\n",
       "\n",
       "// Listen for the removal of the full notebook cells\n",
       "var notebookContainer = gd.closest('#notebook-container');\n",
       "if (notebookContainer) {{\n",
       "    x.observe(notebookContainer, {childList: true});\n",
       "}}\n",
       "\n",
       "// Listen for the clearing of the current output cell\n",
       "var outputEl = gd.closest('.output');\n",
       "if (outputEl) {{\n",
       "    x.observe(outputEl, {childList: true});\n",
       "}}\n",
       "\n",
       "                        })                };                });            </script>        </div>"
      ]
     },
     "metadata": {},
     "output_type": "display_data"
    }
   ],
   "source": [
    "data_state= data.groupby(['state', 'disease'])['id'].count().reset_index(name='Number of Patients').sort_values(by= 'Number of Patients', ascending= False)\n",
    "data_state\n",
    "\n",
    "px.bar(data_state, x= 'state' , y='Number of Patients', color= 'disease')\n"
   ]
  },
  {
   "cell_type": "code",
   "execution_count": 8,
   "id": "loving-definition",
   "metadata": {
    "execution": {
     "iopub.execute_input": "2021-07-06T10:17:38.826310Z",
     "iopub.status.busy": "2021-07-06T10:17:38.825357Z",
     "iopub.status.idle": "2021-07-06T10:17:38.997714Z",
     "shell.execute_reply": "2021-07-06T10:17:38.998227Z",
     "shell.execute_reply.started": "2021-07-06T10:10:31.143078Z"
    },
    "papermill": {
     "duration": 0.224756,
     "end_time": "2021-07-06T10:17:38.998414",
     "exception": false,
     "start_time": "2021-07-06T10:17:38.773658",
     "status": "completed"
    },
    "tags": []
   },
   "outputs": [
    {
     "data": {
      "application/vnd.plotly.v1+json": {
       "config": {
        "plotlyServerURL": "https://plot.ly"
       },
       "data": [
        {
         "alignmentgroup": "True",
         "hovertemplate": "disease=Rubella Mars<br>settlement=%{x}<br>Number of Patients=%{y}<extra></extra>",
         "legendgroup": "Rubella Mars",
         "marker": {
          "color": "#636efa"
         },
         "name": "Rubella Mars",
         "offsetgroup": "Rubella Mars",
         "orientation": "v",
         "showlegend": true,
         "textposition": "auto",
         "type": "bar",
         "x": [
          "Rural",
          "Rural",
          "Urban",
          "Urban"
         ],
         "xaxis": "x",
         "y": [
          7272,
          7165,
          7104,
          6998
         ],
         "yaxis": "y"
        },
        {
         "alignmentgroup": "True",
         "hovertemplate": "disease=Malaria<br>settlement=%{x}<br>Number of Patients=%{y}<extra></extra>",
         "legendgroup": "Malaria",
         "marker": {
          "color": "#EF553B"
         },
         "name": "Malaria",
         "offsetgroup": "Malaria",
         "orientation": "v",
         "showlegend": true,
         "textposition": "auto",
         "type": "bar",
         "x": [
          "Urban",
          "Rural",
          "Rural",
          "Urban"
         ],
         "xaxis": "x",
         "y": [
          7259,
          7106,
          7098,
          7072
         ],
         "yaxis": "y"
        },
        {
         "alignmentgroup": "True",
         "hovertemplate": "disease=Yellow Fever<br>settlement=%{x}<br>Number of Patients=%{y}<extra></extra>",
         "legendgroup": "Yellow Fever",
         "marker": {
          "color": "#00cc96"
         },
         "name": "Yellow Fever",
         "offsetgroup": "Yellow Fever",
         "orientation": "v",
         "showlegend": true,
         "textposition": "auto",
         "type": "bar",
         "x": [
          "Rural",
          "Rural",
          "Urban",
          "Urban"
         ],
         "xaxis": "x",
         "y": [
          7207,
          7110,
          7100,
          7011
         ],
         "yaxis": "y"
        },
        {
         "alignmentgroup": "True",
         "hovertemplate": "disease=Diarrhoea<br>settlement=%{x}<br>Number of Patients=%{y}<extra></extra>",
         "legendgroup": "Diarrhoea",
         "marker": {
          "color": "#ab63fa"
         },
         "name": "Diarrhoea",
         "offsetgroup": "Diarrhoea",
         "orientation": "v",
         "showlegend": true,
         "textposition": "auto",
         "type": "bar",
         "x": [
          "Rural",
          "Urban",
          "Urban",
          "Rural"
         ],
         "xaxis": "x",
         "y": [
          7191,
          7170,
          7098,
          7091
         ],
         "yaxis": "y"
        },
        {
         "alignmentgroup": "True",
         "hovertemplate": "disease=Cholera<br>settlement=%{x}<br>Number of Patients=%{y}<extra></extra>",
         "legendgroup": "Cholera",
         "marker": {
          "color": "#FFA15A"
         },
         "name": "Cholera",
         "offsetgroup": "Cholera",
         "orientation": "v",
         "showlegend": true,
         "textposition": "auto",
         "type": "bar",
         "x": [
          "Rural",
          "Urban",
          "Urban",
          "Rural",
          "Rural"
         ],
         "xaxis": "x",
         "y": [
          7180,
          7141,
          7141,
          7126,
          1
         ],
         "yaxis": "y"
        },
        {
         "alignmentgroup": "True",
         "hovertemplate": "disease=Viral Haemmorrhaphic Fever<br>settlement=%{x}<br>Number of Patients=%{y}<extra></extra>",
         "legendgroup": "Viral Haemmorrhaphic Fever",
         "marker": {
          "color": "#19d3f3"
         },
         "name": "Viral Haemmorrhaphic Fever",
         "offsetgroup": "Viral Haemmorrhaphic Fever",
         "orientation": "v",
         "showlegend": true,
         "textposition": "auto",
         "type": "bar",
         "x": [
          "Urban",
          "Rural",
          "Urban",
          "Rural"
         ],
         "xaxis": "x",
         "y": [
          7179,
          7176,
          7042,
          7004
         ],
         "yaxis": "y"
        },
        {
         "alignmentgroup": "True",
         "hovertemplate": "disease=Ebola<br>settlement=%{x}<br>Number of Patients=%{y}<extra></extra>",
         "legendgroup": "Ebola",
         "marker": {
          "color": "#FF6692"
         },
         "name": "Ebola",
         "offsetgroup": "Ebola",
         "orientation": "v",
         "showlegend": true,
         "textposition": "auto",
         "type": "bar",
         "x": [
          "Rural",
          "Urban",
          "Urban",
          "Rural"
         ],
         "xaxis": "x",
         "y": [
          7179,
          7032,
          6986,
          6982
         ],
         "yaxis": "y"
        },
        {
         "alignmentgroup": "True",
         "hovertemplate": "disease=Measles<br>settlement=%{x}<br>Number of Patients=%{y}<extra></extra>",
         "legendgroup": "Measles",
         "marker": {
          "color": "#B6E880"
         },
         "name": "Measles",
         "offsetgroup": "Measles",
         "orientation": "v",
         "showlegend": true,
         "textposition": "auto",
         "type": "bar",
         "x": [
          "Rural",
          "Urban",
          "Rural",
          "Urban"
         ],
         "xaxis": "x",
         "y": [
          7147,
          7138,
          7112,
          7074
         ],
         "yaxis": "y"
        },
        {
         "alignmentgroup": "True",
         "hovertemplate": "disease=Marburg Virus<br>settlement=%{x}<br>Number of Patients=%{y}<extra></extra>",
         "legendgroup": "Marburg Virus",
         "marker": {
          "color": "#FF97FF"
         },
         "name": "Marburg Virus",
         "offsetgroup": "Marburg Virus",
         "orientation": "v",
         "showlegend": true,
         "textposition": "auto",
         "type": "bar",
         "x": [
          "Urban",
          "Rural",
          "Rural",
          "Urban"
         ],
         "xaxis": "x",
         "y": [
          7142,
          7141,
          7078,
          7069
         ],
         "yaxis": "y"
        },
        {
         "alignmentgroup": "True",
         "hovertemplate": "disease=Meningitis<br>settlement=%{x}<br>Number of Patients=%{y}<extra></extra>",
         "legendgroup": "Meningitis",
         "marker": {
          "color": "#FECB52"
         },
         "name": "Meningitis",
         "offsetgroup": "Meningitis",
         "orientation": "v",
         "showlegend": true,
         "textposition": "auto",
         "type": "bar",
         "x": [
          "Rural",
          "Rural",
          "Urban",
          "Urban"
         ],
         "xaxis": "x",
         "y": [
          7104,
          7093,
          7091,
          7074
         ],
         "yaxis": "y"
        }
       ],
       "layout": {
        "barmode": "relative",
        "legend": {
         "title": {
          "text": "disease"
         },
         "tracegroupgap": 0
        },
        "margin": {
         "t": 60
        },
        "template": {
         "data": {
          "bar": [
           {
            "error_x": {
             "color": "#2a3f5f"
            },
            "error_y": {
             "color": "#2a3f5f"
            },
            "marker": {
             "line": {
              "color": "#E5ECF6",
              "width": 0.5
             }
            },
            "type": "bar"
           }
          ],
          "barpolar": [
           {
            "marker": {
             "line": {
              "color": "#E5ECF6",
              "width": 0.5
             }
            },
            "type": "barpolar"
           }
          ],
          "carpet": [
           {
            "aaxis": {
             "endlinecolor": "#2a3f5f",
             "gridcolor": "white",
             "linecolor": "white",
             "minorgridcolor": "white",
             "startlinecolor": "#2a3f5f"
            },
            "baxis": {
             "endlinecolor": "#2a3f5f",
             "gridcolor": "white",
             "linecolor": "white",
             "minorgridcolor": "white",
             "startlinecolor": "#2a3f5f"
            },
            "type": "carpet"
           }
          ],
          "choropleth": [
           {
            "colorbar": {
             "outlinewidth": 0,
             "ticks": ""
            },
            "type": "choropleth"
           }
          ],
          "contour": [
           {
            "colorbar": {
             "outlinewidth": 0,
             "ticks": ""
            },
            "colorscale": [
             [
              0,
              "#0d0887"
             ],
             [
              0.1111111111111111,
              "#46039f"
             ],
             [
              0.2222222222222222,
              "#7201a8"
             ],
             [
              0.3333333333333333,
              "#9c179e"
             ],
             [
              0.4444444444444444,
              "#bd3786"
             ],
             [
              0.5555555555555556,
              "#d8576b"
             ],
             [
              0.6666666666666666,
              "#ed7953"
             ],
             [
              0.7777777777777778,
              "#fb9f3a"
             ],
             [
              0.8888888888888888,
              "#fdca26"
             ],
             [
              1,
              "#f0f921"
             ]
            ],
            "type": "contour"
           }
          ],
          "contourcarpet": [
           {
            "colorbar": {
             "outlinewidth": 0,
             "ticks": ""
            },
            "type": "contourcarpet"
           }
          ],
          "heatmap": [
           {
            "colorbar": {
             "outlinewidth": 0,
             "ticks": ""
            },
            "colorscale": [
             [
              0,
              "#0d0887"
             ],
             [
              0.1111111111111111,
              "#46039f"
             ],
             [
              0.2222222222222222,
              "#7201a8"
             ],
             [
              0.3333333333333333,
              "#9c179e"
             ],
             [
              0.4444444444444444,
              "#bd3786"
             ],
             [
              0.5555555555555556,
              "#d8576b"
             ],
             [
              0.6666666666666666,
              "#ed7953"
             ],
             [
              0.7777777777777778,
              "#fb9f3a"
             ],
             [
              0.8888888888888888,
              "#fdca26"
             ],
             [
              1,
              "#f0f921"
             ]
            ],
            "type": "heatmap"
           }
          ],
          "heatmapgl": [
           {
            "colorbar": {
             "outlinewidth": 0,
             "ticks": ""
            },
            "colorscale": [
             [
              0,
              "#0d0887"
             ],
             [
              0.1111111111111111,
              "#46039f"
             ],
             [
              0.2222222222222222,
              "#7201a8"
             ],
             [
              0.3333333333333333,
              "#9c179e"
             ],
             [
              0.4444444444444444,
              "#bd3786"
             ],
             [
              0.5555555555555556,
              "#d8576b"
             ],
             [
              0.6666666666666666,
              "#ed7953"
             ],
             [
              0.7777777777777778,
              "#fb9f3a"
             ],
             [
              0.8888888888888888,
              "#fdca26"
             ],
             [
              1,
              "#f0f921"
             ]
            ],
            "type": "heatmapgl"
           }
          ],
          "histogram": [
           {
            "marker": {
             "colorbar": {
              "outlinewidth": 0,
              "ticks": ""
             }
            },
            "type": "histogram"
           }
          ],
          "histogram2d": [
           {
            "colorbar": {
             "outlinewidth": 0,
             "ticks": ""
            },
            "colorscale": [
             [
              0,
              "#0d0887"
             ],
             [
              0.1111111111111111,
              "#46039f"
             ],
             [
              0.2222222222222222,
              "#7201a8"
             ],
             [
              0.3333333333333333,
              "#9c179e"
             ],
             [
              0.4444444444444444,
              "#bd3786"
             ],
             [
              0.5555555555555556,
              "#d8576b"
             ],
             [
              0.6666666666666666,
              "#ed7953"
             ],
             [
              0.7777777777777778,
              "#fb9f3a"
             ],
             [
              0.8888888888888888,
              "#fdca26"
             ],
             [
              1,
              "#f0f921"
             ]
            ],
            "type": "histogram2d"
           }
          ],
          "histogram2dcontour": [
           {
            "colorbar": {
             "outlinewidth": 0,
             "ticks": ""
            },
            "colorscale": [
             [
              0,
              "#0d0887"
             ],
             [
              0.1111111111111111,
              "#46039f"
             ],
             [
              0.2222222222222222,
              "#7201a8"
             ],
             [
              0.3333333333333333,
              "#9c179e"
             ],
             [
              0.4444444444444444,
              "#bd3786"
             ],
             [
              0.5555555555555556,
              "#d8576b"
             ],
             [
              0.6666666666666666,
              "#ed7953"
             ],
             [
              0.7777777777777778,
              "#fb9f3a"
             ],
             [
              0.8888888888888888,
              "#fdca26"
             ],
             [
              1,
              "#f0f921"
             ]
            ],
            "type": "histogram2dcontour"
           }
          ],
          "mesh3d": [
           {
            "colorbar": {
             "outlinewidth": 0,
             "ticks": ""
            },
            "type": "mesh3d"
           }
          ],
          "parcoords": [
           {
            "line": {
             "colorbar": {
              "outlinewidth": 0,
              "ticks": ""
             }
            },
            "type": "parcoords"
           }
          ],
          "pie": [
           {
            "automargin": true,
            "type": "pie"
           }
          ],
          "scatter": [
           {
            "marker": {
             "colorbar": {
              "outlinewidth": 0,
              "ticks": ""
             }
            },
            "type": "scatter"
           }
          ],
          "scatter3d": [
           {
            "line": {
             "colorbar": {
              "outlinewidth": 0,
              "ticks": ""
             }
            },
            "marker": {
             "colorbar": {
              "outlinewidth": 0,
              "ticks": ""
             }
            },
            "type": "scatter3d"
           }
          ],
          "scattercarpet": [
           {
            "marker": {
             "colorbar": {
              "outlinewidth": 0,
              "ticks": ""
             }
            },
            "type": "scattercarpet"
           }
          ],
          "scattergeo": [
           {
            "marker": {
             "colorbar": {
              "outlinewidth": 0,
              "ticks": ""
             }
            },
            "type": "scattergeo"
           }
          ],
          "scattergl": [
           {
            "marker": {
             "colorbar": {
              "outlinewidth": 0,
              "ticks": ""
             }
            },
            "type": "scattergl"
           }
          ],
          "scattermapbox": [
           {
            "marker": {
             "colorbar": {
              "outlinewidth": 0,
              "ticks": ""
             }
            },
            "type": "scattermapbox"
           }
          ],
          "scatterpolar": [
           {
            "marker": {
             "colorbar": {
              "outlinewidth": 0,
              "ticks": ""
             }
            },
            "type": "scatterpolar"
           }
          ],
          "scatterpolargl": [
           {
            "marker": {
             "colorbar": {
              "outlinewidth": 0,
              "ticks": ""
             }
            },
            "type": "scatterpolargl"
           }
          ],
          "scatterternary": [
           {
            "marker": {
             "colorbar": {
              "outlinewidth": 0,
              "ticks": ""
             }
            },
            "type": "scatterternary"
           }
          ],
          "surface": [
           {
            "colorbar": {
             "outlinewidth": 0,
             "ticks": ""
            },
            "colorscale": [
             [
              0,
              "#0d0887"
             ],
             [
              0.1111111111111111,
              "#46039f"
             ],
             [
              0.2222222222222222,
              "#7201a8"
             ],
             [
              0.3333333333333333,
              "#9c179e"
             ],
             [
              0.4444444444444444,
              "#bd3786"
             ],
             [
              0.5555555555555556,
              "#d8576b"
             ],
             [
              0.6666666666666666,
              "#ed7953"
             ],
             [
              0.7777777777777778,
              "#fb9f3a"
             ],
             [
              0.8888888888888888,
              "#fdca26"
             ],
             [
              1,
              "#f0f921"
             ]
            ],
            "type": "surface"
           }
          ],
          "table": [
           {
            "cells": {
             "fill": {
              "color": "#EBF0F8"
             },
             "line": {
              "color": "white"
             }
            },
            "header": {
             "fill": {
              "color": "#C8D4E3"
             },
             "line": {
              "color": "white"
             }
            },
            "type": "table"
           }
          ]
         },
         "layout": {
          "annotationdefaults": {
           "arrowcolor": "#2a3f5f",
           "arrowhead": 0,
           "arrowwidth": 1
          },
          "autotypenumbers": "strict",
          "coloraxis": {
           "colorbar": {
            "outlinewidth": 0,
            "ticks": ""
           }
          },
          "colorscale": {
           "diverging": [
            [
             0,
             "#8e0152"
            ],
            [
             0.1,
             "#c51b7d"
            ],
            [
             0.2,
             "#de77ae"
            ],
            [
             0.3,
             "#f1b6da"
            ],
            [
             0.4,
             "#fde0ef"
            ],
            [
             0.5,
             "#f7f7f7"
            ],
            [
             0.6,
             "#e6f5d0"
            ],
            [
             0.7,
             "#b8e186"
            ],
            [
             0.8,
             "#7fbc41"
            ],
            [
             0.9,
             "#4d9221"
            ],
            [
             1,
             "#276419"
            ]
           ],
           "sequential": [
            [
             0,
             "#0d0887"
            ],
            [
             0.1111111111111111,
             "#46039f"
            ],
            [
             0.2222222222222222,
             "#7201a8"
            ],
            [
             0.3333333333333333,
             "#9c179e"
            ],
            [
             0.4444444444444444,
             "#bd3786"
            ],
            [
             0.5555555555555556,
             "#d8576b"
            ],
            [
             0.6666666666666666,
             "#ed7953"
            ],
            [
             0.7777777777777778,
             "#fb9f3a"
            ],
            [
             0.8888888888888888,
             "#fdca26"
            ],
            [
             1,
             "#f0f921"
            ]
           ],
           "sequentialminus": [
            [
             0,
             "#0d0887"
            ],
            [
             0.1111111111111111,
             "#46039f"
            ],
            [
             0.2222222222222222,
             "#7201a8"
            ],
            [
             0.3333333333333333,
             "#9c179e"
            ],
            [
             0.4444444444444444,
             "#bd3786"
            ],
            [
             0.5555555555555556,
             "#d8576b"
            ],
            [
             0.6666666666666666,
             "#ed7953"
            ],
            [
             0.7777777777777778,
             "#fb9f3a"
            ],
            [
             0.8888888888888888,
             "#fdca26"
            ],
            [
             1,
             "#f0f921"
            ]
           ]
          },
          "colorway": [
           "#636efa",
           "#EF553B",
           "#00cc96",
           "#ab63fa",
           "#FFA15A",
           "#19d3f3",
           "#FF6692",
           "#B6E880",
           "#FF97FF",
           "#FECB52"
          ],
          "font": {
           "color": "#2a3f5f"
          },
          "geo": {
           "bgcolor": "white",
           "lakecolor": "white",
           "landcolor": "#E5ECF6",
           "showlakes": true,
           "showland": true,
           "subunitcolor": "white"
          },
          "hoverlabel": {
           "align": "left"
          },
          "hovermode": "closest",
          "mapbox": {
           "style": "light"
          },
          "paper_bgcolor": "white",
          "plot_bgcolor": "#E5ECF6",
          "polar": {
           "angularaxis": {
            "gridcolor": "white",
            "linecolor": "white",
            "ticks": ""
           },
           "bgcolor": "#E5ECF6",
           "radialaxis": {
            "gridcolor": "white",
            "linecolor": "white",
            "ticks": ""
           }
          },
          "scene": {
           "xaxis": {
            "backgroundcolor": "#E5ECF6",
            "gridcolor": "white",
            "gridwidth": 2,
            "linecolor": "white",
            "showbackground": true,
            "ticks": "",
            "zerolinecolor": "white"
           },
           "yaxis": {
            "backgroundcolor": "#E5ECF6",
            "gridcolor": "white",
            "gridwidth": 2,
            "linecolor": "white",
            "showbackground": true,
            "ticks": "",
            "zerolinecolor": "white"
           },
           "zaxis": {
            "backgroundcolor": "#E5ECF6",
            "gridcolor": "white",
            "gridwidth": 2,
            "linecolor": "white",
            "showbackground": true,
            "ticks": "",
            "zerolinecolor": "white"
           }
          },
          "shapedefaults": {
           "line": {
            "color": "#2a3f5f"
           }
          },
          "ternary": {
           "aaxis": {
            "gridcolor": "white",
            "linecolor": "white",
            "ticks": ""
           },
           "baxis": {
            "gridcolor": "white",
            "linecolor": "white",
            "ticks": ""
           },
           "bgcolor": "#E5ECF6",
           "caxis": {
            "gridcolor": "white",
            "linecolor": "white",
            "ticks": ""
           }
          },
          "title": {
           "x": 0.05
          },
          "xaxis": {
           "automargin": true,
           "gridcolor": "white",
           "linecolor": "white",
           "ticks": "",
           "title": {
            "standoff": 15
           },
           "zerolinecolor": "white",
           "zerolinewidth": 2
          },
          "yaxis": {
           "automargin": true,
           "gridcolor": "white",
           "linecolor": "white",
           "ticks": "",
           "title": {
            "standoff": 15
           },
           "zerolinecolor": "white",
           "zerolinewidth": 2
          }
         }
        },
        "xaxis": {
         "anchor": "y",
         "domain": [
          0,
          1
         ],
         "title": {
          "text": "settlement"
         }
        },
        "yaxis": {
         "anchor": "x",
         "domain": [
          0,
          1
         ],
         "title": {
          "text": "Number of Patients"
         }
        }
       }
      },
      "text/html": [
       "<div>                            <div id=\"95f50db2-b13d-4072-a9ed-643331d2b49e\" class=\"plotly-graph-div\" style=\"height:525px; width:100%;\"></div>            <script type=\"text/javascript\">                require([\"plotly\"], function(Plotly) {                    window.PLOTLYENV=window.PLOTLYENV || {};                                    if (document.getElementById(\"95f50db2-b13d-4072-a9ed-643331d2b49e\")) {                    Plotly.newPlot(                        \"95f50db2-b13d-4072-a9ed-643331d2b49e\",                        [{\"alignmentgroup\": \"True\", \"hovertemplate\": \"disease=Rubella Mars<br>settlement=%{x}<br>Number of Patients=%{y}<extra></extra>\", \"legendgroup\": \"Rubella Mars\", \"marker\": {\"color\": \"#636efa\"}, \"name\": \"Rubella Mars\", \"offsetgroup\": \"Rubella Mars\", \"orientation\": \"v\", \"showlegend\": true, \"textposition\": \"auto\", \"type\": \"bar\", \"x\": [\"Rural\", \"Rural\", \"Urban\", \"Urban\"], \"xaxis\": \"x\", \"y\": [7272, 7165, 7104, 6998], \"yaxis\": \"y\"}, {\"alignmentgroup\": \"True\", \"hovertemplate\": \"disease=Malaria<br>settlement=%{x}<br>Number of Patients=%{y}<extra></extra>\", \"legendgroup\": \"Malaria\", \"marker\": {\"color\": \"#EF553B\"}, \"name\": \"Malaria\", \"offsetgroup\": \"Malaria\", \"orientation\": \"v\", \"showlegend\": true, \"textposition\": \"auto\", \"type\": \"bar\", \"x\": [\"Urban\", \"Rural\", \"Rural\", \"Urban\"], \"xaxis\": \"x\", \"y\": [7259, 7106, 7098, 7072], \"yaxis\": \"y\"}, {\"alignmentgroup\": \"True\", \"hovertemplate\": \"disease=Yellow Fever<br>settlement=%{x}<br>Number of Patients=%{y}<extra></extra>\", \"legendgroup\": \"Yellow Fever\", \"marker\": {\"color\": \"#00cc96\"}, \"name\": \"Yellow Fever\", \"offsetgroup\": \"Yellow Fever\", \"orientation\": \"v\", \"showlegend\": true, \"textposition\": \"auto\", \"type\": \"bar\", \"x\": [\"Rural\", \"Rural\", \"Urban\", \"Urban\"], \"xaxis\": \"x\", \"y\": [7207, 7110, 7100, 7011], \"yaxis\": \"y\"}, {\"alignmentgroup\": \"True\", \"hovertemplate\": \"disease=Diarrhoea<br>settlement=%{x}<br>Number of Patients=%{y}<extra></extra>\", \"legendgroup\": \"Diarrhoea\", \"marker\": {\"color\": \"#ab63fa\"}, \"name\": \"Diarrhoea\", \"offsetgroup\": \"Diarrhoea\", \"orientation\": \"v\", \"showlegend\": true, \"textposition\": \"auto\", \"type\": \"bar\", \"x\": [\"Rural\", \"Urban\", \"Urban\", \"Rural\"], \"xaxis\": \"x\", \"y\": [7191, 7170, 7098, 7091], \"yaxis\": \"y\"}, {\"alignmentgroup\": \"True\", \"hovertemplate\": \"disease=Cholera<br>settlement=%{x}<br>Number of Patients=%{y}<extra></extra>\", \"legendgroup\": \"Cholera\", \"marker\": {\"color\": \"#FFA15A\"}, \"name\": \"Cholera\", \"offsetgroup\": \"Cholera\", \"orientation\": \"v\", \"showlegend\": true, \"textposition\": \"auto\", \"type\": \"bar\", \"x\": [\"Rural\", \"Urban\", \"Urban\", \"Rural\", \"Rural\"], \"xaxis\": \"x\", \"y\": [7180, 7141, 7141, 7126, 1], \"yaxis\": \"y\"}, {\"alignmentgroup\": \"True\", \"hovertemplate\": \"disease=Viral Haemmorrhaphic Fever<br>settlement=%{x}<br>Number of Patients=%{y}<extra></extra>\", \"legendgroup\": \"Viral Haemmorrhaphic Fever\", \"marker\": {\"color\": \"#19d3f3\"}, \"name\": \"Viral Haemmorrhaphic Fever\", \"offsetgroup\": \"Viral Haemmorrhaphic Fever\", \"orientation\": \"v\", \"showlegend\": true, \"textposition\": \"auto\", \"type\": \"bar\", \"x\": [\"Urban\", \"Rural\", \"Urban\", \"Rural\"], \"xaxis\": \"x\", \"y\": [7179, 7176, 7042, 7004], \"yaxis\": \"y\"}, {\"alignmentgroup\": \"True\", \"hovertemplate\": \"disease=Ebola<br>settlement=%{x}<br>Number of Patients=%{y}<extra></extra>\", \"legendgroup\": \"Ebola\", \"marker\": {\"color\": \"#FF6692\"}, \"name\": \"Ebola\", \"offsetgroup\": \"Ebola\", \"orientation\": \"v\", \"showlegend\": true, \"textposition\": \"auto\", \"type\": \"bar\", \"x\": [\"Rural\", \"Urban\", \"Urban\", \"Rural\"], \"xaxis\": \"x\", \"y\": [7179, 7032, 6986, 6982], \"yaxis\": \"y\"}, {\"alignmentgroup\": \"True\", \"hovertemplate\": \"disease=Measles<br>settlement=%{x}<br>Number of Patients=%{y}<extra></extra>\", \"legendgroup\": \"Measles\", \"marker\": {\"color\": \"#B6E880\"}, \"name\": \"Measles\", \"offsetgroup\": \"Measles\", \"orientation\": \"v\", \"showlegend\": true, \"textposition\": \"auto\", \"type\": \"bar\", \"x\": [\"Rural\", \"Urban\", \"Rural\", \"Urban\"], \"xaxis\": \"x\", \"y\": [7147, 7138, 7112, 7074], \"yaxis\": \"y\"}, {\"alignmentgroup\": \"True\", \"hovertemplate\": \"disease=Marburg Virus<br>settlement=%{x}<br>Number of Patients=%{y}<extra></extra>\", \"legendgroup\": \"Marburg Virus\", \"marker\": {\"color\": \"#FF97FF\"}, \"name\": \"Marburg Virus\", \"offsetgroup\": \"Marburg Virus\", \"orientation\": \"v\", \"showlegend\": true, \"textposition\": \"auto\", \"type\": \"bar\", \"x\": [\"Urban\", \"Rural\", \"Rural\", \"Urban\"], \"xaxis\": \"x\", \"y\": [7142, 7141, 7078, 7069], \"yaxis\": \"y\"}, {\"alignmentgroup\": \"True\", \"hovertemplate\": \"disease=Meningitis<br>settlement=%{x}<br>Number of Patients=%{y}<extra></extra>\", \"legendgroup\": \"Meningitis\", \"marker\": {\"color\": \"#FECB52\"}, \"name\": \"Meningitis\", \"offsetgroup\": \"Meningitis\", \"orientation\": \"v\", \"showlegend\": true, \"textposition\": \"auto\", \"type\": \"bar\", \"x\": [\"Rural\", \"Rural\", \"Urban\", \"Urban\"], \"xaxis\": \"x\", \"y\": [7104, 7093, 7091, 7074], \"yaxis\": \"y\"}],                        {\"barmode\": \"relative\", \"legend\": {\"title\": {\"text\": \"disease\"}, \"tracegroupgap\": 0}, \"margin\": {\"t\": 60}, \"template\": {\"data\": {\"bar\": [{\"error_x\": {\"color\": \"#2a3f5f\"}, \"error_y\": {\"color\": \"#2a3f5f\"}, \"marker\": {\"line\": {\"color\": \"#E5ECF6\", \"width\": 0.5}}, \"type\": \"bar\"}], \"barpolar\": [{\"marker\": {\"line\": {\"color\": \"#E5ECF6\", \"width\": 0.5}}, \"type\": \"barpolar\"}], \"carpet\": [{\"aaxis\": {\"endlinecolor\": \"#2a3f5f\", \"gridcolor\": \"white\", \"linecolor\": \"white\", \"minorgridcolor\": \"white\", \"startlinecolor\": \"#2a3f5f\"}, \"baxis\": {\"endlinecolor\": \"#2a3f5f\", \"gridcolor\": \"white\", \"linecolor\": \"white\", \"minorgridcolor\": \"white\", \"startlinecolor\": \"#2a3f5f\"}, \"type\": \"carpet\"}], \"choropleth\": [{\"colorbar\": {\"outlinewidth\": 0, \"ticks\": \"\"}, \"type\": \"choropleth\"}], \"contour\": [{\"colorbar\": {\"outlinewidth\": 0, \"ticks\": \"\"}, \"colorscale\": [[0.0, \"#0d0887\"], [0.1111111111111111, \"#46039f\"], [0.2222222222222222, \"#7201a8\"], [0.3333333333333333, \"#9c179e\"], [0.4444444444444444, \"#bd3786\"], [0.5555555555555556, \"#d8576b\"], [0.6666666666666666, \"#ed7953\"], [0.7777777777777778, \"#fb9f3a\"], [0.8888888888888888, \"#fdca26\"], [1.0, \"#f0f921\"]], \"type\": \"contour\"}], \"contourcarpet\": [{\"colorbar\": {\"outlinewidth\": 0, \"ticks\": \"\"}, \"type\": \"contourcarpet\"}], \"heatmap\": [{\"colorbar\": {\"outlinewidth\": 0, \"ticks\": \"\"}, \"colorscale\": [[0.0, \"#0d0887\"], [0.1111111111111111, \"#46039f\"], [0.2222222222222222, \"#7201a8\"], [0.3333333333333333, \"#9c179e\"], [0.4444444444444444, \"#bd3786\"], [0.5555555555555556, \"#d8576b\"], [0.6666666666666666, \"#ed7953\"], [0.7777777777777778, \"#fb9f3a\"], [0.8888888888888888, \"#fdca26\"], [1.0, \"#f0f921\"]], \"type\": \"heatmap\"}], \"heatmapgl\": [{\"colorbar\": {\"outlinewidth\": 0, \"ticks\": \"\"}, \"colorscale\": [[0.0, \"#0d0887\"], [0.1111111111111111, \"#46039f\"], [0.2222222222222222, \"#7201a8\"], [0.3333333333333333, \"#9c179e\"], [0.4444444444444444, \"#bd3786\"], [0.5555555555555556, \"#d8576b\"], [0.6666666666666666, \"#ed7953\"], [0.7777777777777778, \"#fb9f3a\"], [0.8888888888888888, \"#fdca26\"], [1.0, \"#f0f921\"]], \"type\": \"heatmapgl\"}], \"histogram\": [{\"marker\": {\"colorbar\": {\"outlinewidth\": 0, \"ticks\": \"\"}}, \"type\": \"histogram\"}], \"histogram2d\": [{\"colorbar\": {\"outlinewidth\": 0, \"ticks\": \"\"}, \"colorscale\": [[0.0, \"#0d0887\"], [0.1111111111111111, \"#46039f\"], [0.2222222222222222, \"#7201a8\"], [0.3333333333333333, \"#9c179e\"], [0.4444444444444444, \"#bd3786\"], [0.5555555555555556, \"#d8576b\"], [0.6666666666666666, \"#ed7953\"], [0.7777777777777778, \"#fb9f3a\"], [0.8888888888888888, \"#fdca26\"], [1.0, \"#f0f921\"]], \"type\": \"histogram2d\"}], \"histogram2dcontour\": [{\"colorbar\": {\"outlinewidth\": 0, \"ticks\": \"\"}, \"colorscale\": [[0.0, \"#0d0887\"], [0.1111111111111111, \"#46039f\"], [0.2222222222222222, \"#7201a8\"], [0.3333333333333333, \"#9c179e\"], [0.4444444444444444, \"#bd3786\"], [0.5555555555555556, \"#d8576b\"], [0.6666666666666666, \"#ed7953\"], [0.7777777777777778, \"#fb9f3a\"], [0.8888888888888888, \"#fdca26\"], [1.0, \"#f0f921\"]], \"type\": \"histogram2dcontour\"}], \"mesh3d\": [{\"colorbar\": {\"outlinewidth\": 0, \"ticks\": \"\"}, \"type\": \"mesh3d\"}], \"parcoords\": [{\"line\": {\"colorbar\": {\"outlinewidth\": 0, \"ticks\": \"\"}}, \"type\": \"parcoords\"}], \"pie\": [{\"automargin\": true, \"type\": \"pie\"}], \"scatter\": [{\"marker\": {\"colorbar\": {\"outlinewidth\": 0, \"ticks\": \"\"}}, \"type\": \"scatter\"}], \"scatter3d\": [{\"line\": {\"colorbar\": {\"outlinewidth\": 0, \"ticks\": \"\"}}, \"marker\": {\"colorbar\": {\"outlinewidth\": 0, \"ticks\": \"\"}}, \"type\": \"scatter3d\"}], \"scattercarpet\": [{\"marker\": {\"colorbar\": {\"outlinewidth\": 0, \"ticks\": \"\"}}, \"type\": \"scattercarpet\"}], \"scattergeo\": [{\"marker\": {\"colorbar\": {\"outlinewidth\": 0, \"ticks\": \"\"}}, \"type\": \"scattergeo\"}], \"scattergl\": [{\"marker\": {\"colorbar\": {\"outlinewidth\": 0, \"ticks\": \"\"}}, \"type\": \"scattergl\"}], \"scattermapbox\": [{\"marker\": {\"colorbar\": {\"outlinewidth\": 0, \"ticks\": \"\"}}, \"type\": \"scattermapbox\"}], \"scatterpolar\": [{\"marker\": {\"colorbar\": {\"outlinewidth\": 0, \"ticks\": \"\"}}, \"type\": \"scatterpolar\"}], \"scatterpolargl\": [{\"marker\": {\"colorbar\": {\"outlinewidth\": 0, \"ticks\": \"\"}}, \"type\": \"scatterpolargl\"}], \"scatterternary\": [{\"marker\": {\"colorbar\": {\"outlinewidth\": 0, \"ticks\": \"\"}}, \"type\": \"scatterternary\"}], \"surface\": [{\"colorbar\": {\"outlinewidth\": 0, \"ticks\": \"\"}, \"colorscale\": [[0.0, \"#0d0887\"], [0.1111111111111111, \"#46039f\"], [0.2222222222222222, \"#7201a8\"], [0.3333333333333333, \"#9c179e\"], [0.4444444444444444, \"#bd3786\"], [0.5555555555555556, \"#d8576b\"], [0.6666666666666666, \"#ed7953\"], [0.7777777777777778, \"#fb9f3a\"], [0.8888888888888888, \"#fdca26\"], [1.0, \"#f0f921\"]], \"type\": \"surface\"}], \"table\": [{\"cells\": {\"fill\": {\"color\": \"#EBF0F8\"}, \"line\": {\"color\": \"white\"}}, \"header\": {\"fill\": {\"color\": \"#C8D4E3\"}, \"line\": {\"color\": \"white\"}}, \"type\": \"table\"}]}, \"layout\": {\"annotationdefaults\": {\"arrowcolor\": \"#2a3f5f\", \"arrowhead\": 0, \"arrowwidth\": 1}, \"autotypenumbers\": \"strict\", \"coloraxis\": {\"colorbar\": {\"outlinewidth\": 0, \"ticks\": \"\"}}, \"colorscale\": {\"diverging\": [[0, \"#8e0152\"], [0.1, \"#c51b7d\"], [0.2, \"#de77ae\"], [0.3, \"#f1b6da\"], [0.4, \"#fde0ef\"], [0.5, \"#f7f7f7\"], [0.6, \"#e6f5d0\"], [0.7, \"#b8e186\"], [0.8, \"#7fbc41\"], [0.9, \"#4d9221\"], [1, \"#276419\"]], \"sequential\": [[0.0, \"#0d0887\"], [0.1111111111111111, \"#46039f\"], [0.2222222222222222, \"#7201a8\"], [0.3333333333333333, \"#9c179e\"], [0.4444444444444444, \"#bd3786\"], [0.5555555555555556, \"#d8576b\"], [0.6666666666666666, \"#ed7953\"], [0.7777777777777778, \"#fb9f3a\"], [0.8888888888888888, \"#fdca26\"], [1.0, \"#f0f921\"]], \"sequentialminus\": [[0.0, \"#0d0887\"], [0.1111111111111111, \"#46039f\"], [0.2222222222222222, \"#7201a8\"], [0.3333333333333333, \"#9c179e\"], [0.4444444444444444, \"#bd3786\"], [0.5555555555555556, \"#d8576b\"], [0.6666666666666666, \"#ed7953\"], [0.7777777777777778, \"#fb9f3a\"], [0.8888888888888888, \"#fdca26\"], [1.0, \"#f0f921\"]]}, \"colorway\": [\"#636efa\", \"#EF553B\", \"#00cc96\", \"#ab63fa\", \"#FFA15A\", \"#19d3f3\", \"#FF6692\", \"#B6E880\", \"#FF97FF\", \"#FECB52\"], \"font\": {\"color\": \"#2a3f5f\"}, \"geo\": {\"bgcolor\": \"white\", \"lakecolor\": \"white\", \"landcolor\": \"#E5ECF6\", \"showlakes\": true, \"showland\": true, \"subunitcolor\": \"white\"}, \"hoverlabel\": {\"align\": \"left\"}, \"hovermode\": \"closest\", \"mapbox\": {\"style\": \"light\"}, \"paper_bgcolor\": \"white\", \"plot_bgcolor\": \"#E5ECF6\", \"polar\": {\"angularaxis\": {\"gridcolor\": \"white\", \"linecolor\": \"white\", \"ticks\": \"\"}, \"bgcolor\": \"#E5ECF6\", \"radialaxis\": {\"gridcolor\": \"white\", \"linecolor\": \"white\", \"ticks\": \"\"}}, \"scene\": {\"xaxis\": {\"backgroundcolor\": \"#E5ECF6\", \"gridcolor\": \"white\", \"gridwidth\": 2, \"linecolor\": \"white\", \"showbackground\": true, \"ticks\": \"\", \"zerolinecolor\": \"white\"}, \"yaxis\": {\"backgroundcolor\": \"#E5ECF6\", \"gridcolor\": \"white\", \"gridwidth\": 2, \"linecolor\": \"white\", \"showbackground\": true, \"ticks\": \"\", \"zerolinecolor\": \"white\"}, \"zaxis\": {\"backgroundcolor\": \"#E5ECF6\", \"gridcolor\": \"white\", \"gridwidth\": 2, \"linecolor\": \"white\", \"showbackground\": true, \"ticks\": \"\", \"zerolinecolor\": \"white\"}}, \"shapedefaults\": {\"line\": {\"color\": \"#2a3f5f\"}}, \"ternary\": {\"aaxis\": {\"gridcolor\": \"white\", \"linecolor\": \"white\", \"ticks\": \"\"}, \"baxis\": {\"gridcolor\": \"white\", \"linecolor\": \"white\", \"ticks\": \"\"}, \"bgcolor\": \"#E5ECF6\", \"caxis\": {\"gridcolor\": \"white\", \"linecolor\": \"white\", \"ticks\": \"\"}}, \"title\": {\"x\": 0.05}, \"xaxis\": {\"automargin\": true, \"gridcolor\": \"white\", \"linecolor\": \"white\", \"ticks\": \"\", \"title\": {\"standoff\": 15}, \"zerolinecolor\": \"white\", \"zerolinewidth\": 2}, \"yaxis\": {\"automargin\": true, \"gridcolor\": \"white\", \"linecolor\": \"white\", \"ticks\": \"\", \"title\": {\"standoff\": 15}, \"zerolinecolor\": \"white\", \"zerolinewidth\": 2}}}, \"xaxis\": {\"anchor\": \"y\", \"domain\": [0.0, 1.0], \"title\": {\"text\": \"settlement\"}}, \"yaxis\": {\"anchor\": \"x\", \"domain\": [0.0, 1.0], \"title\": {\"text\": \"Number of Patients\"}}},                        {\"responsive\": true}                    ).then(function(){\n",
       "                            \n",
       "var gd = document.getElementById('95f50db2-b13d-4072-a9ed-643331d2b49e');\n",
       "var x = new MutationObserver(function (mutations, observer) {{\n",
       "        var display = window.getComputedStyle(gd).display;\n",
       "        if (!display || display === 'none') {{\n",
       "            console.log([gd, 'removed!']);\n",
       "            Plotly.purge(gd);\n",
       "            observer.disconnect();\n",
       "        }}\n",
       "}});\n",
       "\n",
       "// Listen for the removal of the full notebook cells\n",
       "var notebookContainer = gd.closest('#notebook-container');\n",
       "if (notebookContainer) {{\n",
       "    x.observe(notebookContainer, {childList: true});\n",
       "}}\n",
       "\n",
       "// Listen for the clearing of the current output cell\n",
       "var outputEl = gd.closest('.output');\n",
       "if (outputEl) {{\n",
       "    x.observe(outputEl, {childList: true});\n",
       "}}\n",
       "\n",
       "                        })                };                });            </script>        </div>"
      ]
     },
     "metadata": {},
     "output_type": "display_data"
    }
   ],
   "source": [
    "data_settlement= data.groupby(['settlement', 'disease', 'health_status'])['id'].count().reset_index(name='Number of Patients').sort_values(by= 'Number of Patients', ascending= False)\n",
    "data_settlement\n",
    "\n",
    "px.bar(data_settlement, x= 'settlement' , y='Number of Patients', color= 'disease')"
   ]
  },
  {
   "cell_type": "code",
   "execution_count": 9,
   "id": "declared-polyester",
   "metadata": {
    "execution": {
     "iopub.execute_input": "2021-07-06T10:17:39.109977Z",
     "iopub.status.busy": "2021-07-06T10:17:39.109046Z",
     "iopub.status.idle": "2021-07-06T10:17:39.348498Z",
     "shell.execute_reply": "2021-07-06T10:17:39.349030Z",
     "shell.execute_reply.started": "2021-07-06T10:10:31.325791Z"
    },
    "papermill": {
     "duration": 0.300781,
     "end_time": "2021-07-06T10:17:39.349207",
     "exception": false,
     "start_time": "2021-07-06T10:17:39.048426",
     "status": "completed"
    },
    "tags": []
   },
   "outputs": [
    {
     "data": {
      "application/vnd.plotly.v1+json": {
       "config": {
        "plotlyServerURL": "https://plot.ly"
       },
       "data": [
        {
         "alignmentgroup": "True",
         "hovertemplate": "state=Niger<br>report_year=%{x}<br>Number of Patients=%{y}<extra></extra>",
         "legendgroup": "Niger",
         "marker": {
          "color": "#636efa"
         },
         "name": "Niger",
         "offsetgroup": "Niger",
         "orientation": "v",
         "showlegend": true,
         "textposition": "auto",
         "type": "bar",
         "x": [
          2013,
          2017,
          2012,
          2014,
          2016,
          2010,
          2015,
          2011,
          2009,
          2018
         ],
         "xaxis": "x",
         "y": [
          856,
          837,
          809,
          800,
          788,
          761,
          754,
          752,
          745,
          740
         ],
         "yaxis": "y"
        },
        {
         "alignmentgroup": "True",
         "hovertemplate": "state=Rivers<br>report_year=%{x}<br>Number of Patients=%{y}<extra></extra>",
         "legendgroup": "Rivers",
         "marker": {
          "color": "#EF553B"
         },
         "name": "Rivers",
         "offsetgroup": "Rivers",
         "orientation": "v",
         "showlegend": true,
         "textposition": "auto",
         "type": "bar",
         "x": [
          2012,
          2009,
          2014,
          2010,
          2016,
          2018,
          2011,
          2015,
          2017,
          2013
         ],
         "xaxis": "x",
         "y": [
          853,
          791,
          784,
          783,
          768,
          744,
          743,
          738,
          734,
          704
         ],
         "yaxis": "y"
        },
        {
         "alignmentgroup": "True",
         "hovertemplate": "state=Sokoto<br>report_year=%{x}<br>Number of Patients=%{y}<extra></extra>",
         "legendgroup": "Sokoto",
         "marker": {
          "color": "#00cc96"
         },
         "name": "Sokoto",
         "offsetgroup": "Sokoto",
         "orientation": "v",
         "showlegend": true,
         "textposition": "auto",
         "type": "bar",
         "x": [
          2009,
          2017,
          2016,
          2010,
          2018,
          2013,
          2012,
          2011,
          2014,
          2015
         ],
         "xaxis": "x",
         "y": [
          830,
          803,
          785,
          780,
          778,
          768,
          760,
          756,
          745,
          686
         ],
         "yaxis": "y"
        },
        {
         "alignmentgroup": "True",
         "hovertemplate": "state=Kwara<br>report_year=%{x}<br>Number of Patients=%{y}<extra></extra>",
         "legendgroup": "Kwara",
         "marker": {
          "color": "#ab63fa"
         },
         "name": "Kwara",
         "offsetgroup": "Kwara",
         "orientation": "v",
         "showlegend": true,
         "textposition": "auto",
         "type": "bar",
         "x": [
          2011,
          2010,
          2013,
          2016,
          2014,
          2015,
          2012,
          2009,
          2017,
          2018
         ],
         "xaxis": "x",
         "y": [
          824,
          817,
          815,
          788,
          765,
          755,
          752,
          747,
          732,
          731
         ],
         "yaxis": "y"
        },
        {
         "alignmentgroup": "True",
         "hovertemplate": "state=Bayelsa<br>report_year=%{x}<br>Number of Patients=%{y}<extra></extra>",
         "legendgroup": "Bayelsa",
         "marker": {
          "color": "#FFA15A"
         },
         "name": "Bayelsa",
         "offsetgroup": "Bayelsa",
         "orientation": "v",
         "showlegend": true,
         "textposition": "auto",
         "type": "bar",
         "x": [
          2013,
          2014,
          2009,
          2011,
          2016,
          2017,
          2012,
          2010,
          2015,
          2018
         ],
         "xaxis": "x",
         "y": [
          822,
          811,
          802,
          792,
          782,
          777,
          762,
          761,
          747,
          741
         ],
         "yaxis": "y"
        },
        {
         "alignmentgroup": "True",
         "hovertemplate": "state=Ondo<br>report_year=%{x}<br>Number of Patients=%{y}<extra></extra>",
         "legendgroup": "Ondo",
         "marker": {
          "color": "#19d3f3"
         },
         "name": "Ondo",
         "offsetgroup": "Ondo",
         "orientation": "v",
         "showlegend": true,
         "textposition": "auto",
         "type": "bar",
         "x": [
          2018,
          2011,
          2009,
          2013,
          2015,
          2012,
          2010,
          2017,
          2016,
          2014
         ],
         "xaxis": "x",
         "y": [
          821,
          817,
          800,
          790,
          779,
          773,
          770,
          766,
          761,
          758
         ],
         "yaxis": "y"
        },
        {
         "alignmentgroup": "True",
         "hovertemplate": "state=Enugu<br>report_year=%{x}<br>Number of Patients=%{y}<extra></extra>",
         "legendgroup": "Enugu",
         "marker": {
          "color": "#FF6692"
         },
         "name": "Enugu",
         "offsetgroup": "Enugu",
         "orientation": "v",
         "showlegend": true,
         "textposition": "auto",
         "type": "bar",
         "x": [
          2017,
          2013,
          2018,
          2015,
          2010,
          2012,
          2016,
          2009,
          2011,
          2014
         ],
         "xaxis": "x",
         "y": [
          821,
          809,
          791,
          780,
          775,
          770,
          751,
          749,
          745,
          731
         ],
         "yaxis": "y"
        },
        {
         "alignmentgroup": "True",
         "hovertemplate": "state=Abia<br>report_year=%{x}<br>Number of Patients=%{y}<extra></extra>",
         "legendgroup": "Abia",
         "marker": {
          "color": "#B6E880"
         },
         "name": "Abia",
         "offsetgroup": "Abia",
         "orientation": "v",
         "showlegend": true,
         "textposition": "auto",
         "type": "bar",
         "x": [
          2009,
          2015,
          2016,
          2013,
          2010,
          2012,
          2014,
          2017,
          2018,
          2011
         ],
         "xaxis": "x",
         "y": [
          821,
          792,
          788,
          774,
          763,
          763,
          752,
          751,
          747,
          746
         ],
         "yaxis": "y"
        },
        {
         "alignmentgroup": "True",
         "hovertemplate": "state=Federal Capital Territory<br>report_year=%{x}<br>Number of Patients=%{y}<extra></extra>",
         "legendgroup": "Federal Capital Territory",
         "marker": {
          "color": "#FF97FF"
         },
         "name": "Federal Capital Territory",
         "offsetgroup": "Federal Capital Territory",
         "orientation": "v",
         "showlegend": true,
         "textposition": "auto",
         "type": "bar",
         "x": [
          2010,
          2009,
          2016,
          2013,
          2017,
          2015,
          2012,
          2018,
          2011,
          2014
         ],
         "xaxis": "x",
         "y": [
          817,
          799,
          784,
          784,
          772,
          759,
          753,
          743,
          729,
          723
         ],
         "yaxis": "y"
        },
        {
         "alignmentgroup": "True",
         "hovertemplate": "state=Akwa Ibom<br>report_year=%{x}<br>Number of Patients=%{y}<extra></extra>",
         "legendgroup": "Akwa Ibom",
         "marker": {
          "color": "#FECB52"
         },
         "name": "Akwa Ibom",
         "offsetgroup": "Akwa Ibom",
         "orientation": "v",
         "showlegend": true,
         "textposition": "auto",
         "type": "bar",
         "x": [
          2012,
          2017,
          2014,
          2011,
          2009,
          2018,
          2010,
          2016,
          2015,
          2013
         ],
         "xaxis": "x",
         "y": [
          816,
          795,
          783,
          763,
          759,
          751,
          750,
          741,
          740,
          723
         ],
         "yaxis": "y"
        },
        {
         "alignmentgroup": "True",
         "hovertemplate": "state=Ebonyi<br>report_year=%{x}<br>Number of Patients=%{y}<extra></extra>",
         "legendgroup": "Ebonyi",
         "marker": {
          "color": "#636efa"
         },
         "name": "Ebonyi",
         "offsetgroup": "Ebonyi",
         "orientation": "v",
         "showlegend": true,
         "textposition": "auto",
         "type": "bar",
         "x": [
          2013,
          2009,
          2010,
          2011,
          2015,
          2018,
          2014,
          2017,
          2012,
          2016
         ],
         "xaxis": "x",
         "y": [
          815,
          799,
          791,
          780,
          778,
          776,
          771,
          766,
          755,
          716
         ],
         "yaxis": "y"
        },
        {
         "alignmentgroup": "True",
         "hovertemplate": "state=Plateau<br>report_year=%{x}<br>Number of Patients=%{y}<extra></extra>",
         "legendgroup": "Plateau",
         "marker": {
          "color": "#EF553B"
         },
         "name": "Plateau",
         "offsetgroup": "Plateau",
         "orientation": "v",
         "showlegend": true,
         "textposition": "auto",
         "type": "bar",
         "x": [
          2016,
          2012,
          2009,
          2017,
          2010,
          2015,
          2013,
          2018,
          2011,
          2014
         ],
         "xaxis": "x",
         "y": [
          814,
          799,
          782,
          757,
          751,
          750,
          744,
          729,
          716,
          703
         ],
         "yaxis": "y"
        },
        {
         "alignmentgroup": "True",
         "hovertemplate": "state=Imo<br>report_year=%{x}<br>Number of Patients=%{y}<extra></extra>",
         "legendgroup": "Imo",
         "marker": {
          "color": "#00cc96"
         },
         "name": "Imo",
         "offsetgroup": "Imo",
         "orientation": "v",
         "showlegend": true,
         "textposition": "auto",
         "type": "bar",
         "x": [
          2010,
          2015,
          2017,
          2013,
          2012,
          2009,
          2014,
          2011,
          2016,
          2018
         ],
         "xaxis": "x",
         "y": [
          814,
          806,
          800,
          790,
          789,
          764,
          762,
          759,
          753,
          746
         ],
         "yaxis": "y"
        },
        {
         "alignmentgroup": "True",
         "hovertemplate": "state=Kebbi<br>report_year=%{x}<br>Number of Patients=%{y}<extra></extra>",
         "legendgroup": "Kebbi",
         "marker": {
          "color": "#ab63fa"
         },
         "name": "Kebbi",
         "offsetgroup": "Kebbi",
         "orientation": "v",
         "showlegend": true,
         "textposition": "auto",
         "type": "bar",
         "x": [
          2015,
          2014,
          2009,
          2013,
          2018,
          2010,
          2011,
          2016,
          2017,
          2012
         ],
         "xaxis": "x",
         "y": [
          812,
          793,
          781,
          777,
          776,
          776,
          775,
          770,
          769,
          735
         ],
         "yaxis": "y"
        },
        {
         "alignmentgroup": "True",
         "hovertemplate": "state=Benue<br>report_year=%{x}<br>Number of Patients=%{y}<extra></extra>",
         "legendgroup": "Benue",
         "marker": {
          "color": "#FFA15A"
         },
         "name": "Benue",
         "offsetgroup": "Benue",
         "orientation": "v",
         "showlegend": true,
         "textposition": "auto",
         "type": "bar",
         "x": [
          2018,
          2010,
          2016,
          2017,
          2014,
          2011,
          2013,
          2015,
          2009,
          2012
         ],
         "xaxis": "x",
         "y": [
          811,
          802,
          798,
          788,
          786,
          781,
          775,
          762,
          755,
          718
         ],
         "yaxis": "y"
        },
        {
         "alignmentgroup": "True",
         "hovertemplate": "state=Adamawa<br>report_year=%{x}<br>Number of Patients=%{y}<extra></extra>",
         "legendgroup": "Adamawa",
         "marker": {
          "color": "#19d3f3"
         },
         "name": "Adamawa",
         "offsetgroup": "Adamawa",
         "orientation": "v",
         "showlegend": true,
         "textposition": "auto",
         "type": "bar",
         "x": [
          2015,
          2012,
          2018,
          2013,
          2011,
          2016,
          2009,
          2010,
          2014,
          2017
         ],
         "xaxis": "x",
         "y": [
          811,
          787,
          785,
          779,
          778,
          753,
          753,
          752,
          748,
          742
         ],
         "yaxis": "y"
        },
        {
         "alignmentgroup": "True",
         "hovertemplate": "state=Anambra<br>report_year=%{x}<br>Number of Patients=%{y}<extra></extra>",
         "legendgroup": "Anambra",
         "marker": {
          "color": "#FF6692"
         },
         "name": "Anambra",
         "offsetgroup": "Anambra",
         "orientation": "v",
         "showlegend": true,
         "textposition": "auto",
         "type": "bar",
         "x": [
          2015,
          2009,
          2017,
          2018,
          2014,
          2010,
          2012,
          2011,
          2016,
          2013
         ],
         "xaxis": "x",
         "y": [
          809,
          788,
          785,
          779,
          779,
          778,
          767,
          764,
          736,
          725
         ],
         "yaxis": "y"
        },
        {
         "alignmentgroup": "True",
         "hovertemplate": "state=Kogi<br>report_year=%{x}<br>Number of Patients=%{y}<extra></extra>",
         "legendgroup": "Kogi",
         "marker": {
          "color": "#B6E880"
         },
         "name": "Kogi",
         "offsetgroup": "Kogi",
         "orientation": "v",
         "showlegend": true,
         "textposition": "auto",
         "type": "bar",
         "x": [
          2016,
          2015,
          2018,
          2017,
          2014,
          2013,
          2010,
          2011,
          2009,
          2012
         ],
         "xaxis": "x",
         "y": [
          808,
          806,
          806,
          796,
          784,
          742,
          742,
          741,
          730,
          707
         ],
         "yaxis": "y"
        },
        {
         "alignmentgroup": "True",
         "hovertemplate": "state=Yobe<br>report_year=%{x}<br>Number of Patients=%{y}<extra></extra>",
         "legendgroup": "Yobe",
         "marker": {
          "color": "#FF97FF"
         },
         "name": "Yobe",
         "offsetgroup": "Yobe",
         "orientation": "v",
         "showlegend": true,
         "textposition": "auto",
         "type": "bar",
         "x": [
          2015,
          2018,
          2012,
          2016,
          2013,
          2009,
          2014,
          2011,
          2017,
          2010
         ],
         "xaxis": "x",
         "y": [
          807,
          805,
          792,
          792,
          781,
          779,
          775,
          753,
          743,
          733
         ],
         "yaxis": "y"
        },
        {
         "alignmentgroup": "True",
         "hovertemplate": "state=Ogun<br>report_year=%{x}<br>Number of Patients=%{y}<extra></extra>",
         "legendgroup": "Ogun",
         "marker": {
          "color": "#FECB52"
         },
         "name": "Ogun",
         "offsetgroup": "Ogun",
         "orientation": "v",
         "showlegend": true,
         "textposition": "auto",
         "type": "bar",
         "x": [
          2010,
          2016,
          2014,
          2015,
          2011,
          2018,
          2012,
          2013,
          2017,
          2009
         ],
         "xaxis": "x",
         "y": [
          807,
          790,
          773,
          772,
          768,
          764,
          761,
          753,
          750,
          723
         ],
         "yaxis": "y"
        },
        {
         "alignmentgroup": "True",
         "hovertemplate": "state=Kano<br>report_year=%{x}<br>Number of Patients=%{y}<extra></extra>",
         "legendgroup": "Kano",
         "marker": {
          "color": "#636efa"
         },
         "name": "Kano",
         "offsetgroup": "Kano",
         "orientation": "v",
         "showlegend": true,
         "textposition": "auto",
         "type": "bar",
         "x": [
          2012,
          2013,
          2017,
          2014,
          2016,
          2010,
          2009,
          2018,
          2015,
          2011
         ],
         "xaxis": "x",
         "y": [
          806,
          804,
          801,
          798,
          790,
          786,
          766,
          762,
          758,
          751
         ],
         "yaxis": "y"
        },
        {
         "alignmentgroup": "True",
         "hovertemplate": "state=Nasarawa<br>report_year=%{x}<br>Number of Patients=%{y}<extra></extra>",
         "legendgroup": "Nasarawa",
         "marker": {
          "color": "#EF553B"
         },
         "name": "Nasarawa",
         "offsetgroup": "Nasarawa",
         "orientation": "v",
         "showlegend": true,
         "textposition": "auto",
         "type": "bar",
         "x": [
          2013,
          2011,
          2012,
          2018,
          2010,
          2017,
          2016,
          2014,
          2009,
          2015
         ],
         "xaxis": "x",
         "y": [
          805,
          796,
          796,
          795,
          789,
          783,
          774,
          738,
          731,
          721
         ],
         "yaxis": "y"
        },
        {
         "alignmentgroup": "True",
         "hovertemplate": "state=Gombe<br>report_year=%{x}<br>Number of Patients=%{y}<extra></extra>",
         "legendgroup": "Gombe",
         "marker": {
          "color": "#00cc96"
         },
         "name": "Gombe",
         "offsetgroup": "Gombe",
         "orientation": "v",
         "showlegend": true,
         "textposition": "auto",
         "type": "bar",
         "x": [
          2016,
          2014,
          2018,
          2013,
          2017,
          2009,
          2011,
          2012,
          2010,
          2015
         ],
         "xaxis": "x",
         "y": [
          804,
          787,
          786,
          780,
          768,
          761,
          760,
          746,
          740,
          725
         ],
         "yaxis": "y"
        },
        {
         "alignmentgroup": "True",
         "hovertemplate": "state=Osun<br>report_year=%{x}<br>Number of Patients=%{y}<extra></extra>",
         "legendgroup": "Osun",
         "marker": {
          "color": "#ab63fa"
         },
         "name": "Osun",
         "offsetgroup": "Osun",
         "orientation": "v",
         "showlegend": true,
         "textposition": "auto",
         "type": "bar",
         "x": [
          2013,
          2016,
          2010,
          2012,
          2014,
          2015,
          2017,
          2018,
          2011,
          2009
         ],
         "xaxis": "x",
         "y": [
          804,
          803,
          794,
          792,
          789,
          784,
          760,
          754,
          726,
          720
         ],
         "yaxis": "y"
        },
        {
         "alignmentgroup": "True",
         "hovertemplate": "state=Taraba<br>report_year=%{x}<br>Number of Patients=%{y}<extra></extra>",
         "legendgroup": "Taraba",
         "marker": {
          "color": "#FFA15A"
         },
         "name": "Taraba",
         "offsetgroup": "Taraba",
         "orientation": "v",
         "showlegend": true,
         "textposition": "auto",
         "type": "bar",
         "x": [
          2009,
          2010,
          2015,
          2016,
          2011,
          2013,
          2014,
          2017,
          2012,
          2018
         ],
         "xaxis": "x",
         "y": [
          804,
          766,
          765,
          763,
          758,
          754,
          749,
          737,
          735,
          729
         ],
         "yaxis": "y"
        },
        {
         "alignmentgroup": "True",
         "hovertemplate": "state=Kaduna<br>report_year=%{x}<br>Number of Patients=%{y}<extra></extra>",
         "legendgroup": "Kaduna",
         "marker": {
          "color": "#19d3f3"
         },
         "name": "Kaduna",
         "offsetgroup": "Kaduna",
         "orientation": "v",
         "showlegend": true,
         "textposition": "auto",
         "type": "bar",
         "x": [
          2014,
          2012,
          2010,
          2013,
          2015,
          2017,
          2016,
          2011,
          2018,
          2009
         ],
         "xaxis": "x",
         "y": [
          801,
          796,
          789,
          787,
          776,
          774,
          763,
          759,
          755,
          754
         ],
         "yaxis": "y"
        },
        {
         "alignmentgroup": "True",
         "hovertemplate": "state=Borno<br>report_year=%{x}<br>Number of Patients=%{y}<extra></extra>",
         "legendgroup": "Borno",
         "marker": {
          "color": "#FF6692"
         },
         "name": "Borno",
         "offsetgroup": "Borno",
         "orientation": "v",
         "showlegend": true,
         "textposition": "auto",
         "type": "bar",
         "x": [
          2014,
          2017,
          2015,
          2018,
          2010,
          2013,
          2011,
          2016,
          2012,
          2009
         ],
         "xaxis": "x",
         "y": [
          800,
          774,
          764,
          762,
          762,
          758,
          757,
          736,
          727,
          724
         ],
         "yaxis": "y"
        },
        {
         "alignmentgroup": "True",
         "hovertemplate": "state=Delta<br>report_year=%{x}<br>Number of Patients=%{y}<extra></extra>",
         "legendgroup": "Delta",
         "marker": {
          "color": "#B6E880"
         },
         "name": "Delta",
         "offsetgroup": "Delta",
         "orientation": "v",
         "showlegend": true,
         "textposition": "auto",
         "type": "bar",
         "x": [
          2016,
          2018,
          2010,
          2012,
          2011,
          2017,
          2013,
          2014,
          2009,
          2015
         ],
         "xaxis": "x",
         "y": [
          797,
          795,
          791,
          780,
          770,
          759,
          758,
          747,
          744,
          737
         ],
         "yaxis": "y"
        },
        {
         "alignmentgroup": "True",
         "hovertemplate": "state=Oyo<br>report_year=%{x}<br>Number of Patients=%{y}<extra></extra>",
         "legendgroup": "Oyo",
         "marker": {
          "color": "#FF97FF"
         },
         "name": "Oyo",
         "offsetgroup": "Oyo",
         "orientation": "v",
         "showlegend": true,
         "textposition": "auto",
         "type": "bar",
         "x": [
          2015,
          2014,
          2010,
          2012,
          2013,
          2018,
          2011,
          2016,
          2017,
          2009
         ],
         "xaxis": "x",
         "y": [
          797,
          794,
          793,
          786,
          780,
          778,
          764,
          759,
          745,
          728
         ],
         "yaxis": "y"
        },
        {
         "alignmentgroup": "True",
         "hovertemplate": "state=Zamfara<br>report_year=%{x}<br>Number of Patients=%{y}<extra></extra>",
         "legendgroup": "Zamfara",
         "marker": {
          "color": "#FECB52"
         },
         "name": "Zamfara",
         "offsetgroup": "Zamfara",
         "orientation": "v",
         "showlegend": true,
         "textposition": "auto",
         "type": "bar",
         "x": [
          2018,
          2014,
          2017,
          2016,
          2012,
          2009,
          2011,
          2010,
          2015,
          2013
         ],
         "xaxis": "x",
         "y": [
          795,
          787,
          786,
          782,
          763,
          760,
          755,
          742,
          740,
          722
         ],
         "yaxis": "y"
        },
        {
         "alignmentgroup": "True",
         "hovertemplate": "state=Lagos<br>report_year=%{x}<br>Number of Patients=%{y}<extra></extra>",
         "legendgroup": "Lagos",
         "marker": {
          "color": "#636efa"
         },
         "name": "Lagos",
         "offsetgroup": "Lagos",
         "orientation": "v",
         "showlegend": true,
         "textposition": "auto",
         "type": "bar",
         "x": [
          2016,
          2018,
          2010,
          2013,
          2017,
          2009,
          2015,
          2012,
          2014,
          2011
         ],
         "xaxis": "x",
         "y": [
          792,
          785,
          783,
          783,
          773,
          769,
          754,
          748,
          746,
          726
         ],
         "yaxis": "y"
        },
        {
         "alignmentgroup": "True",
         "hovertemplate": "state=Edo<br>report_year=%{x}<br>Number of Patients=%{y}<extra></extra>",
         "legendgroup": "Edo",
         "marker": {
          "color": "#EF553B"
         },
         "name": "Edo",
         "offsetgroup": "Edo",
         "orientation": "v",
         "showlegend": true,
         "textposition": "auto",
         "type": "bar",
         "x": [
          2013,
          2010,
          2012,
          2016,
          2011,
          2009,
          2015,
          2014,
          2017,
          2018
         ],
         "xaxis": "x",
         "y": [
          791,
          781,
          769,
          766,
          760,
          758,
          748,
          748,
          740,
          735
         ],
         "yaxis": "y"
        },
        {
         "alignmentgroup": "True",
         "hovertemplate": "state=Bauchi<br>report_year=%{x}<br>Number of Patients=%{y}<extra></extra>",
         "legendgroup": "Bauchi",
         "marker": {
          "color": "#00cc96"
         },
         "name": "Bauchi",
         "offsetgroup": "Bauchi",
         "orientation": "v",
         "showlegend": true,
         "textposition": "auto",
         "type": "bar",
         "x": [
          2016,
          2017,
          2018,
          2013,
          2009,
          2011,
          2015,
          2014,
          2012,
          2010
         ],
         "xaxis": "x",
         "y": [
          789,
          781,
          780,
          775,
          772,
          763,
          760,
          758,
          747,
          740
         ],
         "yaxis": "y"
        },
        {
         "alignmentgroup": "True",
         "hovertemplate": "state=Jigawa<br>report_year=%{x}<br>Number of Patients=%{y}<extra></extra>",
         "legendgroup": "Jigawa",
         "marker": {
          "color": "#ab63fa"
         },
         "name": "Jigawa",
         "offsetgroup": "Jigawa",
         "orientation": "v",
         "showlegend": true,
         "textposition": "auto",
         "type": "bar",
         "x": [
          2016,
          2010,
          2009,
          2013,
          2011,
          2015,
          2012,
          2017,
          2014,
          2018
         ],
         "xaxis": "x",
         "y": [
          788,
          788,
          784,
          784,
          784,
          779,
          767,
          758,
          753,
          719
         ],
         "yaxis": "y"
        },
        {
         "alignmentgroup": "True",
         "hovertemplate": "state=Ekiti<br>report_year=%{x}<br>Number of Patients=%{y}<extra></extra>",
         "legendgroup": "Ekiti",
         "marker": {
          "color": "#FFA15A"
         },
         "name": "Ekiti",
         "offsetgroup": "Ekiti",
         "orientation": "v",
         "showlegend": true,
         "textposition": "auto",
         "type": "bar",
         "x": [
          2013,
          2018,
          2014,
          2017,
          2016,
          2010,
          2011,
          2012,
          2015,
          2009
         ],
         "xaxis": "x",
         "y": [
          788,
          786,
          775,
          770,
          769,
          759,
          743,
          734,
          719,
          717
         ],
         "yaxis": "y"
        },
        {
         "alignmentgroup": "True",
         "hovertemplate": "state=Katsina<br>report_year=%{x}<br>Number of Patients=%{y}<extra></extra>",
         "legendgroup": "Katsina",
         "marker": {
          "color": "#19d3f3"
         },
         "name": "Katsina",
         "offsetgroup": "Katsina",
         "orientation": "v",
         "showlegend": true,
         "textposition": "auto",
         "type": "bar",
         "x": [
          2017,
          2018,
          2012,
          2011,
          2013,
          2009,
          2010,
          2014,
          2016,
          2015
         ],
         "xaxis": "x",
         "y": [
          783,
          782,
          777,
          774,
          773,
          762,
          743,
          742,
          732,
          731
         ],
         "yaxis": "y"
        },
        {
         "alignmentgroup": "True",
         "hovertemplate": "state=Cross River<br>report_year=%{x}<br>Number of Patients=%{y}<extra></extra>",
         "legendgroup": "Cross River",
         "marker": {
          "color": "#FF6692"
         },
         "name": "Cross River",
         "offsetgroup": "Cross River",
         "orientation": "v",
         "showlegend": true,
         "textposition": "auto",
         "type": "bar",
         "x": [
          2013,
          2018,
          2009,
          2016,
          2015,
          2011,
          2017,
          2012,
          2010,
          2014
         ],
         "xaxis": "x",
         "y": [
          773,
          766,
          766,
          765,
          761,
          759,
          742,
          741,
          734,
          717
         ],
         "yaxis": "y"
        }
       ],
       "layout": {
        "barmode": "relative",
        "legend": {
         "title": {
          "text": "state"
         },
         "tracegroupgap": 0
        },
        "margin": {
         "t": 60
        },
        "template": {
         "data": {
          "bar": [
           {
            "error_x": {
             "color": "#2a3f5f"
            },
            "error_y": {
             "color": "#2a3f5f"
            },
            "marker": {
             "line": {
              "color": "#E5ECF6",
              "width": 0.5
             }
            },
            "type": "bar"
           }
          ],
          "barpolar": [
           {
            "marker": {
             "line": {
              "color": "#E5ECF6",
              "width": 0.5
             }
            },
            "type": "barpolar"
           }
          ],
          "carpet": [
           {
            "aaxis": {
             "endlinecolor": "#2a3f5f",
             "gridcolor": "white",
             "linecolor": "white",
             "minorgridcolor": "white",
             "startlinecolor": "#2a3f5f"
            },
            "baxis": {
             "endlinecolor": "#2a3f5f",
             "gridcolor": "white",
             "linecolor": "white",
             "minorgridcolor": "white",
             "startlinecolor": "#2a3f5f"
            },
            "type": "carpet"
           }
          ],
          "choropleth": [
           {
            "colorbar": {
             "outlinewidth": 0,
             "ticks": ""
            },
            "type": "choropleth"
           }
          ],
          "contour": [
           {
            "colorbar": {
             "outlinewidth": 0,
             "ticks": ""
            },
            "colorscale": [
             [
              0,
              "#0d0887"
             ],
             [
              0.1111111111111111,
              "#46039f"
             ],
             [
              0.2222222222222222,
              "#7201a8"
             ],
             [
              0.3333333333333333,
              "#9c179e"
             ],
             [
              0.4444444444444444,
              "#bd3786"
             ],
             [
              0.5555555555555556,
              "#d8576b"
             ],
             [
              0.6666666666666666,
              "#ed7953"
             ],
             [
              0.7777777777777778,
              "#fb9f3a"
             ],
             [
              0.8888888888888888,
              "#fdca26"
             ],
             [
              1,
              "#f0f921"
             ]
            ],
            "type": "contour"
           }
          ],
          "contourcarpet": [
           {
            "colorbar": {
             "outlinewidth": 0,
             "ticks": ""
            },
            "type": "contourcarpet"
           }
          ],
          "heatmap": [
           {
            "colorbar": {
             "outlinewidth": 0,
             "ticks": ""
            },
            "colorscale": [
             [
              0,
              "#0d0887"
             ],
             [
              0.1111111111111111,
              "#46039f"
             ],
             [
              0.2222222222222222,
              "#7201a8"
             ],
             [
              0.3333333333333333,
              "#9c179e"
             ],
             [
              0.4444444444444444,
              "#bd3786"
             ],
             [
              0.5555555555555556,
              "#d8576b"
             ],
             [
              0.6666666666666666,
              "#ed7953"
             ],
             [
              0.7777777777777778,
              "#fb9f3a"
             ],
             [
              0.8888888888888888,
              "#fdca26"
             ],
             [
              1,
              "#f0f921"
             ]
            ],
            "type": "heatmap"
           }
          ],
          "heatmapgl": [
           {
            "colorbar": {
             "outlinewidth": 0,
             "ticks": ""
            },
            "colorscale": [
             [
              0,
              "#0d0887"
             ],
             [
              0.1111111111111111,
              "#46039f"
             ],
             [
              0.2222222222222222,
              "#7201a8"
             ],
             [
              0.3333333333333333,
              "#9c179e"
             ],
             [
              0.4444444444444444,
              "#bd3786"
             ],
             [
              0.5555555555555556,
              "#d8576b"
             ],
             [
              0.6666666666666666,
              "#ed7953"
             ],
             [
              0.7777777777777778,
              "#fb9f3a"
             ],
             [
              0.8888888888888888,
              "#fdca26"
             ],
             [
              1,
              "#f0f921"
             ]
            ],
            "type": "heatmapgl"
           }
          ],
          "histogram": [
           {
            "marker": {
             "colorbar": {
              "outlinewidth": 0,
              "ticks": ""
             }
            },
            "type": "histogram"
           }
          ],
          "histogram2d": [
           {
            "colorbar": {
             "outlinewidth": 0,
             "ticks": ""
            },
            "colorscale": [
             [
              0,
              "#0d0887"
             ],
             [
              0.1111111111111111,
              "#46039f"
             ],
             [
              0.2222222222222222,
              "#7201a8"
             ],
             [
              0.3333333333333333,
              "#9c179e"
             ],
             [
              0.4444444444444444,
              "#bd3786"
             ],
             [
              0.5555555555555556,
              "#d8576b"
             ],
             [
              0.6666666666666666,
              "#ed7953"
             ],
             [
              0.7777777777777778,
              "#fb9f3a"
             ],
             [
              0.8888888888888888,
              "#fdca26"
             ],
             [
              1,
              "#f0f921"
             ]
            ],
            "type": "histogram2d"
           }
          ],
          "histogram2dcontour": [
           {
            "colorbar": {
             "outlinewidth": 0,
             "ticks": ""
            },
            "colorscale": [
             [
              0,
              "#0d0887"
             ],
             [
              0.1111111111111111,
              "#46039f"
             ],
             [
              0.2222222222222222,
              "#7201a8"
             ],
             [
              0.3333333333333333,
              "#9c179e"
             ],
             [
              0.4444444444444444,
              "#bd3786"
             ],
             [
              0.5555555555555556,
              "#d8576b"
             ],
             [
              0.6666666666666666,
              "#ed7953"
             ],
             [
              0.7777777777777778,
              "#fb9f3a"
             ],
             [
              0.8888888888888888,
              "#fdca26"
             ],
             [
              1,
              "#f0f921"
             ]
            ],
            "type": "histogram2dcontour"
           }
          ],
          "mesh3d": [
           {
            "colorbar": {
             "outlinewidth": 0,
             "ticks": ""
            },
            "type": "mesh3d"
           }
          ],
          "parcoords": [
           {
            "line": {
             "colorbar": {
              "outlinewidth": 0,
              "ticks": ""
             }
            },
            "type": "parcoords"
           }
          ],
          "pie": [
           {
            "automargin": true,
            "type": "pie"
           }
          ],
          "scatter": [
           {
            "marker": {
             "colorbar": {
              "outlinewidth": 0,
              "ticks": ""
             }
            },
            "type": "scatter"
           }
          ],
          "scatter3d": [
           {
            "line": {
             "colorbar": {
              "outlinewidth": 0,
              "ticks": ""
             }
            },
            "marker": {
             "colorbar": {
              "outlinewidth": 0,
              "ticks": ""
             }
            },
            "type": "scatter3d"
           }
          ],
          "scattercarpet": [
           {
            "marker": {
             "colorbar": {
              "outlinewidth": 0,
              "ticks": ""
             }
            },
            "type": "scattercarpet"
           }
          ],
          "scattergeo": [
           {
            "marker": {
             "colorbar": {
              "outlinewidth": 0,
              "ticks": ""
             }
            },
            "type": "scattergeo"
           }
          ],
          "scattergl": [
           {
            "marker": {
             "colorbar": {
              "outlinewidth": 0,
              "ticks": ""
             }
            },
            "type": "scattergl"
           }
          ],
          "scattermapbox": [
           {
            "marker": {
             "colorbar": {
              "outlinewidth": 0,
              "ticks": ""
             }
            },
            "type": "scattermapbox"
           }
          ],
          "scatterpolar": [
           {
            "marker": {
             "colorbar": {
              "outlinewidth": 0,
              "ticks": ""
             }
            },
            "type": "scatterpolar"
           }
          ],
          "scatterpolargl": [
           {
            "marker": {
             "colorbar": {
              "outlinewidth": 0,
              "ticks": ""
             }
            },
            "type": "scatterpolargl"
           }
          ],
          "scatterternary": [
           {
            "marker": {
             "colorbar": {
              "outlinewidth": 0,
              "ticks": ""
             }
            },
            "type": "scatterternary"
           }
          ],
          "surface": [
           {
            "colorbar": {
             "outlinewidth": 0,
             "ticks": ""
            },
            "colorscale": [
             [
              0,
              "#0d0887"
             ],
             [
              0.1111111111111111,
              "#46039f"
             ],
             [
              0.2222222222222222,
              "#7201a8"
             ],
             [
              0.3333333333333333,
              "#9c179e"
             ],
             [
              0.4444444444444444,
              "#bd3786"
             ],
             [
              0.5555555555555556,
              "#d8576b"
             ],
             [
              0.6666666666666666,
              "#ed7953"
             ],
             [
              0.7777777777777778,
              "#fb9f3a"
             ],
             [
              0.8888888888888888,
              "#fdca26"
             ],
             [
              1,
              "#f0f921"
             ]
            ],
            "type": "surface"
           }
          ],
          "table": [
           {
            "cells": {
             "fill": {
              "color": "#EBF0F8"
             },
             "line": {
              "color": "white"
             }
            },
            "header": {
             "fill": {
              "color": "#C8D4E3"
             },
             "line": {
              "color": "white"
             }
            },
            "type": "table"
           }
          ]
         },
         "layout": {
          "annotationdefaults": {
           "arrowcolor": "#2a3f5f",
           "arrowhead": 0,
           "arrowwidth": 1
          },
          "autotypenumbers": "strict",
          "coloraxis": {
           "colorbar": {
            "outlinewidth": 0,
            "ticks": ""
           }
          },
          "colorscale": {
           "diverging": [
            [
             0,
             "#8e0152"
            ],
            [
             0.1,
             "#c51b7d"
            ],
            [
             0.2,
             "#de77ae"
            ],
            [
             0.3,
             "#f1b6da"
            ],
            [
             0.4,
             "#fde0ef"
            ],
            [
             0.5,
             "#f7f7f7"
            ],
            [
             0.6,
             "#e6f5d0"
            ],
            [
             0.7,
             "#b8e186"
            ],
            [
             0.8,
             "#7fbc41"
            ],
            [
             0.9,
             "#4d9221"
            ],
            [
             1,
             "#276419"
            ]
           ],
           "sequential": [
            [
             0,
             "#0d0887"
            ],
            [
             0.1111111111111111,
             "#46039f"
            ],
            [
             0.2222222222222222,
             "#7201a8"
            ],
            [
             0.3333333333333333,
             "#9c179e"
            ],
            [
             0.4444444444444444,
             "#bd3786"
            ],
            [
             0.5555555555555556,
             "#d8576b"
            ],
            [
             0.6666666666666666,
             "#ed7953"
            ],
            [
             0.7777777777777778,
             "#fb9f3a"
            ],
            [
             0.8888888888888888,
             "#fdca26"
            ],
            [
             1,
             "#f0f921"
            ]
           ],
           "sequentialminus": [
            [
             0,
             "#0d0887"
            ],
            [
             0.1111111111111111,
             "#46039f"
            ],
            [
             0.2222222222222222,
             "#7201a8"
            ],
            [
             0.3333333333333333,
             "#9c179e"
            ],
            [
             0.4444444444444444,
             "#bd3786"
            ],
            [
             0.5555555555555556,
             "#d8576b"
            ],
            [
             0.6666666666666666,
             "#ed7953"
            ],
            [
             0.7777777777777778,
             "#fb9f3a"
            ],
            [
             0.8888888888888888,
             "#fdca26"
            ],
            [
             1,
             "#f0f921"
            ]
           ]
          },
          "colorway": [
           "#636efa",
           "#EF553B",
           "#00cc96",
           "#ab63fa",
           "#FFA15A",
           "#19d3f3",
           "#FF6692",
           "#B6E880",
           "#FF97FF",
           "#FECB52"
          ],
          "font": {
           "color": "#2a3f5f"
          },
          "geo": {
           "bgcolor": "white",
           "lakecolor": "white",
           "landcolor": "#E5ECF6",
           "showlakes": true,
           "showland": true,
           "subunitcolor": "white"
          },
          "hoverlabel": {
           "align": "left"
          },
          "hovermode": "closest",
          "mapbox": {
           "style": "light"
          },
          "paper_bgcolor": "white",
          "plot_bgcolor": "#E5ECF6",
          "polar": {
           "angularaxis": {
            "gridcolor": "white",
            "linecolor": "white",
            "ticks": ""
           },
           "bgcolor": "#E5ECF6",
           "radialaxis": {
            "gridcolor": "white",
            "linecolor": "white",
            "ticks": ""
           }
          },
          "scene": {
           "xaxis": {
            "backgroundcolor": "#E5ECF6",
            "gridcolor": "white",
            "gridwidth": 2,
            "linecolor": "white",
            "showbackground": true,
            "ticks": "",
            "zerolinecolor": "white"
           },
           "yaxis": {
            "backgroundcolor": "#E5ECF6",
            "gridcolor": "white",
            "gridwidth": 2,
            "linecolor": "white",
            "showbackground": true,
            "ticks": "",
            "zerolinecolor": "white"
           },
           "zaxis": {
            "backgroundcolor": "#E5ECF6",
            "gridcolor": "white",
            "gridwidth": 2,
            "linecolor": "white",
            "showbackground": true,
            "ticks": "",
            "zerolinecolor": "white"
           }
          },
          "shapedefaults": {
           "line": {
            "color": "#2a3f5f"
           }
          },
          "ternary": {
           "aaxis": {
            "gridcolor": "white",
            "linecolor": "white",
            "ticks": ""
           },
           "baxis": {
            "gridcolor": "white",
            "linecolor": "white",
            "ticks": ""
           },
           "bgcolor": "#E5ECF6",
           "caxis": {
            "gridcolor": "white",
            "linecolor": "white",
            "ticks": ""
           }
          },
          "title": {
           "x": 0.05
          },
          "xaxis": {
           "automargin": true,
           "gridcolor": "white",
           "linecolor": "white",
           "ticks": "",
           "title": {
            "standoff": 15
           },
           "zerolinecolor": "white",
           "zerolinewidth": 2
          },
          "yaxis": {
           "automargin": true,
           "gridcolor": "white",
           "linecolor": "white",
           "ticks": "",
           "title": {
            "standoff": 15
           },
           "zerolinecolor": "white",
           "zerolinewidth": 2
          }
         }
        },
        "xaxis": {
         "anchor": "y",
         "domain": [
          0,
          1
         ],
         "title": {
          "text": "report_year"
         }
        },
        "yaxis": {
         "anchor": "x",
         "domain": [
          0,
          1
         ],
         "title": {
          "text": "Number of Patients"
         }
        }
       }
      },
      "text/html": [
       "<div>                            <div id=\"e16b52a9-7931-41a9-98e8-2c43db63cae1\" class=\"plotly-graph-div\" style=\"height:525px; width:100%;\"></div>            <script type=\"text/javascript\">                require([\"plotly\"], function(Plotly) {                    window.PLOTLYENV=window.PLOTLYENV || {};                                    if (document.getElementById(\"e16b52a9-7931-41a9-98e8-2c43db63cae1\")) {                    Plotly.newPlot(                        \"e16b52a9-7931-41a9-98e8-2c43db63cae1\",                        [{\"alignmentgroup\": \"True\", \"hovertemplate\": \"state=Niger<br>report_year=%{x}<br>Number of Patients=%{y}<extra></extra>\", \"legendgroup\": \"Niger\", \"marker\": {\"color\": \"#636efa\"}, \"name\": \"Niger\", \"offsetgroup\": \"Niger\", \"orientation\": \"v\", \"showlegend\": true, \"textposition\": \"auto\", \"type\": \"bar\", \"x\": [2013, 2017, 2012, 2014, 2016, 2010, 2015, 2011, 2009, 2018], \"xaxis\": \"x\", \"y\": [856, 837, 809, 800, 788, 761, 754, 752, 745, 740], \"yaxis\": \"y\"}, {\"alignmentgroup\": \"True\", \"hovertemplate\": \"state=Rivers<br>report_year=%{x}<br>Number of Patients=%{y}<extra></extra>\", \"legendgroup\": \"Rivers\", \"marker\": {\"color\": \"#EF553B\"}, \"name\": \"Rivers\", \"offsetgroup\": \"Rivers\", \"orientation\": \"v\", \"showlegend\": true, \"textposition\": \"auto\", \"type\": \"bar\", \"x\": [2012, 2009, 2014, 2010, 2016, 2018, 2011, 2015, 2017, 2013], \"xaxis\": \"x\", \"y\": [853, 791, 784, 783, 768, 744, 743, 738, 734, 704], \"yaxis\": \"y\"}, {\"alignmentgroup\": \"True\", \"hovertemplate\": \"state=Sokoto<br>report_year=%{x}<br>Number of Patients=%{y}<extra></extra>\", \"legendgroup\": \"Sokoto\", \"marker\": {\"color\": \"#00cc96\"}, \"name\": \"Sokoto\", \"offsetgroup\": \"Sokoto\", \"orientation\": \"v\", \"showlegend\": true, \"textposition\": \"auto\", \"type\": \"bar\", \"x\": [2009, 2017, 2016, 2010, 2018, 2013, 2012, 2011, 2014, 2015], \"xaxis\": \"x\", \"y\": [830, 803, 785, 780, 778, 768, 760, 756, 745, 686], \"yaxis\": \"y\"}, {\"alignmentgroup\": \"True\", \"hovertemplate\": \"state=Kwara<br>report_year=%{x}<br>Number of Patients=%{y}<extra></extra>\", \"legendgroup\": \"Kwara\", \"marker\": {\"color\": \"#ab63fa\"}, \"name\": \"Kwara\", \"offsetgroup\": \"Kwara\", \"orientation\": \"v\", \"showlegend\": true, \"textposition\": \"auto\", \"type\": \"bar\", \"x\": [2011, 2010, 2013, 2016, 2014, 2015, 2012, 2009, 2017, 2018], \"xaxis\": \"x\", \"y\": [824, 817, 815, 788, 765, 755, 752, 747, 732, 731], \"yaxis\": \"y\"}, {\"alignmentgroup\": \"True\", \"hovertemplate\": \"state=Bayelsa<br>report_year=%{x}<br>Number of Patients=%{y}<extra></extra>\", \"legendgroup\": \"Bayelsa\", \"marker\": {\"color\": \"#FFA15A\"}, \"name\": \"Bayelsa\", \"offsetgroup\": \"Bayelsa\", \"orientation\": \"v\", \"showlegend\": true, \"textposition\": \"auto\", \"type\": \"bar\", \"x\": [2013, 2014, 2009, 2011, 2016, 2017, 2012, 2010, 2015, 2018], \"xaxis\": \"x\", \"y\": [822, 811, 802, 792, 782, 777, 762, 761, 747, 741], \"yaxis\": \"y\"}, {\"alignmentgroup\": \"True\", \"hovertemplate\": \"state=Ondo<br>report_year=%{x}<br>Number of Patients=%{y}<extra></extra>\", \"legendgroup\": \"Ondo\", \"marker\": {\"color\": \"#19d3f3\"}, \"name\": \"Ondo\", \"offsetgroup\": \"Ondo\", \"orientation\": \"v\", \"showlegend\": true, \"textposition\": \"auto\", \"type\": \"bar\", \"x\": [2018, 2011, 2009, 2013, 2015, 2012, 2010, 2017, 2016, 2014], \"xaxis\": \"x\", \"y\": [821, 817, 800, 790, 779, 773, 770, 766, 761, 758], \"yaxis\": \"y\"}, {\"alignmentgroup\": \"True\", \"hovertemplate\": \"state=Enugu<br>report_year=%{x}<br>Number of Patients=%{y}<extra></extra>\", \"legendgroup\": \"Enugu\", \"marker\": {\"color\": \"#FF6692\"}, \"name\": \"Enugu\", \"offsetgroup\": \"Enugu\", \"orientation\": \"v\", \"showlegend\": true, \"textposition\": \"auto\", \"type\": \"bar\", \"x\": [2017, 2013, 2018, 2015, 2010, 2012, 2016, 2009, 2011, 2014], \"xaxis\": \"x\", \"y\": [821, 809, 791, 780, 775, 770, 751, 749, 745, 731], \"yaxis\": \"y\"}, {\"alignmentgroup\": \"True\", \"hovertemplate\": \"state=Abia<br>report_year=%{x}<br>Number of Patients=%{y}<extra></extra>\", \"legendgroup\": \"Abia\", \"marker\": {\"color\": \"#B6E880\"}, \"name\": \"Abia\", \"offsetgroup\": \"Abia\", \"orientation\": \"v\", \"showlegend\": true, \"textposition\": \"auto\", \"type\": \"bar\", \"x\": [2009, 2015, 2016, 2013, 2010, 2012, 2014, 2017, 2018, 2011], \"xaxis\": \"x\", \"y\": [821, 792, 788, 774, 763, 763, 752, 751, 747, 746], \"yaxis\": \"y\"}, {\"alignmentgroup\": \"True\", \"hovertemplate\": \"state=Federal Capital Territory<br>report_year=%{x}<br>Number of Patients=%{y}<extra></extra>\", \"legendgroup\": \"Federal Capital Territory\", \"marker\": {\"color\": \"#FF97FF\"}, \"name\": \"Federal Capital Territory\", \"offsetgroup\": \"Federal Capital Territory\", \"orientation\": \"v\", \"showlegend\": true, \"textposition\": \"auto\", \"type\": \"bar\", \"x\": [2010, 2009, 2016, 2013, 2017, 2015, 2012, 2018, 2011, 2014], \"xaxis\": \"x\", \"y\": [817, 799, 784, 784, 772, 759, 753, 743, 729, 723], \"yaxis\": \"y\"}, {\"alignmentgroup\": \"True\", \"hovertemplate\": \"state=Akwa Ibom<br>report_year=%{x}<br>Number of Patients=%{y}<extra></extra>\", \"legendgroup\": \"Akwa Ibom\", \"marker\": {\"color\": \"#FECB52\"}, \"name\": \"Akwa Ibom\", \"offsetgroup\": \"Akwa Ibom\", \"orientation\": \"v\", \"showlegend\": true, \"textposition\": \"auto\", \"type\": \"bar\", \"x\": [2012, 2017, 2014, 2011, 2009, 2018, 2010, 2016, 2015, 2013], \"xaxis\": \"x\", \"y\": [816, 795, 783, 763, 759, 751, 750, 741, 740, 723], \"yaxis\": \"y\"}, {\"alignmentgroup\": \"True\", \"hovertemplate\": \"state=Ebonyi<br>report_year=%{x}<br>Number of Patients=%{y}<extra></extra>\", \"legendgroup\": \"Ebonyi\", \"marker\": {\"color\": \"#636efa\"}, \"name\": \"Ebonyi\", \"offsetgroup\": \"Ebonyi\", \"orientation\": \"v\", \"showlegend\": true, \"textposition\": \"auto\", \"type\": \"bar\", \"x\": [2013, 2009, 2010, 2011, 2015, 2018, 2014, 2017, 2012, 2016], \"xaxis\": \"x\", \"y\": [815, 799, 791, 780, 778, 776, 771, 766, 755, 716], \"yaxis\": \"y\"}, {\"alignmentgroup\": \"True\", \"hovertemplate\": \"state=Plateau<br>report_year=%{x}<br>Number of Patients=%{y}<extra></extra>\", \"legendgroup\": \"Plateau\", \"marker\": {\"color\": \"#EF553B\"}, \"name\": \"Plateau\", \"offsetgroup\": \"Plateau\", \"orientation\": \"v\", \"showlegend\": true, \"textposition\": \"auto\", \"type\": \"bar\", \"x\": [2016, 2012, 2009, 2017, 2010, 2015, 2013, 2018, 2011, 2014], \"xaxis\": \"x\", \"y\": [814, 799, 782, 757, 751, 750, 744, 729, 716, 703], \"yaxis\": \"y\"}, {\"alignmentgroup\": \"True\", \"hovertemplate\": \"state=Imo<br>report_year=%{x}<br>Number of Patients=%{y}<extra></extra>\", \"legendgroup\": \"Imo\", \"marker\": {\"color\": \"#00cc96\"}, \"name\": \"Imo\", \"offsetgroup\": \"Imo\", \"orientation\": \"v\", \"showlegend\": true, \"textposition\": \"auto\", \"type\": \"bar\", \"x\": [2010, 2015, 2017, 2013, 2012, 2009, 2014, 2011, 2016, 2018], \"xaxis\": \"x\", \"y\": [814, 806, 800, 790, 789, 764, 762, 759, 753, 746], \"yaxis\": \"y\"}, {\"alignmentgroup\": \"True\", \"hovertemplate\": \"state=Kebbi<br>report_year=%{x}<br>Number of Patients=%{y}<extra></extra>\", \"legendgroup\": \"Kebbi\", \"marker\": {\"color\": \"#ab63fa\"}, \"name\": \"Kebbi\", \"offsetgroup\": \"Kebbi\", \"orientation\": \"v\", \"showlegend\": true, \"textposition\": \"auto\", \"type\": \"bar\", \"x\": [2015, 2014, 2009, 2013, 2018, 2010, 2011, 2016, 2017, 2012], \"xaxis\": \"x\", \"y\": [812, 793, 781, 777, 776, 776, 775, 770, 769, 735], \"yaxis\": \"y\"}, {\"alignmentgroup\": \"True\", \"hovertemplate\": \"state=Benue<br>report_year=%{x}<br>Number of Patients=%{y}<extra></extra>\", \"legendgroup\": \"Benue\", \"marker\": {\"color\": \"#FFA15A\"}, \"name\": \"Benue\", \"offsetgroup\": \"Benue\", \"orientation\": \"v\", \"showlegend\": true, \"textposition\": \"auto\", \"type\": \"bar\", \"x\": [2018, 2010, 2016, 2017, 2014, 2011, 2013, 2015, 2009, 2012], \"xaxis\": \"x\", \"y\": [811, 802, 798, 788, 786, 781, 775, 762, 755, 718], \"yaxis\": \"y\"}, {\"alignmentgroup\": \"True\", \"hovertemplate\": \"state=Adamawa<br>report_year=%{x}<br>Number of Patients=%{y}<extra></extra>\", \"legendgroup\": \"Adamawa\", \"marker\": {\"color\": \"#19d3f3\"}, \"name\": \"Adamawa\", \"offsetgroup\": \"Adamawa\", \"orientation\": \"v\", \"showlegend\": true, \"textposition\": \"auto\", \"type\": \"bar\", \"x\": [2015, 2012, 2018, 2013, 2011, 2016, 2009, 2010, 2014, 2017], \"xaxis\": \"x\", \"y\": [811, 787, 785, 779, 778, 753, 753, 752, 748, 742], \"yaxis\": \"y\"}, {\"alignmentgroup\": \"True\", \"hovertemplate\": \"state=Anambra<br>report_year=%{x}<br>Number of Patients=%{y}<extra></extra>\", \"legendgroup\": \"Anambra\", \"marker\": {\"color\": \"#FF6692\"}, \"name\": \"Anambra\", \"offsetgroup\": \"Anambra\", \"orientation\": \"v\", \"showlegend\": true, \"textposition\": \"auto\", \"type\": \"bar\", \"x\": [2015, 2009, 2017, 2018, 2014, 2010, 2012, 2011, 2016, 2013], \"xaxis\": \"x\", \"y\": [809, 788, 785, 779, 779, 778, 767, 764, 736, 725], \"yaxis\": \"y\"}, {\"alignmentgroup\": \"True\", \"hovertemplate\": \"state=Kogi<br>report_year=%{x}<br>Number of Patients=%{y}<extra></extra>\", \"legendgroup\": \"Kogi\", \"marker\": {\"color\": \"#B6E880\"}, \"name\": \"Kogi\", \"offsetgroup\": \"Kogi\", \"orientation\": \"v\", \"showlegend\": true, \"textposition\": \"auto\", \"type\": \"bar\", \"x\": [2016, 2015, 2018, 2017, 2014, 2013, 2010, 2011, 2009, 2012], \"xaxis\": \"x\", \"y\": [808, 806, 806, 796, 784, 742, 742, 741, 730, 707], \"yaxis\": \"y\"}, {\"alignmentgroup\": \"True\", \"hovertemplate\": \"state=Yobe<br>report_year=%{x}<br>Number of Patients=%{y}<extra></extra>\", \"legendgroup\": \"Yobe\", \"marker\": {\"color\": \"#FF97FF\"}, \"name\": \"Yobe\", \"offsetgroup\": \"Yobe\", \"orientation\": \"v\", \"showlegend\": true, \"textposition\": \"auto\", \"type\": \"bar\", \"x\": [2015, 2018, 2012, 2016, 2013, 2009, 2014, 2011, 2017, 2010], \"xaxis\": \"x\", \"y\": [807, 805, 792, 792, 781, 779, 775, 753, 743, 733], \"yaxis\": \"y\"}, {\"alignmentgroup\": \"True\", \"hovertemplate\": \"state=Ogun<br>report_year=%{x}<br>Number of Patients=%{y}<extra></extra>\", \"legendgroup\": \"Ogun\", \"marker\": {\"color\": \"#FECB52\"}, \"name\": \"Ogun\", \"offsetgroup\": \"Ogun\", \"orientation\": \"v\", \"showlegend\": true, \"textposition\": \"auto\", \"type\": \"bar\", \"x\": [2010, 2016, 2014, 2015, 2011, 2018, 2012, 2013, 2017, 2009], \"xaxis\": \"x\", \"y\": [807, 790, 773, 772, 768, 764, 761, 753, 750, 723], \"yaxis\": \"y\"}, {\"alignmentgroup\": \"True\", \"hovertemplate\": \"state=Kano<br>report_year=%{x}<br>Number of Patients=%{y}<extra></extra>\", \"legendgroup\": \"Kano\", \"marker\": {\"color\": \"#636efa\"}, \"name\": \"Kano\", \"offsetgroup\": \"Kano\", \"orientation\": \"v\", \"showlegend\": true, \"textposition\": \"auto\", \"type\": \"bar\", \"x\": [2012, 2013, 2017, 2014, 2016, 2010, 2009, 2018, 2015, 2011], \"xaxis\": \"x\", \"y\": [806, 804, 801, 798, 790, 786, 766, 762, 758, 751], \"yaxis\": \"y\"}, {\"alignmentgroup\": \"True\", \"hovertemplate\": \"state=Nasarawa<br>report_year=%{x}<br>Number of Patients=%{y}<extra></extra>\", \"legendgroup\": \"Nasarawa\", \"marker\": {\"color\": \"#EF553B\"}, \"name\": \"Nasarawa\", \"offsetgroup\": \"Nasarawa\", \"orientation\": \"v\", \"showlegend\": true, \"textposition\": \"auto\", \"type\": \"bar\", \"x\": [2013, 2011, 2012, 2018, 2010, 2017, 2016, 2014, 2009, 2015], \"xaxis\": \"x\", \"y\": [805, 796, 796, 795, 789, 783, 774, 738, 731, 721], \"yaxis\": \"y\"}, {\"alignmentgroup\": \"True\", \"hovertemplate\": \"state=Gombe<br>report_year=%{x}<br>Number of Patients=%{y}<extra></extra>\", \"legendgroup\": \"Gombe\", \"marker\": {\"color\": \"#00cc96\"}, \"name\": \"Gombe\", \"offsetgroup\": \"Gombe\", \"orientation\": \"v\", \"showlegend\": true, \"textposition\": \"auto\", \"type\": \"bar\", \"x\": [2016, 2014, 2018, 2013, 2017, 2009, 2011, 2012, 2010, 2015], \"xaxis\": \"x\", \"y\": [804, 787, 786, 780, 768, 761, 760, 746, 740, 725], \"yaxis\": \"y\"}, {\"alignmentgroup\": \"True\", \"hovertemplate\": \"state=Osun<br>report_year=%{x}<br>Number of Patients=%{y}<extra></extra>\", \"legendgroup\": \"Osun\", \"marker\": {\"color\": \"#ab63fa\"}, \"name\": \"Osun\", \"offsetgroup\": \"Osun\", \"orientation\": \"v\", \"showlegend\": true, \"textposition\": \"auto\", \"type\": \"bar\", \"x\": [2013, 2016, 2010, 2012, 2014, 2015, 2017, 2018, 2011, 2009], \"xaxis\": \"x\", \"y\": [804, 803, 794, 792, 789, 784, 760, 754, 726, 720], \"yaxis\": \"y\"}, {\"alignmentgroup\": \"True\", \"hovertemplate\": \"state=Taraba<br>report_year=%{x}<br>Number of Patients=%{y}<extra></extra>\", \"legendgroup\": \"Taraba\", \"marker\": {\"color\": \"#FFA15A\"}, \"name\": \"Taraba\", \"offsetgroup\": \"Taraba\", \"orientation\": \"v\", \"showlegend\": true, \"textposition\": \"auto\", \"type\": \"bar\", \"x\": [2009, 2010, 2015, 2016, 2011, 2013, 2014, 2017, 2012, 2018], \"xaxis\": \"x\", \"y\": [804, 766, 765, 763, 758, 754, 749, 737, 735, 729], \"yaxis\": \"y\"}, {\"alignmentgroup\": \"True\", \"hovertemplate\": \"state=Kaduna<br>report_year=%{x}<br>Number of Patients=%{y}<extra></extra>\", \"legendgroup\": \"Kaduna\", \"marker\": {\"color\": \"#19d3f3\"}, \"name\": \"Kaduna\", \"offsetgroup\": \"Kaduna\", \"orientation\": \"v\", \"showlegend\": true, \"textposition\": \"auto\", \"type\": \"bar\", \"x\": [2014, 2012, 2010, 2013, 2015, 2017, 2016, 2011, 2018, 2009], \"xaxis\": \"x\", \"y\": [801, 796, 789, 787, 776, 774, 763, 759, 755, 754], \"yaxis\": \"y\"}, {\"alignmentgroup\": \"True\", \"hovertemplate\": \"state=Borno<br>report_year=%{x}<br>Number of Patients=%{y}<extra></extra>\", \"legendgroup\": \"Borno\", \"marker\": {\"color\": \"#FF6692\"}, \"name\": \"Borno\", \"offsetgroup\": \"Borno\", \"orientation\": \"v\", \"showlegend\": true, \"textposition\": \"auto\", \"type\": \"bar\", \"x\": [2014, 2017, 2015, 2018, 2010, 2013, 2011, 2016, 2012, 2009], \"xaxis\": \"x\", \"y\": [800, 774, 764, 762, 762, 758, 757, 736, 727, 724], \"yaxis\": \"y\"}, {\"alignmentgroup\": \"True\", \"hovertemplate\": \"state=Delta<br>report_year=%{x}<br>Number of Patients=%{y}<extra></extra>\", \"legendgroup\": \"Delta\", \"marker\": {\"color\": \"#B6E880\"}, \"name\": \"Delta\", \"offsetgroup\": \"Delta\", \"orientation\": \"v\", \"showlegend\": true, \"textposition\": \"auto\", \"type\": \"bar\", \"x\": [2016, 2018, 2010, 2012, 2011, 2017, 2013, 2014, 2009, 2015], \"xaxis\": \"x\", \"y\": [797, 795, 791, 780, 770, 759, 758, 747, 744, 737], \"yaxis\": \"y\"}, {\"alignmentgroup\": \"True\", \"hovertemplate\": \"state=Oyo<br>report_year=%{x}<br>Number of Patients=%{y}<extra></extra>\", \"legendgroup\": \"Oyo\", \"marker\": {\"color\": \"#FF97FF\"}, \"name\": \"Oyo\", \"offsetgroup\": \"Oyo\", \"orientation\": \"v\", \"showlegend\": true, \"textposition\": \"auto\", \"type\": \"bar\", \"x\": [2015, 2014, 2010, 2012, 2013, 2018, 2011, 2016, 2017, 2009], \"xaxis\": \"x\", \"y\": [797, 794, 793, 786, 780, 778, 764, 759, 745, 728], \"yaxis\": \"y\"}, {\"alignmentgroup\": \"True\", \"hovertemplate\": \"state=Zamfara<br>report_year=%{x}<br>Number of Patients=%{y}<extra></extra>\", \"legendgroup\": \"Zamfara\", \"marker\": {\"color\": \"#FECB52\"}, \"name\": \"Zamfara\", \"offsetgroup\": \"Zamfara\", \"orientation\": \"v\", \"showlegend\": true, \"textposition\": \"auto\", \"type\": \"bar\", \"x\": [2018, 2014, 2017, 2016, 2012, 2009, 2011, 2010, 2015, 2013], \"xaxis\": \"x\", \"y\": [795, 787, 786, 782, 763, 760, 755, 742, 740, 722], \"yaxis\": \"y\"}, {\"alignmentgroup\": \"True\", \"hovertemplate\": \"state=Lagos<br>report_year=%{x}<br>Number of Patients=%{y}<extra></extra>\", \"legendgroup\": \"Lagos\", \"marker\": {\"color\": \"#636efa\"}, \"name\": \"Lagos\", \"offsetgroup\": \"Lagos\", \"orientation\": \"v\", \"showlegend\": true, \"textposition\": \"auto\", \"type\": \"bar\", \"x\": [2016, 2018, 2010, 2013, 2017, 2009, 2015, 2012, 2014, 2011], \"xaxis\": \"x\", \"y\": [792, 785, 783, 783, 773, 769, 754, 748, 746, 726], \"yaxis\": \"y\"}, {\"alignmentgroup\": \"True\", \"hovertemplate\": \"state=Edo<br>report_year=%{x}<br>Number of Patients=%{y}<extra></extra>\", \"legendgroup\": \"Edo\", \"marker\": {\"color\": \"#EF553B\"}, \"name\": \"Edo\", \"offsetgroup\": \"Edo\", \"orientation\": \"v\", \"showlegend\": true, \"textposition\": \"auto\", \"type\": \"bar\", \"x\": [2013, 2010, 2012, 2016, 2011, 2009, 2015, 2014, 2017, 2018], \"xaxis\": \"x\", \"y\": [791, 781, 769, 766, 760, 758, 748, 748, 740, 735], \"yaxis\": \"y\"}, {\"alignmentgroup\": \"True\", \"hovertemplate\": \"state=Bauchi<br>report_year=%{x}<br>Number of Patients=%{y}<extra></extra>\", \"legendgroup\": \"Bauchi\", \"marker\": {\"color\": \"#00cc96\"}, \"name\": \"Bauchi\", \"offsetgroup\": \"Bauchi\", \"orientation\": \"v\", \"showlegend\": true, \"textposition\": \"auto\", \"type\": \"bar\", \"x\": [2016, 2017, 2018, 2013, 2009, 2011, 2015, 2014, 2012, 2010], \"xaxis\": \"x\", \"y\": [789, 781, 780, 775, 772, 763, 760, 758, 747, 740], \"yaxis\": \"y\"}, {\"alignmentgroup\": \"True\", \"hovertemplate\": \"state=Jigawa<br>report_year=%{x}<br>Number of Patients=%{y}<extra></extra>\", \"legendgroup\": \"Jigawa\", \"marker\": {\"color\": \"#ab63fa\"}, \"name\": \"Jigawa\", \"offsetgroup\": \"Jigawa\", \"orientation\": \"v\", \"showlegend\": true, \"textposition\": \"auto\", \"type\": \"bar\", \"x\": [2016, 2010, 2009, 2013, 2011, 2015, 2012, 2017, 2014, 2018], \"xaxis\": \"x\", \"y\": [788, 788, 784, 784, 784, 779, 767, 758, 753, 719], \"yaxis\": \"y\"}, {\"alignmentgroup\": \"True\", \"hovertemplate\": \"state=Ekiti<br>report_year=%{x}<br>Number of Patients=%{y}<extra></extra>\", \"legendgroup\": \"Ekiti\", \"marker\": {\"color\": \"#FFA15A\"}, \"name\": \"Ekiti\", \"offsetgroup\": \"Ekiti\", \"orientation\": \"v\", \"showlegend\": true, \"textposition\": \"auto\", \"type\": \"bar\", \"x\": [2013, 2018, 2014, 2017, 2016, 2010, 2011, 2012, 2015, 2009], \"xaxis\": \"x\", \"y\": [788, 786, 775, 770, 769, 759, 743, 734, 719, 717], \"yaxis\": \"y\"}, {\"alignmentgroup\": \"True\", \"hovertemplate\": \"state=Katsina<br>report_year=%{x}<br>Number of Patients=%{y}<extra></extra>\", \"legendgroup\": \"Katsina\", \"marker\": {\"color\": \"#19d3f3\"}, \"name\": \"Katsina\", \"offsetgroup\": \"Katsina\", \"orientation\": \"v\", \"showlegend\": true, \"textposition\": \"auto\", \"type\": \"bar\", \"x\": [2017, 2018, 2012, 2011, 2013, 2009, 2010, 2014, 2016, 2015], \"xaxis\": \"x\", \"y\": [783, 782, 777, 774, 773, 762, 743, 742, 732, 731], \"yaxis\": \"y\"}, {\"alignmentgroup\": \"True\", \"hovertemplate\": \"state=Cross River<br>report_year=%{x}<br>Number of Patients=%{y}<extra></extra>\", \"legendgroup\": \"Cross River\", \"marker\": {\"color\": \"#FF6692\"}, \"name\": \"Cross River\", \"offsetgroup\": \"Cross River\", \"orientation\": \"v\", \"showlegend\": true, \"textposition\": \"auto\", \"type\": \"bar\", \"x\": [2013, 2018, 2009, 2016, 2015, 2011, 2017, 2012, 2010, 2014], \"xaxis\": \"x\", \"y\": [773, 766, 766, 765, 761, 759, 742, 741, 734, 717], \"yaxis\": \"y\"}],                        {\"barmode\": \"relative\", \"legend\": {\"title\": {\"text\": \"state\"}, \"tracegroupgap\": 0}, \"margin\": {\"t\": 60}, \"template\": {\"data\": {\"bar\": [{\"error_x\": {\"color\": \"#2a3f5f\"}, \"error_y\": {\"color\": \"#2a3f5f\"}, \"marker\": {\"line\": {\"color\": \"#E5ECF6\", \"width\": 0.5}}, \"type\": \"bar\"}], \"barpolar\": [{\"marker\": {\"line\": {\"color\": \"#E5ECF6\", \"width\": 0.5}}, \"type\": \"barpolar\"}], \"carpet\": [{\"aaxis\": {\"endlinecolor\": \"#2a3f5f\", \"gridcolor\": \"white\", \"linecolor\": \"white\", \"minorgridcolor\": \"white\", \"startlinecolor\": \"#2a3f5f\"}, \"baxis\": {\"endlinecolor\": \"#2a3f5f\", \"gridcolor\": \"white\", \"linecolor\": \"white\", \"minorgridcolor\": \"white\", \"startlinecolor\": \"#2a3f5f\"}, \"type\": \"carpet\"}], \"choropleth\": [{\"colorbar\": {\"outlinewidth\": 0, \"ticks\": \"\"}, \"type\": \"choropleth\"}], \"contour\": [{\"colorbar\": {\"outlinewidth\": 0, \"ticks\": \"\"}, \"colorscale\": [[0.0, \"#0d0887\"], [0.1111111111111111, \"#46039f\"], [0.2222222222222222, \"#7201a8\"], [0.3333333333333333, \"#9c179e\"], [0.4444444444444444, \"#bd3786\"], [0.5555555555555556, \"#d8576b\"], [0.6666666666666666, \"#ed7953\"], [0.7777777777777778, \"#fb9f3a\"], [0.8888888888888888, \"#fdca26\"], [1.0, \"#f0f921\"]], \"type\": \"contour\"}], \"contourcarpet\": [{\"colorbar\": {\"outlinewidth\": 0, \"ticks\": \"\"}, \"type\": \"contourcarpet\"}], \"heatmap\": [{\"colorbar\": {\"outlinewidth\": 0, \"ticks\": \"\"}, \"colorscale\": [[0.0, \"#0d0887\"], [0.1111111111111111, \"#46039f\"], [0.2222222222222222, \"#7201a8\"], [0.3333333333333333, \"#9c179e\"], [0.4444444444444444, \"#bd3786\"], [0.5555555555555556, \"#d8576b\"], [0.6666666666666666, \"#ed7953\"], [0.7777777777777778, \"#fb9f3a\"], [0.8888888888888888, \"#fdca26\"], [1.0, \"#f0f921\"]], \"type\": \"heatmap\"}], \"heatmapgl\": [{\"colorbar\": {\"outlinewidth\": 0, \"ticks\": \"\"}, \"colorscale\": [[0.0, \"#0d0887\"], [0.1111111111111111, \"#46039f\"], [0.2222222222222222, \"#7201a8\"], [0.3333333333333333, \"#9c179e\"], [0.4444444444444444, \"#bd3786\"], [0.5555555555555556, \"#d8576b\"], [0.6666666666666666, \"#ed7953\"], [0.7777777777777778, \"#fb9f3a\"], [0.8888888888888888, \"#fdca26\"], [1.0, \"#f0f921\"]], \"type\": \"heatmapgl\"}], \"histogram\": [{\"marker\": {\"colorbar\": {\"outlinewidth\": 0, \"ticks\": \"\"}}, \"type\": \"histogram\"}], \"histogram2d\": [{\"colorbar\": {\"outlinewidth\": 0, \"ticks\": \"\"}, \"colorscale\": [[0.0, \"#0d0887\"], [0.1111111111111111, \"#46039f\"], [0.2222222222222222, \"#7201a8\"], [0.3333333333333333, \"#9c179e\"], [0.4444444444444444, \"#bd3786\"], [0.5555555555555556, \"#d8576b\"], [0.6666666666666666, \"#ed7953\"], [0.7777777777777778, \"#fb9f3a\"], [0.8888888888888888, \"#fdca26\"], [1.0, \"#f0f921\"]], \"type\": \"histogram2d\"}], \"histogram2dcontour\": [{\"colorbar\": {\"outlinewidth\": 0, \"ticks\": \"\"}, \"colorscale\": [[0.0, \"#0d0887\"], [0.1111111111111111, \"#46039f\"], [0.2222222222222222, \"#7201a8\"], [0.3333333333333333, \"#9c179e\"], [0.4444444444444444, \"#bd3786\"], [0.5555555555555556, \"#d8576b\"], [0.6666666666666666, \"#ed7953\"], [0.7777777777777778, \"#fb9f3a\"], [0.8888888888888888, \"#fdca26\"], [1.0, \"#f0f921\"]], \"type\": \"histogram2dcontour\"}], \"mesh3d\": [{\"colorbar\": {\"outlinewidth\": 0, \"ticks\": \"\"}, \"type\": \"mesh3d\"}], \"parcoords\": [{\"line\": {\"colorbar\": {\"outlinewidth\": 0, \"ticks\": \"\"}}, \"type\": \"parcoords\"}], \"pie\": [{\"automargin\": true, \"type\": \"pie\"}], \"scatter\": [{\"marker\": {\"colorbar\": {\"outlinewidth\": 0, \"ticks\": \"\"}}, \"type\": \"scatter\"}], \"scatter3d\": [{\"line\": {\"colorbar\": {\"outlinewidth\": 0, \"ticks\": \"\"}}, \"marker\": {\"colorbar\": {\"outlinewidth\": 0, \"ticks\": \"\"}}, \"type\": \"scatter3d\"}], \"scattercarpet\": [{\"marker\": {\"colorbar\": {\"outlinewidth\": 0, \"ticks\": \"\"}}, \"type\": \"scattercarpet\"}], \"scattergeo\": [{\"marker\": {\"colorbar\": {\"outlinewidth\": 0, \"ticks\": \"\"}}, \"type\": \"scattergeo\"}], \"scattergl\": [{\"marker\": {\"colorbar\": {\"outlinewidth\": 0, \"ticks\": \"\"}}, \"type\": \"scattergl\"}], \"scattermapbox\": [{\"marker\": {\"colorbar\": {\"outlinewidth\": 0, \"ticks\": \"\"}}, \"type\": \"scattermapbox\"}], \"scatterpolar\": [{\"marker\": {\"colorbar\": {\"outlinewidth\": 0, \"ticks\": \"\"}}, \"type\": \"scatterpolar\"}], \"scatterpolargl\": [{\"marker\": {\"colorbar\": {\"outlinewidth\": 0, \"ticks\": \"\"}}, \"type\": \"scatterpolargl\"}], \"scatterternary\": [{\"marker\": {\"colorbar\": {\"outlinewidth\": 0, \"ticks\": \"\"}}, \"type\": \"scatterternary\"}], \"surface\": [{\"colorbar\": {\"outlinewidth\": 0, \"ticks\": \"\"}, \"colorscale\": [[0.0, \"#0d0887\"], [0.1111111111111111, \"#46039f\"], [0.2222222222222222, \"#7201a8\"], [0.3333333333333333, \"#9c179e\"], [0.4444444444444444, \"#bd3786\"], [0.5555555555555556, \"#d8576b\"], [0.6666666666666666, \"#ed7953\"], [0.7777777777777778, \"#fb9f3a\"], [0.8888888888888888, \"#fdca26\"], [1.0, \"#f0f921\"]], \"type\": \"surface\"}], \"table\": [{\"cells\": {\"fill\": {\"color\": \"#EBF0F8\"}, \"line\": {\"color\": \"white\"}}, \"header\": {\"fill\": {\"color\": \"#C8D4E3\"}, \"line\": {\"color\": \"white\"}}, \"type\": \"table\"}]}, \"layout\": {\"annotationdefaults\": {\"arrowcolor\": \"#2a3f5f\", \"arrowhead\": 0, \"arrowwidth\": 1}, \"autotypenumbers\": \"strict\", \"coloraxis\": {\"colorbar\": {\"outlinewidth\": 0, \"ticks\": \"\"}}, \"colorscale\": {\"diverging\": [[0, \"#8e0152\"], [0.1, \"#c51b7d\"], [0.2, \"#de77ae\"], [0.3, \"#f1b6da\"], [0.4, \"#fde0ef\"], [0.5, \"#f7f7f7\"], [0.6, \"#e6f5d0\"], [0.7, \"#b8e186\"], [0.8, \"#7fbc41\"], [0.9, \"#4d9221\"], [1, \"#276419\"]], \"sequential\": [[0.0, \"#0d0887\"], [0.1111111111111111, \"#46039f\"], [0.2222222222222222, \"#7201a8\"], [0.3333333333333333, \"#9c179e\"], [0.4444444444444444, \"#bd3786\"], [0.5555555555555556, \"#d8576b\"], [0.6666666666666666, \"#ed7953\"], [0.7777777777777778, \"#fb9f3a\"], [0.8888888888888888, \"#fdca26\"], [1.0, \"#f0f921\"]], \"sequentialminus\": [[0.0, \"#0d0887\"], [0.1111111111111111, \"#46039f\"], [0.2222222222222222, \"#7201a8\"], [0.3333333333333333, \"#9c179e\"], [0.4444444444444444, \"#bd3786\"], [0.5555555555555556, \"#d8576b\"], [0.6666666666666666, \"#ed7953\"], [0.7777777777777778, \"#fb9f3a\"], [0.8888888888888888, \"#fdca26\"], [1.0, \"#f0f921\"]]}, \"colorway\": [\"#636efa\", \"#EF553B\", \"#00cc96\", \"#ab63fa\", \"#FFA15A\", \"#19d3f3\", \"#FF6692\", \"#B6E880\", \"#FF97FF\", \"#FECB52\"], \"font\": {\"color\": \"#2a3f5f\"}, \"geo\": {\"bgcolor\": \"white\", \"lakecolor\": \"white\", \"landcolor\": \"#E5ECF6\", \"showlakes\": true, \"showland\": true, \"subunitcolor\": \"white\"}, \"hoverlabel\": {\"align\": \"left\"}, \"hovermode\": \"closest\", \"mapbox\": {\"style\": \"light\"}, \"paper_bgcolor\": \"white\", \"plot_bgcolor\": \"#E5ECF6\", \"polar\": {\"angularaxis\": {\"gridcolor\": \"white\", \"linecolor\": \"white\", \"ticks\": \"\"}, \"bgcolor\": \"#E5ECF6\", \"radialaxis\": {\"gridcolor\": \"white\", \"linecolor\": \"white\", \"ticks\": \"\"}}, \"scene\": {\"xaxis\": {\"backgroundcolor\": \"#E5ECF6\", \"gridcolor\": \"white\", \"gridwidth\": 2, \"linecolor\": \"white\", \"showbackground\": true, \"ticks\": \"\", \"zerolinecolor\": \"white\"}, \"yaxis\": {\"backgroundcolor\": \"#E5ECF6\", \"gridcolor\": \"white\", \"gridwidth\": 2, \"linecolor\": \"white\", \"showbackground\": true, \"ticks\": \"\", \"zerolinecolor\": \"white\"}, \"zaxis\": {\"backgroundcolor\": \"#E5ECF6\", \"gridcolor\": \"white\", \"gridwidth\": 2, \"linecolor\": \"white\", \"showbackground\": true, \"ticks\": \"\", \"zerolinecolor\": \"white\"}}, \"shapedefaults\": {\"line\": {\"color\": \"#2a3f5f\"}}, \"ternary\": {\"aaxis\": {\"gridcolor\": \"white\", \"linecolor\": \"white\", \"ticks\": \"\"}, \"baxis\": {\"gridcolor\": \"white\", \"linecolor\": \"white\", \"ticks\": \"\"}, \"bgcolor\": \"#E5ECF6\", \"caxis\": {\"gridcolor\": \"white\", \"linecolor\": \"white\", \"ticks\": \"\"}}, \"title\": {\"x\": 0.05}, \"xaxis\": {\"automargin\": true, \"gridcolor\": \"white\", \"linecolor\": \"white\", \"ticks\": \"\", \"title\": {\"standoff\": 15}, \"zerolinecolor\": \"white\", \"zerolinewidth\": 2}, \"yaxis\": {\"automargin\": true, \"gridcolor\": \"white\", \"linecolor\": \"white\", \"ticks\": \"\", \"title\": {\"standoff\": 15}, \"zerolinecolor\": \"white\", \"zerolinewidth\": 2}}}, \"xaxis\": {\"anchor\": \"y\", \"domain\": [0.0, 1.0], \"title\": {\"text\": \"report_year\"}}, \"yaxis\": {\"anchor\": \"x\", \"domain\": [0.0, 1.0], \"title\": {\"text\": \"Number of Patients\"}}},                        {\"responsive\": true}                    ).then(function(){\n",
       "                            \n",
       "var gd = document.getElementById('e16b52a9-7931-41a9-98e8-2c43db63cae1');\n",
       "var x = new MutationObserver(function (mutations, observer) {{\n",
       "        var display = window.getComputedStyle(gd).display;\n",
       "        if (!display || display === 'none') {{\n",
       "            console.log([gd, 'removed!']);\n",
       "            Plotly.purge(gd);\n",
       "            observer.disconnect();\n",
       "        }}\n",
       "}});\n",
       "\n",
       "// Listen for the removal of the full notebook cells\n",
       "var notebookContainer = gd.closest('#notebook-container');\n",
       "if (notebookContainer) {{\n",
       "    x.observe(notebookContainer, {childList: true});\n",
       "}}\n",
       "\n",
       "// Listen for the clearing of the current output cell\n",
       "var outputEl = gd.closest('.output');\n",
       "if (outputEl) {{\n",
       "    x.observe(outputEl, {childList: true});\n",
       "}}\n",
       "\n",
       "                        })                };                });            </script>        </div>"
      ]
     },
     "metadata": {},
     "output_type": "display_data"
    }
   ],
   "source": [
    "data_year= data.groupby(['state', 'report_year'])['id'].count().reset_index(name='Number of Patients').sort_values(by= 'Number of Patients', ascending= False)\n",
    "data_year\n",
    "\n",
    "px.bar(data_year, x= 'report_year', y='Number of Patients', color= 'state')\n"
   ]
  },
  {
   "cell_type": "markdown",
   "id": "necessary-roller",
   "metadata": {
    "papermill": {
     "duration": 0.061946,
     "end_time": "2021-07-06T10:17:39.474024",
     "exception": false,
     "start_time": "2021-07-06T10:17:39.412078",
     "status": "completed"
    },
    "tags": []
   },
   "source": [
    "# Diseases"
   ]
  },
  {
   "cell_type": "code",
   "execution_count": 10,
   "id": "possible-tuning",
   "metadata": {
    "execution": {
     "iopub.execute_input": "2021-07-06T10:17:39.612980Z",
     "iopub.status.busy": "2021-07-06T10:17:39.612068Z",
     "iopub.status.idle": "2021-07-06T10:17:39.715140Z",
     "shell.execute_reply": "2021-07-06T10:17:39.714382Z",
     "shell.execute_reply.started": "2021-07-06T10:10:31.567640Z"
    },
    "papermill": {
     "duration": 0.176248,
     "end_time": "2021-07-06T10:17:39.715290",
     "exception": false,
     "start_time": "2021-07-06T10:17:39.539042",
     "status": "completed"
    },
    "tags": []
   },
   "outputs": [
    {
     "data": {
      "application/vnd.plotly.v1+json": {
       "config": {
        "plotlyServerURL": "https://plot.ly"
       },
       "data": [
        {
         "domain": {
          "x": [
           0,
           1
          ],
          "y": [
           0,
           1
          ]
         },
         "hovertemplate": "disease=%{label}<br>Number of Patients=%{value}<extra></extra>",
         "labels": [
          "Cholera",
          "Diarrhoea",
          "Rubella Mars",
          "Malaria",
          "Measles",
          "Marburg Virus",
          "Yellow Fever",
          "Viral Haemmorrhaphic Fever",
          "Meningitis",
          "Ebola"
         ],
         "legendgroup": "",
         "name": "",
         "showlegend": true,
         "type": "pie",
         "values": [
          28589,
          28550,
          28539,
          28535,
          28471,
          28430,
          28428,
          28401,
          28362,
          28179
         ]
        }
       ],
       "layout": {
        "height": 800,
        "legend": {
         "tracegroupgap": 0
        },
        "piecolorway": [
         "rgb(103,0,31)",
         "rgb(178,24,43)",
         "rgb(214,96,77)",
         "rgb(244,165,130)",
         "rgb(253,219,199)",
         "rgb(247,247,247)",
         "rgb(209,229,240)",
         "rgb(146,197,222)",
         "rgb(67,147,195)",
         "rgb(33,102,172)",
         "rgb(5,48,97)"
        ],
        "template": {
         "data": {
          "bar": [
           {
            "error_x": {
             "color": "#2a3f5f"
            },
            "error_y": {
             "color": "#2a3f5f"
            },
            "marker": {
             "line": {
              "color": "#E5ECF6",
              "width": 0.5
             }
            },
            "type": "bar"
           }
          ],
          "barpolar": [
           {
            "marker": {
             "line": {
              "color": "#E5ECF6",
              "width": 0.5
             }
            },
            "type": "barpolar"
           }
          ],
          "carpet": [
           {
            "aaxis": {
             "endlinecolor": "#2a3f5f",
             "gridcolor": "white",
             "linecolor": "white",
             "minorgridcolor": "white",
             "startlinecolor": "#2a3f5f"
            },
            "baxis": {
             "endlinecolor": "#2a3f5f",
             "gridcolor": "white",
             "linecolor": "white",
             "minorgridcolor": "white",
             "startlinecolor": "#2a3f5f"
            },
            "type": "carpet"
           }
          ],
          "choropleth": [
           {
            "colorbar": {
             "outlinewidth": 0,
             "ticks": ""
            },
            "type": "choropleth"
           }
          ],
          "contour": [
           {
            "colorbar": {
             "outlinewidth": 0,
             "ticks": ""
            },
            "colorscale": [
             [
              0,
              "#0d0887"
             ],
             [
              0.1111111111111111,
              "#46039f"
             ],
             [
              0.2222222222222222,
              "#7201a8"
             ],
             [
              0.3333333333333333,
              "#9c179e"
             ],
             [
              0.4444444444444444,
              "#bd3786"
             ],
             [
              0.5555555555555556,
              "#d8576b"
             ],
             [
              0.6666666666666666,
              "#ed7953"
             ],
             [
              0.7777777777777778,
              "#fb9f3a"
             ],
             [
              0.8888888888888888,
              "#fdca26"
             ],
             [
              1,
              "#f0f921"
             ]
            ],
            "type": "contour"
           }
          ],
          "contourcarpet": [
           {
            "colorbar": {
             "outlinewidth": 0,
             "ticks": ""
            },
            "type": "contourcarpet"
           }
          ],
          "heatmap": [
           {
            "colorbar": {
             "outlinewidth": 0,
             "ticks": ""
            },
            "colorscale": [
             [
              0,
              "#0d0887"
             ],
             [
              0.1111111111111111,
              "#46039f"
             ],
             [
              0.2222222222222222,
              "#7201a8"
             ],
             [
              0.3333333333333333,
              "#9c179e"
             ],
             [
              0.4444444444444444,
              "#bd3786"
             ],
             [
              0.5555555555555556,
              "#d8576b"
             ],
             [
              0.6666666666666666,
              "#ed7953"
             ],
             [
              0.7777777777777778,
              "#fb9f3a"
             ],
             [
              0.8888888888888888,
              "#fdca26"
             ],
             [
              1,
              "#f0f921"
             ]
            ],
            "type": "heatmap"
           }
          ],
          "heatmapgl": [
           {
            "colorbar": {
             "outlinewidth": 0,
             "ticks": ""
            },
            "colorscale": [
             [
              0,
              "#0d0887"
             ],
             [
              0.1111111111111111,
              "#46039f"
             ],
             [
              0.2222222222222222,
              "#7201a8"
             ],
             [
              0.3333333333333333,
              "#9c179e"
             ],
             [
              0.4444444444444444,
              "#bd3786"
             ],
             [
              0.5555555555555556,
              "#d8576b"
             ],
             [
              0.6666666666666666,
              "#ed7953"
             ],
             [
              0.7777777777777778,
              "#fb9f3a"
             ],
             [
              0.8888888888888888,
              "#fdca26"
             ],
             [
              1,
              "#f0f921"
             ]
            ],
            "type": "heatmapgl"
           }
          ],
          "histogram": [
           {
            "marker": {
             "colorbar": {
              "outlinewidth": 0,
              "ticks": ""
             }
            },
            "type": "histogram"
           }
          ],
          "histogram2d": [
           {
            "colorbar": {
             "outlinewidth": 0,
             "ticks": ""
            },
            "colorscale": [
             [
              0,
              "#0d0887"
             ],
             [
              0.1111111111111111,
              "#46039f"
             ],
             [
              0.2222222222222222,
              "#7201a8"
             ],
             [
              0.3333333333333333,
              "#9c179e"
             ],
             [
              0.4444444444444444,
              "#bd3786"
             ],
             [
              0.5555555555555556,
              "#d8576b"
             ],
             [
              0.6666666666666666,
              "#ed7953"
             ],
             [
              0.7777777777777778,
              "#fb9f3a"
             ],
             [
              0.8888888888888888,
              "#fdca26"
             ],
             [
              1,
              "#f0f921"
             ]
            ],
            "type": "histogram2d"
           }
          ],
          "histogram2dcontour": [
           {
            "colorbar": {
             "outlinewidth": 0,
             "ticks": ""
            },
            "colorscale": [
             [
              0,
              "#0d0887"
             ],
             [
              0.1111111111111111,
              "#46039f"
             ],
             [
              0.2222222222222222,
              "#7201a8"
             ],
             [
              0.3333333333333333,
              "#9c179e"
             ],
             [
              0.4444444444444444,
              "#bd3786"
             ],
             [
              0.5555555555555556,
              "#d8576b"
             ],
             [
              0.6666666666666666,
              "#ed7953"
             ],
             [
              0.7777777777777778,
              "#fb9f3a"
             ],
             [
              0.8888888888888888,
              "#fdca26"
             ],
             [
              1,
              "#f0f921"
             ]
            ],
            "type": "histogram2dcontour"
           }
          ],
          "mesh3d": [
           {
            "colorbar": {
             "outlinewidth": 0,
             "ticks": ""
            },
            "type": "mesh3d"
           }
          ],
          "parcoords": [
           {
            "line": {
             "colorbar": {
              "outlinewidth": 0,
              "ticks": ""
             }
            },
            "type": "parcoords"
           }
          ],
          "pie": [
           {
            "automargin": true,
            "type": "pie"
           }
          ],
          "scatter": [
           {
            "marker": {
             "colorbar": {
              "outlinewidth": 0,
              "ticks": ""
             }
            },
            "type": "scatter"
           }
          ],
          "scatter3d": [
           {
            "line": {
             "colorbar": {
              "outlinewidth": 0,
              "ticks": ""
             }
            },
            "marker": {
             "colorbar": {
              "outlinewidth": 0,
              "ticks": ""
             }
            },
            "type": "scatter3d"
           }
          ],
          "scattercarpet": [
           {
            "marker": {
             "colorbar": {
              "outlinewidth": 0,
              "ticks": ""
             }
            },
            "type": "scattercarpet"
           }
          ],
          "scattergeo": [
           {
            "marker": {
             "colorbar": {
              "outlinewidth": 0,
              "ticks": ""
             }
            },
            "type": "scattergeo"
           }
          ],
          "scattergl": [
           {
            "marker": {
             "colorbar": {
              "outlinewidth": 0,
              "ticks": ""
             }
            },
            "type": "scattergl"
           }
          ],
          "scattermapbox": [
           {
            "marker": {
             "colorbar": {
              "outlinewidth": 0,
              "ticks": ""
             }
            },
            "type": "scattermapbox"
           }
          ],
          "scatterpolar": [
           {
            "marker": {
             "colorbar": {
              "outlinewidth": 0,
              "ticks": ""
             }
            },
            "type": "scatterpolar"
           }
          ],
          "scatterpolargl": [
           {
            "marker": {
             "colorbar": {
              "outlinewidth": 0,
              "ticks": ""
             }
            },
            "type": "scatterpolargl"
           }
          ],
          "scatterternary": [
           {
            "marker": {
             "colorbar": {
              "outlinewidth": 0,
              "ticks": ""
             }
            },
            "type": "scatterternary"
           }
          ],
          "surface": [
           {
            "colorbar": {
             "outlinewidth": 0,
             "ticks": ""
            },
            "colorscale": [
             [
              0,
              "#0d0887"
             ],
             [
              0.1111111111111111,
              "#46039f"
             ],
             [
              0.2222222222222222,
              "#7201a8"
             ],
             [
              0.3333333333333333,
              "#9c179e"
             ],
             [
              0.4444444444444444,
              "#bd3786"
             ],
             [
              0.5555555555555556,
              "#d8576b"
             ],
             [
              0.6666666666666666,
              "#ed7953"
             ],
             [
              0.7777777777777778,
              "#fb9f3a"
             ],
             [
              0.8888888888888888,
              "#fdca26"
             ],
             [
              1,
              "#f0f921"
             ]
            ],
            "type": "surface"
           }
          ],
          "table": [
           {
            "cells": {
             "fill": {
              "color": "#EBF0F8"
             },
             "line": {
              "color": "white"
             }
            },
            "header": {
             "fill": {
              "color": "#C8D4E3"
             },
             "line": {
              "color": "white"
             }
            },
            "type": "table"
           }
          ]
         },
         "layout": {
          "annotationdefaults": {
           "arrowcolor": "#2a3f5f",
           "arrowhead": 0,
           "arrowwidth": 1
          },
          "autotypenumbers": "strict",
          "coloraxis": {
           "colorbar": {
            "outlinewidth": 0,
            "ticks": ""
           }
          },
          "colorscale": {
           "diverging": [
            [
             0,
             "#8e0152"
            ],
            [
             0.1,
             "#c51b7d"
            ],
            [
             0.2,
             "#de77ae"
            ],
            [
             0.3,
             "#f1b6da"
            ],
            [
             0.4,
             "#fde0ef"
            ],
            [
             0.5,
             "#f7f7f7"
            ],
            [
             0.6,
             "#e6f5d0"
            ],
            [
             0.7,
             "#b8e186"
            ],
            [
             0.8,
             "#7fbc41"
            ],
            [
             0.9,
             "#4d9221"
            ],
            [
             1,
             "#276419"
            ]
           ],
           "sequential": [
            [
             0,
             "#0d0887"
            ],
            [
             0.1111111111111111,
             "#46039f"
            ],
            [
             0.2222222222222222,
             "#7201a8"
            ],
            [
             0.3333333333333333,
             "#9c179e"
            ],
            [
             0.4444444444444444,
             "#bd3786"
            ],
            [
             0.5555555555555556,
             "#d8576b"
            ],
            [
             0.6666666666666666,
             "#ed7953"
            ],
            [
             0.7777777777777778,
             "#fb9f3a"
            ],
            [
             0.8888888888888888,
             "#fdca26"
            ],
            [
             1,
             "#f0f921"
            ]
           ],
           "sequentialminus": [
            [
             0,
             "#0d0887"
            ],
            [
             0.1111111111111111,
             "#46039f"
            ],
            [
             0.2222222222222222,
             "#7201a8"
            ],
            [
             0.3333333333333333,
             "#9c179e"
            ],
            [
             0.4444444444444444,
             "#bd3786"
            ],
            [
             0.5555555555555556,
             "#d8576b"
            ],
            [
             0.6666666666666666,
             "#ed7953"
            ],
            [
             0.7777777777777778,
             "#fb9f3a"
            ],
            [
             0.8888888888888888,
             "#fdca26"
            ],
            [
             1,
             "#f0f921"
            ]
           ]
          },
          "colorway": [
           "#636efa",
           "#EF553B",
           "#00cc96",
           "#ab63fa",
           "#FFA15A",
           "#19d3f3",
           "#FF6692",
           "#B6E880",
           "#FF97FF",
           "#FECB52"
          ],
          "font": {
           "color": "#2a3f5f"
          },
          "geo": {
           "bgcolor": "white",
           "lakecolor": "white",
           "landcolor": "#E5ECF6",
           "showlakes": true,
           "showland": true,
           "subunitcolor": "white"
          },
          "hoverlabel": {
           "align": "left"
          },
          "hovermode": "closest",
          "mapbox": {
           "style": "light"
          },
          "paper_bgcolor": "white",
          "plot_bgcolor": "#E5ECF6",
          "polar": {
           "angularaxis": {
            "gridcolor": "white",
            "linecolor": "white",
            "ticks": ""
           },
           "bgcolor": "#E5ECF6",
           "radialaxis": {
            "gridcolor": "white",
            "linecolor": "white",
            "ticks": ""
           }
          },
          "scene": {
           "xaxis": {
            "backgroundcolor": "#E5ECF6",
            "gridcolor": "white",
            "gridwidth": 2,
            "linecolor": "white",
            "showbackground": true,
            "ticks": "",
            "zerolinecolor": "white"
           },
           "yaxis": {
            "backgroundcolor": "#E5ECF6",
            "gridcolor": "white",
            "gridwidth": 2,
            "linecolor": "white",
            "showbackground": true,
            "ticks": "",
            "zerolinecolor": "white"
           },
           "zaxis": {
            "backgroundcolor": "#E5ECF6",
            "gridcolor": "white",
            "gridwidth": 2,
            "linecolor": "white",
            "showbackground": true,
            "ticks": "",
            "zerolinecolor": "white"
           }
          },
          "shapedefaults": {
           "line": {
            "color": "#2a3f5f"
           }
          },
          "ternary": {
           "aaxis": {
            "gridcolor": "white",
            "linecolor": "white",
            "ticks": ""
           },
           "baxis": {
            "gridcolor": "white",
            "linecolor": "white",
            "ticks": ""
           },
           "bgcolor": "#E5ECF6",
           "caxis": {
            "gridcolor": "white",
            "linecolor": "white",
            "ticks": ""
           }
          },
          "title": {
           "x": 0.05
          },
          "xaxis": {
           "automargin": true,
           "gridcolor": "white",
           "linecolor": "white",
           "ticks": "",
           "title": {
            "standoff": 15
           },
           "zerolinecolor": "white",
           "zerolinewidth": 2
          },
          "yaxis": {
           "automargin": true,
           "gridcolor": "white",
           "linecolor": "white",
           "ticks": "",
           "title": {
            "standoff": 15
           },
           "zerolinecolor": "white",
           "zerolinewidth": 2
          }
         }
        },
        "title": {
         "text": "Number of patients of each dieases"
        },
        "width": 800
       }
      },
      "text/html": [
       "<div>                            <div id=\"2e818fef-90f6-48b5-b540-1e1cac18ce03\" class=\"plotly-graph-div\" style=\"height:800px; width:800px;\"></div>            <script type=\"text/javascript\">                require([\"plotly\"], function(Plotly) {                    window.PLOTLYENV=window.PLOTLYENV || {};                                    if (document.getElementById(\"2e818fef-90f6-48b5-b540-1e1cac18ce03\")) {                    Plotly.newPlot(                        \"2e818fef-90f6-48b5-b540-1e1cac18ce03\",                        [{\"domain\": {\"x\": [0.0, 1.0], \"y\": [0.0, 1.0]}, \"hovertemplate\": \"disease=%{label}<br>Number of Patients=%{value}<extra></extra>\", \"labels\": [\"Cholera\", \"Diarrhoea\", \"Rubella Mars\", \"Malaria\", \"Measles\", \"Marburg Virus\", \"Yellow Fever\", \"Viral Haemmorrhaphic Fever\", \"Meningitis\", \"Ebola\"], \"legendgroup\": \"\", \"name\": \"\", \"showlegend\": true, \"type\": \"pie\", \"values\": [28589, 28550, 28539, 28535, 28471, 28430, 28428, 28401, 28362, 28179]}],                        {\"height\": 800, \"legend\": {\"tracegroupgap\": 0}, \"piecolorway\": [\"rgb(103,0,31)\", \"rgb(178,24,43)\", \"rgb(214,96,77)\", \"rgb(244,165,130)\", \"rgb(253,219,199)\", \"rgb(247,247,247)\", \"rgb(209,229,240)\", \"rgb(146,197,222)\", \"rgb(67,147,195)\", \"rgb(33,102,172)\", \"rgb(5,48,97)\"], \"template\": {\"data\": {\"bar\": [{\"error_x\": {\"color\": \"#2a3f5f\"}, \"error_y\": {\"color\": \"#2a3f5f\"}, \"marker\": {\"line\": {\"color\": \"#E5ECF6\", \"width\": 0.5}}, \"type\": \"bar\"}], \"barpolar\": [{\"marker\": {\"line\": {\"color\": \"#E5ECF6\", \"width\": 0.5}}, \"type\": \"barpolar\"}], \"carpet\": [{\"aaxis\": {\"endlinecolor\": \"#2a3f5f\", \"gridcolor\": \"white\", \"linecolor\": \"white\", \"minorgridcolor\": \"white\", \"startlinecolor\": \"#2a3f5f\"}, \"baxis\": {\"endlinecolor\": \"#2a3f5f\", \"gridcolor\": \"white\", \"linecolor\": \"white\", \"minorgridcolor\": \"white\", \"startlinecolor\": \"#2a3f5f\"}, \"type\": \"carpet\"}], \"choropleth\": [{\"colorbar\": {\"outlinewidth\": 0, \"ticks\": \"\"}, \"type\": \"choropleth\"}], \"contour\": [{\"colorbar\": {\"outlinewidth\": 0, \"ticks\": \"\"}, \"colorscale\": [[0.0, \"#0d0887\"], [0.1111111111111111, \"#46039f\"], [0.2222222222222222, \"#7201a8\"], [0.3333333333333333, \"#9c179e\"], [0.4444444444444444, \"#bd3786\"], [0.5555555555555556, \"#d8576b\"], [0.6666666666666666, \"#ed7953\"], [0.7777777777777778, \"#fb9f3a\"], [0.8888888888888888, \"#fdca26\"], [1.0, \"#f0f921\"]], \"type\": \"contour\"}], \"contourcarpet\": [{\"colorbar\": {\"outlinewidth\": 0, \"ticks\": \"\"}, \"type\": \"contourcarpet\"}], \"heatmap\": [{\"colorbar\": {\"outlinewidth\": 0, \"ticks\": \"\"}, \"colorscale\": [[0.0, \"#0d0887\"], [0.1111111111111111, \"#46039f\"], [0.2222222222222222, \"#7201a8\"], [0.3333333333333333, \"#9c179e\"], [0.4444444444444444, \"#bd3786\"], [0.5555555555555556, \"#d8576b\"], [0.6666666666666666, \"#ed7953\"], [0.7777777777777778, \"#fb9f3a\"], [0.8888888888888888, \"#fdca26\"], [1.0, \"#f0f921\"]], \"type\": \"heatmap\"}], \"heatmapgl\": [{\"colorbar\": {\"outlinewidth\": 0, \"ticks\": \"\"}, \"colorscale\": [[0.0, \"#0d0887\"], [0.1111111111111111, \"#46039f\"], [0.2222222222222222, \"#7201a8\"], [0.3333333333333333, \"#9c179e\"], [0.4444444444444444, \"#bd3786\"], [0.5555555555555556, \"#d8576b\"], [0.6666666666666666, \"#ed7953\"], [0.7777777777777778, \"#fb9f3a\"], [0.8888888888888888, \"#fdca26\"], [1.0, \"#f0f921\"]], \"type\": \"heatmapgl\"}], \"histogram\": [{\"marker\": {\"colorbar\": {\"outlinewidth\": 0, \"ticks\": \"\"}}, \"type\": \"histogram\"}], \"histogram2d\": [{\"colorbar\": {\"outlinewidth\": 0, \"ticks\": \"\"}, \"colorscale\": [[0.0, \"#0d0887\"], [0.1111111111111111, \"#46039f\"], [0.2222222222222222, \"#7201a8\"], [0.3333333333333333, \"#9c179e\"], [0.4444444444444444, \"#bd3786\"], [0.5555555555555556, \"#d8576b\"], [0.6666666666666666, \"#ed7953\"], [0.7777777777777778, \"#fb9f3a\"], [0.8888888888888888, \"#fdca26\"], [1.0, \"#f0f921\"]], \"type\": \"histogram2d\"}], \"histogram2dcontour\": [{\"colorbar\": {\"outlinewidth\": 0, \"ticks\": \"\"}, \"colorscale\": [[0.0, \"#0d0887\"], [0.1111111111111111, \"#46039f\"], [0.2222222222222222, \"#7201a8\"], [0.3333333333333333, \"#9c179e\"], [0.4444444444444444, \"#bd3786\"], [0.5555555555555556, \"#d8576b\"], [0.6666666666666666, \"#ed7953\"], [0.7777777777777778, \"#fb9f3a\"], [0.8888888888888888, \"#fdca26\"], [1.0, \"#f0f921\"]], \"type\": \"histogram2dcontour\"}], \"mesh3d\": [{\"colorbar\": {\"outlinewidth\": 0, \"ticks\": \"\"}, \"type\": \"mesh3d\"}], \"parcoords\": [{\"line\": {\"colorbar\": {\"outlinewidth\": 0, \"ticks\": \"\"}}, \"type\": \"parcoords\"}], \"pie\": [{\"automargin\": true, \"type\": \"pie\"}], \"scatter\": [{\"marker\": {\"colorbar\": {\"outlinewidth\": 0, \"ticks\": \"\"}}, \"type\": \"scatter\"}], \"scatter3d\": [{\"line\": {\"colorbar\": {\"outlinewidth\": 0, \"ticks\": \"\"}}, \"marker\": {\"colorbar\": {\"outlinewidth\": 0, \"ticks\": \"\"}}, \"type\": \"scatter3d\"}], \"scattercarpet\": [{\"marker\": {\"colorbar\": {\"outlinewidth\": 0, \"ticks\": \"\"}}, \"type\": \"scattercarpet\"}], \"scattergeo\": [{\"marker\": {\"colorbar\": {\"outlinewidth\": 0, \"ticks\": \"\"}}, \"type\": \"scattergeo\"}], \"scattergl\": [{\"marker\": {\"colorbar\": {\"outlinewidth\": 0, \"ticks\": \"\"}}, \"type\": \"scattergl\"}], \"scattermapbox\": [{\"marker\": {\"colorbar\": {\"outlinewidth\": 0, \"ticks\": \"\"}}, \"type\": \"scattermapbox\"}], \"scatterpolar\": [{\"marker\": {\"colorbar\": {\"outlinewidth\": 0, \"ticks\": \"\"}}, \"type\": \"scatterpolar\"}], \"scatterpolargl\": [{\"marker\": {\"colorbar\": {\"outlinewidth\": 0, \"ticks\": \"\"}}, \"type\": \"scatterpolargl\"}], \"scatterternary\": [{\"marker\": {\"colorbar\": {\"outlinewidth\": 0, \"ticks\": \"\"}}, \"type\": \"scatterternary\"}], \"surface\": [{\"colorbar\": {\"outlinewidth\": 0, \"ticks\": \"\"}, \"colorscale\": [[0.0, \"#0d0887\"], [0.1111111111111111, \"#46039f\"], [0.2222222222222222, \"#7201a8\"], [0.3333333333333333, \"#9c179e\"], [0.4444444444444444, \"#bd3786\"], [0.5555555555555556, \"#d8576b\"], [0.6666666666666666, \"#ed7953\"], [0.7777777777777778, \"#fb9f3a\"], [0.8888888888888888, \"#fdca26\"], [1.0, \"#f0f921\"]], \"type\": \"surface\"}], \"table\": [{\"cells\": {\"fill\": {\"color\": \"#EBF0F8\"}, \"line\": {\"color\": \"white\"}}, \"header\": {\"fill\": {\"color\": \"#C8D4E3\"}, \"line\": {\"color\": \"white\"}}, \"type\": \"table\"}]}, \"layout\": {\"annotationdefaults\": {\"arrowcolor\": \"#2a3f5f\", \"arrowhead\": 0, \"arrowwidth\": 1}, \"autotypenumbers\": \"strict\", \"coloraxis\": {\"colorbar\": {\"outlinewidth\": 0, \"ticks\": \"\"}}, \"colorscale\": {\"diverging\": [[0, \"#8e0152\"], [0.1, \"#c51b7d\"], [0.2, \"#de77ae\"], [0.3, \"#f1b6da\"], [0.4, \"#fde0ef\"], [0.5, \"#f7f7f7\"], [0.6, \"#e6f5d0\"], [0.7, \"#b8e186\"], [0.8, \"#7fbc41\"], [0.9, \"#4d9221\"], [1, \"#276419\"]], \"sequential\": [[0.0, \"#0d0887\"], [0.1111111111111111, \"#46039f\"], [0.2222222222222222, \"#7201a8\"], [0.3333333333333333, \"#9c179e\"], [0.4444444444444444, \"#bd3786\"], [0.5555555555555556, \"#d8576b\"], [0.6666666666666666, \"#ed7953\"], [0.7777777777777778, \"#fb9f3a\"], [0.8888888888888888, \"#fdca26\"], [1.0, \"#f0f921\"]], \"sequentialminus\": [[0.0, \"#0d0887\"], [0.1111111111111111, \"#46039f\"], [0.2222222222222222, \"#7201a8\"], [0.3333333333333333, \"#9c179e\"], [0.4444444444444444, \"#bd3786\"], [0.5555555555555556, \"#d8576b\"], [0.6666666666666666, \"#ed7953\"], [0.7777777777777778, \"#fb9f3a\"], [0.8888888888888888, \"#fdca26\"], [1.0, \"#f0f921\"]]}, \"colorway\": [\"#636efa\", \"#EF553B\", \"#00cc96\", \"#ab63fa\", \"#FFA15A\", \"#19d3f3\", \"#FF6692\", \"#B6E880\", \"#FF97FF\", \"#FECB52\"], \"font\": {\"color\": \"#2a3f5f\"}, \"geo\": {\"bgcolor\": \"white\", \"lakecolor\": \"white\", \"landcolor\": \"#E5ECF6\", \"showlakes\": true, \"showland\": true, \"subunitcolor\": \"white\"}, \"hoverlabel\": {\"align\": \"left\"}, \"hovermode\": \"closest\", \"mapbox\": {\"style\": \"light\"}, \"paper_bgcolor\": \"white\", \"plot_bgcolor\": \"#E5ECF6\", \"polar\": {\"angularaxis\": {\"gridcolor\": \"white\", \"linecolor\": \"white\", \"ticks\": \"\"}, \"bgcolor\": \"#E5ECF6\", \"radialaxis\": {\"gridcolor\": \"white\", \"linecolor\": \"white\", \"ticks\": \"\"}}, \"scene\": {\"xaxis\": {\"backgroundcolor\": \"#E5ECF6\", \"gridcolor\": \"white\", \"gridwidth\": 2, \"linecolor\": \"white\", \"showbackground\": true, \"ticks\": \"\", \"zerolinecolor\": \"white\"}, \"yaxis\": {\"backgroundcolor\": \"#E5ECF6\", \"gridcolor\": \"white\", \"gridwidth\": 2, \"linecolor\": \"white\", \"showbackground\": true, \"ticks\": \"\", \"zerolinecolor\": \"white\"}, \"zaxis\": {\"backgroundcolor\": \"#E5ECF6\", \"gridcolor\": \"white\", \"gridwidth\": 2, \"linecolor\": \"white\", \"showbackground\": true, \"ticks\": \"\", \"zerolinecolor\": \"white\"}}, \"shapedefaults\": {\"line\": {\"color\": \"#2a3f5f\"}}, \"ternary\": {\"aaxis\": {\"gridcolor\": \"white\", \"linecolor\": \"white\", \"ticks\": \"\"}, \"baxis\": {\"gridcolor\": \"white\", \"linecolor\": \"white\", \"ticks\": \"\"}, \"bgcolor\": \"#E5ECF6\", \"caxis\": {\"gridcolor\": \"white\", \"linecolor\": \"white\", \"ticks\": \"\"}}, \"title\": {\"x\": 0.05}, \"xaxis\": {\"automargin\": true, \"gridcolor\": \"white\", \"linecolor\": \"white\", \"ticks\": \"\", \"title\": {\"standoff\": 15}, \"zerolinecolor\": \"white\", \"zerolinewidth\": 2}, \"yaxis\": {\"automargin\": true, \"gridcolor\": \"white\", \"linecolor\": \"white\", \"ticks\": \"\", \"title\": {\"standoff\": 15}, \"zerolinecolor\": \"white\", \"zerolinewidth\": 2}}}, \"title\": {\"text\": \"Number of patients of each dieases\"}, \"width\": 800},                        {\"responsive\": true}                    ).then(function(){\n",
       "                            \n",
       "var gd = document.getElementById('2e818fef-90f6-48b5-b540-1e1cac18ce03');\n",
       "var x = new MutationObserver(function (mutations, observer) {{\n",
       "        var display = window.getComputedStyle(gd).display;\n",
       "        if (!display || display === 'none') {{\n",
       "            console.log([gd, 'removed!']);\n",
       "            Plotly.purge(gd);\n",
       "            observer.disconnect();\n",
       "        }}\n",
       "}});\n",
       "\n",
       "// Listen for the removal of the full notebook cells\n",
       "var notebookContainer = gd.closest('#notebook-container');\n",
       "if (notebookContainer) {{\n",
       "    x.observe(notebookContainer, {childList: true});\n",
       "}}\n",
       "\n",
       "// Listen for the clearing of the current output cell\n",
       "var outputEl = gd.closest('.output');\n",
       "if (outputEl) {{\n",
       "    x.observe(outputEl, {childList: true});\n",
       "}}\n",
       "\n",
       "                        })                };                });            </script>        </div>"
      ]
     },
     "metadata": {},
     "output_type": "display_data"
    }
   ],
   "source": [
    "data_disease= data.groupby(['disease'])['id'].count().reset_index(name='Number of Patients').sort_values(by= 'Number of Patients', ascending= False)\n",
    "data_state\n",
    "px.pie(data_disease, values='Number of Patients', names= 'disease' , title= 'Number of patients of each dieases', \n",
    "       width=800 , height=800 , color_discrete_sequence = px.colors.sequential.RdBu)"
   ]
  },
  {
   "cell_type": "markdown",
   "id": "sunrise-figure",
   "metadata": {
    "papermill": {
     "duration": 0.068107,
     "end_time": "2021-07-06T10:17:39.852080",
     "exception": false,
     "start_time": "2021-07-06T10:17:39.783973",
     "status": "completed"
    },
    "tags": []
   },
   "source": [
    "number of patinets in each year"
   ]
  },
  {
   "cell_type": "code",
   "execution_count": 11,
   "id": "dying-arctic",
   "metadata": {
    "execution": {
     "iopub.execute_input": "2021-07-06T10:17:39.997463Z",
     "iopub.status.busy": "2021-07-06T10:17:39.996720Z",
     "iopub.status.idle": "2021-07-06T10:17:40.059921Z",
     "shell.execute_reply": "2021-07-06T10:17:40.059279Z",
     "shell.execute_reply.started": "2021-07-06T10:10:31.653676Z"
    },
    "papermill": {
     "duration": 0.139232,
     "end_time": "2021-07-06T10:17:40.060101",
     "exception": false,
     "start_time": "2021-07-06T10:17:39.920869",
     "status": "completed"
    },
    "tags": []
   },
   "outputs": [
    {
     "data": {
      "application/vnd.plotly.v1+json": {
       "config": {
        "plotlyServerURL": "https://plot.ly"
       },
       "data": [
        {
         "domain": {
          "x": [
           0,
           1
          ],
          "y": [
           0,
           1
          ]
         },
         "hovertemplate": "report_year=%{label}<br>Number of Patients=%{value}<extra></extra>",
         "labels": [
          2013,
          2016,
          2010,
          2017,
          2012,
          2018,
          2014,
          2009,
          2015,
          2011
         ],
         "legendgroup": "",
         "name": "",
         "showlegend": true,
         "type": "pie",
         "values": [
          28745,
          28638,
          28603,
          28518,
          28431,
          28428,
          28355,
          28317,
          28262,
          28187
         ]
        }
       ],
       "layout": {
        "height": 800,
        "legend": {
         "tracegroupgap": 0
        },
        "piecolorway": [
         "rgb(103,0,31)",
         "rgb(178,24,43)",
         "rgb(214,96,77)",
         "rgb(244,165,130)",
         "rgb(253,219,199)",
         "rgb(247,247,247)",
         "rgb(209,229,240)",
         "rgb(146,197,222)",
         "rgb(67,147,195)",
         "rgb(33,102,172)",
         "rgb(5,48,97)"
        ],
        "template": {
         "data": {
          "bar": [
           {
            "error_x": {
             "color": "#2a3f5f"
            },
            "error_y": {
             "color": "#2a3f5f"
            },
            "marker": {
             "line": {
              "color": "#E5ECF6",
              "width": 0.5
             }
            },
            "type": "bar"
           }
          ],
          "barpolar": [
           {
            "marker": {
             "line": {
              "color": "#E5ECF6",
              "width": 0.5
             }
            },
            "type": "barpolar"
           }
          ],
          "carpet": [
           {
            "aaxis": {
             "endlinecolor": "#2a3f5f",
             "gridcolor": "white",
             "linecolor": "white",
             "minorgridcolor": "white",
             "startlinecolor": "#2a3f5f"
            },
            "baxis": {
             "endlinecolor": "#2a3f5f",
             "gridcolor": "white",
             "linecolor": "white",
             "minorgridcolor": "white",
             "startlinecolor": "#2a3f5f"
            },
            "type": "carpet"
           }
          ],
          "choropleth": [
           {
            "colorbar": {
             "outlinewidth": 0,
             "ticks": ""
            },
            "type": "choropleth"
           }
          ],
          "contour": [
           {
            "colorbar": {
             "outlinewidth": 0,
             "ticks": ""
            },
            "colorscale": [
             [
              0,
              "#0d0887"
             ],
             [
              0.1111111111111111,
              "#46039f"
             ],
             [
              0.2222222222222222,
              "#7201a8"
             ],
             [
              0.3333333333333333,
              "#9c179e"
             ],
             [
              0.4444444444444444,
              "#bd3786"
             ],
             [
              0.5555555555555556,
              "#d8576b"
             ],
             [
              0.6666666666666666,
              "#ed7953"
             ],
             [
              0.7777777777777778,
              "#fb9f3a"
             ],
             [
              0.8888888888888888,
              "#fdca26"
             ],
             [
              1,
              "#f0f921"
             ]
            ],
            "type": "contour"
           }
          ],
          "contourcarpet": [
           {
            "colorbar": {
             "outlinewidth": 0,
             "ticks": ""
            },
            "type": "contourcarpet"
           }
          ],
          "heatmap": [
           {
            "colorbar": {
             "outlinewidth": 0,
             "ticks": ""
            },
            "colorscale": [
             [
              0,
              "#0d0887"
             ],
             [
              0.1111111111111111,
              "#46039f"
             ],
             [
              0.2222222222222222,
              "#7201a8"
             ],
             [
              0.3333333333333333,
              "#9c179e"
             ],
             [
              0.4444444444444444,
              "#bd3786"
             ],
             [
              0.5555555555555556,
              "#d8576b"
             ],
             [
              0.6666666666666666,
              "#ed7953"
             ],
             [
              0.7777777777777778,
              "#fb9f3a"
             ],
             [
              0.8888888888888888,
              "#fdca26"
             ],
             [
              1,
              "#f0f921"
             ]
            ],
            "type": "heatmap"
           }
          ],
          "heatmapgl": [
           {
            "colorbar": {
             "outlinewidth": 0,
             "ticks": ""
            },
            "colorscale": [
             [
              0,
              "#0d0887"
             ],
             [
              0.1111111111111111,
              "#46039f"
             ],
             [
              0.2222222222222222,
              "#7201a8"
             ],
             [
              0.3333333333333333,
              "#9c179e"
             ],
             [
              0.4444444444444444,
              "#bd3786"
             ],
             [
              0.5555555555555556,
              "#d8576b"
             ],
             [
              0.6666666666666666,
              "#ed7953"
             ],
             [
              0.7777777777777778,
              "#fb9f3a"
             ],
             [
              0.8888888888888888,
              "#fdca26"
             ],
             [
              1,
              "#f0f921"
             ]
            ],
            "type": "heatmapgl"
           }
          ],
          "histogram": [
           {
            "marker": {
             "colorbar": {
              "outlinewidth": 0,
              "ticks": ""
             }
            },
            "type": "histogram"
           }
          ],
          "histogram2d": [
           {
            "colorbar": {
             "outlinewidth": 0,
             "ticks": ""
            },
            "colorscale": [
             [
              0,
              "#0d0887"
             ],
             [
              0.1111111111111111,
              "#46039f"
             ],
             [
              0.2222222222222222,
              "#7201a8"
             ],
             [
              0.3333333333333333,
              "#9c179e"
             ],
             [
              0.4444444444444444,
              "#bd3786"
             ],
             [
              0.5555555555555556,
              "#d8576b"
             ],
             [
              0.6666666666666666,
              "#ed7953"
             ],
             [
              0.7777777777777778,
              "#fb9f3a"
             ],
             [
              0.8888888888888888,
              "#fdca26"
             ],
             [
              1,
              "#f0f921"
             ]
            ],
            "type": "histogram2d"
           }
          ],
          "histogram2dcontour": [
           {
            "colorbar": {
             "outlinewidth": 0,
             "ticks": ""
            },
            "colorscale": [
             [
              0,
              "#0d0887"
             ],
             [
              0.1111111111111111,
              "#46039f"
             ],
             [
              0.2222222222222222,
              "#7201a8"
             ],
             [
              0.3333333333333333,
              "#9c179e"
             ],
             [
              0.4444444444444444,
              "#bd3786"
             ],
             [
              0.5555555555555556,
              "#d8576b"
             ],
             [
              0.6666666666666666,
              "#ed7953"
             ],
             [
              0.7777777777777778,
              "#fb9f3a"
             ],
             [
              0.8888888888888888,
              "#fdca26"
             ],
             [
              1,
              "#f0f921"
             ]
            ],
            "type": "histogram2dcontour"
           }
          ],
          "mesh3d": [
           {
            "colorbar": {
             "outlinewidth": 0,
             "ticks": ""
            },
            "type": "mesh3d"
           }
          ],
          "parcoords": [
           {
            "line": {
             "colorbar": {
              "outlinewidth": 0,
              "ticks": ""
             }
            },
            "type": "parcoords"
           }
          ],
          "pie": [
           {
            "automargin": true,
            "type": "pie"
           }
          ],
          "scatter": [
           {
            "marker": {
             "colorbar": {
              "outlinewidth": 0,
              "ticks": ""
             }
            },
            "type": "scatter"
           }
          ],
          "scatter3d": [
           {
            "line": {
             "colorbar": {
              "outlinewidth": 0,
              "ticks": ""
             }
            },
            "marker": {
             "colorbar": {
              "outlinewidth": 0,
              "ticks": ""
             }
            },
            "type": "scatter3d"
           }
          ],
          "scattercarpet": [
           {
            "marker": {
             "colorbar": {
              "outlinewidth": 0,
              "ticks": ""
             }
            },
            "type": "scattercarpet"
           }
          ],
          "scattergeo": [
           {
            "marker": {
             "colorbar": {
              "outlinewidth": 0,
              "ticks": ""
             }
            },
            "type": "scattergeo"
           }
          ],
          "scattergl": [
           {
            "marker": {
             "colorbar": {
              "outlinewidth": 0,
              "ticks": ""
             }
            },
            "type": "scattergl"
           }
          ],
          "scattermapbox": [
           {
            "marker": {
             "colorbar": {
              "outlinewidth": 0,
              "ticks": ""
             }
            },
            "type": "scattermapbox"
           }
          ],
          "scatterpolar": [
           {
            "marker": {
             "colorbar": {
              "outlinewidth": 0,
              "ticks": ""
             }
            },
            "type": "scatterpolar"
           }
          ],
          "scatterpolargl": [
           {
            "marker": {
             "colorbar": {
              "outlinewidth": 0,
              "ticks": ""
             }
            },
            "type": "scatterpolargl"
           }
          ],
          "scatterternary": [
           {
            "marker": {
             "colorbar": {
              "outlinewidth": 0,
              "ticks": ""
             }
            },
            "type": "scatterternary"
           }
          ],
          "surface": [
           {
            "colorbar": {
             "outlinewidth": 0,
             "ticks": ""
            },
            "colorscale": [
             [
              0,
              "#0d0887"
             ],
             [
              0.1111111111111111,
              "#46039f"
             ],
             [
              0.2222222222222222,
              "#7201a8"
             ],
             [
              0.3333333333333333,
              "#9c179e"
             ],
             [
              0.4444444444444444,
              "#bd3786"
             ],
             [
              0.5555555555555556,
              "#d8576b"
             ],
             [
              0.6666666666666666,
              "#ed7953"
             ],
             [
              0.7777777777777778,
              "#fb9f3a"
             ],
             [
              0.8888888888888888,
              "#fdca26"
             ],
             [
              1,
              "#f0f921"
             ]
            ],
            "type": "surface"
           }
          ],
          "table": [
           {
            "cells": {
             "fill": {
              "color": "#EBF0F8"
             },
             "line": {
              "color": "white"
             }
            },
            "header": {
             "fill": {
              "color": "#C8D4E3"
             },
             "line": {
              "color": "white"
             }
            },
            "type": "table"
           }
          ]
         },
         "layout": {
          "annotationdefaults": {
           "arrowcolor": "#2a3f5f",
           "arrowhead": 0,
           "arrowwidth": 1
          },
          "autotypenumbers": "strict",
          "coloraxis": {
           "colorbar": {
            "outlinewidth": 0,
            "ticks": ""
           }
          },
          "colorscale": {
           "diverging": [
            [
             0,
             "#8e0152"
            ],
            [
             0.1,
             "#c51b7d"
            ],
            [
             0.2,
             "#de77ae"
            ],
            [
             0.3,
             "#f1b6da"
            ],
            [
             0.4,
             "#fde0ef"
            ],
            [
             0.5,
             "#f7f7f7"
            ],
            [
             0.6,
             "#e6f5d0"
            ],
            [
             0.7,
             "#b8e186"
            ],
            [
             0.8,
             "#7fbc41"
            ],
            [
             0.9,
             "#4d9221"
            ],
            [
             1,
             "#276419"
            ]
           ],
           "sequential": [
            [
             0,
             "#0d0887"
            ],
            [
             0.1111111111111111,
             "#46039f"
            ],
            [
             0.2222222222222222,
             "#7201a8"
            ],
            [
             0.3333333333333333,
             "#9c179e"
            ],
            [
             0.4444444444444444,
             "#bd3786"
            ],
            [
             0.5555555555555556,
             "#d8576b"
            ],
            [
             0.6666666666666666,
             "#ed7953"
            ],
            [
             0.7777777777777778,
             "#fb9f3a"
            ],
            [
             0.8888888888888888,
             "#fdca26"
            ],
            [
             1,
             "#f0f921"
            ]
           ],
           "sequentialminus": [
            [
             0,
             "#0d0887"
            ],
            [
             0.1111111111111111,
             "#46039f"
            ],
            [
             0.2222222222222222,
             "#7201a8"
            ],
            [
             0.3333333333333333,
             "#9c179e"
            ],
            [
             0.4444444444444444,
             "#bd3786"
            ],
            [
             0.5555555555555556,
             "#d8576b"
            ],
            [
             0.6666666666666666,
             "#ed7953"
            ],
            [
             0.7777777777777778,
             "#fb9f3a"
            ],
            [
             0.8888888888888888,
             "#fdca26"
            ],
            [
             1,
             "#f0f921"
            ]
           ]
          },
          "colorway": [
           "#636efa",
           "#EF553B",
           "#00cc96",
           "#ab63fa",
           "#FFA15A",
           "#19d3f3",
           "#FF6692",
           "#B6E880",
           "#FF97FF",
           "#FECB52"
          ],
          "font": {
           "color": "#2a3f5f"
          },
          "geo": {
           "bgcolor": "white",
           "lakecolor": "white",
           "landcolor": "#E5ECF6",
           "showlakes": true,
           "showland": true,
           "subunitcolor": "white"
          },
          "hoverlabel": {
           "align": "left"
          },
          "hovermode": "closest",
          "mapbox": {
           "style": "light"
          },
          "paper_bgcolor": "white",
          "plot_bgcolor": "#E5ECF6",
          "polar": {
           "angularaxis": {
            "gridcolor": "white",
            "linecolor": "white",
            "ticks": ""
           },
           "bgcolor": "#E5ECF6",
           "radialaxis": {
            "gridcolor": "white",
            "linecolor": "white",
            "ticks": ""
           }
          },
          "scene": {
           "xaxis": {
            "backgroundcolor": "#E5ECF6",
            "gridcolor": "white",
            "gridwidth": 2,
            "linecolor": "white",
            "showbackground": true,
            "ticks": "",
            "zerolinecolor": "white"
           },
           "yaxis": {
            "backgroundcolor": "#E5ECF6",
            "gridcolor": "white",
            "gridwidth": 2,
            "linecolor": "white",
            "showbackground": true,
            "ticks": "",
            "zerolinecolor": "white"
           },
           "zaxis": {
            "backgroundcolor": "#E5ECF6",
            "gridcolor": "white",
            "gridwidth": 2,
            "linecolor": "white",
            "showbackground": true,
            "ticks": "",
            "zerolinecolor": "white"
           }
          },
          "shapedefaults": {
           "line": {
            "color": "#2a3f5f"
           }
          },
          "ternary": {
           "aaxis": {
            "gridcolor": "white",
            "linecolor": "white",
            "ticks": ""
           },
           "baxis": {
            "gridcolor": "white",
            "linecolor": "white",
            "ticks": ""
           },
           "bgcolor": "#E5ECF6",
           "caxis": {
            "gridcolor": "white",
            "linecolor": "white",
            "ticks": ""
           }
          },
          "title": {
           "x": 0.05
          },
          "xaxis": {
           "automargin": true,
           "gridcolor": "white",
           "linecolor": "white",
           "ticks": "",
           "title": {
            "standoff": 15
           },
           "zerolinecolor": "white",
           "zerolinewidth": 2
          },
          "yaxis": {
           "automargin": true,
           "gridcolor": "white",
           "linecolor": "white",
           "ticks": "",
           "title": {
            "standoff": 15
           },
           "zerolinecolor": "white",
           "zerolinewidth": 2
          }
         }
        },
        "title": {
         "text": "Number of patients in each year"
        },
        "width": 800
       }
      },
      "text/html": [
       "<div>                            <div id=\"6bf8da73-c8f8-4098-8c84-843831be80f2\" class=\"plotly-graph-div\" style=\"height:800px; width:800px;\"></div>            <script type=\"text/javascript\">                require([\"plotly\"], function(Plotly) {                    window.PLOTLYENV=window.PLOTLYENV || {};                                    if (document.getElementById(\"6bf8da73-c8f8-4098-8c84-843831be80f2\")) {                    Plotly.newPlot(                        \"6bf8da73-c8f8-4098-8c84-843831be80f2\",                        [{\"domain\": {\"x\": [0.0, 1.0], \"y\": [0.0, 1.0]}, \"hovertemplate\": \"report_year=%{label}<br>Number of Patients=%{value}<extra></extra>\", \"labels\": [2013, 2016, 2010, 2017, 2012, 2018, 2014, 2009, 2015, 2011], \"legendgroup\": \"\", \"name\": \"\", \"showlegend\": true, \"type\": \"pie\", \"values\": [28745, 28638, 28603, 28518, 28431, 28428, 28355, 28317, 28262, 28187]}],                        {\"height\": 800, \"legend\": {\"tracegroupgap\": 0}, \"piecolorway\": [\"rgb(103,0,31)\", \"rgb(178,24,43)\", \"rgb(214,96,77)\", \"rgb(244,165,130)\", \"rgb(253,219,199)\", \"rgb(247,247,247)\", \"rgb(209,229,240)\", \"rgb(146,197,222)\", \"rgb(67,147,195)\", \"rgb(33,102,172)\", \"rgb(5,48,97)\"], \"template\": {\"data\": {\"bar\": [{\"error_x\": {\"color\": \"#2a3f5f\"}, \"error_y\": {\"color\": \"#2a3f5f\"}, \"marker\": {\"line\": {\"color\": \"#E5ECF6\", \"width\": 0.5}}, \"type\": \"bar\"}], \"barpolar\": [{\"marker\": {\"line\": {\"color\": \"#E5ECF6\", \"width\": 0.5}}, \"type\": \"barpolar\"}], \"carpet\": [{\"aaxis\": {\"endlinecolor\": \"#2a3f5f\", \"gridcolor\": \"white\", \"linecolor\": \"white\", \"minorgridcolor\": \"white\", \"startlinecolor\": \"#2a3f5f\"}, \"baxis\": {\"endlinecolor\": \"#2a3f5f\", \"gridcolor\": \"white\", \"linecolor\": \"white\", \"minorgridcolor\": \"white\", \"startlinecolor\": \"#2a3f5f\"}, \"type\": \"carpet\"}], \"choropleth\": [{\"colorbar\": {\"outlinewidth\": 0, \"ticks\": \"\"}, \"type\": \"choropleth\"}], \"contour\": [{\"colorbar\": {\"outlinewidth\": 0, \"ticks\": \"\"}, \"colorscale\": [[0.0, \"#0d0887\"], [0.1111111111111111, \"#46039f\"], [0.2222222222222222, \"#7201a8\"], [0.3333333333333333, \"#9c179e\"], [0.4444444444444444, \"#bd3786\"], [0.5555555555555556, \"#d8576b\"], [0.6666666666666666, \"#ed7953\"], [0.7777777777777778, \"#fb9f3a\"], [0.8888888888888888, \"#fdca26\"], [1.0, \"#f0f921\"]], \"type\": \"contour\"}], \"contourcarpet\": [{\"colorbar\": {\"outlinewidth\": 0, \"ticks\": \"\"}, \"type\": \"contourcarpet\"}], \"heatmap\": [{\"colorbar\": {\"outlinewidth\": 0, \"ticks\": \"\"}, \"colorscale\": [[0.0, \"#0d0887\"], [0.1111111111111111, \"#46039f\"], [0.2222222222222222, \"#7201a8\"], [0.3333333333333333, \"#9c179e\"], [0.4444444444444444, \"#bd3786\"], [0.5555555555555556, \"#d8576b\"], [0.6666666666666666, \"#ed7953\"], [0.7777777777777778, \"#fb9f3a\"], [0.8888888888888888, \"#fdca26\"], [1.0, \"#f0f921\"]], \"type\": \"heatmap\"}], \"heatmapgl\": [{\"colorbar\": {\"outlinewidth\": 0, \"ticks\": \"\"}, \"colorscale\": [[0.0, \"#0d0887\"], [0.1111111111111111, \"#46039f\"], [0.2222222222222222, \"#7201a8\"], [0.3333333333333333, \"#9c179e\"], [0.4444444444444444, \"#bd3786\"], [0.5555555555555556, \"#d8576b\"], [0.6666666666666666, \"#ed7953\"], [0.7777777777777778, \"#fb9f3a\"], [0.8888888888888888, \"#fdca26\"], [1.0, \"#f0f921\"]], \"type\": \"heatmapgl\"}], \"histogram\": [{\"marker\": {\"colorbar\": {\"outlinewidth\": 0, \"ticks\": \"\"}}, \"type\": \"histogram\"}], \"histogram2d\": [{\"colorbar\": {\"outlinewidth\": 0, \"ticks\": \"\"}, \"colorscale\": [[0.0, \"#0d0887\"], [0.1111111111111111, \"#46039f\"], [0.2222222222222222, \"#7201a8\"], [0.3333333333333333, \"#9c179e\"], [0.4444444444444444, \"#bd3786\"], [0.5555555555555556, \"#d8576b\"], [0.6666666666666666, \"#ed7953\"], [0.7777777777777778, \"#fb9f3a\"], [0.8888888888888888, \"#fdca26\"], [1.0, \"#f0f921\"]], \"type\": \"histogram2d\"}], \"histogram2dcontour\": [{\"colorbar\": {\"outlinewidth\": 0, \"ticks\": \"\"}, \"colorscale\": [[0.0, \"#0d0887\"], [0.1111111111111111, \"#46039f\"], [0.2222222222222222, \"#7201a8\"], [0.3333333333333333, \"#9c179e\"], [0.4444444444444444, \"#bd3786\"], [0.5555555555555556, \"#d8576b\"], [0.6666666666666666, \"#ed7953\"], [0.7777777777777778, \"#fb9f3a\"], [0.8888888888888888, \"#fdca26\"], [1.0, \"#f0f921\"]], \"type\": \"histogram2dcontour\"}], \"mesh3d\": [{\"colorbar\": {\"outlinewidth\": 0, \"ticks\": \"\"}, \"type\": \"mesh3d\"}], \"parcoords\": [{\"line\": {\"colorbar\": {\"outlinewidth\": 0, \"ticks\": \"\"}}, \"type\": \"parcoords\"}], \"pie\": [{\"automargin\": true, \"type\": \"pie\"}], \"scatter\": [{\"marker\": {\"colorbar\": {\"outlinewidth\": 0, \"ticks\": \"\"}}, \"type\": \"scatter\"}], \"scatter3d\": [{\"line\": {\"colorbar\": {\"outlinewidth\": 0, \"ticks\": \"\"}}, \"marker\": {\"colorbar\": {\"outlinewidth\": 0, \"ticks\": \"\"}}, \"type\": \"scatter3d\"}], \"scattercarpet\": [{\"marker\": {\"colorbar\": {\"outlinewidth\": 0, \"ticks\": \"\"}}, \"type\": \"scattercarpet\"}], \"scattergeo\": [{\"marker\": {\"colorbar\": {\"outlinewidth\": 0, \"ticks\": \"\"}}, \"type\": \"scattergeo\"}], \"scattergl\": [{\"marker\": {\"colorbar\": {\"outlinewidth\": 0, \"ticks\": \"\"}}, \"type\": \"scattergl\"}], \"scattermapbox\": [{\"marker\": {\"colorbar\": {\"outlinewidth\": 0, \"ticks\": \"\"}}, \"type\": \"scattermapbox\"}], \"scatterpolar\": [{\"marker\": {\"colorbar\": {\"outlinewidth\": 0, \"ticks\": \"\"}}, \"type\": \"scatterpolar\"}], \"scatterpolargl\": [{\"marker\": {\"colorbar\": {\"outlinewidth\": 0, \"ticks\": \"\"}}, \"type\": \"scatterpolargl\"}], \"scatterternary\": [{\"marker\": {\"colorbar\": {\"outlinewidth\": 0, \"ticks\": \"\"}}, \"type\": \"scatterternary\"}], \"surface\": [{\"colorbar\": {\"outlinewidth\": 0, \"ticks\": \"\"}, \"colorscale\": [[0.0, \"#0d0887\"], [0.1111111111111111, \"#46039f\"], [0.2222222222222222, \"#7201a8\"], [0.3333333333333333, \"#9c179e\"], [0.4444444444444444, \"#bd3786\"], [0.5555555555555556, \"#d8576b\"], [0.6666666666666666, \"#ed7953\"], [0.7777777777777778, \"#fb9f3a\"], [0.8888888888888888, \"#fdca26\"], [1.0, \"#f0f921\"]], \"type\": \"surface\"}], \"table\": [{\"cells\": {\"fill\": {\"color\": \"#EBF0F8\"}, \"line\": {\"color\": \"white\"}}, \"header\": {\"fill\": {\"color\": \"#C8D4E3\"}, \"line\": {\"color\": \"white\"}}, \"type\": \"table\"}]}, \"layout\": {\"annotationdefaults\": {\"arrowcolor\": \"#2a3f5f\", \"arrowhead\": 0, \"arrowwidth\": 1}, \"autotypenumbers\": \"strict\", \"coloraxis\": {\"colorbar\": {\"outlinewidth\": 0, \"ticks\": \"\"}}, \"colorscale\": {\"diverging\": [[0, \"#8e0152\"], [0.1, \"#c51b7d\"], [0.2, \"#de77ae\"], [0.3, \"#f1b6da\"], [0.4, \"#fde0ef\"], [0.5, \"#f7f7f7\"], [0.6, \"#e6f5d0\"], [0.7, \"#b8e186\"], [0.8, \"#7fbc41\"], [0.9, \"#4d9221\"], [1, \"#276419\"]], \"sequential\": [[0.0, \"#0d0887\"], [0.1111111111111111, \"#46039f\"], [0.2222222222222222, \"#7201a8\"], [0.3333333333333333, \"#9c179e\"], [0.4444444444444444, \"#bd3786\"], [0.5555555555555556, \"#d8576b\"], [0.6666666666666666, \"#ed7953\"], [0.7777777777777778, \"#fb9f3a\"], [0.8888888888888888, \"#fdca26\"], [1.0, \"#f0f921\"]], \"sequentialminus\": [[0.0, \"#0d0887\"], [0.1111111111111111, \"#46039f\"], [0.2222222222222222, \"#7201a8\"], [0.3333333333333333, \"#9c179e\"], [0.4444444444444444, \"#bd3786\"], [0.5555555555555556, \"#d8576b\"], [0.6666666666666666, \"#ed7953\"], [0.7777777777777778, \"#fb9f3a\"], [0.8888888888888888, \"#fdca26\"], [1.0, \"#f0f921\"]]}, \"colorway\": [\"#636efa\", \"#EF553B\", \"#00cc96\", \"#ab63fa\", \"#FFA15A\", \"#19d3f3\", \"#FF6692\", \"#B6E880\", \"#FF97FF\", \"#FECB52\"], \"font\": {\"color\": \"#2a3f5f\"}, \"geo\": {\"bgcolor\": \"white\", \"lakecolor\": \"white\", \"landcolor\": \"#E5ECF6\", \"showlakes\": true, \"showland\": true, \"subunitcolor\": \"white\"}, \"hoverlabel\": {\"align\": \"left\"}, \"hovermode\": \"closest\", \"mapbox\": {\"style\": \"light\"}, \"paper_bgcolor\": \"white\", \"plot_bgcolor\": \"#E5ECF6\", \"polar\": {\"angularaxis\": {\"gridcolor\": \"white\", \"linecolor\": \"white\", \"ticks\": \"\"}, \"bgcolor\": \"#E5ECF6\", \"radialaxis\": {\"gridcolor\": \"white\", \"linecolor\": \"white\", \"ticks\": \"\"}}, \"scene\": {\"xaxis\": {\"backgroundcolor\": \"#E5ECF6\", \"gridcolor\": \"white\", \"gridwidth\": 2, \"linecolor\": \"white\", \"showbackground\": true, \"ticks\": \"\", \"zerolinecolor\": \"white\"}, \"yaxis\": {\"backgroundcolor\": \"#E5ECF6\", \"gridcolor\": \"white\", \"gridwidth\": 2, \"linecolor\": \"white\", \"showbackground\": true, \"ticks\": \"\", \"zerolinecolor\": \"white\"}, \"zaxis\": {\"backgroundcolor\": \"#E5ECF6\", \"gridcolor\": \"white\", \"gridwidth\": 2, \"linecolor\": \"white\", \"showbackground\": true, \"ticks\": \"\", \"zerolinecolor\": \"white\"}}, \"shapedefaults\": {\"line\": {\"color\": \"#2a3f5f\"}}, \"ternary\": {\"aaxis\": {\"gridcolor\": \"white\", \"linecolor\": \"white\", \"ticks\": \"\"}, \"baxis\": {\"gridcolor\": \"white\", \"linecolor\": \"white\", \"ticks\": \"\"}, \"bgcolor\": \"#E5ECF6\", \"caxis\": {\"gridcolor\": \"white\", \"linecolor\": \"white\", \"ticks\": \"\"}}, \"title\": {\"x\": 0.05}, \"xaxis\": {\"automargin\": true, \"gridcolor\": \"white\", \"linecolor\": \"white\", \"ticks\": \"\", \"title\": {\"standoff\": 15}, \"zerolinecolor\": \"white\", \"zerolinewidth\": 2}, \"yaxis\": {\"automargin\": true, \"gridcolor\": \"white\", \"linecolor\": \"white\", \"ticks\": \"\", \"title\": {\"standoff\": 15}, \"zerolinecolor\": \"white\", \"zerolinewidth\": 2}}}, \"title\": {\"text\": \"Number of patients in each year\"}, \"width\": 800},                        {\"responsive\": true}                    ).then(function(){\n",
       "                            \n",
       "var gd = document.getElementById('6bf8da73-c8f8-4098-8c84-843831be80f2');\n",
       "var x = new MutationObserver(function (mutations, observer) {{\n",
       "        var display = window.getComputedStyle(gd).display;\n",
       "        if (!display || display === 'none') {{\n",
       "            console.log([gd, 'removed!']);\n",
       "            Plotly.purge(gd);\n",
       "            observer.disconnect();\n",
       "        }}\n",
       "}});\n",
       "\n",
       "// Listen for the removal of the full notebook cells\n",
       "var notebookContainer = gd.closest('#notebook-container');\n",
       "if (notebookContainer) {{\n",
       "    x.observe(notebookContainer, {childList: true});\n",
       "}}\n",
       "\n",
       "// Listen for the clearing of the current output cell\n",
       "var outputEl = gd.closest('.output');\n",
       "if (outputEl) {{\n",
       "    x.observe(outputEl, {childList: true});\n",
       "}}\n",
       "\n",
       "                        })                };                });            </script>        </div>"
      ]
     },
     "metadata": {},
     "output_type": "display_data"
    }
   ],
   "source": [
    "data_years= data.groupby(['report_year'])['id'].count().reset_index(name='Number of Patients').sort_values(by= 'Number of Patients', ascending= False)\n",
    "data_years\n",
    "px.pie(data_years, values='Number of Patients', names= 'report_year' , title= 'Number of patients in each year', \n",
    "       width=800 , height=800 , color_discrete_sequence = px.colors.sequential.RdBu)"
   ]
  },
  {
   "cell_type": "code",
   "execution_count": null,
   "id": "secret-montgomery",
   "metadata": {
    "papermill": {
     "duration": 0.076383,
     "end_time": "2021-07-06T10:17:40.213284",
     "exception": false,
     "start_time": "2021-07-06T10:17:40.136901",
     "status": "completed"
    },
    "tags": []
   },
   "outputs": [],
   "source": []
  },
  {
   "cell_type": "markdown",
   "id": "harmful-programmer",
   "metadata": {
    "papermill": {
     "duration": 0.074176,
     "end_time": "2021-07-06T10:17:40.362355",
     "exception": false,
     "start_time": "2021-07-06T10:17:40.288179",
     "status": "completed"
    },
    "tags": []
   },
   "source": [
    "# Disease and gender of patinets"
   ]
  },
  {
   "cell_type": "code",
   "execution_count": 12,
   "id": "disturbed-option",
   "metadata": {
    "execution": {
     "iopub.execute_input": "2021-07-06T10:17:40.522664Z",
     "iopub.status.busy": "2021-07-06T10:17:40.521900Z",
     "iopub.status.idle": "2021-07-06T10:17:40.697558Z",
     "shell.execute_reply": "2021-07-06T10:17:40.696960Z",
     "shell.execute_reply.started": "2021-07-06T10:10:31.719034Z"
    },
    "papermill": {
     "duration": 0.260537,
     "end_time": "2021-07-06T10:17:40.697705",
     "exception": false,
     "start_time": "2021-07-06T10:17:40.437168",
     "status": "completed"
    },
    "tags": []
   },
   "outputs": [
    {
     "data": {
      "application/vnd.plotly.v1+json": {
       "config": {
        "plotlyServerURL": "https://plot.ly"
       },
       "data": [
        {
         "alignmentgroup": "True",
         "hovertemplate": "disease=Diarrhoea<br>gender=%{x}<br>Number of Patients=%{y}<extra></extra>",
         "legendgroup": "Diarrhoea",
         "marker": {
          "color": "#636efa"
         },
         "name": "Diarrhoea",
         "offsetgroup": "Diarrhoea",
         "orientation": "v",
         "showlegend": true,
         "textposition": "auto",
         "type": "bar",
         "x": [
          "Female",
          "Female",
          "Male",
          "Male"
         ],
         "xaxis": "x",
         "y": [
          7483,
          7345,
          6878,
          6844
         ],
         "yaxis": "y"
        },
        {
         "alignmentgroup": "True",
         "hovertemplate": "disease=Rubella Mars<br>gender=%{x}<br>Number of Patients=%{y}<extra></extra>",
         "legendgroup": "Rubella Mars",
         "marker": {
          "color": "#EF553B"
         },
         "name": "Rubella Mars",
         "offsetgroup": "Rubella Mars",
         "orientation": "v",
         "showlegend": true,
         "textposition": "auto",
         "type": "bar",
         "x": [
          "Female",
          "Female",
          "Male",
          "Male"
         ],
         "xaxis": "x",
         "y": [
          7465,
          7423,
          6847,
          6804
         ],
         "yaxis": "y"
        },
        {
         "alignmentgroup": "True",
         "hovertemplate": "disease=Measles<br>gender=%{x}<br>Number of Patients=%{y}<extra></extra>",
         "legendgroup": "Measles",
         "marker": {
          "color": "#00cc96"
         },
         "name": "Measles",
         "offsetgroup": "Measles",
         "orientation": "v",
         "showlegend": true,
         "textposition": "auto",
         "type": "bar",
         "x": [
          "Female",
          "Female",
          "Male",
          "Male"
         ],
         "xaxis": "x",
         "y": [
          7447,
          7445,
          6840,
          6739
         ],
         "yaxis": "y"
        },
        {
         "alignmentgroup": "True",
         "hovertemplate": "disease=Yellow Fever<br>gender=%{x}<br>Number of Patients=%{y}<extra></extra>",
         "legendgroup": "Yellow Fever",
         "marker": {
          "color": "#ab63fa"
         },
         "name": "Yellow Fever",
         "offsetgroup": "Yellow Fever",
         "orientation": "v",
         "showlegend": true,
         "textposition": "auto",
         "type": "bar",
         "x": [
          "Female",
          "Female",
          "Male",
          "Male"
         ],
         "xaxis": "x",
         "y": [
          7431,
          7345,
          6873,
          6779
         ],
         "yaxis": "y"
        },
        {
         "alignmentgroup": "True",
         "hovertemplate": "disease=Malaria<br>gender=%{x}<br>Number of Patients=%{y}<extra></extra>",
         "legendgroup": "Malaria",
         "marker": {
          "color": "#FFA15A"
         },
         "name": "Malaria",
         "offsetgroup": "Malaria",
         "orientation": "v",
         "showlegend": true,
         "textposition": "auto",
         "type": "bar",
         "x": [
          "Female",
          "Female",
          "Male",
          "Male"
         ],
         "xaxis": "x",
         "y": [
          7402,
          7228,
          6963,
          6942
         ],
         "yaxis": "y"
        },
        {
         "alignmentgroup": "True",
         "hovertemplate": "disease=Viral Haemmorrhaphic Fever<br>gender=%{x}<br>Number of Patients=%{y}<extra></extra>",
         "legendgroup": "Viral Haemmorrhaphic Fever",
         "marker": {
          "color": "#19d3f3"
         },
         "name": "Viral Haemmorrhaphic Fever",
         "offsetgroup": "Viral Haemmorrhaphic Fever",
         "orientation": "v",
         "showlegend": true,
         "textposition": "auto",
         "type": "bar",
         "x": [
          "Female",
          "Female",
          "Male",
          "Male"
         ],
         "xaxis": "x",
         "y": [
          7396,
          7370,
          6848,
          6787
         ],
         "yaxis": "y"
        },
        {
         "alignmentgroup": "True",
         "hovertemplate": "disease=Marburg Virus<br>gender=%{x}<br>Number of Patients=%{y}<extra></extra>",
         "legendgroup": "Marburg Virus",
         "marker": {
          "color": "#FF6692"
         },
         "name": "Marburg Virus",
         "offsetgroup": "Marburg Virus",
         "orientation": "v",
         "showlegend": true,
         "textposition": "auto",
         "type": "bar",
         "x": [
          "Female",
          "Female",
          "Male",
          "Male"
         ],
         "xaxis": "x",
         "y": [
          7380,
          7334,
          6886,
          6830
         ],
         "yaxis": "y"
        },
        {
         "alignmentgroup": "True",
         "hovertemplate": "disease=Meningitis<br>gender=%{x}<br>Number of Patients=%{y}<extra></extra>",
         "legendgroup": "Meningitis",
         "marker": {
          "color": "#B6E880"
         },
         "name": "Meningitis",
         "offsetgroup": "Meningitis",
         "orientation": "v",
         "showlegend": true,
         "textposition": "auto",
         "type": "bar",
         "x": [
          "Female",
          "Female",
          "Male",
          "Male"
         ],
         "xaxis": "x",
         "y": [
          7356,
          7335,
          6849,
          6822
         ],
         "yaxis": "y"
        },
        {
         "alignmentgroup": "True",
         "hovertemplate": "disease=Cholera<br>gender=%{x}<br>Number of Patients=%{y}<extra></extra>",
         "legendgroup": "Cholera",
         "marker": {
          "color": "#FF97FF"
         },
         "name": "Cholera",
         "offsetgroup": "Cholera",
         "orientation": "v",
         "showlegend": true,
         "textposition": "auto",
         "type": "bar",
         "x": [
          "Female",
          "Female",
          "Male",
          "Male",
          "Female"
         ],
         "xaxis": "x",
         "y": [
          7356,
          7316,
          6965,
          6951,
          1
         ],
         "yaxis": "y"
        },
        {
         "alignmentgroup": "True",
         "hovertemplate": "disease=Ebola<br>gender=%{x}<br>Number of Patients=%{y}<extra></extra>",
         "legendgroup": "Ebola",
         "marker": {
          "color": "#FECB52"
         },
         "name": "Ebola",
         "offsetgroup": "Ebola",
         "orientation": "v",
         "showlegend": true,
         "textposition": "auto",
         "type": "bar",
         "x": [
          "Female",
          "Female",
          "Male",
          "Male"
         ],
         "xaxis": "x",
         "y": [
          7336,
          7078,
          6936,
          6829
         ],
         "yaxis": "y"
        }
       ],
       "layout": {
        "barmode": "relative",
        "legend": {
         "title": {
          "text": "disease"
         },
         "tracegroupgap": 0
        },
        "margin": {
         "t": 60
        },
        "template": {
         "data": {
          "bar": [
           {
            "error_x": {
             "color": "#2a3f5f"
            },
            "error_y": {
             "color": "#2a3f5f"
            },
            "marker": {
             "line": {
              "color": "#E5ECF6",
              "width": 0.5
             }
            },
            "type": "bar"
           }
          ],
          "barpolar": [
           {
            "marker": {
             "line": {
              "color": "#E5ECF6",
              "width": 0.5
             }
            },
            "type": "barpolar"
           }
          ],
          "carpet": [
           {
            "aaxis": {
             "endlinecolor": "#2a3f5f",
             "gridcolor": "white",
             "linecolor": "white",
             "minorgridcolor": "white",
             "startlinecolor": "#2a3f5f"
            },
            "baxis": {
             "endlinecolor": "#2a3f5f",
             "gridcolor": "white",
             "linecolor": "white",
             "minorgridcolor": "white",
             "startlinecolor": "#2a3f5f"
            },
            "type": "carpet"
           }
          ],
          "choropleth": [
           {
            "colorbar": {
             "outlinewidth": 0,
             "ticks": ""
            },
            "type": "choropleth"
           }
          ],
          "contour": [
           {
            "colorbar": {
             "outlinewidth": 0,
             "ticks": ""
            },
            "colorscale": [
             [
              0,
              "#0d0887"
             ],
             [
              0.1111111111111111,
              "#46039f"
             ],
             [
              0.2222222222222222,
              "#7201a8"
             ],
             [
              0.3333333333333333,
              "#9c179e"
             ],
             [
              0.4444444444444444,
              "#bd3786"
             ],
             [
              0.5555555555555556,
              "#d8576b"
             ],
             [
              0.6666666666666666,
              "#ed7953"
             ],
             [
              0.7777777777777778,
              "#fb9f3a"
             ],
             [
              0.8888888888888888,
              "#fdca26"
             ],
             [
              1,
              "#f0f921"
             ]
            ],
            "type": "contour"
           }
          ],
          "contourcarpet": [
           {
            "colorbar": {
             "outlinewidth": 0,
             "ticks": ""
            },
            "type": "contourcarpet"
           }
          ],
          "heatmap": [
           {
            "colorbar": {
             "outlinewidth": 0,
             "ticks": ""
            },
            "colorscale": [
             [
              0,
              "#0d0887"
             ],
             [
              0.1111111111111111,
              "#46039f"
             ],
             [
              0.2222222222222222,
              "#7201a8"
             ],
             [
              0.3333333333333333,
              "#9c179e"
             ],
             [
              0.4444444444444444,
              "#bd3786"
             ],
             [
              0.5555555555555556,
              "#d8576b"
             ],
             [
              0.6666666666666666,
              "#ed7953"
             ],
             [
              0.7777777777777778,
              "#fb9f3a"
             ],
             [
              0.8888888888888888,
              "#fdca26"
             ],
             [
              1,
              "#f0f921"
             ]
            ],
            "type": "heatmap"
           }
          ],
          "heatmapgl": [
           {
            "colorbar": {
             "outlinewidth": 0,
             "ticks": ""
            },
            "colorscale": [
             [
              0,
              "#0d0887"
             ],
             [
              0.1111111111111111,
              "#46039f"
             ],
             [
              0.2222222222222222,
              "#7201a8"
             ],
             [
              0.3333333333333333,
              "#9c179e"
             ],
             [
              0.4444444444444444,
              "#bd3786"
             ],
             [
              0.5555555555555556,
              "#d8576b"
             ],
             [
              0.6666666666666666,
              "#ed7953"
             ],
             [
              0.7777777777777778,
              "#fb9f3a"
             ],
             [
              0.8888888888888888,
              "#fdca26"
             ],
             [
              1,
              "#f0f921"
             ]
            ],
            "type": "heatmapgl"
           }
          ],
          "histogram": [
           {
            "marker": {
             "colorbar": {
              "outlinewidth": 0,
              "ticks": ""
             }
            },
            "type": "histogram"
           }
          ],
          "histogram2d": [
           {
            "colorbar": {
             "outlinewidth": 0,
             "ticks": ""
            },
            "colorscale": [
             [
              0,
              "#0d0887"
             ],
             [
              0.1111111111111111,
              "#46039f"
             ],
             [
              0.2222222222222222,
              "#7201a8"
             ],
             [
              0.3333333333333333,
              "#9c179e"
             ],
             [
              0.4444444444444444,
              "#bd3786"
             ],
             [
              0.5555555555555556,
              "#d8576b"
             ],
             [
              0.6666666666666666,
              "#ed7953"
             ],
             [
              0.7777777777777778,
              "#fb9f3a"
             ],
             [
              0.8888888888888888,
              "#fdca26"
             ],
             [
              1,
              "#f0f921"
             ]
            ],
            "type": "histogram2d"
           }
          ],
          "histogram2dcontour": [
           {
            "colorbar": {
             "outlinewidth": 0,
             "ticks": ""
            },
            "colorscale": [
             [
              0,
              "#0d0887"
             ],
             [
              0.1111111111111111,
              "#46039f"
             ],
             [
              0.2222222222222222,
              "#7201a8"
             ],
             [
              0.3333333333333333,
              "#9c179e"
             ],
             [
              0.4444444444444444,
              "#bd3786"
             ],
             [
              0.5555555555555556,
              "#d8576b"
             ],
             [
              0.6666666666666666,
              "#ed7953"
             ],
             [
              0.7777777777777778,
              "#fb9f3a"
             ],
             [
              0.8888888888888888,
              "#fdca26"
             ],
             [
              1,
              "#f0f921"
             ]
            ],
            "type": "histogram2dcontour"
           }
          ],
          "mesh3d": [
           {
            "colorbar": {
             "outlinewidth": 0,
             "ticks": ""
            },
            "type": "mesh3d"
           }
          ],
          "parcoords": [
           {
            "line": {
             "colorbar": {
              "outlinewidth": 0,
              "ticks": ""
             }
            },
            "type": "parcoords"
           }
          ],
          "pie": [
           {
            "automargin": true,
            "type": "pie"
           }
          ],
          "scatter": [
           {
            "marker": {
             "colorbar": {
              "outlinewidth": 0,
              "ticks": ""
             }
            },
            "type": "scatter"
           }
          ],
          "scatter3d": [
           {
            "line": {
             "colorbar": {
              "outlinewidth": 0,
              "ticks": ""
             }
            },
            "marker": {
             "colorbar": {
              "outlinewidth": 0,
              "ticks": ""
             }
            },
            "type": "scatter3d"
           }
          ],
          "scattercarpet": [
           {
            "marker": {
             "colorbar": {
              "outlinewidth": 0,
              "ticks": ""
             }
            },
            "type": "scattercarpet"
           }
          ],
          "scattergeo": [
           {
            "marker": {
             "colorbar": {
              "outlinewidth": 0,
              "ticks": ""
             }
            },
            "type": "scattergeo"
           }
          ],
          "scattergl": [
           {
            "marker": {
             "colorbar": {
              "outlinewidth": 0,
              "ticks": ""
             }
            },
            "type": "scattergl"
           }
          ],
          "scattermapbox": [
           {
            "marker": {
             "colorbar": {
              "outlinewidth": 0,
              "ticks": ""
             }
            },
            "type": "scattermapbox"
           }
          ],
          "scatterpolar": [
           {
            "marker": {
             "colorbar": {
              "outlinewidth": 0,
              "ticks": ""
             }
            },
            "type": "scatterpolar"
           }
          ],
          "scatterpolargl": [
           {
            "marker": {
             "colorbar": {
              "outlinewidth": 0,
              "ticks": ""
             }
            },
            "type": "scatterpolargl"
           }
          ],
          "scatterternary": [
           {
            "marker": {
             "colorbar": {
              "outlinewidth": 0,
              "ticks": ""
             }
            },
            "type": "scatterternary"
           }
          ],
          "surface": [
           {
            "colorbar": {
             "outlinewidth": 0,
             "ticks": ""
            },
            "colorscale": [
             [
              0,
              "#0d0887"
             ],
             [
              0.1111111111111111,
              "#46039f"
             ],
             [
              0.2222222222222222,
              "#7201a8"
             ],
             [
              0.3333333333333333,
              "#9c179e"
             ],
             [
              0.4444444444444444,
              "#bd3786"
             ],
             [
              0.5555555555555556,
              "#d8576b"
             ],
             [
              0.6666666666666666,
              "#ed7953"
             ],
             [
              0.7777777777777778,
              "#fb9f3a"
             ],
             [
              0.8888888888888888,
              "#fdca26"
             ],
             [
              1,
              "#f0f921"
             ]
            ],
            "type": "surface"
           }
          ],
          "table": [
           {
            "cells": {
             "fill": {
              "color": "#EBF0F8"
             },
             "line": {
              "color": "white"
             }
            },
            "header": {
             "fill": {
              "color": "#C8D4E3"
             },
             "line": {
              "color": "white"
             }
            },
            "type": "table"
           }
          ]
         },
         "layout": {
          "annotationdefaults": {
           "arrowcolor": "#2a3f5f",
           "arrowhead": 0,
           "arrowwidth": 1
          },
          "autotypenumbers": "strict",
          "coloraxis": {
           "colorbar": {
            "outlinewidth": 0,
            "ticks": ""
           }
          },
          "colorscale": {
           "diverging": [
            [
             0,
             "#8e0152"
            ],
            [
             0.1,
             "#c51b7d"
            ],
            [
             0.2,
             "#de77ae"
            ],
            [
             0.3,
             "#f1b6da"
            ],
            [
             0.4,
             "#fde0ef"
            ],
            [
             0.5,
             "#f7f7f7"
            ],
            [
             0.6,
             "#e6f5d0"
            ],
            [
             0.7,
             "#b8e186"
            ],
            [
             0.8,
             "#7fbc41"
            ],
            [
             0.9,
             "#4d9221"
            ],
            [
             1,
             "#276419"
            ]
           ],
           "sequential": [
            [
             0,
             "#0d0887"
            ],
            [
             0.1111111111111111,
             "#46039f"
            ],
            [
             0.2222222222222222,
             "#7201a8"
            ],
            [
             0.3333333333333333,
             "#9c179e"
            ],
            [
             0.4444444444444444,
             "#bd3786"
            ],
            [
             0.5555555555555556,
             "#d8576b"
            ],
            [
             0.6666666666666666,
             "#ed7953"
            ],
            [
             0.7777777777777778,
             "#fb9f3a"
            ],
            [
             0.8888888888888888,
             "#fdca26"
            ],
            [
             1,
             "#f0f921"
            ]
           ],
           "sequentialminus": [
            [
             0,
             "#0d0887"
            ],
            [
             0.1111111111111111,
             "#46039f"
            ],
            [
             0.2222222222222222,
             "#7201a8"
            ],
            [
             0.3333333333333333,
             "#9c179e"
            ],
            [
             0.4444444444444444,
             "#bd3786"
            ],
            [
             0.5555555555555556,
             "#d8576b"
            ],
            [
             0.6666666666666666,
             "#ed7953"
            ],
            [
             0.7777777777777778,
             "#fb9f3a"
            ],
            [
             0.8888888888888888,
             "#fdca26"
            ],
            [
             1,
             "#f0f921"
            ]
           ]
          },
          "colorway": [
           "#636efa",
           "#EF553B",
           "#00cc96",
           "#ab63fa",
           "#FFA15A",
           "#19d3f3",
           "#FF6692",
           "#B6E880",
           "#FF97FF",
           "#FECB52"
          ],
          "font": {
           "color": "#2a3f5f"
          },
          "geo": {
           "bgcolor": "white",
           "lakecolor": "white",
           "landcolor": "#E5ECF6",
           "showlakes": true,
           "showland": true,
           "subunitcolor": "white"
          },
          "hoverlabel": {
           "align": "left"
          },
          "hovermode": "closest",
          "mapbox": {
           "style": "light"
          },
          "paper_bgcolor": "white",
          "plot_bgcolor": "#E5ECF6",
          "polar": {
           "angularaxis": {
            "gridcolor": "white",
            "linecolor": "white",
            "ticks": ""
           },
           "bgcolor": "#E5ECF6",
           "radialaxis": {
            "gridcolor": "white",
            "linecolor": "white",
            "ticks": ""
           }
          },
          "scene": {
           "xaxis": {
            "backgroundcolor": "#E5ECF6",
            "gridcolor": "white",
            "gridwidth": 2,
            "linecolor": "white",
            "showbackground": true,
            "ticks": "",
            "zerolinecolor": "white"
           },
           "yaxis": {
            "backgroundcolor": "#E5ECF6",
            "gridcolor": "white",
            "gridwidth": 2,
            "linecolor": "white",
            "showbackground": true,
            "ticks": "",
            "zerolinecolor": "white"
           },
           "zaxis": {
            "backgroundcolor": "#E5ECF6",
            "gridcolor": "white",
            "gridwidth": 2,
            "linecolor": "white",
            "showbackground": true,
            "ticks": "",
            "zerolinecolor": "white"
           }
          },
          "shapedefaults": {
           "line": {
            "color": "#2a3f5f"
           }
          },
          "ternary": {
           "aaxis": {
            "gridcolor": "white",
            "linecolor": "white",
            "ticks": ""
           },
           "baxis": {
            "gridcolor": "white",
            "linecolor": "white",
            "ticks": ""
           },
           "bgcolor": "#E5ECF6",
           "caxis": {
            "gridcolor": "white",
            "linecolor": "white",
            "ticks": ""
           }
          },
          "title": {
           "x": 0.05
          },
          "xaxis": {
           "automargin": true,
           "gridcolor": "white",
           "linecolor": "white",
           "ticks": "",
           "title": {
            "standoff": 15
           },
           "zerolinecolor": "white",
           "zerolinewidth": 2
          },
          "yaxis": {
           "automargin": true,
           "gridcolor": "white",
           "linecolor": "white",
           "ticks": "",
           "title": {
            "standoff": 15
           },
           "zerolinecolor": "white",
           "zerolinewidth": 2
          }
         }
        },
        "xaxis": {
         "anchor": "y",
         "domain": [
          0,
          1
         ],
         "title": {
          "text": "gender"
         }
        },
        "yaxis": {
         "anchor": "x",
         "domain": [
          0,
          1
         ],
         "title": {
          "text": "Number of Patients"
         }
        }
       }
      },
      "text/html": [
       "<div>                            <div id=\"4c0ce393-562d-4614-ad58-da9aff51847e\" class=\"plotly-graph-div\" style=\"height:525px; width:100%;\"></div>            <script type=\"text/javascript\">                require([\"plotly\"], function(Plotly) {                    window.PLOTLYENV=window.PLOTLYENV || {};                                    if (document.getElementById(\"4c0ce393-562d-4614-ad58-da9aff51847e\")) {                    Plotly.newPlot(                        \"4c0ce393-562d-4614-ad58-da9aff51847e\",                        [{\"alignmentgroup\": \"True\", \"hovertemplate\": \"disease=Diarrhoea<br>gender=%{x}<br>Number of Patients=%{y}<extra></extra>\", \"legendgroup\": \"Diarrhoea\", \"marker\": {\"color\": \"#636efa\"}, \"name\": \"Diarrhoea\", \"offsetgroup\": \"Diarrhoea\", \"orientation\": \"v\", \"showlegend\": true, \"textposition\": \"auto\", \"type\": \"bar\", \"x\": [\"Female\", \"Female\", \"Male\", \"Male\"], \"xaxis\": \"x\", \"y\": [7483, 7345, 6878, 6844], \"yaxis\": \"y\"}, {\"alignmentgroup\": \"True\", \"hovertemplate\": \"disease=Rubella Mars<br>gender=%{x}<br>Number of Patients=%{y}<extra></extra>\", \"legendgroup\": \"Rubella Mars\", \"marker\": {\"color\": \"#EF553B\"}, \"name\": \"Rubella Mars\", \"offsetgroup\": \"Rubella Mars\", \"orientation\": \"v\", \"showlegend\": true, \"textposition\": \"auto\", \"type\": \"bar\", \"x\": [\"Female\", \"Female\", \"Male\", \"Male\"], \"xaxis\": \"x\", \"y\": [7465, 7423, 6847, 6804], \"yaxis\": \"y\"}, {\"alignmentgroup\": \"True\", \"hovertemplate\": \"disease=Measles<br>gender=%{x}<br>Number of Patients=%{y}<extra></extra>\", \"legendgroup\": \"Measles\", \"marker\": {\"color\": \"#00cc96\"}, \"name\": \"Measles\", \"offsetgroup\": \"Measles\", \"orientation\": \"v\", \"showlegend\": true, \"textposition\": \"auto\", \"type\": \"bar\", \"x\": [\"Female\", \"Female\", \"Male\", \"Male\"], \"xaxis\": \"x\", \"y\": [7447, 7445, 6840, 6739], \"yaxis\": \"y\"}, {\"alignmentgroup\": \"True\", \"hovertemplate\": \"disease=Yellow Fever<br>gender=%{x}<br>Number of Patients=%{y}<extra></extra>\", \"legendgroup\": \"Yellow Fever\", \"marker\": {\"color\": \"#ab63fa\"}, \"name\": \"Yellow Fever\", \"offsetgroup\": \"Yellow Fever\", \"orientation\": \"v\", \"showlegend\": true, \"textposition\": \"auto\", \"type\": \"bar\", \"x\": [\"Female\", \"Female\", \"Male\", \"Male\"], \"xaxis\": \"x\", \"y\": [7431, 7345, 6873, 6779], \"yaxis\": \"y\"}, {\"alignmentgroup\": \"True\", \"hovertemplate\": \"disease=Malaria<br>gender=%{x}<br>Number of Patients=%{y}<extra></extra>\", \"legendgroup\": \"Malaria\", \"marker\": {\"color\": \"#FFA15A\"}, \"name\": \"Malaria\", \"offsetgroup\": \"Malaria\", \"orientation\": \"v\", \"showlegend\": true, \"textposition\": \"auto\", \"type\": \"bar\", \"x\": [\"Female\", \"Female\", \"Male\", \"Male\"], \"xaxis\": \"x\", \"y\": [7402, 7228, 6963, 6942], \"yaxis\": \"y\"}, {\"alignmentgroup\": \"True\", \"hovertemplate\": \"disease=Viral Haemmorrhaphic Fever<br>gender=%{x}<br>Number of Patients=%{y}<extra></extra>\", \"legendgroup\": \"Viral Haemmorrhaphic Fever\", \"marker\": {\"color\": \"#19d3f3\"}, \"name\": \"Viral Haemmorrhaphic Fever\", \"offsetgroup\": \"Viral Haemmorrhaphic Fever\", \"orientation\": \"v\", \"showlegend\": true, \"textposition\": \"auto\", \"type\": \"bar\", \"x\": [\"Female\", \"Female\", \"Male\", \"Male\"], \"xaxis\": \"x\", \"y\": [7396, 7370, 6848, 6787], \"yaxis\": \"y\"}, {\"alignmentgroup\": \"True\", \"hovertemplate\": \"disease=Marburg Virus<br>gender=%{x}<br>Number of Patients=%{y}<extra></extra>\", \"legendgroup\": \"Marburg Virus\", \"marker\": {\"color\": \"#FF6692\"}, \"name\": \"Marburg Virus\", \"offsetgroup\": \"Marburg Virus\", \"orientation\": \"v\", \"showlegend\": true, \"textposition\": \"auto\", \"type\": \"bar\", \"x\": [\"Female\", \"Female\", \"Male\", \"Male\"], \"xaxis\": \"x\", \"y\": [7380, 7334, 6886, 6830], \"yaxis\": \"y\"}, {\"alignmentgroup\": \"True\", \"hovertemplate\": \"disease=Meningitis<br>gender=%{x}<br>Number of Patients=%{y}<extra></extra>\", \"legendgroup\": \"Meningitis\", \"marker\": {\"color\": \"#B6E880\"}, \"name\": \"Meningitis\", \"offsetgroup\": \"Meningitis\", \"orientation\": \"v\", \"showlegend\": true, \"textposition\": \"auto\", \"type\": \"bar\", \"x\": [\"Female\", \"Female\", \"Male\", \"Male\"], \"xaxis\": \"x\", \"y\": [7356, 7335, 6849, 6822], \"yaxis\": \"y\"}, {\"alignmentgroup\": \"True\", \"hovertemplate\": \"disease=Cholera<br>gender=%{x}<br>Number of Patients=%{y}<extra></extra>\", \"legendgroup\": \"Cholera\", \"marker\": {\"color\": \"#FF97FF\"}, \"name\": \"Cholera\", \"offsetgroup\": \"Cholera\", \"orientation\": \"v\", \"showlegend\": true, \"textposition\": \"auto\", \"type\": \"bar\", \"x\": [\"Female\", \"Female\", \"Male\", \"Male\", \"Female\"], \"xaxis\": \"x\", \"y\": [7356, 7316, 6965, 6951, 1], \"yaxis\": \"y\"}, {\"alignmentgroup\": \"True\", \"hovertemplate\": \"disease=Ebola<br>gender=%{x}<br>Number of Patients=%{y}<extra></extra>\", \"legendgroup\": \"Ebola\", \"marker\": {\"color\": \"#FECB52\"}, \"name\": \"Ebola\", \"offsetgroup\": \"Ebola\", \"orientation\": \"v\", \"showlegend\": true, \"textposition\": \"auto\", \"type\": \"bar\", \"x\": [\"Female\", \"Female\", \"Male\", \"Male\"], \"xaxis\": \"x\", \"y\": [7336, 7078, 6936, 6829], \"yaxis\": \"y\"}],                        {\"barmode\": \"relative\", \"legend\": {\"title\": {\"text\": \"disease\"}, \"tracegroupgap\": 0}, \"margin\": {\"t\": 60}, \"template\": {\"data\": {\"bar\": [{\"error_x\": {\"color\": \"#2a3f5f\"}, \"error_y\": {\"color\": \"#2a3f5f\"}, \"marker\": {\"line\": {\"color\": \"#E5ECF6\", \"width\": 0.5}}, \"type\": \"bar\"}], \"barpolar\": [{\"marker\": {\"line\": {\"color\": \"#E5ECF6\", \"width\": 0.5}}, \"type\": \"barpolar\"}], \"carpet\": [{\"aaxis\": {\"endlinecolor\": \"#2a3f5f\", \"gridcolor\": \"white\", \"linecolor\": \"white\", \"minorgridcolor\": \"white\", \"startlinecolor\": \"#2a3f5f\"}, \"baxis\": {\"endlinecolor\": \"#2a3f5f\", \"gridcolor\": \"white\", \"linecolor\": \"white\", \"minorgridcolor\": \"white\", \"startlinecolor\": \"#2a3f5f\"}, \"type\": \"carpet\"}], \"choropleth\": [{\"colorbar\": {\"outlinewidth\": 0, \"ticks\": \"\"}, \"type\": \"choropleth\"}], \"contour\": [{\"colorbar\": {\"outlinewidth\": 0, \"ticks\": \"\"}, \"colorscale\": [[0.0, \"#0d0887\"], [0.1111111111111111, \"#46039f\"], [0.2222222222222222, \"#7201a8\"], [0.3333333333333333, \"#9c179e\"], [0.4444444444444444, \"#bd3786\"], [0.5555555555555556, \"#d8576b\"], [0.6666666666666666, \"#ed7953\"], [0.7777777777777778, \"#fb9f3a\"], [0.8888888888888888, \"#fdca26\"], [1.0, \"#f0f921\"]], \"type\": \"contour\"}], \"contourcarpet\": [{\"colorbar\": {\"outlinewidth\": 0, \"ticks\": \"\"}, \"type\": \"contourcarpet\"}], \"heatmap\": [{\"colorbar\": {\"outlinewidth\": 0, \"ticks\": \"\"}, \"colorscale\": [[0.0, \"#0d0887\"], [0.1111111111111111, \"#46039f\"], [0.2222222222222222, \"#7201a8\"], [0.3333333333333333, \"#9c179e\"], [0.4444444444444444, \"#bd3786\"], [0.5555555555555556, \"#d8576b\"], [0.6666666666666666, \"#ed7953\"], [0.7777777777777778, \"#fb9f3a\"], [0.8888888888888888, \"#fdca26\"], [1.0, \"#f0f921\"]], \"type\": \"heatmap\"}], \"heatmapgl\": [{\"colorbar\": {\"outlinewidth\": 0, \"ticks\": \"\"}, \"colorscale\": [[0.0, \"#0d0887\"], [0.1111111111111111, \"#46039f\"], [0.2222222222222222, \"#7201a8\"], [0.3333333333333333, \"#9c179e\"], [0.4444444444444444, \"#bd3786\"], [0.5555555555555556, \"#d8576b\"], [0.6666666666666666, \"#ed7953\"], [0.7777777777777778, \"#fb9f3a\"], [0.8888888888888888, \"#fdca26\"], [1.0, \"#f0f921\"]], \"type\": \"heatmapgl\"}], \"histogram\": [{\"marker\": {\"colorbar\": {\"outlinewidth\": 0, \"ticks\": \"\"}}, \"type\": \"histogram\"}], \"histogram2d\": [{\"colorbar\": {\"outlinewidth\": 0, \"ticks\": \"\"}, \"colorscale\": [[0.0, \"#0d0887\"], [0.1111111111111111, \"#46039f\"], [0.2222222222222222, \"#7201a8\"], [0.3333333333333333, \"#9c179e\"], [0.4444444444444444, \"#bd3786\"], [0.5555555555555556, \"#d8576b\"], [0.6666666666666666, \"#ed7953\"], [0.7777777777777778, \"#fb9f3a\"], [0.8888888888888888, \"#fdca26\"], [1.0, \"#f0f921\"]], \"type\": \"histogram2d\"}], \"histogram2dcontour\": [{\"colorbar\": {\"outlinewidth\": 0, \"ticks\": \"\"}, \"colorscale\": [[0.0, \"#0d0887\"], [0.1111111111111111, \"#46039f\"], [0.2222222222222222, \"#7201a8\"], [0.3333333333333333, \"#9c179e\"], [0.4444444444444444, \"#bd3786\"], [0.5555555555555556, \"#d8576b\"], [0.6666666666666666, \"#ed7953\"], [0.7777777777777778, \"#fb9f3a\"], [0.8888888888888888, \"#fdca26\"], [1.0, \"#f0f921\"]], \"type\": \"histogram2dcontour\"}], \"mesh3d\": [{\"colorbar\": {\"outlinewidth\": 0, \"ticks\": \"\"}, \"type\": \"mesh3d\"}], \"parcoords\": [{\"line\": {\"colorbar\": {\"outlinewidth\": 0, \"ticks\": \"\"}}, \"type\": \"parcoords\"}], \"pie\": [{\"automargin\": true, \"type\": \"pie\"}], \"scatter\": [{\"marker\": {\"colorbar\": {\"outlinewidth\": 0, \"ticks\": \"\"}}, \"type\": \"scatter\"}], \"scatter3d\": [{\"line\": {\"colorbar\": {\"outlinewidth\": 0, \"ticks\": \"\"}}, \"marker\": {\"colorbar\": {\"outlinewidth\": 0, \"ticks\": \"\"}}, \"type\": \"scatter3d\"}], \"scattercarpet\": [{\"marker\": {\"colorbar\": {\"outlinewidth\": 0, \"ticks\": \"\"}}, \"type\": \"scattercarpet\"}], \"scattergeo\": [{\"marker\": {\"colorbar\": {\"outlinewidth\": 0, \"ticks\": \"\"}}, \"type\": \"scattergeo\"}], \"scattergl\": [{\"marker\": {\"colorbar\": {\"outlinewidth\": 0, \"ticks\": \"\"}}, \"type\": \"scattergl\"}], \"scattermapbox\": [{\"marker\": {\"colorbar\": {\"outlinewidth\": 0, \"ticks\": \"\"}}, \"type\": \"scattermapbox\"}], \"scatterpolar\": [{\"marker\": {\"colorbar\": {\"outlinewidth\": 0, \"ticks\": \"\"}}, \"type\": \"scatterpolar\"}], \"scatterpolargl\": [{\"marker\": {\"colorbar\": {\"outlinewidth\": 0, \"ticks\": \"\"}}, \"type\": \"scatterpolargl\"}], \"scatterternary\": [{\"marker\": {\"colorbar\": {\"outlinewidth\": 0, \"ticks\": \"\"}}, \"type\": \"scatterternary\"}], \"surface\": [{\"colorbar\": {\"outlinewidth\": 0, \"ticks\": \"\"}, \"colorscale\": [[0.0, \"#0d0887\"], [0.1111111111111111, \"#46039f\"], [0.2222222222222222, \"#7201a8\"], [0.3333333333333333, \"#9c179e\"], [0.4444444444444444, \"#bd3786\"], [0.5555555555555556, \"#d8576b\"], [0.6666666666666666, \"#ed7953\"], [0.7777777777777778, \"#fb9f3a\"], [0.8888888888888888, \"#fdca26\"], [1.0, \"#f0f921\"]], \"type\": \"surface\"}], \"table\": [{\"cells\": {\"fill\": {\"color\": \"#EBF0F8\"}, \"line\": {\"color\": \"white\"}}, \"header\": {\"fill\": {\"color\": \"#C8D4E3\"}, \"line\": {\"color\": \"white\"}}, \"type\": \"table\"}]}, \"layout\": {\"annotationdefaults\": {\"arrowcolor\": \"#2a3f5f\", \"arrowhead\": 0, \"arrowwidth\": 1}, \"autotypenumbers\": \"strict\", \"coloraxis\": {\"colorbar\": {\"outlinewidth\": 0, \"ticks\": \"\"}}, \"colorscale\": {\"diverging\": [[0, \"#8e0152\"], [0.1, \"#c51b7d\"], [0.2, \"#de77ae\"], [0.3, \"#f1b6da\"], [0.4, \"#fde0ef\"], [0.5, \"#f7f7f7\"], [0.6, \"#e6f5d0\"], [0.7, \"#b8e186\"], [0.8, \"#7fbc41\"], [0.9, \"#4d9221\"], [1, \"#276419\"]], \"sequential\": [[0.0, \"#0d0887\"], [0.1111111111111111, \"#46039f\"], [0.2222222222222222, \"#7201a8\"], [0.3333333333333333, \"#9c179e\"], [0.4444444444444444, \"#bd3786\"], [0.5555555555555556, \"#d8576b\"], [0.6666666666666666, \"#ed7953\"], [0.7777777777777778, \"#fb9f3a\"], [0.8888888888888888, \"#fdca26\"], [1.0, \"#f0f921\"]], \"sequentialminus\": [[0.0, \"#0d0887\"], [0.1111111111111111, \"#46039f\"], [0.2222222222222222, \"#7201a8\"], [0.3333333333333333, \"#9c179e\"], [0.4444444444444444, \"#bd3786\"], [0.5555555555555556, \"#d8576b\"], [0.6666666666666666, \"#ed7953\"], [0.7777777777777778, \"#fb9f3a\"], [0.8888888888888888, \"#fdca26\"], [1.0, \"#f0f921\"]]}, \"colorway\": [\"#636efa\", \"#EF553B\", \"#00cc96\", \"#ab63fa\", \"#FFA15A\", \"#19d3f3\", \"#FF6692\", \"#B6E880\", \"#FF97FF\", \"#FECB52\"], \"font\": {\"color\": \"#2a3f5f\"}, \"geo\": {\"bgcolor\": \"white\", \"lakecolor\": \"white\", \"landcolor\": \"#E5ECF6\", \"showlakes\": true, \"showland\": true, \"subunitcolor\": \"white\"}, \"hoverlabel\": {\"align\": \"left\"}, \"hovermode\": \"closest\", \"mapbox\": {\"style\": \"light\"}, \"paper_bgcolor\": \"white\", \"plot_bgcolor\": \"#E5ECF6\", \"polar\": {\"angularaxis\": {\"gridcolor\": \"white\", \"linecolor\": \"white\", \"ticks\": \"\"}, \"bgcolor\": \"#E5ECF6\", \"radialaxis\": {\"gridcolor\": \"white\", \"linecolor\": \"white\", \"ticks\": \"\"}}, \"scene\": {\"xaxis\": {\"backgroundcolor\": \"#E5ECF6\", \"gridcolor\": \"white\", \"gridwidth\": 2, \"linecolor\": \"white\", \"showbackground\": true, \"ticks\": \"\", \"zerolinecolor\": \"white\"}, \"yaxis\": {\"backgroundcolor\": \"#E5ECF6\", \"gridcolor\": \"white\", \"gridwidth\": 2, \"linecolor\": \"white\", \"showbackground\": true, \"ticks\": \"\", \"zerolinecolor\": \"white\"}, \"zaxis\": {\"backgroundcolor\": \"#E5ECF6\", \"gridcolor\": \"white\", \"gridwidth\": 2, \"linecolor\": \"white\", \"showbackground\": true, \"ticks\": \"\", \"zerolinecolor\": \"white\"}}, \"shapedefaults\": {\"line\": {\"color\": \"#2a3f5f\"}}, \"ternary\": {\"aaxis\": {\"gridcolor\": \"white\", \"linecolor\": \"white\", \"ticks\": \"\"}, \"baxis\": {\"gridcolor\": \"white\", \"linecolor\": \"white\", \"ticks\": \"\"}, \"bgcolor\": \"#E5ECF6\", \"caxis\": {\"gridcolor\": \"white\", \"linecolor\": \"white\", \"ticks\": \"\"}}, \"title\": {\"x\": 0.05}, \"xaxis\": {\"automargin\": true, \"gridcolor\": \"white\", \"linecolor\": \"white\", \"ticks\": \"\", \"title\": {\"standoff\": 15}, \"zerolinecolor\": \"white\", \"zerolinewidth\": 2}, \"yaxis\": {\"automargin\": true, \"gridcolor\": \"white\", \"linecolor\": \"white\", \"ticks\": \"\", \"title\": {\"standoff\": 15}, \"zerolinecolor\": \"white\", \"zerolinewidth\": 2}}}, \"xaxis\": {\"anchor\": \"y\", \"domain\": [0.0, 1.0], \"title\": {\"text\": \"gender\"}}, \"yaxis\": {\"anchor\": \"x\", \"domain\": [0.0, 1.0], \"title\": {\"text\": \"Number of Patients\"}}},                        {\"responsive\": true}                    ).then(function(){\n",
       "                            \n",
       "var gd = document.getElementById('4c0ce393-562d-4614-ad58-da9aff51847e');\n",
       "var x = new MutationObserver(function (mutations, observer) {{\n",
       "        var display = window.getComputedStyle(gd).display;\n",
       "        if (!display || display === 'none') {{\n",
       "            console.log([gd, 'removed!']);\n",
       "            Plotly.purge(gd);\n",
       "            observer.disconnect();\n",
       "        }}\n",
       "}});\n",
       "\n",
       "// Listen for the removal of the full notebook cells\n",
       "var notebookContainer = gd.closest('#notebook-container');\n",
       "if (notebookContainer) {{\n",
       "    x.observe(notebookContainer, {childList: true});\n",
       "}}\n",
       "\n",
       "// Listen for the clearing of the current output cell\n",
       "var outputEl = gd.closest('.output');\n",
       "if (outputEl) {{\n",
       "    x.observe(outputEl, {childList: true});\n",
       "}}\n",
       "\n",
       "                        })                };                });            </script>        </div>"
      ]
     },
     "metadata": {},
     "output_type": "display_data"
    }
   ],
   "source": [
    "data_gender= data.groupby(['gender', 'disease', 'health_status'])['id'].count().reset_index(name='Number of Patients').sort_values(by= 'Number of Patients', ascending= False)\n",
    "data_gender\n",
    "\n",
    "px.bar(data_gender, x= 'gender' , y='Number of Patients', color= 'disease')\n"
   ]
  },
  {
   "cell_type": "code",
   "execution_count": 13,
   "id": "hungry-asset",
   "metadata": {
    "execution": {
     "iopub.execute_input": "2021-07-06T10:17:40.895335Z",
     "iopub.status.busy": "2021-07-06T10:17:40.875163Z",
     "iopub.status.idle": "2021-07-06T10:17:40.946220Z",
     "shell.execute_reply": "2021-07-06T10:17:40.945525Z",
     "shell.execute_reply.started": "2021-07-06T10:10:31.906450Z"
    },
    "papermill": {
     "duration": 0.165327,
     "end_time": "2021-07-06T10:17:40.946363",
     "exception": false,
     "start_time": "2021-07-06T10:17:40.781036",
     "status": "completed"
    },
    "tags": []
   },
   "outputs": [
    {
     "data": {
      "application/vnd.plotly.v1+json": {
       "config": {
        "plotlyServerURL": "https://plot.ly"
       },
       "data": [
        {
         "alignmentgroup": "True",
         "hovertemplate": "health_status=Dead<br>gender=%{x}<br>Number of Patients=%{y}<extra></extra>",
         "legendgroup": "Dead",
         "marker": {
          "color": "#636efa"
         },
         "name": "Dead",
         "offsetgroup": "Dead",
         "orientation": "v",
         "showlegend": true,
         "textposition": "auto",
         "type": "bar",
         "x": [
          "Female",
          "Female",
          "Female",
          "Female",
          "Female",
          "Female",
          "Female",
          "Female",
          "Female",
          "Female",
          "Male",
          "Male",
          "Male",
          "Male",
          "Male",
          "Male",
          "Male",
          "Male",
          "Male",
          "Male"
         ],
         "xaxis": "x",
         "y": [
          7483,
          7447,
          7431,
          7423,
          7380,
          7370,
          7356,
          7356,
          7336,
          7228,
          6965,
          6942,
          6878,
          6848,
          6847,
          6830,
          6829,
          6822,
          6779,
          6739
         ],
         "yaxis": "y"
        },
        {
         "alignmentgroup": "True",
         "hovertemplate": "health_status=Alive<br>gender=%{x}<br>Number of Patients=%{y}<extra></extra>",
         "legendgroup": "Alive",
         "marker": {
          "color": "#EF553B"
         },
         "name": "Alive",
         "offsetgroup": "Alive",
         "orientation": "v",
         "showlegend": true,
         "textposition": "auto",
         "type": "bar",
         "x": [
          "Female",
          "Female",
          "Female",
          "Female",
          "Female",
          "Female",
          "Female",
          "Female",
          "Female",
          "Female",
          "Male",
          "Male",
          "Male",
          "Male",
          "Male",
          "Male",
          "Male",
          "Male",
          "Male",
          "Male"
         ],
         "xaxis": "x",
         "y": [
          7465,
          7445,
          7402,
          7396,
          7345,
          7345,
          7335,
          7334,
          7316,
          7078,
          6963,
          6951,
          6936,
          6886,
          6873,
          6849,
          6844,
          6840,
          6804,
          6787
         ],
         "yaxis": "y"
        },
        {
         "alignmentgroup": "True",
         "hovertemplate": "health_status=alive<br>gender=%{x}<br>Number of Patients=%{y}<extra></extra>",
         "legendgroup": "alive",
         "marker": {
          "color": "#00cc96"
         },
         "name": "alive",
         "offsetgroup": "alive",
         "orientation": "v",
         "showlegend": true,
         "textposition": "auto",
         "type": "bar",
         "x": [
          "Female"
         ],
         "xaxis": "x",
         "y": [
          1
         ],
         "yaxis": "y"
        }
       ],
       "layout": {
        "barmode": "relative",
        "legend": {
         "title": {
          "text": "health_status"
         },
         "tracegroupgap": 0
        },
        "margin": {
         "t": 60
        },
        "template": {
         "data": {
          "bar": [
           {
            "error_x": {
             "color": "#2a3f5f"
            },
            "error_y": {
             "color": "#2a3f5f"
            },
            "marker": {
             "line": {
              "color": "#E5ECF6",
              "width": 0.5
             }
            },
            "type": "bar"
           }
          ],
          "barpolar": [
           {
            "marker": {
             "line": {
              "color": "#E5ECF6",
              "width": 0.5
             }
            },
            "type": "barpolar"
           }
          ],
          "carpet": [
           {
            "aaxis": {
             "endlinecolor": "#2a3f5f",
             "gridcolor": "white",
             "linecolor": "white",
             "minorgridcolor": "white",
             "startlinecolor": "#2a3f5f"
            },
            "baxis": {
             "endlinecolor": "#2a3f5f",
             "gridcolor": "white",
             "linecolor": "white",
             "minorgridcolor": "white",
             "startlinecolor": "#2a3f5f"
            },
            "type": "carpet"
           }
          ],
          "choropleth": [
           {
            "colorbar": {
             "outlinewidth": 0,
             "ticks": ""
            },
            "type": "choropleth"
           }
          ],
          "contour": [
           {
            "colorbar": {
             "outlinewidth": 0,
             "ticks": ""
            },
            "colorscale": [
             [
              0,
              "#0d0887"
             ],
             [
              0.1111111111111111,
              "#46039f"
             ],
             [
              0.2222222222222222,
              "#7201a8"
             ],
             [
              0.3333333333333333,
              "#9c179e"
             ],
             [
              0.4444444444444444,
              "#bd3786"
             ],
             [
              0.5555555555555556,
              "#d8576b"
             ],
             [
              0.6666666666666666,
              "#ed7953"
             ],
             [
              0.7777777777777778,
              "#fb9f3a"
             ],
             [
              0.8888888888888888,
              "#fdca26"
             ],
             [
              1,
              "#f0f921"
             ]
            ],
            "type": "contour"
           }
          ],
          "contourcarpet": [
           {
            "colorbar": {
             "outlinewidth": 0,
             "ticks": ""
            },
            "type": "contourcarpet"
           }
          ],
          "heatmap": [
           {
            "colorbar": {
             "outlinewidth": 0,
             "ticks": ""
            },
            "colorscale": [
             [
              0,
              "#0d0887"
             ],
             [
              0.1111111111111111,
              "#46039f"
             ],
             [
              0.2222222222222222,
              "#7201a8"
             ],
             [
              0.3333333333333333,
              "#9c179e"
             ],
             [
              0.4444444444444444,
              "#bd3786"
             ],
             [
              0.5555555555555556,
              "#d8576b"
             ],
             [
              0.6666666666666666,
              "#ed7953"
             ],
             [
              0.7777777777777778,
              "#fb9f3a"
             ],
             [
              0.8888888888888888,
              "#fdca26"
             ],
             [
              1,
              "#f0f921"
             ]
            ],
            "type": "heatmap"
           }
          ],
          "heatmapgl": [
           {
            "colorbar": {
             "outlinewidth": 0,
             "ticks": ""
            },
            "colorscale": [
             [
              0,
              "#0d0887"
             ],
             [
              0.1111111111111111,
              "#46039f"
             ],
             [
              0.2222222222222222,
              "#7201a8"
             ],
             [
              0.3333333333333333,
              "#9c179e"
             ],
             [
              0.4444444444444444,
              "#bd3786"
             ],
             [
              0.5555555555555556,
              "#d8576b"
             ],
             [
              0.6666666666666666,
              "#ed7953"
             ],
             [
              0.7777777777777778,
              "#fb9f3a"
             ],
             [
              0.8888888888888888,
              "#fdca26"
             ],
             [
              1,
              "#f0f921"
             ]
            ],
            "type": "heatmapgl"
           }
          ],
          "histogram": [
           {
            "marker": {
             "colorbar": {
              "outlinewidth": 0,
              "ticks": ""
             }
            },
            "type": "histogram"
           }
          ],
          "histogram2d": [
           {
            "colorbar": {
             "outlinewidth": 0,
             "ticks": ""
            },
            "colorscale": [
             [
              0,
              "#0d0887"
             ],
             [
              0.1111111111111111,
              "#46039f"
             ],
             [
              0.2222222222222222,
              "#7201a8"
             ],
             [
              0.3333333333333333,
              "#9c179e"
             ],
             [
              0.4444444444444444,
              "#bd3786"
             ],
             [
              0.5555555555555556,
              "#d8576b"
             ],
             [
              0.6666666666666666,
              "#ed7953"
             ],
             [
              0.7777777777777778,
              "#fb9f3a"
             ],
             [
              0.8888888888888888,
              "#fdca26"
             ],
             [
              1,
              "#f0f921"
             ]
            ],
            "type": "histogram2d"
           }
          ],
          "histogram2dcontour": [
           {
            "colorbar": {
             "outlinewidth": 0,
             "ticks": ""
            },
            "colorscale": [
             [
              0,
              "#0d0887"
             ],
             [
              0.1111111111111111,
              "#46039f"
             ],
             [
              0.2222222222222222,
              "#7201a8"
             ],
             [
              0.3333333333333333,
              "#9c179e"
             ],
             [
              0.4444444444444444,
              "#bd3786"
             ],
             [
              0.5555555555555556,
              "#d8576b"
             ],
             [
              0.6666666666666666,
              "#ed7953"
             ],
             [
              0.7777777777777778,
              "#fb9f3a"
             ],
             [
              0.8888888888888888,
              "#fdca26"
             ],
             [
              1,
              "#f0f921"
             ]
            ],
            "type": "histogram2dcontour"
           }
          ],
          "mesh3d": [
           {
            "colorbar": {
             "outlinewidth": 0,
             "ticks": ""
            },
            "type": "mesh3d"
           }
          ],
          "parcoords": [
           {
            "line": {
             "colorbar": {
              "outlinewidth": 0,
              "ticks": ""
             }
            },
            "type": "parcoords"
           }
          ],
          "pie": [
           {
            "automargin": true,
            "type": "pie"
           }
          ],
          "scatter": [
           {
            "marker": {
             "colorbar": {
              "outlinewidth": 0,
              "ticks": ""
             }
            },
            "type": "scatter"
           }
          ],
          "scatter3d": [
           {
            "line": {
             "colorbar": {
              "outlinewidth": 0,
              "ticks": ""
             }
            },
            "marker": {
             "colorbar": {
              "outlinewidth": 0,
              "ticks": ""
             }
            },
            "type": "scatter3d"
           }
          ],
          "scattercarpet": [
           {
            "marker": {
             "colorbar": {
              "outlinewidth": 0,
              "ticks": ""
             }
            },
            "type": "scattercarpet"
           }
          ],
          "scattergeo": [
           {
            "marker": {
             "colorbar": {
              "outlinewidth": 0,
              "ticks": ""
             }
            },
            "type": "scattergeo"
           }
          ],
          "scattergl": [
           {
            "marker": {
             "colorbar": {
              "outlinewidth": 0,
              "ticks": ""
             }
            },
            "type": "scattergl"
           }
          ],
          "scattermapbox": [
           {
            "marker": {
             "colorbar": {
              "outlinewidth": 0,
              "ticks": ""
             }
            },
            "type": "scattermapbox"
           }
          ],
          "scatterpolar": [
           {
            "marker": {
             "colorbar": {
              "outlinewidth": 0,
              "ticks": ""
             }
            },
            "type": "scatterpolar"
           }
          ],
          "scatterpolargl": [
           {
            "marker": {
             "colorbar": {
              "outlinewidth": 0,
              "ticks": ""
             }
            },
            "type": "scatterpolargl"
           }
          ],
          "scatterternary": [
           {
            "marker": {
             "colorbar": {
              "outlinewidth": 0,
              "ticks": ""
             }
            },
            "type": "scatterternary"
           }
          ],
          "surface": [
           {
            "colorbar": {
             "outlinewidth": 0,
             "ticks": ""
            },
            "colorscale": [
             [
              0,
              "#0d0887"
             ],
             [
              0.1111111111111111,
              "#46039f"
             ],
             [
              0.2222222222222222,
              "#7201a8"
             ],
             [
              0.3333333333333333,
              "#9c179e"
             ],
             [
              0.4444444444444444,
              "#bd3786"
             ],
             [
              0.5555555555555556,
              "#d8576b"
             ],
             [
              0.6666666666666666,
              "#ed7953"
             ],
             [
              0.7777777777777778,
              "#fb9f3a"
             ],
             [
              0.8888888888888888,
              "#fdca26"
             ],
             [
              1,
              "#f0f921"
             ]
            ],
            "type": "surface"
           }
          ],
          "table": [
           {
            "cells": {
             "fill": {
              "color": "#EBF0F8"
             },
             "line": {
              "color": "white"
             }
            },
            "header": {
             "fill": {
              "color": "#C8D4E3"
             },
             "line": {
              "color": "white"
             }
            },
            "type": "table"
           }
          ]
         },
         "layout": {
          "annotationdefaults": {
           "arrowcolor": "#2a3f5f",
           "arrowhead": 0,
           "arrowwidth": 1
          },
          "autotypenumbers": "strict",
          "coloraxis": {
           "colorbar": {
            "outlinewidth": 0,
            "ticks": ""
           }
          },
          "colorscale": {
           "diverging": [
            [
             0,
             "#8e0152"
            ],
            [
             0.1,
             "#c51b7d"
            ],
            [
             0.2,
             "#de77ae"
            ],
            [
             0.3,
             "#f1b6da"
            ],
            [
             0.4,
             "#fde0ef"
            ],
            [
             0.5,
             "#f7f7f7"
            ],
            [
             0.6,
             "#e6f5d0"
            ],
            [
             0.7,
             "#b8e186"
            ],
            [
             0.8,
             "#7fbc41"
            ],
            [
             0.9,
             "#4d9221"
            ],
            [
             1,
             "#276419"
            ]
           ],
           "sequential": [
            [
             0,
             "#0d0887"
            ],
            [
             0.1111111111111111,
             "#46039f"
            ],
            [
             0.2222222222222222,
             "#7201a8"
            ],
            [
             0.3333333333333333,
             "#9c179e"
            ],
            [
             0.4444444444444444,
             "#bd3786"
            ],
            [
             0.5555555555555556,
             "#d8576b"
            ],
            [
             0.6666666666666666,
             "#ed7953"
            ],
            [
             0.7777777777777778,
             "#fb9f3a"
            ],
            [
             0.8888888888888888,
             "#fdca26"
            ],
            [
             1,
             "#f0f921"
            ]
           ],
           "sequentialminus": [
            [
             0,
             "#0d0887"
            ],
            [
             0.1111111111111111,
             "#46039f"
            ],
            [
             0.2222222222222222,
             "#7201a8"
            ],
            [
             0.3333333333333333,
             "#9c179e"
            ],
            [
             0.4444444444444444,
             "#bd3786"
            ],
            [
             0.5555555555555556,
             "#d8576b"
            ],
            [
             0.6666666666666666,
             "#ed7953"
            ],
            [
             0.7777777777777778,
             "#fb9f3a"
            ],
            [
             0.8888888888888888,
             "#fdca26"
            ],
            [
             1,
             "#f0f921"
            ]
           ]
          },
          "colorway": [
           "#636efa",
           "#EF553B",
           "#00cc96",
           "#ab63fa",
           "#FFA15A",
           "#19d3f3",
           "#FF6692",
           "#B6E880",
           "#FF97FF",
           "#FECB52"
          ],
          "font": {
           "color": "#2a3f5f"
          },
          "geo": {
           "bgcolor": "white",
           "lakecolor": "white",
           "landcolor": "#E5ECF6",
           "showlakes": true,
           "showland": true,
           "subunitcolor": "white"
          },
          "hoverlabel": {
           "align": "left"
          },
          "hovermode": "closest",
          "mapbox": {
           "style": "light"
          },
          "paper_bgcolor": "white",
          "plot_bgcolor": "#E5ECF6",
          "polar": {
           "angularaxis": {
            "gridcolor": "white",
            "linecolor": "white",
            "ticks": ""
           },
           "bgcolor": "#E5ECF6",
           "radialaxis": {
            "gridcolor": "white",
            "linecolor": "white",
            "ticks": ""
           }
          },
          "scene": {
           "xaxis": {
            "backgroundcolor": "#E5ECF6",
            "gridcolor": "white",
            "gridwidth": 2,
            "linecolor": "white",
            "showbackground": true,
            "ticks": "",
            "zerolinecolor": "white"
           },
           "yaxis": {
            "backgroundcolor": "#E5ECF6",
            "gridcolor": "white",
            "gridwidth": 2,
            "linecolor": "white",
            "showbackground": true,
            "ticks": "",
            "zerolinecolor": "white"
           },
           "zaxis": {
            "backgroundcolor": "#E5ECF6",
            "gridcolor": "white",
            "gridwidth": 2,
            "linecolor": "white",
            "showbackground": true,
            "ticks": "",
            "zerolinecolor": "white"
           }
          },
          "shapedefaults": {
           "line": {
            "color": "#2a3f5f"
           }
          },
          "ternary": {
           "aaxis": {
            "gridcolor": "white",
            "linecolor": "white",
            "ticks": ""
           },
           "baxis": {
            "gridcolor": "white",
            "linecolor": "white",
            "ticks": ""
           },
           "bgcolor": "#E5ECF6",
           "caxis": {
            "gridcolor": "white",
            "linecolor": "white",
            "ticks": ""
           }
          },
          "title": {
           "x": 0.05
          },
          "xaxis": {
           "automargin": true,
           "gridcolor": "white",
           "linecolor": "white",
           "ticks": "",
           "title": {
            "standoff": 15
           },
           "zerolinecolor": "white",
           "zerolinewidth": 2
          },
          "yaxis": {
           "automargin": true,
           "gridcolor": "white",
           "linecolor": "white",
           "ticks": "",
           "title": {
            "standoff": 15
           },
           "zerolinecolor": "white",
           "zerolinewidth": 2
          }
         }
        },
        "xaxis": {
         "anchor": "y",
         "domain": [
          0,
          1
         ],
         "title": {
          "text": "gender"
         }
        },
        "yaxis": {
         "anchor": "x",
         "domain": [
          0,
          1
         ],
         "title": {
          "text": "Number of Patients"
         }
        }
       }
      },
      "text/html": [
       "<div>                            <div id=\"81579eed-e817-4b18-8bfa-78f3e70301a5\" class=\"plotly-graph-div\" style=\"height:525px; width:100%;\"></div>            <script type=\"text/javascript\">                require([\"plotly\"], function(Plotly) {                    window.PLOTLYENV=window.PLOTLYENV || {};                                    if (document.getElementById(\"81579eed-e817-4b18-8bfa-78f3e70301a5\")) {                    Plotly.newPlot(                        \"81579eed-e817-4b18-8bfa-78f3e70301a5\",                        [{\"alignmentgroup\": \"True\", \"hovertemplate\": \"health_status=Dead<br>gender=%{x}<br>Number of Patients=%{y}<extra></extra>\", \"legendgroup\": \"Dead\", \"marker\": {\"color\": \"#636efa\"}, \"name\": \"Dead\", \"offsetgroup\": \"Dead\", \"orientation\": \"v\", \"showlegend\": true, \"textposition\": \"auto\", \"type\": \"bar\", \"x\": [\"Female\", \"Female\", \"Female\", \"Female\", \"Female\", \"Female\", \"Female\", \"Female\", \"Female\", \"Female\", \"Male\", \"Male\", \"Male\", \"Male\", \"Male\", \"Male\", \"Male\", \"Male\", \"Male\", \"Male\"], \"xaxis\": \"x\", \"y\": [7483, 7447, 7431, 7423, 7380, 7370, 7356, 7356, 7336, 7228, 6965, 6942, 6878, 6848, 6847, 6830, 6829, 6822, 6779, 6739], \"yaxis\": \"y\"}, {\"alignmentgroup\": \"True\", \"hovertemplate\": \"health_status=Alive<br>gender=%{x}<br>Number of Patients=%{y}<extra></extra>\", \"legendgroup\": \"Alive\", \"marker\": {\"color\": \"#EF553B\"}, \"name\": \"Alive\", \"offsetgroup\": \"Alive\", \"orientation\": \"v\", \"showlegend\": true, \"textposition\": \"auto\", \"type\": \"bar\", \"x\": [\"Female\", \"Female\", \"Female\", \"Female\", \"Female\", \"Female\", \"Female\", \"Female\", \"Female\", \"Female\", \"Male\", \"Male\", \"Male\", \"Male\", \"Male\", \"Male\", \"Male\", \"Male\", \"Male\", \"Male\"], \"xaxis\": \"x\", \"y\": [7465, 7445, 7402, 7396, 7345, 7345, 7335, 7334, 7316, 7078, 6963, 6951, 6936, 6886, 6873, 6849, 6844, 6840, 6804, 6787], \"yaxis\": \"y\"}, {\"alignmentgroup\": \"True\", \"hovertemplate\": \"health_status=alive<br>gender=%{x}<br>Number of Patients=%{y}<extra></extra>\", \"legendgroup\": \"alive\", \"marker\": {\"color\": \"#00cc96\"}, \"name\": \"alive\", \"offsetgroup\": \"alive\", \"orientation\": \"v\", \"showlegend\": true, \"textposition\": \"auto\", \"type\": \"bar\", \"x\": [\"Female\"], \"xaxis\": \"x\", \"y\": [1], \"yaxis\": \"y\"}],                        {\"barmode\": \"relative\", \"legend\": {\"title\": {\"text\": \"health_status\"}, \"tracegroupgap\": 0}, \"margin\": {\"t\": 60}, \"template\": {\"data\": {\"bar\": [{\"error_x\": {\"color\": \"#2a3f5f\"}, \"error_y\": {\"color\": \"#2a3f5f\"}, \"marker\": {\"line\": {\"color\": \"#E5ECF6\", \"width\": 0.5}}, \"type\": \"bar\"}], \"barpolar\": [{\"marker\": {\"line\": {\"color\": \"#E5ECF6\", \"width\": 0.5}}, \"type\": \"barpolar\"}], \"carpet\": [{\"aaxis\": {\"endlinecolor\": \"#2a3f5f\", \"gridcolor\": \"white\", \"linecolor\": \"white\", \"minorgridcolor\": \"white\", \"startlinecolor\": \"#2a3f5f\"}, \"baxis\": {\"endlinecolor\": \"#2a3f5f\", \"gridcolor\": \"white\", \"linecolor\": \"white\", \"minorgridcolor\": \"white\", \"startlinecolor\": \"#2a3f5f\"}, \"type\": \"carpet\"}], \"choropleth\": [{\"colorbar\": {\"outlinewidth\": 0, \"ticks\": \"\"}, \"type\": \"choropleth\"}], \"contour\": [{\"colorbar\": {\"outlinewidth\": 0, \"ticks\": \"\"}, \"colorscale\": [[0.0, \"#0d0887\"], [0.1111111111111111, \"#46039f\"], [0.2222222222222222, \"#7201a8\"], [0.3333333333333333, \"#9c179e\"], [0.4444444444444444, \"#bd3786\"], [0.5555555555555556, \"#d8576b\"], [0.6666666666666666, \"#ed7953\"], [0.7777777777777778, \"#fb9f3a\"], [0.8888888888888888, \"#fdca26\"], [1.0, \"#f0f921\"]], \"type\": \"contour\"}], \"contourcarpet\": [{\"colorbar\": {\"outlinewidth\": 0, \"ticks\": \"\"}, \"type\": \"contourcarpet\"}], \"heatmap\": [{\"colorbar\": {\"outlinewidth\": 0, \"ticks\": \"\"}, \"colorscale\": [[0.0, \"#0d0887\"], [0.1111111111111111, \"#46039f\"], [0.2222222222222222, \"#7201a8\"], [0.3333333333333333, \"#9c179e\"], [0.4444444444444444, \"#bd3786\"], [0.5555555555555556, \"#d8576b\"], [0.6666666666666666, \"#ed7953\"], [0.7777777777777778, \"#fb9f3a\"], [0.8888888888888888, \"#fdca26\"], [1.0, \"#f0f921\"]], \"type\": \"heatmap\"}], \"heatmapgl\": [{\"colorbar\": {\"outlinewidth\": 0, \"ticks\": \"\"}, \"colorscale\": [[0.0, \"#0d0887\"], [0.1111111111111111, \"#46039f\"], [0.2222222222222222, \"#7201a8\"], [0.3333333333333333, \"#9c179e\"], [0.4444444444444444, \"#bd3786\"], [0.5555555555555556, \"#d8576b\"], [0.6666666666666666, \"#ed7953\"], [0.7777777777777778, \"#fb9f3a\"], [0.8888888888888888, \"#fdca26\"], [1.0, \"#f0f921\"]], \"type\": \"heatmapgl\"}], \"histogram\": [{\"marker\": {\"colorbar\": {\"outlinewidth\": 0, \"ticks\": \"\"}}, \"type\": \"histogram\"}], \"histogram2d\": [{\"colorbar\": {\"outlinewidth\": 0, \"ticks\": \"\"}, \"colorscale\": [[0.0, \"#0d0887\"], [0.1111111111111111, \"#46039f\"], [0.2222222222222222, \"#7201a8\"], [0.3333333333333333, \"#9c179e\"], [0.4444444444444444, \"#bd3786\"], [0.5555555555555556, \"#d8576b\"], [0.6666666666666666, \"#ed7953\"], [0.7777777777777778, \"#fb9f3a\"], [0.8888888888888888, \"#fdca26\"], [1.0, \"#f0f921\"]], \"type\": \"histogram2d\"}], \"histogram2dcontour\": [{\"colorbar\": {\"outlinewidth\": 0, \"ticks\": \"\"}, \"colorscale\": [[0.0, \"#0d0887\"], [0.1111111111111111, \"#46039f\"], [0.2222222222222222, \"#7201a8\"], [0.3333333333333333, \"#9c179e\"], [0.4444444444444444, \"#bd3786\"], [0.5555555555555556, \"#d8576b\"], [0.6666666666666666, \"#ed7953\"], [0.7777777777777778, \"#fb9f3a\"], [0.8888888888888888, \"#fdca26\"], [1.0, \"#f0f921\"]], \"type\": \"histogram2dcontour\"}], \"mesh3d\": [{\"colorbar\": {\"outlinewidth\": 0, \"ticks\": \"\"}, \"type\": \"mesh3d\"}], \"parcoords\": [{\"line\": {\"colorbar\": {\"outlinewidth\": 0, \"ticks\": \"\"}}, \"type\": \"parcoords\"}], \"pie\": [{\"automargin\": true, \"type\": \"pie\"}], \"scatter\": [{\"marker\": {\"colorbar\": {\"outlinewidth\": 0, \"ticks\": \"\"}}, \"type\": \"scatter\"}], \"scatter3d\": [{\"line\": {\"colorbar\": {\"outlinewidth\": 0, \"ticks\": \"\"}}, \"marker\": {\"colorbar\": {\"outlinewidth\": 0, \"ticks\": \"\"}}, \"type\": \"scatter3d\"}], \"scattercarpet\": [{\"marker\": {\"colorbar\": {\"outlinewidth\": 0, \"ticks\": \"\"}}, \"type\": \"scattercarpet\"}], \"scattergeo\": [{\"marker\": {\"colorbar\": {\"outlinewidth\": 0, \"ticks\": \"\"}}, \"type\": \"scattergeo\"}], \"scattergl\": [{\"marker\": {\"colorbar\": {\"outlinewidth\": 0, \"ticks\": \"\"}}, \"type\": \"scattergl\"}], \"scattermapbox\": [{\"marker\": {\"colorbar\": {\"outlinewidth\": 0, \"ticks\": \"\"}}, \"type\": \"scattermapbox\"}], \"scatterpolar\": [{\"marker\": {\"colorbar\": {\"outlinewidth\": 0, \"ticks\": \"\"}}, \"type\": \"scatterpolar\"}], \"scatterpolargl\": [{\"marker\": {\"colorbar\": {\"outlinewidth\": 0, \"ticks\": \"\"}}, \"type\": \"scatterpolargl\"}], \"scatterternary\": [{\"marker\": {\"colorbar\": {\"outlinewidth\": 0, \"ticks\": \"\"}}, \"type\": \"scatterternary\"}], \"surface\": [{\"colorbar\": {\"outlinewidth\": 0, \"ticks\": \"\"}, \"colorscale\": [[0.0, \"#0d0887\"], [0.1111111111111111, \"#46039f\"], [0.2222222222222222, \"#7201a8\"], [0.3333333333333333, \"#9c179e\"], [0.4444444444444444, \"#bd3786\"], [0.5555555555555556, \"#d8576b\"], [0.6666666666666666, \"#ed7953\"], [0.7777777777777778, \"#fb9f3a\"], [0.8888888888888888, \"#fdca26\"], [1.0, \"#f0f921\"]], \"type\": \"surface\"}], \"table\": [{\"cells\": {\"fill\": {\"color\": \"#EBF0F8\"}, \"line\": {\"color\": \"white\"}}, \"header\": {\"fill\": {\"color\": \"#C8D4E3\"}, \"line\": {\"color\": \"white\"}}, \"type\": \"table\"}]}, \"layout\": {\"annotationdefaults\": {\"arrowcolor\": \"#2a3f5f\", \"arrowhead\": 0, \"arrowwidth\": 1}, \"autotypenumbers\": \"strict\", \"coloraxis\": {\"colorbar\": {\"outlinewidth\": 0, \"ticks\": \"\"}}, \"colorscale\": {\"diverging\": [[0, \"#8e0152\"], [0.1, \"#c51b7d\"], [0.2, \"#de77ae\"], [0.3, \"#f1b6da\"], [0.4, \"#fde0ef\"], [0.5, \"#f7f7f7\"], [0.6, \"#e6f5d0\"], [0.7, \"#b8e186\"], [0.8, \"#7fbc41\"], [0.9, \"#4d9221\"], [1, \"#276419\"]], \"sequential\": [[0.0, \"#0d0887\"], [0.1111111111111111, \"#46039f\"], [0.2222222222222222, \"#7201a8\"], [0.3333333333333333, \"#9c179e\"], [0.4444444444444444, \"#bd3786\"], [0.5555555555555556, \"#d8576b\"], [0.6666666666666666, \"#ed7953\"], [0.7777777777777778, \"#fb9f3a\"], [0.8888888888888888, \"#fdca26\"], [1.0, \"#f0f921\"]], \"sequentialminus\": [[0.0, \"#0d0887\"], [0.1111111111111111, \"#46039f\"], [0.2222222222222222, \"#7201a8\"], [0.3333333333333333, \"#9c179e\"], [0.4444444444444444, \"#bd3786\"], [0.5555555555555556, \"#d8576b\"], [0.6666666666666666, \"#ed7953\"], [0.7777777777777778, \"#fb9f3a\"], [0.8888888888888888, \"#fdca26\"], [1.0, \"#f0f921\"]]}, \"colorway\": [\"#636efa\", \"#EF553B\", \"#00cc96\", \"#ab63fa\", \"#FFA15A\", \"#19d3f3\", \"#FF6692\", \"#B6E880\", \"#FF97FF\", \"#FECB52\"], \"font\": {\"color\": \"#2a3f5f\"}, \"geo\": {\"bgcolor\": \"white\", \"lakecolor\": \"white\", \"landcolor\": \"#E5ECF6\", \"showlakes\": true, \"showland\": true, \"subunitcolor\": \"white\"}, \"hoverlabel\": {\"align\": \"left\"}, \"hovermode\": \"closest\", \"mapbox\": {\"style\": \"light\"}, \"paper_bgcolor\": \"white\", \"plot_bgcolor\": \"#E5ECF6\", \"polar\": {\"angularaxis\": {\"gridcolor\": \"white\", \"linecolor\": \"white\", \"ticks\": \"\"}, \"bgcolor\": \"#E5ECF6\", \"radialaxis\": {\"gridcolor\": \"white\", \"linecolor\": \"white\", \"ticks\": \"\"}}, \"scene\": {\"xaxis\": {\"backgroundcolor\": \"#E5ECF6\", \"gridcolor\": \"white\", \"gridwidth\": 2, \"linecolor\": \"white\", \"showbackground\": true, \"ticks\": \"\", \"zerolinecolor\": \"white\"}, \"yaxis\": {\"backgroundcolor\": \"#E5ECF6\", \"gridcolor\": \"white\", \"gridwidth\": 2, \"linecolor\": \"white\", \"showbackground\": true, \"ticks\": \"\", \"zerolinecolor\": \"white\"}, \"zaxis\": {\"backgroundcolor\": \"#E5ECF6\", \"gridcolor\": \"white\", \"gridwidth\": 2, \"linecolor\": \"white\", \"showbackground\": true, \"ticks\": \"\", \"zerolinecolor\": \"white\"}}, \"shapedefaults\": {\"line\": {\"color\": \"#2a3f5f\"}}, \"ternary\": {\"aaxis\": {\"gridcolor\": \"white\", \"linecolor\": \"white\", \"ticks\": \"\"}, \"baxis\": {\"gridcolor\": \"white\", \"linecolor\": \"white\", \"ticks\": \"\"}, \"bgcolor\": \"#E5ECF6\", \"caxis\": {\"gridcolor\": \"white\", \"linecolor\": \"white\", \"ticks\": \"\"}}, \"title\": {\"x\": 0.05}, \"xaxis\": {\"automargin\": true, \"gridcolor\": \"white\", \"linecolor\": \"white\", \"ticks\": \"\", \"title\": {\"standoff\": 15}, \"zerolinecolor\": \"white\", \"zerolinewidth\": 2}, \"yaxis\": {\"automargin\": true, \"gridcolor\": \"white\", \"linecolor\": \"white\", \"ticks\": \"\", \"title\": {\"standoff\": 15}, \"zerolinecolor\": \"white\", \"zerolinewidth\": 2}}}, \"xaxis\": {\"anchor\": \"y\", \"domain\": [0.0, 1.0], \"title\": {\"text\": \"gender\"}}, \"yaxis\": {\"anchor\": \"x\", \"domain\": [0.0, 1.0], \"title\": {\"text\": \"Number of Patients\"}}},                        {\"responsive\": true}                    ).then(function(){\n",
       "                            \n",
       "var gd = document.getElementById('81579eed-e817-4b18-8bfa-78f3e70301a5');\n",
       "var x = new MutationObserver(function (mutations, observer) {{\n",
       "        var display = window.getComputedStyle(gd).display;\n",
       "        if (!display || display === 'none') {{\n",
       "            console.log([gd, 'removed!']);\n",
       "            Plotly.purge(gd);\n",
       "            observer.disconnect();\n",
       "        }}\n",
       "}});\n",
       "\n",
       "// Listen for the removal of the full notebook cells\n",
       "var notebookContainer = gd.closest('#notebook-container');\n",
       "if (notebookContainer) {{\n",
       "    x.observe(notebookContainer, {childList: true});\n",
       "}}\n",
       "\n",
       "// Listen for the clearing of the current output cell\n",
       "var outputEl = gd.closest('.output');\n",
       "if (outputEl) {{\n",
       "    x.observe(outputEl, {childList: true});\n",
       "}}\n",
       "\n",
       "                        })                };                });            </script>        </div>"
      ]
     },
     "metadata": {},
     "output_type": "display_data"
    }
   ],
   "source": [
    "px.bar(data_gender, x= 'gender' , y='Number of Patients', color= 'health_status')\n"
   ]
  },
  {
   "cell_type": "code",
   "execution_count": 14,
   "id": "soviet-clock",
   "metadata": {
    "execution": {
     "iopub.execute_input": "2021-07-06T10:17:41.171636Z",
     "iopub.status.busy": "2021-07-06T10:17:41.170828Z",
     "iopub.status.idle": "2021-07-06T10:17:41.220841Z",
     "shell.execute_reply": "2021-07-06T10:17:41.220275Z",
     "shell.execute_reply.started": "2021-07-06T10:10:31.990131Z"
    },
    "papermill": {
     "duration": 0.185168,
     "end_time": "2021-07-06T10:17:41.221004",
     "exception": false,
     "start_time": "2021-07-06T10:17:41.035836",
     "status": "completed"
    },
    "tags": []
   },
   "outputs": [
    {
     "data": {
      "text/plain": [
       "Female    73461\n",
       "Male      68733\n",
       "Name: gender, dtype: int64"
      ]
     },
     "execution_count": 14,
     "metadata": {},
     "output_type": "execute_result"
    }
   ],
   "source": [
    "data1=data.loc[data['health_status']== 'Alive']\n",
    "data1.gender.value_counts()"
   ]
  },
  {
   "cell_type": "code",
   "execution_count": 15,
   "id": "spare-dubai",
   "metadata": {
    "execution": {
     "iopub.execute_input": "2021-07-06T10:17:41.445163Z",
     "iopub.status.busy": "2021-07-06T10:17:41.444456Z",
     "iopub.status.idle": "2021-07-06T10:17:41.496140Z",
     "shell.execute_reply": "2021-07-06T10:17:41.495609Z",
     "shell.execute_reply.started": "2021-07-06T10:10:32.085173Z"
    },
    "papermill": {
     "duration": 0.185328,
     "end_time": "2021-07-06T10:17:41.496284",
     "exception": false,
     "start_time": "2021-07-06T10:17:41.310956",
     "status": "completed"
    },
    "tags": []
   },
   "outputs": [
    {
     "data": {
      "text/plain": [
       "Female    73810\n",
       "Male      68479\n",
       "Name: gender, dtype: int64"
      ]
     },
     "execution_count": 15,
     "metadata": {},
     "output_type": "execute_result"
    }
   ],
   "source": [
    "data1=data.loc[data['health_status']== 'Dead']\n",
    "data1.gender.value_counts()"
   ]
  },
  {
   "cell_type": "markdown",
   "id": "involved-skiing",
   "metadata": {
    "papermill": {
     "duration": 0.090045,
     "end_time": "2021-07-06T10:17:41.677271",
     "exception": false,
     "start_time": "2021-07-06T10:17:41.587226",
     "status": "completed"
    },
    "tags": []
   },
   "source": [
    "the features have no correlation with dieseas or with eachothers!!!!"
   ]
  },
  {
   "cell_type": "markdown",
   "id": "premier-priority",
   "metadata": {
    "papermill": {
     "duration": 0.0902,
     "end_time": "2021-07-06T10:17:41.857715",
     "exception": false,
     "start_time": "2021-07-06T10:17:41.767515",
     "status": "completed"
    },
    "tags": []
   },
   "source": [
    "# dieseas and age of Patients"
   ]
  },
  {
   "cell_type": "code",
   "execution_count": 16,
   "id": "derived-needle",
   "metadata": {
    "execution": {
     "iopub.execute_input": "2021-07-06T10:17:42.044559Z",
     "iopub.status.busy": "2021-07-06T10:17:42.043487Z",
     "iopub.status.idle": "2021-07-06T10:17:42.192469Z",
     "shell.execute_reply": "2021-07-06T10:17:42.192995Z",
     "shell.execute_reply.started": "2021-07-06T10:10:32.178924Z"
    },
    "papermill": {
     "duration": 0.246022,
     "end_time": "2021-07-06T10:17:42.193169",
     "exception": false,
     "start_time": "2021-07-06T10:17:41.947147",
     "status": "completed"
    },
    "tags": []
   },
   "outputs": [
    {
     "data": {
      "application/vnd.plotly.v1+json": {
       "config": {
        "plotlyServerURL": "https://plot.ly"
       },
       "data": [
        {
         "alignmentgroup": "True",
         "hovertemplate": "health_status=Alive<br>age=%{x}<br>Number of Patients=%{y}<extra></extra>",
         "legendgroup": "Alive",
         "marker": {
          "color": "#636efa"
         },
         "name": "Alive",
         "offsetgroup": "Alive",
         "orientation": "v",
         "showlegend": true,
         "textposition": "auto",
         "type": "bar",
         "x": [
          2,
          2,
          2,
          2,
          2,
          2,
          2,
          2,
          2,
          3,
          3,
          3,
          2,
          3,
          3,
          4,
          3,
          4,
          3,
          4,
          4,
          3,
          4,
          3,
          5,
          4,
          4,
          5,
          5,
          3,
          6,
          4,
          4,
          7,
          5,
          6,
          5,
          4,
          5,
          5,
          5,
          5,
          6,
          6,
          6,
          5,
          7,
          6,
          8,
          6,
          7,
          6,
          6,
          7,
          7,
          7,
          7,
          7,
          7,
          8,
          7,
          8,
          9,
          9,
          6,
          8,
          8,
          8,
          9,
          8,
          58,
          8,
          9,
          8,
          9,
          10,
          1,
          9,
          8,
          11,
          9,
          9,
          9,
          1,
          10,
          10,
          25,
          23,
          1,
          10,
          9,
          1,
          20,
          10,
          10,
          11,
          11,
          10,
          1,
          1,
          29,
          10,
          1,
          57,
          34,
          32,
          26,
          33,
          49,
          31,
          47,
          30,
          11,
          1,
          10,
          47,
          35,
          65,
          62,
          11,
          28,
          10,
          34,
          49,
          26,
          11,
          34,
          1,
          44,
          50,
          34,
          37,
          36,
          63,
          18,
          52,
          12,
          12,
          54,
          13,
          12,
          58,
          17,
          1,
          50,
          12,
          40,
          21,
          27,
          65,
          52,
          66,
          19,
          47,
          59,
          20,
          22,
          29,
          61,
          40,
          66,
          43,
          50,
          64,
          40,
          40,
          11,
          15,
          19,
          40,
          25,
          37,
          21,
          23,
          59,
          61,
          33,
          57,
          38,
          19,
          25,
          11,
          45,
          24,
          37,
          69,
          30,
          62,
          39,
          31,
          55,
          41,
          57,
          61,
          48,
          29,
          51,
          51,
          48,
          32,
          17,
          41,
          63,
          41,
          36,
          65,
          16,
          11,
          47,
          24,
          68,
          35,
          43,
          42,
          58,
          60,
          66,
          66,
          64,
          60,
          17,
          69,
          52,
          26,
          24,
          38,
          23,
          39,
          54,
          68,
          53,
          33,
          32,
          51,
          49,
          30,
          30,
          52,
          60,
          55,
          69,
          49,
          18,
          14,
          41,
          61,
          14,
          16,
          60,
          45,
          53,
          50,
          52,
          12,
          20,
          67,
          25,
          35,
          36,
          50,
          27,
          43,
          18,
          50,
          38,
          20,
          41,
          46,
          36,
          18,
          12,
          14,
          14,
          67,
          30,
          17,
          32,
          38,
          54,
          24,
          53,
          56,
          26,
          52,
          54,
          47,
          14,
          17,
          13,
          19,
          63,
          31,
          47,
          24,
          65,
          48,
          35,
          23,
          42,
          16,
          26,
          61,
          18,
          42,
          55,
          17,
          16,
          12,
          48,
          45,
          35,
          59,
          22,
          49,
          67,
          11,
          38,
          14,
          60,
          46,
          46,
          54,
          18,
          39,
          45,
          54,
          33,
          50,
          68,
          66,
          37,
          46,
          40,
          59,
          62,
          44,
          33,
          30,
          22,
          22,
          69,
          29,
          69,
          49,
          21,
          13,
          45,
          25,
          62,
          45,
          63,
          33,
          29,
          16,
          28,
          43,
          24,
          34,
          23,
          13,
          25,
          53,
          63,
          48,
          44,
          58,
          20,
          68,
          65,
          29,
          27,
          59,
          36,
          31,
          15,
          23,
          41,
          38,
          64,
          12,
          52,
          66,
          42,
          17,
          55,
          58,
          64,
          30,
          64,
          55,
          46,
          33,
          59,
          44,
          40,
          58,
          27,
          12,
          37,
          46,
          52,
          45,
          38,
          20,
          46,
          49,
          29,
          38,
          26,
          28,
          26,
          25,
          14,
          56,
          34,
          31,
          43,
          68,
          30,
          22,
          49,
          17,
          36,
          55,
          60,
          57,
          16,
          62,
          16,
          59,
          19,
          53,
          20,
          20,
          21,
          68,
          14,
          62,
          19,
          16,
          66,
          42,
          28,
          36,
          27,
          39,
          37,
          21,
          41,
          14,
          19,
          70,
          68,
          21,
          18,
          22,
          29,
          39,
          70,
          34,
          33,
          32,
          18,
          17,
          15,
          34,
          26,
          65,
          67,
          15,
          15,
          19,
          13,
          19,
          67,
          35,
          25,
          55,
          45,
          44,
          29,
          29,
          15,
          39,
          21,
          16,
          21,
          60,
          17,
          48,
          66,
          67,
          28,
          63,
          23,
          27,
          28,
          63,
          41,
          43,
          62,
          15,
          70,
          66,
          36,
          65,
          54,
          19,
          25,
          26,
          63,
          13,
          14,
          48,
          47,
          56,
          35,
          24,
          20,
          31,
          49,
          57,
          53,
          24,
          48,
          39,
          35,
          43,
          50,
          64,
          48,
          65,
          51,
          56,
          46,
          50,
          54,
          67,
          51,
          53,
          69,
          57,
          48,
          20,
          42,
          55,
          56,
          58,
          36,
          59,
          44,
          42,
          64,
          70,
          43,
          13,
          37,
          37,
          37,
          15,
          64,
          32,
          27,
          43,
          57,
          13,
          54,
          37,
          61,
          69,
          28,
          41,
          52,
          58,
          51,
          66,
          56,
          43,
          22,
          35,
          27,
          54,
          32,
          61,
          31,
          70,
          22,
          53,
          40,
          41,
          32,
          56,
          56,
          40,
          49,
          69,
          23,
          57,
          25,
          22,
          69,
          24,
          34,
          59,
          32,
          38,
          58,
          12,
          45,
          57,
          34,
          50,
          61,
          30,
          60,
          56,
          60,
          64,
          42,
          42,
          63,
          46,
          70,
          33,
          53,
          15,
          53,
          68,
          16,
          51,
          59,
          15,
          42,
          28,
          55,
          71,
          13,
          60,
          62,
          46,
          31,
          51,
          21,
          67,
          27,
          45,
          39,
          40,
          62,
          27,
          22,
          64,
          13,
          56,
          71,
          58,
          32,
          30,
          61,
          51,
          31,
          61,
          47,
          47,
          63,
          44,
          31,
          28,
          36,
          68,
          39,
          57,
          47,
          38,
          55,
          51,
          28,
          39,
          67,
          26,
          67,
          70,
          18,
          62,
          18,
          23,
          23,
          33,
          65,
          70,
          52,
          24,
          69,
          71,
          44,
          44,
          21,
          70,
          68,
          71,
          71,
          65,
          71,
          70,
          71,
          71,
          72,
          71,
          35,
          72,
          71,
          72,
          44,
          72,
          72,
          72,
          72,
          72,
          72,
          73,
          73,
          72,
          73,
          73,
          73,
          73,
          73,
          73,
          74,
          73,
          73,
          74,
          74,
          74,
          74,
          74,
          74,
          75,
          75,
          74,
          74,
          75,
          75,
          75,
          75,
          74,
          75,
          75,
          75,
          75,
          76,
          76,
          76,
          76,
          76,
          76,
          76,
          76,
          77,
          76,
          77,
          77,
          77,
          77,
          77,
          76,
          77,
          77,
          77,
          77,
          78,
          78,
          78,
          78,
          78,
          78,
          78,
          78,
          78,
          78,
          0,
          0,
          0,
          0,
          0,
          0,
          0,
          0,
          0
         ],
         "xaxis": "x",
         "y": [
          404,
          395,
          388,
          384,
          380,
          372,
          370,
          368,
          365,
          353,
          352,
          347,
          345,
          344,
          341,
          341,
          340,
          338,
          337,
          337,
          333,
          331,
          327,
          326,
          325,
          324,
          322,
          322,
          321,
          320,
          314,
          313,
          313,
          312,
          311,
          309,
          308,
          308,
          306,
          306,
          296,
          295,
          292,
          291,
          291,
          291,
          290,
          289,
          288,
          284,
          279,
          278,
          278,
          278,
          271,
          271,
          270,
          270,
          266,
          265,
          261,
          261,
          256,
          256,
          256,
          255,
          255,
          255,
          254,
          253,
          251,
          249,
          247,
          244,
          243,
          242,
          241,
          239,
          233,
          233,
          233,
          232,
          232,
          231,
          230,
          229,
          228,
          226,
          226,
          225,
          224,
          223,
          221,
          221,
          220,
          219,
          219,
          218,
          218,
          218,
          218,
          217,
          217,
          212,
          211,
          211,
          210,
          209,
          209,
          209,
          209,
          208,
          208,
          208,
          208,
          208,
          206,
          204,
          204,
          204,
          204,
          204,
          203,
          202,
          202,
          202,
          202,
          201,
          201,
          200,
          200,
          200,
          200,
          200,
          200,
          200,
          199,
          199,
          199,
          199,
          199,
          198,
          198,
          198,
          198,
          197,
          197,
          197,
          196,
          196,
          196,
          196,
          196,
          196,
          196,
          196,
          196,
          196,
          195,
          195,
          195,
          195,
          195,
          195,
          195,
          195,
          195,
          194,
          194,
          194,
          194,
          194,
          194,
          194,
          194,
          194,
          194,
          194,
          194,
          193,
          193,
          193,
          193,
          192,
          192,
          192,
          192,
          192,
          192,
          192,
          192,
          192,
          192,
          192,
          191,
          191,
          191,
          191,
          191,
          191,
          191,
          191,
          191,
          191,
          191,
          191,
          191,
          191,
          191,
          190,
          190,
          190,
          190,
          190,
          190,
          190,
          190,
          190,
          190,
          190,
          190,
          189,
          189,
          189,
          189,
          189,
          189,
          189,
          189,
          189,
          189,
          189,
          189,
          189,
          189,
          188,
          188,
          188,
          188,
          188,
          188,
          188,
          188,
          187,
          187,
          187,
          187,
          187,
          187,
          187,
          187,
          187,
          187,
          187,
          187,
          187,
          187,
          186,
          186,
          186,
          186,
          186,
          186,
          186,
          186,
          186,
          186,
          186,
          186,
          186,
          185,
          185,
          185,
          185,
          185,
          185,
          185,
          185,
          185,
          185,
          185,
          185,
          185,
          185,
          185,
          185,
          184,
          184,
          184,
          184,
          184,
          184,
          184,
          184,
          184,
          184,
          184,
          184,
          184,
          184,
          184,
          184,
          184,
          184,
          184,
          183,
          183,
          183,
          183,
          183,
          183,
          183,
          183,
          183,
          183,
          183,
          183,
          183,
          183,
          183,
          183,
          183,
          183,
          183,
          183,
          182,
          182,
          182,
          182,
          182,
          182,
          182,
          182,
          182,
          182,
          182,
          182,
          182,
          182,
          182,
          182,
          182,
          182,
          181,
          181,
          181,
          181,
          181,
          181,
          181,
          181,
          181,
          181,
          181,
          181,
          181,
          181,
          181,
          181,
          180,
          180,
          180,
          180,
          180,
          180,
          180,
          180,
          180,
          180,
          180,
          180,
          180,
          180,
          180,
          179,
          179,
          179,
          179,
          179,
          179,
          179,
          179,
          179,
          179,
          179,
          179,
          179,
          179,
          179,
          178,
          178,
          178,
          178,
          178,
          178,
          178,
          178,
          178,
          178,
          178,
          178,
          178,
          178,
          178,
          178,
          178,
          178,
          178,
          177,
          177,
          177,
          177,
          177,
          177,
          177,
          177,
          177,
          177,
          177,
          177,
          177,
          177,
          177,
          177,
          177,
          176,
          176,
          176,
          176,
          176,
          176,
          176,
          176,
          176,
          176,
          176,
          176,
          176,
          176,
          176,
          176,
          176,
          176,
          176,
          176,
          176,
          176,
          175,
          175,
          175,
          175,
          175,
          175,
          175,
          175,
          175,
          175,
          175,
          175,
          175,
          175,
          175,
          175,
          175,
          175,
          175,
          174,
          174,
          174,
          174,
          174,
          174,
          174,
          174,
          174,
          174,
          174,
          174,
          174,
          174,
          173,
          173,
          173,
          173,
          173,
          173,
          173,
          173,
          173,
          173,
          173,
          173,
          173,
          173,
          173,
          173,
          173,
          173,
          173,
          173,
          172,
          172,
          172,
          172,
          172,
          172,
          172,
          172,
          172,
          172,
          172,
          172,
          172,
          172,
          172,
          171,
          171,
          171,
          171,
          171,
          171,
          171,
          171,
          171,
          171,
          171,
          171,
          171,
          171,
          171,
          171,
          171,
          171,
          170,
          170,
          170,
          170,
          170,
          170,
          170,
          170,
          170,
          170,
          170,
          169,
          169,
          169,
          169,
          169,
          169,
          169,
          169,
          169,
          169,
          169,
          169,
          169,
          169,
          169,
          169,
          169,
          168,
          168,
          168,
          168,
          168,
          168,
          168,
          168,
          168,
          168,
          167,
          167,
          167,
          167,
          167,
          167,
          167,
          167,
          167,
          167,
          167,
          167,
          167,
          167,
          166,
          166,
          166,
          166,
          166,
          166,
          166,
          166,
          166,
          166,
          166,
          166,
          166,
          166,
          165,
          165,
          165,
          165,
          165,
          165,
          165,
          165,
          165,
          164,
          164,
          164,
          164,
          164,
          164,
          164,
          164,
          164,
          164,
          164,
          164,
          163,
          163,
          163,
          163,
          163,
          163,
          163,
          163,
          163,
          162,
          162,
          162,
          162,
          162,
          162,
          162,
          162,
          161,
          161,
          161,
          161,
          161,
          161,
          161,
          161,
          161,
          160,
          160,
          160,
          160,
          160,
          159,
          159,
          159,
          159,
          158,
          158,
          158,
          158,
          158,
          157,
          157,
          157,
          157,
          157,
          157,
          157,
          157,
          157,
          157,
          156,
          156,
          156,
          156,
          156,
          155,
          155,
          155,
          155,
          154,
          154,
          154,
          154,
          154,
          154,
          154,
          153,
          153,
          153,
          152,
          152,
          152,
          152,
          151,
          150,
          150,
          150,
          150,
          149,
          149,
          147,
          145,
          143,
          143,
          142,
          142,
          142,
          139,
          138,
          135,
          135,
          132,
          132,
          125,
          125,
          125,
          124,
          123,
          121,
          117,
          115,
          114,
          113,
          111,
          111,
          109,
          105,
          104,
          103,
          98,
          98,
          98,
          93,
          93,
          91,
          89,
          87,
          85,
          83,
          82,
          82,
          76,
          74,
          73,
          72,
          72,
          71,
          69,
          67,
          67,
          63,
          57,
          56,
          56,
          54,
          53,
          52,
          48,
          45,
          45,
          44,
          43,
          43,
          40,
          40,
          39,
          38,
          38,
          37,
          36,
          24,
          23,
          23,
          23,
          21,
          21,
          17,
          15,
          13,
          11,
          9,
          6,
          5,
          4,
          3,
          2,
          1,
          1,
          1
         ],
         "yaxis": "y"
        },
        {
         "alignmentgroup": "True",
         "hovertemplate": "health_status=Dead<br>age=%{x}<br>Number of Patients=%{y}<extra></extra>",
         "legendgroup": "Dead",
         "marker": {
          "color": "#EF553B"
         },
         "name": "Dead",
         "offsetgroup": "Dead",
         "orientation": "v",
         "showlegend": true,
         "textposition": "auto",
         "type": "bar",
         "x": [
          3,
          2,
          4,
          2,
          2,
          2,
          3,
          3,
          2,
          2,
          4,
          5,
          2,
          4,
          3,
          2,
          2,
          2,
          3,
          3,
          5,
          5,
          3,
          3,
          4,
          5,
          3,
          3,
          5,
          4,
          4,
          4,
          4,
          5,
          7,
          5,
          5,
          5,
          4,
          4,
          6,
          5,
          6,
          7,
          6,
          6,
          6,
          6,
          7,
          6,
          6,
          7,
          7,
          8,
          7,
          6,
          7,
          8,
          8,
          6,
          7,
          8,
          8,
          9,
          8,
          9,
          9,
          7,
          9,
          8,
          10,
          8,
          7,
          9,
          9,
          1,
          1,
          10,
          8,
          11,
          1,
          9,
          10,
          31,
          9,
          10,
          37,
          10,
          60,
          9,
          8,
          1,
          10,
          25,
          17,
          1,
          33,
          1,
          19,
          9,
          57,
          11,
          60,
          10,
          39,
          31,
          56,
          34,
          38,
          42,
          12,
          36,
          10,
          44,
          18,
          20,
          19,
          10,
          14,
          14,
          10,
          11,
          60,
          66,
          11,
          43,
          1,
          42,
          19,
          61,
          29,
          15,
          61,
          57,
          26,
          61,
          66,
          49,
          67,
          13,
          12,
          62,
          57,
          66,
          50,
          26,
          59,
          40,
          15,
          39,
          21,
          14,
          67,
          37,
          66,
          32,
          55,
          44,
          13,
          11,
          45,
          54,
          58,
          21,
          22,
          66,
          22,
          63,
          58,
          50,
          22,
          34,
          21,
          14,
          37,
          69,
          11,
          19,
          21,
          15,
          41,
          44,
          35,
          40,
          59,
          48,
          49,
          42,
          29,
          35,
          34,
          25,
          20,
          32,
          18,
          66,
          46,
          65,
          43,
          25,
          32,
          12,
          48,
          61,
          1,
          48,
          51,
          49,
          52,
          36,
          63,
          64,
          31,
          29,
          55,
          18,
          46,
          62,
          29,
          49,
          39,
          28,
          47,
          46,
          31,
          36,
          31,
          26,
          50,
          64,
          26,
          11,
          46,
          65,
          15,
          39,
          13,
          11,
          33,
          41,
          67,
          11,
          20,
          59,
          18,
          46,
          21,
          13,
          26,
          47,
          49,
          59,
          32,
          23,
          56,
          57,
          67,
          19,
          36,
          34,
          37,
          1,
          40,
          52,
          11,
          16,
          27,
          23,
          69,
          28,
          53,
          54,
          38,
          29,
          55,
          24,
          64,
          68,
          36,
          65,
          40,
          39,
          23,
          47,
          25,
          51,
          51,
          21,
          25,
          20,
          53,
          19,
          31,
          63,
          30,
          24,
          64,
          64,
          47,
          12,
          1,
          50,
          53,
          16,
          28,
          18,
          43,
          17,
          45,
          27,
          60,
          69,
          40,
          16,
          65,
          43,
          52,
          21,
          17,
          21,
          58,
          41,
          26,
          14,
          15,
          37,
          24,
          63,
          67,
          37,
          49,
          33,
          52,
          60,
          40,
          45,
          45,
          12,
          27,
          18,
          15,
          19,
          16,
          16,
          65,
          39,
          64,
          41,
          59,
          15,
          15,
          24,
          68,
          38,
          13,
          16,
          63,
          12,
          17,
          38,
          63,
          23,
          30,
          12,
          51,
          41,
          22,
          25,
          70,
          61,
          65,
          40,
          55,
          36,
          13,
          36,
          13,
          14,
          53,
          60,
          55,
          48,
          40,
          50,
          22,
          50,
          48,
          26,
          60,
          44,
          36,
          54,
          59,
          53,
          55,
          34,
          32,
          13,
          58,
          28,
          35,
          69,
          52,
          20,
          18,
          68,
          26,
          45,
          46,
          30,
          53,
          47,
          68,
          52,
          20,
          52,
          57,
          34,
          59,
          51,
          34,
          22,
          35,
          12,
          23,
          17,
          63,
          58,
          43,
          59,
          51,
          15,
          49,
          61,
          39,
          65,
          30,
          20,
          60,
          70,
          25,
          53,
          41,
          14,
          39,
          22,
          30,
          49,
          29,
          28,
          19,
          56,
          33,
          16,
          59,
          32,
          33,
          34,
          49,
          58,
          18,
          57,
          47,
          69,
          22,
          46,
          47,
          33,
          19,
          39,
          25,
          37,
          16,
          17,
          38,
          33,
          27,
          34,
          35,
          17,
          66,
          65,
          42,
          24,
          41,
          48,
          31,
          30,
          52,
          47,
          28,
          36,
          23,
          66,
          35,
          56,
          42,
          17,
          32,
          57,
          58,
          43,
          36,
          68,
          22,
          38,
          65,
          48,
          18,
          13,
          20,
          27,
          24,
          12,
          42,
          61,
          18,
          68,
          50,
          69,
          33,
          51,
          21,
          44,
          28,
          45,
          50,
          24,
          67,
          54,
          60,
          44,
          35,
          29,
          30,
          14,
          64,
          45,
          62,
          32,
          35,
          42,
          63,
          54,
          35,
          44,
          52,
          47,
          20,
          69,
          37,
          62,
          54,
          48,
          24,
          68,
          64,
          56,
          54,
          66,
          47,
          54,
          61,
          49,
          23,
          51,
          25,
          32,
          56,
          24,
          70,
          44,
          38,
          51,
          14,
          38,
          55,
          33,
          62,
          41,
          62,
          70,
          70,
          64,
          15,
          70,
          44,
          69,
          19,
          27,
          43,
          35,
          48,
          67,
          61,
          68,
          48,
          68,
          40,
          55,
          62,
          62,
          17,
          68,
          16,
          58,
          57,
          27,
          43,
          29,
          64,
          54,
          24,
          60,
          41,
          43,
          42,
          26,
          38,
          16,
          40,
          71,
          70,
          52,
          54,
          32,
          56,
          21,
          29,
          63,
          27,
          53,
          27,
          67,
          45,
          55,
          62,
          33,
          65,
          62,
          25,
          69,
          38,
          39,
          63,
          31,
          56,
          56,
          31,
          61,
          23,
          23,
          70,
          70,
          31,
          41,
          42,
          20,
          67,
          26,
          17,
          12,
          28,
          55,
          58,
          58,
          46,
          13,
          44,
          45,
          57,
          56,
          30,
          28,
          69,
          29,
          23,
          59,
          57,
          30,
          34,
          42,
          27,
          14,
          37,
          72,
          51,
          67,
          45,
          43,
          37,
          70,
          71,
          28,
          66,
          71,
          30,
          71,
          50,
          53,
          46,
          71,
          46,
          50,
          22,
          71,
          53,
          71,
          71,
          71,
          72,
          72,
          71,
          72,
          72,
          72,
          73,
          72,
          73,
          72,
          73,
          73,
          72,
          73,
          72,
          73,
          73,
          73,
          74,
          74,
          73,
          75,
          74,
          74,
          73,
          74,
          75,
          74,
          74,
          75,
          74,
          75,
          74,
          74,
          75,
          75,
          75,
          75,
          76,
          75,
          75,
          76,
          76,
          76,
          76,
          76,
          76,
          77,
          76,
          76,
          76,
          77,
          77,
          77,
          77,
          77,
          77,
          77,
          77,
          77,
          78,
          78,
          78,
          78,
          78,
          78,
          78,
          78,
          78,
          78,
          0,
          0,
          0,
          0,
          0,
          0,
          0,
          0,
          0,
          0
         ],
         "xaxis": "x",
         "y": [
          402,
          395,
          394,
          387,
          383,
          383,
          382,
          381,
          379,
          368,
          366,
          362,
          360,
          359,
          358,
          357,
          356,
          353,
          345,
          343,
          341,
          339,
          338,
          336,
          336,
          332,
          330,
          329,
          328,
          327,
          326,
          325,
          320,
          316,
          316,
          315,
          314,
          313,
          310,
          309,
          307,
          305,
          300,
          299,
          290,
          286,
          286,
          285,
          284,
          282,
          281,
          280,
          275,
          271,
          270,
          269,
          268,
          268,
          267,
          267,
          265,
          264,
          263,
          261,
          258,
          258,
          257,
          256,
          252,
          251,
          248,
          244,
          240,
          238,
          237,
          237,
          233,
          229,
          228,
          224,
          223,
          222,
          221,
          221,
          220,
          220,
          220,
          220,
          220,
          219,
          217,
          216,
          216,
          214,
          213,
          212,
          211,
          211,
          210,
          209,
          209,
          209,
          208,
          208,
          207,
          207,
          206,
          206,
          206,
          205,
          205,
          205,
          205,
          204,
          204,
          204,
          204,
          204,
          204,
          203,
          203,
          203,
          202,
          202,
          202,
          202,
          202,
          202,
          202,
          201,
          201,
          201,
          201,
          201,
          201,
          200,
          200,
          200,
          200,
          200,
          200,
          199,
          199,
          199,
          199,
          199,
          199,
          199,
          198,
          198,
          198,
          198,
          198,
          198,
          198,
          197,
          197,
          197,
          197,
          197,
          197,
          197,
          197,
          197,
          197,
          197,
          197,
          196,
          196,
          196,
          196,
          196,
          196,
          196,
          196,
          196,
          195,
          195,
          195,
          195,
          195,
          194,
          194,
          194,
          194,
          194,
          194,
          194,
          193,
          193,
          193,
          193,
          193,
          193,
          193,
          193,
          192,
          192,
          192,
          192,
          192,
          192,
          192,
          192,
          191,
          191,
          191,
          191,
          191,
          191,
          191,
          191,
          191,
          191,
          191,
          191,
          191,
          191,
          191,
          190,
          190,
          190,
          190,
          190,
          190,
          190,
          190,
          190,
          190,
          190,
          189,
          189,
          189,
          189,
          189,
          189,
          189,
          189,
          189,
          189,
          189,
          189,
          189,
          189,
          189,
          188,
          188,
          188,
          188,
          188,
          188,
          188,
          188,
          188,
          187,
          187,
          187,
          187,
          187,
          187,
          187,
          186,
          186,
          186,
          186,
          186,
          186,
          186,
          186,
          186,
          186,
          186,
          186,
          186,
          186,
          186,
          185,
          185,
          185,
          185,
          185,
          185,
          185,
          185,
          185,
          185,
          185,
          185,
          184,
          184,
          184,
          184,
          184,
          184,
          184,
          184,
          184,
          184,
          184,
          184,
          184,
          184,
          184,
          184,
          184,
          184,
          184,
          184,
          184,
          184,
          184,
          184,
          183,
          183,
          183,
          183,
          183,
          183,
          183,
          183,
          183,
          183,
          183,
          183,
          183,
          183,
          183,
          183,
          183,
          183,
          182,
          182,
          182,
          182,
          182,
          182,
          182,
          182,
          182,
          182,
          182,
          182,
          182,
          182,
          181,
          181,
          181,
          181,
          181,
          181,
          181,
          181,
          181,
          181,
          181,
          181,
          181,
          181,
          181,
          180,
          180,
          180,
          180,
          180,
          180,
          180,
          180,
          180,
          180,
          180,
          180,
          180,
          180,
          180,
          180,
          180,
          180,
          180,
          180,
          180,
          180,
          179,
          179,
          179,
          179,
          179,
          179,
          179,
          179,
          179,
          179,
          179,
          179,
          179,
          179,
          178,
          178,
          178,
          178,
          178,
          178,
          178,
          178,
          178,
          178,
          177,
          177,
          177,
          177,
          177,
          177,
          177,
          177,
          177,
          177,
          177,
          177,
          177,
          177,
          177,
          177,
          177,
          177,
          177,
          177,
          176,
          176,
          176,
          176,
          176,
          176,
          176,
          176,
          176,
          176,
          176,
          176,
          175,
          175,
          175,
          175,
          175,
          175,
          175,
          175,
          175,
          175,
          175,
          175,
          175,
          175,
          175,
          175,
          175,
          175,
          175,
          175,
          175,
          174,
          174,
          174,
          174,
          174,
          174,
          174,
          174,
          174,
          174,
          174,
          174,
          174,
          174,
          174,
          174,
          173,
          173,
          173,
          173,
          173,
          173,
          173,
          173,
          173,
          173,
          173,
          173,
          172,
          172,
          172,
          172,
          172,
          172,
          172,
          172,
          172,
          172,
          172,
          172,
          172,
          172,
          172,
          172,
          172,
          172,
          172,
          172,
          172,
          172,
          171,
          171,
          171,
          171,
          171,
          171,
          171,
          171,
          171,
          171,
          171,
          171,
          171,
          171,
          170,
          170,
          170,
          170,
          170,
          170,
          170,
          170,
          170,
          170,
          170,
          170,
          170,
          170,
          170,
          170,
          169,
          169,
          169,
          169,
          169,
          169,
          169,
          169,
          169,
          169,
          169,
          169,
          169,
          169,
          169,
          169,
          169,
          169,
          169,
          169,
          169,
          168,
          168,
          168,
          168,
          168,
          168,
          168,
          168,
          168,
          168,
          168,
          167,
          167,
          167,
          167,
          167,
          167,
          167,
          167,
          167,
          167,
          166,
          166,
          166,
          166,
          166,
          166,
          166,
          166,
          166,
          166,
          166,
          166,
          166,
          166,
          165,
          165,
          165,
          165,
          165,
          165,
          165,
          165,
          165,
          165,
          165,
          165,
          164,
          164,
          164,
          164,
          164,
          164,
          164,
          164,
          164,
          164,
          164,
          163,
          163,
          163,
          163,
          163,
          163,
          163,
          163,
          162,
          162,
          162,
          162,
          162,
          162,
          162,
          162,
          162,
          162,
          162,
          162,
          162,
          162,
          161,
          161,
          161,
          161,
          161,
          161,
          160,
          160,
          160,
          160,
          160,
          160,
          160,
          160,
          160,
          160,
          160,
          160,
          160,
          160,
          159,
          159,
          159,
          159,
          159,
          159,
          158,
          158,
          158,
          158,
          157,
          157,
          157,
          157,
          157,
          156,
          156,
          156,
          156,
          156,
          155,
          154,
          154,
          154,
          154,
          154,
          153,
          153,
          153,
          153,
          152,
          152,
          152,
          152,
          152,
          151,
          150,
          149,
          149,
          148,
          147,
          147,
          146,
          145,
          144,
          144,
          143,
          143,
          140,
          138,
          137,
          137,
          133,
          131,
          126,
          124,
          123,
          122,
          121,
          120,
          120,
          116,
          112,
          112,
          111,
          111,
          103,
          102,
          100,
          99,
          95,
          95,
          95,
          89,
          88,
          86,
          85,
          81,
          81,
          78,
          77,
          77,
          76,
          75,
          73,
          73,
          71,
          69,
          68,
          65,
          61,
          61,
          60,
          55,
          55,
          54,
          53,
          51,
          50,
          49,
          48,
          44,
          38,
          37,
          35,
          35,
          33,
          32,
          32,
          27,
          26,
          24,
          22,
          18,
          17,
          17,
          17,
          15,
          15,
          14,
          12,
          7,
          7,
          5,
          5,
          5,
          5,
          4,
          3,
          3,
          1
         ],
         "yaxis": "y"
        },
        {
         "alignmentgroup": "True",
         "hovertemplate": "health_status=alive<br>age=%{x}<br>Number of Patients=%{y}<extra></extra>",
         "legendgroup": "alive",
         "marker": {
          "color": "#00cc96"
         },
         "name": "alive",
         "offsetgroup": "alive",
         "orientation": "v",
         "showlegend": true,
         "textposition": "auto",
         "type": "bar",
         "x": [
          32
         ],
         "xaxis": "x",
         "y": [
          1
         ],
         "yaxis": "y"
        }
       ],
       "layout": {
        "barmode": "relative",
        "legend": {
         "title": {
          "text": "health_status"
         },
         "tracegroupgap": 0
        },
        "margin": {
         "t": 60
        },
        "template": {
         "data": {
          "bar": [
           {
            "error_x": {
             "color": "#2a3f5f"
            },
            "error_y": {
             "color": "#2a3f5f"
            },
            "marker": {
             "line": {
              "color": "#E5ECF6",
              "width": 0.5
             }
            },
            "type": "bar"
           }
          ],
          "barpolar": [
           {
            "marker": {
             "line": {
              "color": "#E5ECF6",
              "width": 0.5
             }
            },
            "type": "barpolar"
           }
          ],
          "carpet": [
           {
            "aaxis": {
             "endlinecolor": "#2a3f5f",
             "gridcolor": "white",
             "linecolor": "white",
             "minorgridcolor": "white",
             "startlinecolor": "#2a3f5f"
            },
            "baxis": {
             "endlinecolor": "#2a3f5f",
             "gridcolor": "white",
             "linecolor": "white",
             "minorgridcolor": "white",
             "startlinecolor": "#2a3f5f"
            },
            "type": "carpet"
           }
          ],
          "choropleth": [
           {
            "colorbar": {
             "outlinewidth": 0,
             "ticks": ""
            },
            "type": "choropleth"
           }
          ],
          "contour": [
           {
            "colorbar": {
             "outlinewidth": 0,
             "ticks": ""
            },
            "colorscale": [
             [
              0,
              "#0d0887"
             ],
             [
              0.1111111111111111,
              "#46039f"
             ],
             [
              0.2222222222222222,
              "#7201a8"
             ],
             [
              0.3333333333333333,
              "#9c179e"
             ],
             [
              0.4444444444444444,
              "#bd3786"
             ],
             [
              0.5555555555555556,
              "#d8576b"
             ],
             [
              0.6666666666666666,
              "#ed7953"
             ],
             [
              0.7777777777777778,
              "#fb9f3a"
             ],
             [
              0.8888888888888888,
              "#fdca26"
             ],
             [
              1,
              "#f0f921"
             ]
            ],
            "type": "contour"
           }
          ],
          "contourcarpet": [
           {
            "colorbar": {
             "outlinewidth": 0,
             "ticks": ""
            },
            "type": "contourcarpet"
           }
          ],
          "heatmap": [
           {
            "colorbar": {
             "outlinewidth": 0,
             "ticks": ""
            },
            "colorscale": [
             [
              0,
              "#0d0887"
             ],
             [
              0.1111111111111111,
              "#46039f"
             ],
             [
              0.2222222222222222,
              "#7201a8"
             ],
             [
              0.3333333333333333,
              "#9c179e"
             ],
             [
              0.4444444444444444,
              "#bd3786"
             ],
             [
              0.5555555555555556,
              "#d8576b"
             ],
             [
              0.6666666666666666,
              "#ed7953"
             ],
             [
              0.7777777777777778,
              "#fb9f3a"
             ],
             [
              0.8888888888888888,
              "#fdca26"
             ],
             [
              1,
              "#f0f921"
             ]
            ],
            "type": "heatmap"
           }
          ],
          "heatmapgl": [
           {
            "colorbar": {
             "outlinewidth": 0,
             "ticks": ""
            },
            "colorscale": [
             [
              0,
              "#0d0887"
             ],
             [
              0.1111111111111111,
              "#46039f"
             ],
             [
              0.2222222222222222,
              "#7201a8"
             ],
             [
              0.3333333333333333,
              "#9c179e"
             ],
             [
              0.4444444444444444,
              "#bd3786"
             ],
             [
              0.5555555555555556,
              "#d8576b"
             ],
             [
              0.6666666666666666,
              "#ed7953"
             ],
             [
              0.7777777777777778,
              "#fb9f3a"
             ],
             [
              0.8888888888888888,
              "#fdca26"
             ],
             [
              1,
              "#f0f921"
             ]
            ],
            "type": "heatmapgl"
           }
          ],
          "histogram": [
           {
            "marker": {
             "colorbar": {
              "outlinewidth": 0,
              "ticks": ""
             }
            },
            "type": "histogram"
           }
          ],
          "histogram2d": [
           {
            "colorbar": {
             "outlinewidth": 0,
             "ticks": ""
            },
            "colorscale": [
             [
              0,
              "#0d0887"
             ],
             [
              0.1111111111111111,
              "#46039f"
             ],
             [
              0.2222222222222222,
              "#7201a8"
             ],
             [
              0.3333333333333333,
              "#9c179e"
             ],
             [
              0.4444444444444444,
              "#bd3786"
             ],
             [
              0.5555555555555556,
              "#d8576b"
             ],
             [
              0.6666666666666666,
              "#ed7953"
             ],
             [
              0.7777777777777778,
              "#fb9f3a"
             ],
             [
              0.8888888888888888,
              "#fdca26"
             ],
             [
              1,
              "#f0f921"
             ]
            ],
            "type": "histogram2d"
           }
          ],
          "histogram2dcontour": [
           {
            "colorbar": {
             "outlinewidth": 0,
             "ticks": ""
            },
            "colorscale": [
             [
              0,
              "#0d0887"
             ],
             [
              0.1111111111111111,
              "#46039f"
             ],
             [
              0.2222222222222222,
              "#7201a8"
             ],
             [
              0.3333333333333333,
              "#9c179e"
             ],
             [
              0.4444444444444444,
              "#bd3786"
             ],
             [
              0.5555555555555556,
              "#d8576b"
             ],
             [
              0.6666666666666666,
              "#ed7953"
             ],
             [
              0.7777777777777778,
              "#fb9f3a"
             ],
             [
              0.8888888888888888,
              "#fdca26"
             ],
             [
              1,
              "#f0f921"
             ]
            ],
            "type": "histogram2dcontour"
           }
          ],
          "mesh3d": [
           {
            "colorbar": {
             "outlinewidth": 0,
             "ticks": ""
            },
            "type": "mesh3d"
           }
          ],
          "parcoords": [
           {
            "line": {
             "colorbar": {
              "outlinewidth": 0,
              "ticks": ""
             }
            },
            "type": "parcoords"
           }
          ],
          "pie": [
           {
            "automargin": true,
            "type": "pie"
           }
          ],
          "scatter": [
           {
            "marker": {
             "colorbar": {
              "outlinewidth": 0,
              "ticks": ""
             }
            },
            "type": "scatter"
           }
          ],
          "scatter3d": [
           {
            "line": {
             "colorbar": {
              "outlinewidth": 0,
              "ticks": ""
             }
            },
            "marker": {
             "colorbar": {
              "outlinewidth": 0,
              "ticks": ""
             }
            },
            "type": "scatter3d"
           }
          ],
          "scattercarpet": [
           {
            "marker": {
             "colorbar": {
              "outlinewidth": 0,
              "ticks": ""
             }
            },
            "type": "scattercarpet"
           }
          ],
          "scattergeo": [
           {
            "marker": {
             "colorbar": {
              "outlinewidth": 0,
              "ticks": ""
             }
            },
            "type": "scattergeo"
           }
          ],
          "scattergl": [
           {
            "marker": {
             "colorbar": {
              "outlinewidth": 0,
              "ticks": ""
             }
            },
            "type": "scattergl"
           }
          ],
          "scattermapbox": [
           {
            "marker": {
             "colorbar": {
              "outlinewidth": 0,
              "ticks": ""
             }
            },
            "type": "scattermapbox"
           }
          ],
          "scatterpolar": [
           {
            "marker": {
             "colorbar": {
              "outlinewidth": 0,
              "ticks": ""
             }
            },
            "type": "scatterpolar"
           }
          ],
          "scatterpolargl": [
           {
            "marker": {
             "colorbar": {
              "outlinewidth": 0,
              "ticks": ""
             }
            },
            "type": "scatterpolargl"
           }
          ],
          "scatterternary": [
           {
            "marker": {
             "colorbar": {
              "outlinewidth": 0,
              "ticks": ""
             }
            },
            "type": "scatterternary"
           }
          ],
          "surface": [
           {
            "colorbar": {
             "outlinewidth": 0,
             "ticks": ""
            },
            "colorscale": [
             [
              0,
              "#0d0887"
             ],
             [
              0.1111111111111111,
              "#46039f"
             ],
             [
              0.2222222222222222,
              "#7201a8"
             ],
             [
              0.3333333333333333,
              "#9c179e"
             ],
             [
              0.4444444444444444,
              "#bd3786"
             ],
             [
              0.5555555555555556,
              "#d8576b"
             ],
             [
              0.6666666666666666,
              "#ed7953"
             ],
             [
              0.7777777777777778,
              "#fb9f3a"
             ],
             [
              0.8888888888888888,
              "#fdca26"
             ],
             [
              1,
              "#f0f921"
             ]
            ],
            "type": "surface"
           }
          ],
          "table": [
           {
            "cells": {
             "fill": {
              "color": "#EBF0F8"
             },
             "line": {
              "color": "white"
             }
            },
            "header": {
             "fill": {
              "color": "#C8D4E3"
             },
             "line": {
              "color": "white"
             }
            },
            "type": "table"
           }
          ]
         },
         "layout": {
          "annotationdefaults": {
           "arrowcolor": "#2a3f5f",
           "arrowhead": 0,
           "arrowwidth": 1
          },
          "autotypenumbers": "strict",
          "coloraxis": {
           "colorbar": {
            "outlinewidth": 0,
            "ticks": ""
           }
          },
          "colorscale": {
           "diverging": [
            [
             0,
             "#8e0152"
            ],
            [
             0.1,
             "#c51b7d"
            ],
            [
             0.2,
             "#de77ae"
            ],
            [
             0.3,
             "#f1b6da"
            ],
            [
             0.4,
             "#fde0ef"
            ],
            [
             0.5,
             "#f7f7f7"
            ],
            [
             0.6,
             "#e6f5d0"
            ],
            [
             0.7,
             "#b8e186"
            ],
            [
             0.8,
             "#7fbc41"
            ],
            [
             0.9,
             "#4d9221"
            ],
            [
             1,
             "#276419"
            ]
           ],
           "sequential": [
            [
             0,
             "#0d0887"
            ],
            [
             0.1111111111111111,
             "#46039f"
            ],
            [
             0.2222222222222222,
             "#7201a8"
            ],
            [
             0.3333333333333333,
             "#9c179e"
            ],
            [
             0.4444444444444444,
             "#bd3786"
            ],
            [
             0.5555555555555556,
             "#d8576b"
            ],
            [
             0.6666666666666666,
             "#ed7953"
            ],
            [
             0.7777777777777778,
             "#fb9f3a"
            ],
            [
             0.8888888888888888,
             "#fdca26"
            ],
            [
             1,
             "#f0f921"
            ]
           ],
           "sequentialminus": [
            [
             0,
             "#0d0887"
            ],
            [
             0.1111111111111111,
             "#46039f"
            ],
            [
             0.2222222222222222,
             "#7201a8"
            ],
            [
             0.3333333333333333,
             "#9c179e"
            ],
            [
             0.4444444444444444,
             "#bd3786"
            ],
            [
             0.5555555555555556,
             "#d8576b"
            ],
            [
             0.6666666666666666,
             "#ed7953"
            ],
            [
             0.7777777777777778,
             "#fb9f3a"
            ],
            [
             0.8888888888888888,
             "#fdca26"
            ],
            [
             1,
             "#f0f921"
            ]
           ]
          },
          "colorway": [
           "#636efa",
           "#EF553B",
           "#00cc96",
           "#ab63fa",
           "#FFA15A",
           "#19d3f3",
           "#FF6692",
           "#B6E880",
           "#FF97FF",
           "#FECB52"
          ],
          "font": {
           "color": "#2a3f5f"
          },
          "geo": {
           "bgcolor": "white",
           "lakecolor": "white",
           "landcolor": "#E5ECF6",
           "showlakes": true,
           "showland": true,
           "subunitcolor": "white"
          },
          "hoverlabel": {
           "align": "left"
          },
          "hovermode": "closest",
          "mapbox": {
           "style": "light"
          },
          "paper_bgcolor": "white",
          "plot_bgcolor": "#E5ECF6",
          "polar": {
           "angularaxis": {
            "gridcolor": "white",
            "linecolor": "white",
            "ticks": ""
           },
           "bgcolor": "#E5ECF6",
           "radialaxis": {
            "gridcolor": "white",
            "linecolor": "white",
            "ticks": ""
           }
          },
          "scene": {
           "xaxis": {
            "backgroundcolor": "#E5ECF6",
            "gridcolor": "white",
            "gridwidth": 2,
            "linecolor": "white",
            "showbackground": true,
            "ticks": "",
            "zerolinecolor": "white"
           },
           "yaxis": {
            "backgroundcolor": "#E5ECF6",
            "gridcolor": "white",
            "gridwidth": 2,
            "linecolor": "white",
            "showbackground": true,
            "ticks": "",
            "zerolinecolor": "white"
           },
           "zaxis": {
            "backgroundcolor": "#E5ECF6",
            "gridcolor": "white",
            "gridwidth": 2,
            "linecolor": "white",
            "showbackground": true,
            "ticks": "",
            "zerolinecolor": "white"
           }
          },
          "shapedefaults": {
           "line": {
            "color": "#2a3f5f"
           }
          },
          "ternary": {
           "aaxis": {
            "gridcolor": "white",
            "linecolor": "white",
            "ticks": ""
           },
           "baxis": {
            "gridcolor": "white",
            "linecolor": "white",
            "ticks": ""
           },
           "bgcolor": "#E5ECF6",
           "caxis": {
            "gridcolor": "white",
            "linecolor": "white",
            "ticks": ""
           }
          },
          "title": {
           "x": 0.05
          },
          "xaxis": {
           "automargin": true,
           "gridcolor": "white",
           "linecolor": "white",
           "ticks": "",
           "title": {
            "standoff": 15
           },
           "zerolinecolor": "white",
           "zerolinewidth": 2
          },
          "yaxis": {
           "automargin": true,
           "gridcolor": "white",
           "linecolor": "white",
           "ticks": "",
           "title": {
            "standoff": 15
           },
           "zerolinecolor": "white",
           "zerolinewidth": 2
          }
         }
        },
        "xaxis": {
         "anchor": "y",
         "domain": [
          0,
          1
         ],
         "title": {
          "text": "age"
         }
        },
        "yaxis": {
         "anchor": "x",
         "domain": [
          0,
          1
         ],
         "title": {
          "text": "Number of Patients"
         }
        }
       }
      },
      "text/html": [
       "<div>                            <div id=\"0cb453ee-1d06-40cb-bd2e-1e7cd7044c7f\" class=\"plotly-graph-div\" style=\"height:525px; width:100%;\"></div>            <script type=\"text/javascript\">                require([\"plotly\"], function(Plotly) {                    window.PLOTLYENV=window.PLOTLYENV || {};                                    if (document.getElementById(\"0cb453ee-1d06-40cb-bd2e-1e7cd7044c7f\")) {                    Plotly.newPlot(                        \"0cb453ee-1d06-40cb-bd2e-1e7cd7044c7f\",                        [{\"alignmentgroup\": \"True\", \"hovertemplate\": \"health_status=Alive<br>age=%{x}<br>Number of Patients=%{y}<extra></extra>\", \"legendgroup\": \"Alive\", \"marker\": {\"color\": \"#636efa\"}, \"name\": \"Alive\", \"offsetgroup\": \"Alive\", \"orientation\": \"v\", \"showlegend\": true, \"textposition\": \"auto\", \"type\": \"bar\", \"x\": [2, 2, 2, 2, 2, 2, 2, 2, 2, 3, 3, 3, 2, 3, 3, 4, 3, 4, 3, 4, 4, 3, 4, 3, 5, 4, 4, 5, 5, 3, 6, 4, 4, 7, 5, 6, 5, 4, 5, 5, 5, 5, 6, 6, 6, 5, 7, 6, 8, 6, 7, 6, 6, 7, 7, 7, 7, 7, 7, 8, 7, 8, 9, 9, 6, 8, 8, 8, 9, 8, 58, 8, 9, 8, 9, 10, 1, 9, 8, 11, 9, 9, 9, 1, 10, 10, 25, 23, 1, 10, 9, 1, 20, 10, 10, 11, 11, 10, 1, 1, 29, 10, 1, 57, 34, 32, 26, 33, 49, 31, 47, 30, 11, 1, 10, 47, 35, 65, 62, 11, 28, 10, 34, 49, 26, 11, 34, 1, 44, 50, 34, 37, 36, 63, 18, 52, 12, 12, 54, 13, 12, 58, 17, 1, 50, 12, 40, 21, 27, 65, 52, 66, 19, 47, 59, 20, 22, 29, 61, 40, 66, 43, 50, 64, 40, 40, 11, 15, 19, 40, 25, 37, 21, 23, 59, 61, 33, 57, 38, 19, 25, 11, 45, 24, 37, 69, 30, 62, 39, 31, 55, 41, 57, 61, 48, 29, 51, 51, 48, 32, 17, 41, 63, 41, 36, 65, 16, 11, 47, 24, 68, 35, 43, 42, 58, 60, 66, 66, 64, 60, 17, 69, 52, 26, 24, 38, 23, 39, 54, 68, 53, 33, 32, 51, 49, 30, 30, 52, 60, 55, 69, 49, 18, 14, 41, 61, 14, 16, 60, 45, 53, 50, 52, 12, 20, 67, 25, 35, 36, 50, 27, 43, 18, 50, 38, 20, 41, 46, 36, 18, 12, 14, 14, 67, 30, 17, 32, 38, 54, 24, 53, 56, 26, 52, 54, 47, 14, 17, 13, 19, 63, 31, 47, 24, 65, 48, 35, 23, 42, 16, 26, 61, 18, 42, 55, 17, 16, 12, 48, 45, 35, 59, 22, 49, 67, 11, 38, 14, 60, 46, 46, 54, 18, 39, 45, 54, 33, 50, 68, 66, 37, 46, 40, 59, 62, 44, 33, 30, 22, 22, 69, 29, 69, 49, 21, 13, 45, 25, 62, 45, 63, 33, 29, 16, 28, 43, 24, 34, 23, 13, 25, 53, 63, 48, 44, 58, 20, 68, 65, 29, 27, 59, 36, 31, 15, 23, 41, 38, 64, 12, 52, 66, 42, 17, 55, 58, 64, 30, 64, 55, 46, 33, 59, 44, 40, 58, 27, 12, 37, 46, 52, 45, 38, 20, 46, 49, 29, 38, 26, 28, 26, 25, 14, 56, 34, 31, 43, 68, 30, 22, 49, 17, 36, 55, 60, 57, 16, 62, 16, 59, 19, 53, 20, 20, 21, 68, 14, 62, 19, 16, 66, 42, 28, 36, 27, 39, 37, 21, 41, 14, 19, 70, 68, 21, 18, 22, 29, 39, 70, 34, 33, 32, 18, 17, 15, 34, 26, 65, 67, 15, 15, 19, 13, 19, 67, 35, 25, 55, 45, 44, 29, 29, 15, 39, 21, 16, 21, 60, 17, 48, 66, 67, 28, 63, 23, 27, 28, 63, 41, 43, 62, 15, 70, 66, 36, 65, 54, 19, 25, 26, 63, 13, 14, 48, 47, 56, 35, 24, 20, 31, 49, 57, 53, 24, 48, 39, 35, 43, 50, 64, 48, 65, 51, 56, 46, 50, 54, 67, 51, 53, 69, 57, 48, 20, 42, 55, 56, 58, 36, 59, 44, 42, 64, 70, 43, 13, 37, 37, 37, 15, 64, 32, 27, 43, 57, 13, 54, 37, 61, 69, 28, 41, 52, 58, 51, 66, 56, 43, 22, 35, 27, 54, 32, 61, 31, 70, 22, 53, 40, 41, 32, 56, 56, 40, 49, 69, 23, 57, 25, 22, 69, 24, 34, 59, 32, 38, 58, 12, 45, 57, 34, 50, 61, 30, 60, 56, 60, 64, 42, 42, 63, 46, 70, 33, 53, 15, 53, 68, 16, 51, 59, 15, 42, 28, 55, 71, 13, 60, 62, 46, 31, 51, 21, 67, 27, 45, 39, 40, 62, 27, 22, 64, 13, 56, 71, 58, 32, 30, 61, 51, 31, 61, 47, 47, 63, 44, 31, 28, 36, 68, 39, 57, 47, 38, 55, 51, 28, 39, 67, 26, 67, 70, 18, 62, 18, 23, 23, 33, 65, 70, 52, 24, 69, 71, 44, 44, 21, 70, 68, 71, 71, 65, 71, 70, 71, 71, 72, 71, 35, 72, 71, 72, 44, 72, 72, 72, 72, 72, 72, 73, 73, 72, 73, 73, 73, 73, 73, 73, 74, 73, 73, 74, 74, 74, 74, 74, 74, 75, 75, 74, 74, 75, 75, 75, 75, 74, 75, 75, 75, 75, 76, 76, 76, 76, 76, 76, 76, 76, 77, 76, 77, 77, 77, 77, 77, 76, 77, 77, 77, 77, 78, 78, 78, 78, 78, 78, 78, 78, 78, 78, 0, 0, 0, 0, 0, 0, 0, 0, 0], \"xaxis\": \"x\", \"y\": [404, 395, 388, 384, 380, 372, 370, 368, 365, 353, 352, 347, 345, 344, 341, 341, 340, 338, 337, 337, 333, 331, 327, 326, 325, 324, 322, 322, 321, 320, 314, 313, 313, 312, 311, 309, 308, 308, 306, 306, 296, 295, 292, 291, 291, 291, 290, 289, 288, 284, 279, 278, 278, 278, 271, 271, 270, 270, 266, 265, 261, 261, 256, 256, 256, 255, 255, 255, 254, 253, 251, 249, 247, 244, 243, 242, 241, 239, 233, 233, 233, 232, 232, 231, 230, 229, 228, 226, 226, 225, 224, 223, 221, 221, 220, 219, 219, 218, 218, 218, 218, 217, 217, 212, 211, 211, 210, 209, 209, 209, 209, 208, 208, 208, 208, 208, 206, 204, 204, 204, 204, 204, 203, 202, 202, 202, 202, 201, 201, 200, 200, 200, 200, 200, 200, 200, 199, 199, 199, 199, 199, 198, 198, 198, 198, 197, 197, 197, 196, 196, 196, 196, 196, 196, 196, 196, 196, 196, 195, 195, 195, 195, 195, 195, 195, 195, 195, 194, 194, 194, 194, 194, 194, 194, 194, 194, 194, 194, 194, 193, 193, 193, 193, 192, 192, 192, 192, 192, 192, 192, 192, 192, 192, 192, 191, 191, 191, 191, 191, 191, 191, 191, 191, 191, 191, 191, 191, 191, 191, 190, 190, 190, 190, 190, 190, 190, 190, 190, 190, 190, 190, 189, 189, 189, 189, 189, 189, 189, 189, 189, 189, 189, 189, 189, 189, 188, 188, 188, 188, 188, 188, 188, 188, 187, 187, 187, 187, 187, 187, 187, 187, 187, 187, 187, 187, 187, 187, 186, 186, 186, 186, 186, 186, 186, 186, 186, 186, 186, 186, 186, 185, 185, 185, 185, 185, 185, 185, 185, 185, 185, 185, 185, 185, 185, 185, 185, 184, 184, 184, 184, 184, 184, 184, 184, 184, 184, 184, 184, 184, 184, 184, 184, 184, 184, 184, 183, 183, 183, 183, 183, 183, 183, 183, 183, 183, 183, 183, 183, 183, 183, 183, 183, 183, 183, 183, 182, 182, 182, 182, 182, 182, 182, 182, 182, 182, 182, 182, 182, 182, 182, 182, 182, 182, 181, 181, 181, 181, 181, 181, 181, 181, 181, 181, 181, 181, 181, 181, 181, 181, 180, 180, 180, 180, 180, 180, 180, 180, 180, 180, 180, 180, 180, 180, 180, 179, 179, 179, 179, 179, 179, 179, 179, 179, 179, 179, 179, 179, 179, 179, 178, 178, 178, 178, 178, 178, 178, 178, 178, 178, 178, 178, 178, 178, 178, 178, 178, 178, 178, 177, 177, 177, 177, 177, 177, 177, 177, 177, 177, 177, 177, 177, 177, 177, 177, 177, 176, 176, 176, 176, 176, 176, 176, 176, 176, 176, 176, 176, 176, 176, 176, 176, 176, 176, 176, 176, 176, 176, 175, 175, 175, 175, 175, 175, 175, 175, 175, 175, 175, 175, 175, 175, 175, 175, 175, 175, 175, 174, 174, 174, 174, 174, 174, 174, 174, 174, 174, 174, 174, 174, 174, 173, 173, 173, 173, 173, 173, 173, 173, 173, 173, 173, 173, 173, 173, 173, 173, 173, 173, 173, 173, 172, 172, 172, 172, 172, 172, 172, 172, 172, 172, 172, 172, 172, 172, 172, 171, 171, 171, 171, 171, 171, 171, 171, 171, 171, 171, 171, 171, 171, 171, 171, 171, 171, 170, 170, 170, 170, 170, 170, 170, 170, 170, 170, 170, 169, 169, 169, 169, 169, 169, 169, 169, 169, 169, 169, 169, 169, 169, 169, 169, 169, 168, 168, 168, 168, 168, 168, 168, 168, 168, 168, 167, 167, 167, 167, 167, 167, 167, 167, 167, 167, 167, 167, 167, 167, 166, 166, 166, 166, 166, 166, 166, 166, 166, 166, 166, 166, 166, 166, 165, 165, 165, 165, 165, 165, 165, 165, 165, 164, 164, 164, 164, 164, 164, 164, 164, 164, 164, 164, 164, 163, 163, 163, 163, 163, 163, 163, 163, 163, 162, 162, 162, 162, 162, 162, 162, 162, 161, 161, 161, 161, 161, 161, 161, 161, 161, 160, 160, 160, 160, 160, 159, 159, 159, 159, 158, 158, 158, 158, 158, 157, 157, 157, 157, 157, 157, 157, 157, 157, 157, 156, 156, 156, 156, 156, 155, 155, 155, 155, 154, 154, 154, 154, 154, 154, 154, 153, 153, 153, 152, 152, 152, 152, 151, 150, 150, 150, 150, 149, 149, 147, 145, 143, 143, 142, 142, 142, 139, 138, 135, 135, 132, 132, 125, 125, 125, 124, 123, 121, 117, 115, 114, 113, 111, 111, 109, 105, 104, 103, 98, 98, 98, 93, 93, 91, 89, 87, 85, 83, 82, 82, 76, 74, 73, 72, 72, 71, 69, 67, 67, 63, 57, 56, 56, 54, 53, 52, 48, 45, 45, 44, 43, 43, 40, 40, 39, 38, 38, 37, 36, 24, 23, 23, 23, 21, 21, 17, 15, 13, 11, 9, 6, 5, 4, 3, 2, 1, 1, 1], \"yaxis\": \"y\"}, {\"alignmentgroup\": \"True\", \"hovertemplate\": \"health_status=Dead<br>age=%{x}<br>Number of Patients=%{y}<extra></extra>\", \"legendgroup\": \"Dead\", \"marker\": {\"color\": \"#EF553B\"}, \"name\": \"Dead\", \"offsetgroup\": \"Dead\", \"orientation\": \"v\", \"showlegend\": true, \"textposition\": \"auto\", \"type\": \"bar\", \"x\": [3, 2, 4, 2, 2, 2, 3, 3, 2, 2, 4, 5, 2, 4, 3, 2, 2, 2, 3, 3, 5, 5, 3, 3, 4, 5, 3, 3, 5, 4, 4, 4, 4, 5, 7, 5, 5, 5, 4, 4, 6, 5, 6, 7, 6, 6, 6, 6, 7, 6, 6, 7, 7, 8, 7, 6, 7, 8, 8, 6, 7, 8, 8, 9, 8, 9, 9, 7, 9, 8, 10, 8, 7, 9, 9, 1, 1, 10, 8, 11, 1, 9, 10, 31, 9, 10, 37, 10, 60, 9, 8, 1, 10, 25, 17, 1, 33, 1, 19, 9, 57, 11, 60, 10, 39, 31, 56, 34, 38, 42, 12, 36, 10, 44, 18, 20, 19, 10, 14, 14, 10, 11, 60, 66, 11, 43, 1, 42, 19, 61, 29, 15, 61, 57, 26, 61, 66, 49, 67, 13, 12, 62, 57, 66, 50, 26, 59, 40, 15, 39, 21, 14, 67, 37, 66, 32, 55, 44, 13, 11, 45, 54, 58, 21, 22, 66, 22, 63, 58, 50, 22, 34, 21, 14, 37, 69, 11, 19, 21, 15, 41, 44, 35, 40, 59, 48, 49, 42, 29, 35, 34, 25, 20, 32, 18, 66, 46, 65, 43, 25, 32, 12, 48, 61, 1, 48, 51, 49, 52, 36, 63, 64, 31, 29, 55, 18, 46, 62, 29, 49, 39, 28, 47, 46, 31, 36, 31, 26, 50, 64, 26, 11, 46, 65, 15, 39, 13, 11, 33, 41, 67, 11, 20, 59, 18, 46, 21, 13, 26, 47, 49, 59, 32, 23, 56, 57, 67, 19, 36, 34, 37, 1, 40, 52, 11, 16, 27, 23, 69, 28, 53, 54, 38, 29, 55, 24, 64, 68, 36, 65, 40, 39, 23, 47, 25, 51, 51, 21, 25, 20, 53, 19, 31, 63, 30, 24, 64, 64, 47, 12, 1, 50, 53, 16, 28, 18, 43, 17, 45, 27, 60, 69, 40, 16, 65, 43, 52, 21, 17, 21, 58, 41, 26, 14, 15, 37, 24, 63, 67, 37, 49, 33, 52, 60, 40, 45, 45, 12, 27, 18, 15, 19, 16, 16, 65, 39, 64, 41, 59, 15, 15, 24, 68, 38, 13, 16, 63, 12, 17, 38, 63, 23, 30, 12, 51, 41, 22, 25, 70, 61, 65, 40, 55, 36, 13, 36, 13, 14, 53, 60, 55, 48, 40, 50, 22, 50, 48, 26, 60, 44, 36, 54, 59, 53, 55, 34, 32, 13, 58, 28, 35, 69, 52, 20, 18, 68, 26, 45, 46, 30, 53, 47, 68, 52, 20, 52, 57, 34, 59, 51, 34, 22, 35, 12, 23, 17, 63, 58, 43, 59, 51, 15, 49, 61, 39, 65, 30, 20, 60, 70, 25, 53, 41, 14, 39, 22, 30, 49, 29, 28, 19, 56, 33, 16, 59, 32, 33, 34, 49, 58, 18, 57, 47, 69, 22, 46, 47, 33, 19, 39, 25, 37, 16, 17, 38, 33, 27, 34, 35, 17, 66, 65, 42, 24, 41, 48, 31, 30, 52, 47, 28, 36, 23, 66, 35, 56, 42, 17, 32, 57, 58, 43, 36, 68, 22, 38, 65, 48, 18, 13, 20, 27, 24, 12, 42, 61, 18, 68, 50, 69, 33, 51, 21, 44, 28, 45, 50, 24, 67, 54, 60, 44, 35, 29, 30, 14, 64, 45, 62, 32, 35, 42, 63, 54, 35, 44, 52, 47, 20, 69, 37, 62, 54, 48, 24, 68, 64, 56, 54, 66, 47, 54, 61, 49, 23, 51, 25, 32, 56, 24, 70, 44, 38, 51, 14, 38, 55, 33, 62, 41, 62, 70, 70, 64, 15, 70, 44, 69, 19, 27, 43, 35, 48, 67, 61, 68, 48, 68, 40, 55, 62, 62, 17, 68, 16, 58, 57, 27, 43, 29, 64, 54, 24, 60, 41, 43, 42, 26, 38, 16, 40, 71, 70, 52, 54, 32, 56, 21, 29, 63, 27, 53, 27, 67, 45, 55, 62, 33, 65, 62, 25, 69, 38, 39, 63, 31, 56, 56, 31, 61, 23, 23, 70, 70, 31, 41, 42, 20, 67, 26, 17, 12, 28, 55, 58, 58, 46, 13, 44, 45, 57, 56, 30, 28, 69, 29, 23, 59, 57, 30, 34, 42, 27, 14, 37, 72, 51, 67, 45, 43, 37, 70, 71, 28, 66, 71, 30, 71, 50, 53, 46, 71, 46, 50, 22, 71, 53, 71, 71, 71, 72, 72, 71, 72, 72, 72, 73, 72, 73, 72, 73, 73, 72, 73, 72, 73, 73, 73, 74, 74, 73, 75, 74, 74, 73, 74, 75, 74, 74, 75, 74, 75, 74, 74, 75, 75, 75, 75, 76, 75, 75, 76, 76, 76, 76, 76, 76, 77, 76, 76, 76, 77, 77, 77, 77, 77, 77, 77, 77, 77, 78, 78, 78, 78, 78, 78, 78, 78, 78, 78, 0, 0, 0, 0, 0, 0, 0, 0, 0, 0], \"xaxis\": \"x\", \"y\": [402, 395, 394, 387, 383, 383, 382, 381, 379, 368, 366, 362, 360, 359, 358, 357, 356, 353, 345, 343, 341, 339, 338, 336, 336, 332, 330, 329, 328, 327, 326, 325, 320, 316, 316, 315, 314, 313, 310, 309, 307, 305, 300, 299, 290, 286, 286, 285, 284, 282, 281, 280, 275, 271, 270, 269, 268, 268, 267, 267, 265, 264, 263, 261, 258, 258, 257, 256, 252, 251, 248, 244, 240, 238, 237, 237, 233, 229, 228, 224, 223, 222, 221, 221, 220, 220, 220, 220, 220, 219, 217, 216, 216, 214, 213, 212, 211, 211, 210, 209, 209, 209, 208, 208, 207, 207, 206, 206, 206, 205, 205, 205, 205, 204, 204, 204, 204, 204, 204, 203, 203, 203, 202, 202, 202, 202, 202, 202, 202, 201, 201, 201, 201, 201, 201, 200, 200, 200, 200, 200, 200, 199, 199, 199, 199, 199, 199, 199, 198, 198, 198, 198, 198, 198, 198, 197, 197, 197, 197, 197, 197, 197, 197, 197, 197, 197, 197, 196, 196, 196, 196, 196, 196, 196, 196, 196, 195, 195, 195, 195, 195, 194, 194, 194, 194, 194, 194, 194, 193, 193, 193, 193, 193, 193, 193, 193, 192, 192, 192, 192, 192, 192, 192, 192, 191, 191, 191, 191, 191, 191, 191, 191, 191, 191, 191, 191, 191, 191, 191, 190, 190, 190, 190, 190, 190, 190, 190, 190, 190, 190, 189, 189, 189, 189, 189, 189, 189, 189, 189, 189, 189, 189, 189, 189, 189, 188, 188, 188, 188, 188, 188, 188, 188, 188, 187, 187, 187, 187, 187, 187, 187, 186, 186, 186, 186, 186, 186, 186, 186, 186, 186, 186, 186, 186, 186, 186, 185, 185, 185, 185, 185, 185, 185, 185, 185, 185, 185, 185, 184, 184, 184, 184, 184, 184, 184, 184, 184, 184, 184, 184, 184, 184, 184, 184, 184, 184, 184, 184, 184, 184, 184, 184, 183, 183, 183, 183, 183, 183, 183, 183, 183, 183, 183, 183, 183, 183, 183, 183, 183, 183, 182, 182, 182, 182, 182, 182, 182, 182, 182, 182, 182, 182, 182, 182, 181, 181, 181, 181, 181, 181, 181, 181, 181, 181, 181, 181, 181, 181, 181, 180, 180, 180, 180, 180, 180, 180, 180, 180, 180, 180, 180, 180, 180, 180, 180, 180, 180, 180, 180, 180, 180, 179, 179, 179, 179, 179, 179, 179, 179, 179, 179, 179, 179, 179, 179, 178, 178, 178, 178, 178, 178, 178, 178, 178, 178, 177, 177, 177, 177, 177, 177, 177, 177, 177, 177, 177, 177, 177, 177, 177, 177, 177, 177, 177, 177, 176, 176, 176, 176, 176, 176, 176, 176, 176, 176, 176, 176, 175, 175, 175, 175, 175, 175, 175, 175, 175, 175, 175, 175, 175, 175, 175, 175, 175, 175, 175, 175, 175, 174, 174, 174, 174, 174, 174, 174, 174, 174, 174, 174, 174, 174, 174, 174, 174, 173, 173, 173, 173, 173, 173, 173, 173, 173, 173, 173, 173, 172, 172, 172, 172, 172, 172, 172, 172, 172, 172, 172, 172, 172, 172, 172, 172, 172, 172, 172, 172, 172, 172, 171, 171, 171, 171, 171, 171, 171, 171, 171, 171, 171, 171, 171, 171, 170, 170, 170, 170, 170, 170, 170, 170, 170, 170, 170, 170, 170, 170, 170, 170, 169, 169, 169, 169, 169, 169, 169, 169, 169, 169, 169, 169, 169, 169, 169, 169, 169, 169, 169, 169, 169, 168, 168, 168, 168, 168, 168, 168, 168, 168, 168, 168, 167, 167, 167, 167, 167, 167, 167, 167, 167, 167, 166, 166, 166, 166, 166, 166, 166, 166, 166, 166, 166, 166, 166, 166, 165, 165, 165, 165, 165, 165, 165, 165, 165, 165, 165, 165, 164, 164, 164, 164, 164, 164, 164, 164, 164, 164, 164, 163, 163, 163, 163, 163, 163, 163, 163, 162, 162, 162, 162, 162, 162, 162, 162, 162, 162, 162, 162, 162, 162, 161, 161, 161, 161, 161, 161, 160, 160, 160, 160, 160, 160, 160, 160, 160, 160, 160, 160, 160, 160, 159, 159, 159, 159, 159, 159, 158, 158, 158, 158, 157, 157, 157, 157, 157, 156, 156, 156, 156, 156, 155, 154, 154, 154, 154, 154, 153, 153, 153, 153, 152, 152, 152, 152, 152, 151, 150, 149, 149, 148, 147, 147, 146, 145, 144, 144, 143, 143, 140, 138, 137, 137, 133, 131, 126, 124, 123, 122, 121, 120, 120, 116, 112, 112, 111, 111, 103, 102, 100, 99, 95, 95, 95, 89, 88, 86, 85, 81, 81, 78, 77, 77, 76, 75, 73, 73, 71, 69, 68, 65, 61, 61, 60, 55, 55, 54, 53, 51, 50, 49, 48, 44, 38, 37, 35, 35, 33, 32, 32, 27, 26, 24, 22, 18, 17, 17, 17, 15, 15, 14, 12, 7, 7, 5, 5, 5, 5, 4, 3, 3, 1], \"yaxis\": \"y\"}, {\"alignmentgroup\": \"True\", \"hovertemplate\": \"health_status=alive<br>age=%{x}<br>Number of Patients=%{y}<extra></extra>\", \"legendgroup\": \"alive\", \"marker\": {\"color\": \"#00cc96\"}, \"name\": \"alive\", \"offsetgroup\": \"alive\", \"orientation\": \"v\", \"showlegend\": true, \"textposition\": \"auto\", \"type\": \"bar\", \"x\": [32], \"xaxis\": \"x\", \"y\": [1], \"yaxis\": \"y\"}],                        {\"barmode\": \"relative\", \"legend\": {\"title\": {\"text\": \"health_status\"}, \"tracegroupgap\": 0}, \"margin\": {\"t\": 60}, \"template\": {\"data\": {\"bar\": [{\"error_x\": {\"color\": \"#2a3f5f\"}, \"error_y\": {\"color\": \"#2a3f5f\"}, \"marker\": {\"line\": {\"color\": \"#E5ECF6\", \"width\": 0.5}}, \"type\": \"bar\"}], \"barpolar\": [{\"marker\": {\"line\": {\"color\": \"#E5ECF6\", \"width\": 0.5}}, \"type\": \"barpolar\"}], \"carpet\": [{\"aaxis\": {\"endlinecolor\": \"#2a3f5f\", \"gridcolor\": \"white\", \"linecolor\": \"white\", \"minorgridcolor\": \"white\", \"startlinecolor\": \"#2a3f5f\"}, \"baxis\": {\"endlinecolor\": \"#2a3f5f\", \"gridcolor\": \"white\", \"linecolor\": \"white\", \"minorgridcolor\": \"white\", \"startlinecolor\": \"#2a3f5f\"}, \"type\": \"carpet\"}], \"choropleth\": [{\"colorbar\": {\"outlinewidth\": 0, \"ticks\": \"\"}, \"type\": \"choropleth\"}], \"contour\": [{\"colorbar\": {\"outlinewidth\": 0, \"ticks\": \"\"}, \"colorscale\": [[0.0, \"#0d0887\"], [0.1111111111111111, \"#46039f\"], [0.2222222222222222, \"#7201a8\"], [0.3333333333333333, \"#9c179e\"], [0.4444444444444444, \"#bd3786\"], [0.5555555555555556, \"#d8576b\"], [0.6666666666666666, \"#ed7953\"], [0.7777777777777778, \"#fb9f3a\"], [0.8888888888888888, \"#fdca26\"], [1.0, \"#f0f921\"]], \"type\": \"contour\"}], \"contourcarpet\": [{\"colorbar\": {\"outlinewidth\": 0, \"ticks\": \"\"}, \"type\": \"contourcarpet\"}], \"heatmap\": [{\"colorbar\": {\"outlinewidth\": 0, \"ticks\": \"\"}, \"colorscale\": [[0.0, \"#0d0887\"], [0.1111111111111111, \"#46039f\"], [0.2222222222222222, \"#7201a8\"], [0.3333333333333333, \"#9c179e\"], [0.4444444444444444, \"#bd3786\"], [0.5555555555555556, \"#d8576b\"], [0.6666666666666666, \"#ed7953\"], [0.7777777777777778, \"#fb9f3a\"], [0.8888888888888888, \"#fdca26\"], [1.0, \"#f0f921\"]], \"type\": \"heatmap\"}], \"heatmapgl\": [{\"colorbar\": {\"outlinewidth\": 0, \"ticks\": \"\"}, \"colorscale\": [[0.0, \"#0d0887\"], [0.1111111111111111, \"#46039f\"], [0.2222222222222222, \"#7201a8\"], [0.3333333333333333, \"#9c179e\"], [0.4444444444444444, \"#bd3786\"], [0.5555555555555556, \"#d8576b\"], [0.6666666666666666, \"#ed7953\"], [0.7777777777777778, \"#fb9f3a\"], [0.8888888888888888, \"#fdca26\"], [1.0, \"#f0f921\"]], \"type\": \"heatmapgl\"}], \"histogram\": [{\"marker\": {\"colorbar\": {\"outlinewidth\": 0, \"ticks\": \"\"}}, \"type\": \"histogram\"}], \"histogram2d\": [{\"colorbar\": {\"outlinewidth\": 0, \"ticks\": \"\"}, \"colorscale\": [[0.0, \"#0d0887\"], [0.1111111111111111, \"#46039f\"], [0.2222222222222222, \"#7201a8\"], [0.3333333333333333, \"#9c179e\"], [0.4444444444444444, \"#bd3786\"], [0.5555555555555556, \"#d8576b\"], [0.6666666666666666, \"#ed7953\"], [0.7777777777777778, \"#fb9f3a\"], [0.8888888888888888, \"#fdca26\"], [1.0, \"#f0f921\"]], \"type\": \"histogram2d\"}], \"histogram2dcontour\": [{\"colorbar\": {\"outlinewidth\": 0, \"ticks\": \"\"}, \"colorscale\": [[0.0, \"#0d0887\"], [0.1111111111111111, \"#46039f\"], [0.2222222222222222, \"#7201a8\"], [0.3333333333333333, \"#9c179e\"], [0.4444444444444444, \"#bd3786\"], [0.5555555555555556, \"#d8576b\"], [0.6666666666666666, \"#ed7953\"], [0.7777777777777778, \"#fb9f3a\"], [0.8888888888888888, \"#fdca26\"], [1.0, \"#f0f921\"]], \"type\": \"histogram2dcontour\"}], \"mesh3d\": [{\"colorbar\": {\"outlinewidth\": 0, \"ticks\": \"\"}, \"type\": \"mesh3d\"}], \"parcoords\": [{\"line\": {\"colorbar\": {\"outlinewidth\": 0, \"ticks\": \"\"}}, \"type\": \"parcoords\"}], \"pie\": [{\"automargin\": true, \"type\": \"pie\"}], \"scatter\": [{\"marker\": {\"colorbar\": {\"outlinewidth\": 0, \"ticks\": \"\"}}, \"type\": \"scatter\"}], \"scatter3d\": [{\"line\": {\"colorbar\": {\"outlinewidth\": 0, \"ticks\": \"\"}}, \"marker\": {\"colorbar\": {\"outlinewidth\": 0, \"ticks\": \"\"}}, \"type\": \"scatter3d\"}], \"scattercarpet\": [{\"marker\": {\"colorbar\": {\"outlinewidth\": 0, \"ticks\": \"\"}}, \"type\": \"scattercarpet\"}], \"scattergeo\": [{\"marker\": {\"colorbar\": {\"outlinewidth\": 0, \"ticks\": \"\"}}, \"type\": \"scattergeo\"}], \"scattergl\": [{\"marker\": {\"colorbar\": {\"outlinewidth\": 0, \"ticks\": \"\"}}, \"type\": \"scattergl\"}], \"scattermapbox\": [{\"marker\": {\"colorbar\": {\"outlinewidth\": 0, \"ticks\": \"\"}}, \"type\": \"scattermapbox\"}], \"scatterpolar\": [{\"marker\": {\"colorbar\": {\"outlinewidth\": 0, \"ticks\": \"\"}}, \"type\": \"scatterpolar\"}], \"scatterpolargl\": [{\"marker\": {\"colorbar\": {\"outlinewidth\": 0, \"ticks\": \"\"}}, \"type\": \"scatterpolargl\"}], \"scatterternary\": [{\"marker\": {\"colorbar\": {\"outlinewidth\": 0, \"ticks\": \"\"}}, \"type\": \"scatterternary\"}], \"surface\": [{\"colorbar\": {\"outlinewidth\": 0, \"ticks\": \"\"}, \"colorscale\": [[0.0, \"#0d0887\"], [0.1111111111111111, \"#46039f\"], [0.2222222222222222, \"#7201a8\"], [0.3333333333333333, \"#9c179e\"], [0.4444444444444444, \"#bd3786\"], [0.5555555555555556, \"#d8576b\"], [0.6666666666666666, \"#ed7953\"], [0.7777777777777778, \"#fb9f3a\"], [0.8888888888888888, \"#fdca26\"], [1.0, \"#f0f921\"]], \"type\": \"surface\"}], \"table\": [{\"cells\": {\"fill\": {\"color\": \"#EBF0F8\"}, \"line\": {\"color\": \"white\"}}, \"header\": {\"fill\": {\"color\": \"#C8D4E3\"}, \"line\": {\"color\": \"white\"}}, \"type\": \"table\"}]}, \"layout\": {\"annotationdefaults\": {\"arrowcolor\": \"#2a3f5f\", \"arrowhead\": 0, \"arrowwidth\": 1}, \"autotypenumbers\": \"strict\", \"coloraxis\": {\"colorbar\": {\"outlinewidth\": 0, \"ticks\": \"\"}}, \"colorscale\": {\"diverging\": [[0, \"#8e0152\"], [0.1, \"#c51b7d\"], [0.2, \"#de77ae\"], [0.3, \"#f1b6da\"], [0.4, \"#fde0ef\"], [0.5, \"#f7f7f7\"], [0.6, \"#e6f5d0\"], [0.7, \"#b8e186\"], [0.8, \"#7fbc41\"], [0.9, \"#4d9221\"], [1, \"#276419\"]], \"sequential\": [[0.0, \"#0d0887\"], [0.1111111111111111, \"#46039f\"], [0.2222222222222222, \"#7201a8\"], [0.3333333333333333, \"#9c179e\"], [0.4444444444444444, \"#bd3786\"], [0.5555555555555556, \"#d8576b\"], [0.6666666666666666, \"#ed7953\"], [0.7777777777777778, \"#fb9f3a\"], [0.8888888888888888, \"#fdca26\"], [1.0, \"#f0f921\"]], \"sequentialminus\": [[0.0, \"#0d0887\"], [0.1111111111111111, \"#46039f\"], [0.2222222222222222, \"#7201a8\"], [0.3333333333333333, \"#9c179e\"], [0.4444444444444444, \"#bd3786\"], [0.5555555555555556, \"#d8576b\"], [0.6666666666666666, \"#ed7953\"], [0.7777777777777778, \"#fb9f3a\"], [0.8888888888888888, \"#fdca26\"], [1.0, \"#f0f921\"]]}, \"colorway\": [\"#636efa\", \"#EF553B\", \"#00cc96\", \"#ab63fa\", \"#FFA15A\", \"#19d3f3\", \"#FF6692\", \"#B6E880\", \"#FF97FF\", \"#FECB52\"], \"font\": {\"color\": \"#2a3f5f\"}, \"geo\": {\"bgcolor\": \"white\", \"lakecolor\": \"white\", \"landcolor\": \"#E5ECF6\", \"showlakes\": true, \"showland\": true, \"subunitcolor\": \"white\"}, \"hoverlabel\": {\"align\": \"left\"}, \"hovermode\": \"closest\", \"mapbox\": {\"style\": \"light\"}, \"paper_bgcolor\": \"white\", \"plot_bgcolor\": \"#E5ECF6\", \"polar\": {\"angularaxis\": {\"gridcolor\": \"white\", \"linecolor\": \"white\", \"ticks\": \"\"}, \"bgcolor\": \"#E5ECF6\", \"radialaxis\": {\"gridcolor\": \"white\", \"linecolor\": \"white\", \"ticks\": \"\"}}, \"scene\": {\"xaxis\": {\"backgroundcolor\": \"#E5ECF6\", \"gridcolor\": \"white\", \"gridwidth\": 2, \"linecolor\": \"white\", \"showbackground\": true, \"ticks\": \"\", \"zerolinecolor\": \"white\"}, \"yaxis\": {\"backgroundcolor\": \"#E5ECF6\", \"gridcolor\": \"white\", \"gridwidth\": 2, \"linecolor\": \"white\", \"showbackground\": true, \"ticks\": \"\", \"zerolinecolor\": \"white\"}, \"zaxis\": {\"backgroundcolor\": \"#E5ECF6\", \"gridcolor\": \"white\", \"gridwidth\": 2, \"linecolor\": \"white\", \"showbackground\": true, \"ticks\": \"\", \"zerolinecolor\": \"white\"}}, \"shapedefaults\": {\"line\": {\"color\": \"#2a3f5f\"}}, \"ternary\": {\"aaxis\": {\"gridcolor\": \"white\", \"linecolor\": \"white\", \"ticks\": \"\"}, \"baxis\": {\"gridcolor\": \"white\", \"linecolor\": \"white\", \"ticks\": \"\"}, \"bgcolor\": \"#E5ECF6\", \"caxis\": {\"gridcolor\": \"white\", \"linecolor\": \"white\", \"ticks\": \"\"}}, \"title\": {\"x\": 0.05}, \"xaxis\": {\"automargin\": true, \"gridcolor\": \"white\", \"linecolor\": \"white\", \"ticks\": \"\", \"title\": {\"standoff\": 15}, \"zerolinecolor\": \"white\", \"zerolinewidth\": 2}, \"yaxis\": {\"automargin\": true, \"gridcolor\": \"white\", \"linecolor\": \"white\", \"ticks\": \"\", \"title\": {\"standoff\": 15}, \"zerolinecolor\": \"white\", \"zerolinewidth\": 2}}}, \"xaxis\": {\"anchor\": \"y\", \"domain\": [0.0, 1.0], \"title\": {\"text\": \"age\"}}, \"yaxis\": {\"anchor\": \"x\", \"domain\": [0.0, 1.0], \"title\": {\"text\": \"Number of Patients\"}}},                        {\"responsive\": true}                    ).then(function(){\n",
       "                            \n",
       "var gd = document.getElementById('0cb453ee-1d06-40cb-bd2e-1e7cd7044c7f');\n",
       "var x = new MutationObserver(function (mutations, observer) {{\n",
       "        var display = window.getComputedStyle(gd).display;\n",
       "        if (!display || display === 'none') {{\n",
       "            console.log([gd, 'removed!']);\n",
       "            Plotly.purge(gd);\n",
       "            observer.disconnect();\n",
       "        }}\n",
       "}});\n",
       "\n",
       "// Listen for the removal of the full notebook cells\n",
       "var notebookContainer = gd.closest('#notebook-container');\n",
       "if (notebookContainer) {{\n",
       "    x.observe(notebookContainer, {childList: true});\n",
       "}}\n",
       "\n",
       "// Listen for the clearing of the current output cell\n",
       "var outputEl = gd.closest('.output');\n",
       "if (outputEl) {{\n",
       "    x.observe(outputEl, {childList: true});\n",
       "}}\n",
       "\n",
       "                        })                };                });            </script>        </div>"
      ]
     },
     "metadata": {},
     "output_type": "display_data"
    }
   ],
   "source": [
    "data_age= data.groupby(['age', 'disease', 'health_status'])['id'].count().reset_index(name='Number of Patients').sort_values(by= 'Number of Patients', ascending= False)\n",
    "data_age\n",
    "\n",
    "px.bar(data_age, x= 'age' , y='Number of Patients', color= 'health_status')\n"
   ]
  },
  {
   "cell_type": "code",
   "execution_count": 17,
   "id": "quick-possible",
   "metadata": {
    "execution": {
     "iopub.execute_input": "2021-07-06T10:17:42.416366Z",
     "iopub.status.busy": "2021-07-06T10:17:42.410517Z",
     "iopub.status.idle": "2021-07-06T10:17:42.523663Z",
     "shell.execute_reply": "2021-07-06T10:17:42.524197Z",
     "shell.execute_reply.started": "2021-07-06T10:10:32.334194Z"
    },
    "papermill": {
     "duration": 0.224123,
     "end_time": "2021-07-06T10:17:42.524376",
     "exception": false,
     "start_time": "2021-07-06T10:17:42.300253",
     "status": "completed"
    },
    "tags": []
   },
   "outputs": [
    {
     "data": {
      "application/vnd.plotly.v1+json": {
       "config": {
        "plotlyServerURL": "https://plot.ly"
       },
       "data": [
        {
         "alignmentgroup": "True",
         "hovertemplate": "health_status=%{x}<br>Number of Patients=%{y}<br>age=%{marker.color}<extra></extra>",
         "legendgroup": "",
         "marker": {
          "color": [
           2,
           3,
           2,
           2,
           4,
           2,
           2,
           2,
           2,
           2,
           3,
           3,
           2,
           2,
           2,
           2,
           2,
           2,
           4,
           2,
           5,
           2,
           4,
           3,
           2,
           2,
           2,
           3,
           3,
           3,
           2,
           3,
           3,
           3,
           3,
           4,
           5,
           3,
           5,
           3,
           4,
           3,
           4,
           3,
           4,
           4,
           5,
           3,
           3,
           3,
           5,
           4,
           4,
           4,
           3,
           4,
           5,
           4,
           4,
           5,
           5,
           3,
           4,
           5,
           7,
           5,
           5,
           6,
           5,
           4,
           4,
           7,
           5,
           4,
           4,
           6,
           5,
           4,
           6,
           5,
           5,
           5,
           6,
           7,
           5,
           5,
           6,
           6,
           6,
           5,
           7,
           6,
           6,
           8,
           6,
           6,
           6,
           6,
           7,
           6,
           6,
           7,
           7,
           6,
           6,
           7,
           7,
           8,
           7,
           7,
           7,
           7,
           7,
           6,
           7,
           8,
           8,
           6,
           7,
           7,
           8,
           8,
           8,
           7,
           9,
           8,
           8,
           9,
           9,
           7,
           9,
           9,
           6,
           8,
           8,
           8,
           9,
           8,
           9,
           58,
           8,
           8,
           10,
           9,
           8,
           8,
           9,
           10,
           1,
           7,
           9,
           9,
           9,
           1,
           8,
           11,
           9,
           1,
           9,
           9,
           1,
           10,
           10,
           10,
           8,
           25,
           23,
           1,
           10,
           9,
           11,
           1,
           1,
           9,
           20,
           10,
           10,
           31,
           9,
           10,
           37,
           10,
           10,
           60,
           11,
           11,
           9,
           10,
           1,
           1,
           29,
           10,
           8,
           1,
           1,
           10,
           25,
           17,
           1,
           57,
           34,
           33,
           32,
           1,
           26,
           19,
           9,
           33,
           49,
           31,
           57,
           11,
           47,
           30,
           60,
           10,
           11,
           1,
           10,
           47,
           39,
           31,
           35,
           56,
           34,
           38,
           42,
           12,
           36,
           10,
           44,
           18,
           65,
           20,
           62,
           19,
           11,
           28,
           10,
           10,
           14,
           14,
           10,
           34,
           11,
           60,
           66,
           11,
           49,
           26,
           43,
           11,
           1,
           34,
           42,
           19,
           61,
           29,
           15,
           61,
           57,
           26,
           1,
           44,
           50,
           61,
           34,
           37,
           66,
           49,
           67,
           36,
           63,
           18,
           13,
           12,
           52,
           62,
           57,
           66,
           50,
           26,
           12,
           12,
           54,
           59,
           13,
           40,
           12,
           58,
           15,
           39,
           17,
           21,
           14,
           67,
           1,
           37,
           66,
           50,
           32,
           12,
           55,
           44,
           13,
           11,
           45,
           40,
           54,
           58,
           21,
           22,
           66,
           21,
           22,
           63,
           58,
           50,
           22,
           27,
           34,
           65,
           52,
           21,
           66,
           19,
           47,
           59,
           20,
           14,
           22,
           37,
           29,
           69,
           61,
           11,
           40,
           66,
           43,
           50,
           64,
           19,
           40,
           21,
           15,
           40,
           11,
           41,
           44,
           15,
           35,
           19,
           40,
           40,
           25,
           37,
           21,
           23,
           59,
           48,
           59,
           61,
           33,
           49,
           57,
           38,
           42,
           29,
           35,
           34,
           19,
           25,
           25,
           11,
           20,
           32,
           45,
           18,
           66,
           24,
           37,
           46,
           65,
           69,
           30,
           62,
           39,
           31,
           55,
           41,
           57,
           43,
           25,
           32,
           12,
           48,
           61,
           61,
           1,
           48,
           48,
           29,
           51,
           51,
           49,
           51,
           48,
           32,
           52,
           17,
           36,
           63,
           41,
           63,
           41,
           64,
           31,
           36,
           29,
           55,
           65,
           18,
           16,
           11,
           46,
           62,
           47,
           29,
           49,
           39,
           28,
           47,
           24,
           46,
           68,
           35,
           43,
           42,
           31,
           36,
           31,
           26,
           58,
           50,
           60,
           64,
           66,
           66,
           64,
           60,
           17,
           69,
           26,
           11,
           52,
           46,
           65,
           26,
           24,
           15,
           38,
           39,
           23,
           39,
           13,
           54,
           11,
           68,
           53,
           33,
           33,
           32,
           51,
           41,
           67,
           11,
           20,
           59,
           18,
           49,
           46,
           30,
           21,
           30,
           13,
           26,
           47,
           49,
           52,
           60,
           59,
           55,
           69,
           49,
           18,
           32,
           23,
           14,
           41,
           56,
           61,
           14,
           16,
           57,
           60,
           45,
           53,
           50,
           67,
           52,
           12,
           20,
           19,
           36,
           34,
           67,
           37,
           25,
           1,
           35,
           40,
           36,
           50,
           27,
           52,
           11,
           43,
           16,
           18,
           27,
           23,
           69,
           50,
           28,
           53,
           38,
           20,
           54,
           38,
           41,
           46,
           29,
           55,
           36,
           24,
           18,
           64,
           68,
           12,
           36,
           14,
           14,
           65,
           67,
           30,
           40,
           17,
           32,
           39,
           38,
           54,
           23,
           47,
           25,
           24,
           53,
           56,
           26,
           52,
           51,
           51,
           54,
           21,
           47,
           25,
           14,
           20,
           17,
           53,
           19,
           13,
           19,
           63,
           31,
           63,
           30,
           24,
           31,
           64,
           47,
           64,
           24,
           47,
           65,
           12,
           48,
           35,
           23,
           1,
           50,
           53,
           42,
           16,
           28,
           16,
           18,
           43,
           17,
           45,
           27,
           26,
           60,
           69,
           61,
           18,
           42,
           55,
           17,
           40,
           16,
           65,
           16,
           43,
           12,
           48,
           52,
           45,
           35,
           59,
           21,
           17,
           22,
           49,
           21,
           67,
           58,
           11,
           41,
           26,
           38,
           14,
           60,
           46,
           46,
           14,
           15,
           37,
           24,
           54,
           18,
           63,
           67,
           39,
           45,
           37,
           54,
           33,
           50,
           49,
           68,
           66,
           37,
           33,
           46,
           52,
           40,
           59,
           60,
           40,
           62,
           45,
           44,
           45,
           33,
           12,
           27,
           30,
           18,
           15,
           19,
           16,
           22,
           22,
           69,
           16,
           29,
           69,
           65,
           39,
           49,
           21,
           64,
           41,
           59,
           15,
           13,
           45,
           15,
           24,
           25,
           62,
           45,
           63,
           68,
           38,
           33,
           29,
           13,
           16,
           16,
           28,
           43,
           63,
           24,
           12,
           34,
           23,
           17,
           38,
           13,
           25,
           53,
           63,
           63,
           23,
           48,
           44,
           30,
           12,
           51,
           41,
           22,
           58,
           25,
           70,
           61,
           20,
           68,
           65,
           40,
           65,
           55,
           29,
           36,
           27,
           13,
           36,
           13,
           14,
           59,
           53,
           36,
           31,
           60,
           55,
           48,
           15,
           40,
           50,
           23,
           41,
           38,
           64,
           22,
           12,
           50,
           48,
           52,
           66,
           26,
           60,
           44,
           36,
           54,
           59,
           42,
           53,
           17,
           55,
           55,
           58,
           64,
           30,
           64,
           34,
           32,
           55,
           46,
           13,
           33,
           59,
           44,
           58,
           40,
           58,
           27,
           12,
           28,
           35,
           37,
           46,
           69,
           52,
           45,
           52,
           38,
           20,
           46,
           20,
           18,
           49,
           29,
           38,
           68,
           26,
           26,
           28,
           45,
           26,
           25,
           46,
           14,
           30,
           53,
           47,
           68,
           52,
           20,
           52,
           57,
           34,
           59,
           56,
           51,
           34,
           34,
           31,
           43,
           68,
           30,
           22,
           49,
           17,
           22,
           36,
           35,
           12,
           23,
           55,
           60,
           17,
           57,
           16,
           63,
           58,
           43,
           59,
           62,
           16,
           59,
           19,
           53,
           20,
           20,
           21,
           68,
           51,
           15,
           14,
           49,
           61,
           62,
           19,
           16,
           66,
           39,
           42,
           28,
           36,
           27,
           39,
           65,
           37,
           30,
           21,
           20,
           41,
           60,
           70,
           25,
           14,
           19,
           53,
           41,
           70,
           68,
           21,
           14,
           18,
           39,
           22,
           30,
           49,
           29,
           22,
           28,
           29,
           39,
           19,
           70,
           34,
           56,
           33,
           33,
           32,
           16,
           59,
           18,
           32,
           33,
           17,
           15,
           34,
           34,
           49,
           58,
           18,
           57,
           47,
           26,
           65,
           67,
           69,
           22,
           46,
           47,
           15,
           33,
           15,
           19,
           13,
           19,
           19,
           39,
           25,
           67,
           35,
           25,
           55,
           45,
           37,
           16,
           17,
           44,
           29,
           29,
           15,
           39,
           38,
           33,
           21,
           27,
           34,
           16,
           35,
           21,
           60,
           17,
           17,
           48,
           66,
           66,
           65,
           67,
           28,
           42,
           63,
           24,
           41,
           48,
           23,
           27,
           28,
           63,
           41,
           43,
           31,
           62,
           15,
           70,
           66,
           30,
           36,
           52,
           65,
           47,
           28,
           36,
           23,
           54,
           19,
           25,
           66,
           35,
           26,
           56,
           42,
           17,
           63,
           32,
           57,
           58,
           43,
           36,
           13,
           14,
           68,
           22,
           38,
           65,
           48,
           47,
           48,
           18,
           56,
           13,
           20,
           35,
           24,
           20,
           31,
           27,
           24,
           12,
           49,
           57,
           53,
           24,
           48,
           39,
           42,
           61,
           18,
           68,
           50,
           35,
           43,
           69,
           50,
           33,
           64,
           48,
           65,
           51,
           51,
           21,
           56,
           44,
           28,
           45,
           46,
           50,
           24,
           50,
           54,
           67,
           67,
           54,
           60,
           51,
           53,
           44,
           35,
           29,
           69,
           57,
           48,
           30,
           20,
           14,
           64,
           45,
           42,
           55,
           62,
           32,
           35,
           42,
           56,
           58,
           63,
           36,
           59,
           44,
           54,
           42,
           35,
           64,
           70,
           43,
           13,
           44,
           52,
           47,
           37,
           37,
           20,
           69,
           37,
           62,
           37,
           54,
           48,
           24,
           68,
           15,
           64,
           64,
           56,
           54,
           32,
           66,
           27,
           43,
           57,
           47,
           54,
           61,
           13,
           54,
           37,
           49,
           23,
           51,
           25,
           61,
           69,
           32,
           28,
           56,
           24,
           41,
           52,
           70,
           44,
           38,
           51,
           58,
           14,
           51,
           38,
           66,
           56,
           43,
           22,
           35,
           55,
           27,
           54,
           32,
           33,
           61,
           62,
           41,
           31,
           62,
           70,
           70,
           64,
           15,
           70,
           70,
           22,
           53,
           44,
           40,
           41,
           69,
           19,
           27,
           32,
           56,
           56,
           43,
           40,
           35,
           49,
           69,
           23,
           48,
           67,
           57,
           25,
           61,
           22,
           69,
           68,
           48,
           68,
           24,
           40,
           55,
           62,
           62,
           34,
           17,
           59,
           68,
           16,
           32,
           38,
           58,
           58,
           12,
           45,
           57,
           34,
           57,
           27,
           50,
           43,
           61,
           29,
           64,
           30,
           60,
           54,
           24,
           60,
           56,
           41,
           43,
           60,
           64,
           42,
           42,
           42,
           26,
           63,
           38,
           46,
           16,
           70,
           40,
           71,
           70,
           33,
           53,
           15,
           53,
           52,
           68,
           16,
           54,
           51,
           32,
           56,
           59,
           21,
           29,
           15,
           63,
           42,
           27,
           28,
           53,
           55,
           27,
           67,
           45,
           55,
           71,
           62,
           13,
           33,
           65,
           62,
           25,
           60,
           62,
           46,
           31,
           69,
           51,
           21,
           38,
           39,
           67,
           27,
           63,
           45,
           31,
           56,
           39,
           56,
           40,
           31,
           62,
           27,
           61,
           23,
           23,
           70,
           70,
           22,
           31,
           41,
           42,
           20,
           67,
           64,
           26,
           13,
           56,
           17,
           12,
           71,
           28,
           55,
           58,
           58,
           58,
           32,
           46,
           30,
           13,
           61,
           51,
           44,
           31,
           61,
           47,
           47,
           45,
           57,
           63,
           44,
           31,
           28,
           56,
           36,
           68,
           30,
           28,
           69,
           39,
           29,
           23,
           59,
           57,
           47,
           38,
           57,
           55,
           51,
           28,
           39,
           67,
           30,
           26,
           34,
           42,
           67,
           27,
           70,
           14,
           18,
           62,
           18,
           23,
           37,
           72,
           23,
           33,
           65,
           51,
           67,
           45,
           43,
           70,
           52,
           37,
           24,
           70,
           71,
           69,
           28,
           71,
           66,
           71,
           44,
           44,
           21,
           70,
           30,
           68,
           71,
           71,
           50,
           71,
           53,
           46,
           71,
           65,
           46,
           50,
           22,
           71,
           71,
           53,
           70,
           71,
           71,
           72,
           71,
           71,
           71,
           35,
           71,
           72,
           72,
           71,
           72,
           72,
           44,
           71,
           72,
           72,
           72,
           72,
           72,
           72,
           72,
           72,
           73,
           72,
           72,
           73,
           72,
           73,
           73,
           73,
           72,
           73,
           73,
           72,
           73,
           73,
           73,
           72,
           73,
           73,
           73,
           73,
           74,
           73,
           73,
           74,
           73,
           73,
           74,
           74,
           73,
           75,
           74,
           74,
           74,
           74,
           74,
           74,
           74,
           73,
           74,
           75,
           75,
           74,
           74,
           75,
           74,
           74,
           75,
           74,
           75,
           75,
           74,
           75,
           75,
           74,
           75,
           75,
           74,
           75,
           75,
           75,
           75,
           75,
           75,
           75,
           76,
           76,
           75,
           75,
           76,
           76,
           76,
           76,
           76,
           76,
           76,
           76,
           76,
           76,
           76,
           76,
           77,
           76,
           76,
           76,
           77,
           76,
           77,
           76,
           77,
           77,
           77,
           77,
           76,
           77,
           77,
           77,
           77,
           77,
           77,
           77,
           77,
           77,
           77,
           77,
           77,
           77,
           78,
           78,
           78,
           78,
           78,
           78,
           78,
           78,
           78,
           78,
           78,
           78,
           78,
           78,
           78,
           78,
           78,
           78,
           78,
           78,
           0,
           0,
           0,
           0,
           0,
           0,
           0,
           0,
           0,
           0,
           0,
           0,
           0,
           0,
           0,
           0,
           0,
           32,
           0,
           0
          ],
          "coloraxis": "coloraxis"
         },
         "name": "",
         "offsetgroup": "",
         "orientation": "v",
         "showlegend": false,
         "textposition": "auto",
         "type": "bar",
         "x": [
          "Alive",
          "Dead",
          "Dead",
          "Alive",
          "Dead",
          "Alive",
          "Dead",
          "Alive",
          "Dead",
          "Dead",
          "Dead",
          "Dead",
          "Alive",
          "Dead",
          "Alive",
          "Alive",
          "Dead",
          "Alive",
          "Dead",
          "Alive",
          "Dead",
          "Dead",
          "Dead",
          "Dead",
          "Dead",
          "Dead",
          "Dead",
          "Alive",
          "Alive",
          "Alive",
          "Alive",
          "Dead",
          "Alive",
          "Dead",
          "Alive",
          "Alive",
          "Dead",
          "Alive",
          "Dead",
          "Dead",
          "Alive",
          "Alive",
          "Alive",
          "Dead",
          "Dead",
          "Alive",
          "Dead",
          "Alive",
          "Dead",
          "Dead",
          "Dead",
          "Alive",
          "Dead",
          "Dead",
          "Alive",
          "Dead",
          "Alive",
          "Alive",
          "Alive",
          "Alive",
          "Alive",
          "Alive",
          "Dead",
          "Dead",
          "Dead",
          "Dead",
          "Dead",
          "Alive",
          "Dead",
          "Alive",
          "Alive",
          "Alive",
          "Alive",
          "Dead",
          "Dead",
          "Alive",
          "Alive",
          "Alive",
          "Dead",
          "Alive",
          "Alive",
          "Dead",
          "Dead",
          "Dead",
          "Alive",
          "Alive",
          "Alive",
          "Alive",
          "Alive",
          "Alive",
          "Alive",
          "Dead",
          "Alive",
          "Alive",
          "Dead",
          "Dead",
          "Dead",
          "Alive",
          "Dead",
          "Dead",
          "Dead",
          "Dead",
          "Alive",
          "Alive",
          "Alive",
          "Alive",
          "Dead",
          "Dead",
          "Alive",
          "Alive",
          "Alive",
          "Alive",
          "Dead",
          "Dead",
          "Dead",
          "Dead",
          "Dead",
          "Dead",
          "Alive",
          "Dead",
          "Alive",
          "Dead",
          "Dead",
          "Alive",
          "Dead",
          "Alive",
          "Dead",
          "Dead",
          "Dead",
          "Dead",
          "Alive",
          "Alive",
          "Alive",
          "Alive",
          "Alive",
          "Alive",
          "Alive",
          "Alive",
          "Dead",
          "Alive",
          "Dead",
          "Alive",
          "Dead",
          "Alive",
          "Dead",
          "Alive",
          "Alive",
          "Alive",
          "Alive",
          "Dead",
          "Alive",
          "Dead",
          "Dead",
          "Dead",
          "Alive",
          "Alive",
          "Alive",
          "Dead",
          "Alive",
          "Alive",
          "Alive",
          "Alive",
          "Alive",
          "Dead",
          "Dead",
          "Alive",
          "Alive",
          "Alive",
          "Alive",
          "Alive",
          "Dead",
          "Dead",
          "Alive",
          "Dead",
          "Alive",
          "Alive",
          "Dead",
          "Dead",
          "Dead",
          "Dead",
          "Dead",
          "Dead",
          "Alive",
          "Dead",
          "Alive",
          "Alive",
          "Dead",
          "Alive",
          "Alive",
          "Alive",
          "Alive",
          "Alive",
          "Dead",
          "Alive",
          "Dead",
          "Dead",
          "Dead",
          "Dead",
          "Dead",
          "Alive",
          "Alive",
          "Dead",
          "Alive",
          "Dead",
          "Alive",
          "Dead",
          "Dead",
          "Alive",
          "Alive",
          "Alive",
          "Dead",
          "Dead",
          "Alive",
          "Alive",
          "Dead",
          "Dead",
          "Alive",
          "Alive",
          "Alive",
          "Alive",
          "Dead",
          "Dead",
          "Alive",
          "Dead",
          "Dead",
          "Dead",
          "Dead",
          "Dead",
          "Dead",
          "Dead",
          "Dead",
          "Dead",
          "Alive",
          "Dead",
          "Alive",
          "Dead",
          "Alive",
          "Alive",
          "Alive",
          "Dead",
          "Dead",
          "Dead",
          "Dead",
          "Alive",
          "Dead",
          "Dead",
          "Dead",
          "Dead",
          "Alive",
          "Alive",
          "Dead",
          "Alive",
          "Dead",
          "Alive",
          "Dead",
          "Dead",
          "Dead",
          "Dead",
          "Dead",
          "Dead",
          "Dead",
          "Dead",
          "Alive",
          "Alive",
          "Alive",
          "Dead",
          "Alive",
          "Alive",
          "Dead",
          "Dead",
          "Dead",
          "Alive",
          "Alive",
          "Alive",
          "Dead",
          "Dead",
          "Alive",
          "Dead",
          "Dead",
          "Dead",
          "Dead",
          "Dead",
          "Alive",
          "Alive",
          "Alive",
          "Dead",
          "Alive",
          "Dead",
          "Alive",
          "Alive",
          "Dead",
          "Dead",
          "Alive",
          "Dead",
          "Dead",
          "Dead",
          "Alive",
          "Dead",
          "Dead",
          "Alive",
          "Dead",
          "Alive",
          "Dead",
          "Dead",
          "Dead",
          "Dead",
          "Dead",
          "Alive",
          "Dead",
          "Dead",
          "Dead",
          "Dead",
          "Dead",
          "Alive",
          "Dead",
          "Dead",
          "Dead",
          "Dead",
          "Dead",
          "Alive",
          "Dead",
          "Alive",
          "Alive",
          "Dead",
          "Alive",
          "Alive",
          "Alive",
          "Alive",
          "Alive",
          "Dead",
          "Alive",
          "Dead",
          "Alive",
          "Dead",
          "Alive",
          "Dead",
          "Alive",
          "Alive",
          "Alive",
          "Alive",
          "Alive",
          "Dead",
          "Alive",
          "Dead",
          "Dead",
          "Alive",
          "Alive",
          "Dead",
          "Dead",
          "Alive",
          "Dead",
          "Alive",
          "Dead",
          "Alive",
          "Alive",
          "Alive",
          "Alive",
          "Alive",
          "Dead",
          "Dead",
          "Alive",
          "Alive",
          "Alive",
          "Dead",
          "Alive",
          "Alive",
          "Dead",
          "Dead",
          "Dead",
          "Dead",
          "Alive",
          "Dead",
          "Alive",
          "Alive",
          "Dead",
          "Dead",
          "Alive",
          "Dead",
          "Dead",
          "Alive",
          "Alive",
          "Dead",
          "Dead",
          "Alive",
          "Alive",
          "Alive",
          "Alive",
          "Alive",
          "Alive",
          "Alive",
          "Alive",
          "Dead",
          "Dead",
          "Dead",
          "Dead",
          "Dead",
          "Alive",
          "Dead",
          "Dead",
          "Alive",
          "Dead",
          "Alive",
          "Dead",
          "Alive",
          "Dead",
          "Alive",
          "Alive",
          "Alive",
          "Dead",
          "Alive",
          "Dead",
          "Dead",
          "Alive",
          "Alive",
          "Alive",
          "Dead",
          "Dead",
          "Alive",
          "Dead",
          "Dead",
          "Alive",
          "Dead",
          "Alive",
          "Alive",
          "Dead",
          "Dead",
          "Alive",
          "Dead",
          "Dead",
          "Dead",
          "Dead",
          "Dead",
          "Alive",
          "Dead",
          "Alive",
          "Alive",
          "Alive",
          "Alive",
          "Dead",
          "Dead",
          "Dead",
          "Dead",
          "Alive",
          "Dead",
          "Alive",
          "Dead",
          "Alive",
          "Alive",
          "Alive",
          "Alive",
          "Alive",
          "Alive",
          "Dead",
          "Dead",
          "Alive",
          "Dead",
          "Dead",
          "Alive",
          "Alive",
          "Dead",
          "Alive",
          "Dead",
          "Alive",
          "Alive",
          "Dead",
          "Alive",
          "Dead",
          "Alive",
          "Alive",
          "Dead",
          "Alive",
          "Alive",
          "Alive",
          "Dead",
          "Dead",
          "Dead",
          "Dead",
          "Dead",
          "Dead",
          "Alive",
          "Dead",
          "Alive",
          "Dead",
          "Alive",
          "Dead",
          "Dead",
          "Dead",
          "Dead",
          "Alive",
          "Alive",
          "Dead",
          "Alive",
          "Alive",
          "Alive",
          "Alive",
          "Dead",
          "Dead",
          "Alive",
          "Alive",
          "Dead",
          "Alive",
          "Alive",
          "Alive",
          "Dead",
          "Alive",
          "Alive",
          "Alive",
          "Alive",
          "Dead",
          "Alive",
          "Alive",
          "Alive",
          "Dead",
          "Dead",
          "Dead",
          "Alive",
          "Dead",
          "Alive",
          "Dead",
          "Alive",
          "Dead",
          "Alive",
          "Alive",
          "Alive",
          "Dead",
          "Dead",
          "Alive",
          "Dead",
          "Alive",
          "Dead",
          "Dead",
          "Dead",
          "Alive",
          "Dead",
          "Dead",
          "Alive",
          "Alive",
          "Dead",
          "Dead",
          "Alive",
          "Alive",
          "Dead",
          "Dead",
          "Alive",
          "Dead",
          "Alive",
          "Dead",
          "Dead",
          "Alive",
          "Dead",
          "Alive",
          "Alive",
          "Dead",
          "Alive",
          "Alive",
          "Dead",
          "Alive",
          "Alive",
          "Dead",
          "Alive",
          "Alive",
          "Dead",
          "Dead",
          "Dead",
          "Alive",
          "Alive",
          "Alive",
          "Alive",
          "Alive",
          "Dead",
          "Dead",
          "Alive",
          "Dead",
          "Alive",
          "Dead",
          "Alive",
          "Dead",
          "Alive",
          "Dead",
          "Dead",
          "Alive",
          "Alive",
          "Alive",
          "Dead",
          "Dead",
          "Dead",
          "Dead",
          "Alive",
          "Dead",
          "Alive",
          "Dead",
          "Alive",
          "Dead",
          "Alive",
          "Dead",
          "Alive",
          "Alive",
          "Alive",
          "Dead",
          "Dead",
          "Dead",
          "Alive",
          "Dead",
          "Dead",
          "Alive",
          "Dead",
          "Dead",
          "Dead",
          "Dead",
          "Dead",
          "Alive",
          "Dead",
          "Dead",
          "Alive",
          "Alive",
          "Alive",
          "Alive",
          "Alive",
          "Dead",
          "Dead",
          "Dead",
          "Alive",
          "Dead",
          "Alive",
          "Alive",
          "Dead",
          "Alive",
          "Alive",
          "Alive",
          "Dead",
          "Dead",
          "Alive",
          "Alive",
          "Dead",
          "Alive",
          "Dead",
          "Alive",
          "Dead",
          "Dead",
          "Alive",
          "Alive",
          "Alive",
          "Alive",
          "Alive",
          "Dead",
          "Dead",
          "Dead",
          "Dead",
          "Alive",
          "Alive",
          "Dead",
          "Dead",
          "Alive",
          "Alive",
          "Dead",
          "Alive",
          "Alive",
          "Alive",
          "Dead",
          "Alive",
          "Alive",
          "Alive",
          "Dead",
          "Alive",
          "Dead",
          "Alive",
          "Alive",
          "Dead",
          "Dead",
          "Alive",
          "Dead",
          "Alive",
          "Dead",
          "Alive",
          "Dead",
          "Dead",
          "Alive",
          "Dead",
          "Dead",
          "Dead",
          "Dead",
          "Alive",
          "Alive",
          "Alive",
          "Dead",
          "Alive",
          "Alive",
          "Dead",
          "Dead",
          "Alive",
          "Alive",
          "Dead",
          "Dead",
          "Dead",
          "Dead",
          "Alive",
          "Alive",
          "Dead",
          "Dead",
          "Alive",
          "Alive",
          "Alive",
          "Alive",
          "Dead",
          "Dead",
          "Alive",
          "Alive",
          "Dead",
          "Dead",
          "Alive",
          "Alive",
          "Alive",
          "Dead",
          "Alive",
          "Dead",
          "Alive",
          "Alive",
          "Dead",
          "Dead",
          "Alive",
          "Alive",
          "Alive",
          "Dead",
          "Alive",
          "Dead",
          "Alive",
          "Alive",
          "Dead",
          "Dead",
          "Dead",
          "Dead",
          "Dead",
          "Alive",
          "Dead",
          "Dead",
          "Dead",
          "Alive",
          "Alive",
          "Dead",
          "Dead",
          "Alive",
          "Dead",
          "Alive",
          "Dead",
          "Alive",
          "Dead",
          "Dead",
          "Dead",
          "Dead",
          "Alive",
          "Dead",
          "Alive",
          "Alive",
          "Dead",
          "Dead",
          "Dead",
          "Alive",
          "Dead",
          "Dead",
          "Alive",
          "Alive",
          "Alive",
          "Alive",
          "Dead",
          "Alive",
          "Dead",
          "Dead",
          "Alive",
          "Alive",
          "Dead",
          "Dead",
          "Dead",
          "Dead",
          "Dead",
          "Dead",
          "Alive",
          "Dead",
          "Alive",
          "Alive",
          "Dead",
          "Alive",
          "Alive",
          "Alive",
          "Alive",
          "Dead",
          "Dead",
          "Alive",
          "Alive",
          "Dead",
          "Alive",
          "Alive",
          "Alive",
          "Dead",
          "Alive",
          "Alive",
          "Alive",
          "Alive",
          "Dead",
          "Dead",
          "Alive",
          "Alive",
          "Dead",
          "Alive",
          "Alive",
          "Dead",
          "Alive",
          "Alive",
          "Alive",
          "Dead",
          "Dead",
          "Alive",
          "Alive",
          "Alive",
          "Dead",
          "Alive",
          "Dead",
          "Alive",
          "Dead",
          "Alive",
          "Alive",
          "Dead",
          "Alive",
          "Dead",
          "Dead",
          "Dead",
          "Dead",
          "Dead",
          "Dead",
          "Dead",
          "Dead",
          "Dead",
          "Dead",
          "Alive",
          "Dead",
          "Dead",
          "Alive",
          "Alive",
          "Alive",
          "Alive",
          "Alive",
          "Alive",
          "Alive",
          "Alive",
          "Dead",
          "Alive",
          "Dead",
          "Dead",
          "Dead",
          "Alive",
          "Alive",
          "Dead",
          "Alive",
          "Alive",
          "Dead",
          "Dead",
          "Dead",
          "Dead",
          "Alive",
          "Alive",
          "Alive",
          "Alive",
          "Alive",
          "Alive",
          "Alive",
          "Alive",
          "Alive",
          "Dead",
          "Dead",
          "Alive",
          "Dead",
          "Dead",
          "Alive",
          "Alive",
          "Alive",
          "Alive",
          "Dead",
          "Alive",
          "Alive",
          "Alive",
          "Alive",
          "Alive",
          "Dead",
          "Alive",
          "Dead",
          "Alive",
          "Dead",
          "Alive",
          "Dead",
          "Dead",
          "Dead",
          "Alive",
          "Alive",
          "Dead",
          "Dead",
          "Alive",
          "Alive",
          "Alive",
          "Dead",
          "Alive",
          "Dead",
          "Dead",
          "Dead",
          "Dead",
          "Dead",
          "Alive",
          "Dead",
          "Alive",
          "Alive",
          "Dead",
          "Alive",
          "Alive",
          "Dead",
          "Alive",
          "Dead",
          "Alive",
          "Dead",
          "Dead",
          "Alive",
          "Dead",
          "Dead",
          "Alive",
          "Alive",
          "Alive",
          "Dead",
          "Dead",
          "Dead",
          "Dead",
          "Dead",
          "Dead",
          "Alive",
          "Alive",
          "Alive",
          "Dead",
          "Dead",
          "Dead",
          "Dead",
          "Alive",
          "Dead",
          "Alive",
          "Alive",
          "Alive",
          "Dead",
          "Alive",
          "Dead",
          "Dead",
          "Alive",
          "Alive",
          "Alive",
          "Alive",
          "Alive",
          "Dead",
          "Dead",
          "Dead",
          "Alive",
          "Alive",
          "Alive",
          "Alive",
          "Alive",
          "Dead",
          "Dead",
          "Alive",
          "Dead",
          "Dead",
          "Alive",
          "Dead",
          "Alive",
          "Alive",
          "Alive",
          "Dead",
          "Alive",
          "Alive",
          "Dead",
          "Dead",
          "Alive",
          "Alive",
          "Dead",
          "Alive",
          "Dead",
          "Dead",
          "Dead",
          "Alive",
          "Alive",
          "Alive",
          "Alive",
          "Alive",
          "Alive",
          "Dead",
          "Alive",
          "Alive",
          "Alive",
          "Alive",
          "Dead",
          "Alive",
          "Dead",
          "Alive",
          "Dead",
          "Dead",
          "Dead",
          "Dead",
          "Alive",
          "Alive",
          "Alive",
          "Dead",
          "Dead",
          "Alive",
          "Dead",
          "Dead",
          "Dead",
          "Alive",
          "Dead",
          "Dead",
          "Dead",
          "Dead",
          "Dead",
          "Alive",
          "Alive",
          "Dead",
          "Dead",
          "Dead",
          "Dead",
          "Alive",
          "Alive",
          "Dead",
          "Dead",
          "Alive",
          "Dead",
          "Dead",
          "Alive",
          "Alive",
          "Alive",
          "Alive",
          "Dead",
          "Dead",
          "Dead",
          "Alive",
          "Alive",
          "Alive",
          "Alive",
          "Alive",
          "Alive",
          "Dead",
          "Dead",
          "Dead",
          "Dead",
          "Dead",
          "Alive",
          "Alive",
          "Dead",
          "Alive",
          "Dead",
          "Alive",
          "Alive",
          "Alive",
          "Alive",
          "Dead",
          "Dead",
          "Alive",
          "Dead",
          "Dead",
          "Dead",
          "Alive",
          "Dead",
          "Dead",
          "Alive",
          "Alive",
          "Alive",
          "Dead",
          "Dead",
          "Dead",
          "Alive",
          "Alive",
          "Dead",
          "Dead",
          "Dead",
          "Alive",
          "Alive",
          "Alive",
          "Dead",
          "Alive",
          "Dead",
          "Dead",
          "Dead",
          "Alive",
          "Alive",
          "Dead",
          "Dead",
          "Dead",
          "Dead",
          "Alive",
          "Alive",
          "Dead",
          "Alive",
          "Alive",
          "Alive",
          "Dead",
          "Alive",
          "Dead",
          "Alive",
          "Alive",
          "Alive",
          "Alive",
          "Dead",
          "Dead",
          "Dead",
          "Alive",
          "Alive",
          "Dead",
          "Dead",
          "Dead",
          "Dead",
          "Alive",
          "Dead",
          "Dead",
          "Dead",
          "Dead",
          "Alive",
          "Dead",
          "Alive",
          "Dead",
          "Dead",
          "Alive",
          "Dead",
          "Alive",
          "Alive",
          "Alive",
          "Dead",
          "Dead",
          "Dead",
          "Alive",
          "Alive",
          "Alive",
          "Dead",
          "Dead",
          "Dead",
          "Dead",
          "Alive",
          "Alive",
          "Dead",
          "Alive",
          "Dead",
          "Dead",
          "Alive",
          "Alive",
          "Dead",
          "Dead",
          "Dead",
          "Dead",
          "Alive",
          "Dead",
          "Alive",
          "Dead",
          "Alive",
          "Alive",
          "Alive",
          "Alive",
          "Alive",
          "Dead",
          "Alive",
          "Alive",
          "Alive",
          "Dead",
          "Alive",
          "Dead",
          "Dead",
          "Alive",
          "Dead",
          "Dead",
          "Dead",
          "Dead",
          "Dead",
          "Alive",
          "Dead",
          "Alive",
          "Alive",
          "Dead",
          "Alive",
          "Alive",
          "Dead",
          "Dead",
          "Dead",
          "Alive",
          "Alive",
          "Alive",
          "Dead",
          "Alive",
          "Dead",
          "Alive",
          "Alive",
          "Alive",
          "Dead",
          "Dead",
          "Alive",
          "Alive",
          "Dead",
          "Alive",
          "Alive",
          "Dead",
          "Dead",
          "Dead",
          "Alive",
          "Dead",
          "Dead",
          "Dead",
          "Dead",
          "Alive",
          "Dead",
          "Alive",
          "Dead",
          "Dead",
          "Alive",
          "Alive",
          "Dead",
          "Alive",
          "Alive",
          "Alive",
          "Alive",
          "Alive",
          "Dead",
          "Dead",
          "Alive",
          "Dead",
          "Alive",
          "Dead",
          "Dead",
          "Alive",
          "Alive",
          "Dead",
          "Dead",
          "Dead",
          "Alive",
          "Dead",
          "Dead",
          "Alive",
          "Alive",
          "Alive",
          "Dead",
          "Alive",
          "Dead",
          "Alive",
          "Dead",
          "Alive",
          "Dead",
          "Alive",
          "Dead",
          "Dead",
          "Dead",
          "Alive",
          "Alive",
          "Alive",
          "Alive",
          "Dead",
          "Alive",
          "Alive",
          "Dead",
          "Alive",
          "Dead",
          "Dead",
          "Alive",
          "Dead",
          "Dead",
          "Alive",
          "Dead",
          "Alive",
          "Dead",
          "Alive",
          "Dead",
          "Alive",
          "Dead",
          "Dead",
          "Dead",
          "Dead",
          "Alive",
          "Dead",
          "Alive",
          "Dead",
          "Dead",
          "Dead",
          "Dead",
          "Alive",
          "Alive",
          "Alive",
          "Alive",
          "Dead",
          "Alive",
          "Alive",
          "Dead",
          "Dead",
          "Alive",
          "Alive",
          "Dead",
          "Alive",
          "Dead",
          "Dead",
          "Alive",
          "Dead",
          "Alive",
          "Dead",
          "Alive",
          "Alive",
          "Dead",
          "Dead",
          "Dead",
          "Dead",
          "Dead",
          "Alive",
          "Dead",
          "Dead",
          "Dead",
          "Dead",
          "Dead",
          "Alive",
          "Dead",
          "Alive",
          "Alive",
          "Dead",
          "Dead",
          "Alive",
          "Dead",
          "Dead",
          "Dead",
          "Alive",
          "Dead",
          "Alive",
          "Dead",
          "Alive",
          "Dead",
          "Alive",
          "Alive",
          "Dead",
          "Alive",
          "Alive",
          "Alive",
          "Alive",
          "Dead",
          "Dead",
          "Alive",
          "Alive",
          "Alive",
          "Alive",
          "Dead",
          "Alive",
          "Alive",
          "Dead",
          "Dead",
          "Dead",
          "Alive",
          "Dead",
          "Dead",
          "Dead",
          "Alive",
          "Alive",
          "Alive",
          "Dead",
          "Alive",
          "Alive",
          "Alive",
          "Alive",
          "Alive",
          "Dead",
          "Alive",
          "Dead",
          "Dead",
          "Alive",
          "Dead",
          "Alive",
          "Dead",
          "Alive",
          "Alive",
          "Alive",
          "Alive",
          "Dead",
          "Dead",
          "Alive",
          "Alive",
          "Alive",
          "Dead",
          "Dead",
          "Dead",
          "Dead",
          "Alive",
          "Alive",
          "Dead",
          "Alive",
          "Dead",
          "Dead",
          "Alive",
          "Dead",
          "Alive",
          "Dead",
          "Dead",
          "Alive",
          "Alive",
          "Alive",
          "Alive",
          "Dead",
          "Alive",
          "Dead",
          "Alive",
          "Dead",
          "Alive",
          "Dead",
          "Dead",
          "Dead",
          "Alive",
          "Dead",
          "Dead",
          "Dead",
          "Dead",
          "Alive",
          "Dead",
          "Alive",
          "Alive",
          "Alive",
          "Alive",
          "Dead",
          "Alive",
          "Dead",
          "Alive",
          "Dead",
          "Dead",
          "Alive",
          "Alive",
          "Dead",
          "Alive",
          "Alive",
          "Dead",
          "Dead",
          "Alive",
          "Alive",
          "Alive",
          "Alive",
          "Dead",
          "Alive",
          "Dead",
          "Dead",
          "Alive",
          "Dead",
          "Dead",
          "Dead",
          "Alive",
          "Dead",
          "Alive",
          "Alive",
          "Alive",
          "Dead",
          "Dead",
          "Alive",
          "Alive",
          "Dead",
          "Dead",
          "Alive",
          "Alive",
          "Alive",
          "Dead",
          "Alive",
          "Dead",
          "Dead",
          "Dead",
          "Alive",
          "Alive",
          "Alive",
          "Dead",
          "Dead",
          "Dead",
          "Alive",
          "Alive",
          "Alive",
          "Alive",
          "Dead",
          "Dead",
          "Alive",
          "Dead",
          "Dead",
          "Alive",
          "Alive",
          "Alive",
          "Alive",
          "Dead",
          "Dead",
          "Dead",
          "Dead",
          "Dead",
          "Dead",
          "Alive",
          "Dead",
          "Alive",
          "Alive",
          "Dead",
          "Dead",
          "Alive",
          "Alive",
          "Alive",
          "Dead",
          "Dead",
          "Alive",
          "Dead",
          "Alive",
          "Alive",
          "Dead",
          "Alive",
          "Dead",
          "Dead",
          "Dead",
          "Alive",
          "Alive",
          "Alive",
          "Dead",
          "Dead",
          "Dead",
          "Alive",
          "Alive",
          "Dead",
          "Alive",
          "Dead",
          "Dead",
          "Dead",
          "Dead",
          "Alive",
          "Alive",
          "Alive",
          "Alive",
          "Dead",
          "Alive",
          "Alive",
          "Alive",
          "Alive",
          "Alive",
          "Alive",
          "Alive",
          "Dead",
          "Alive",
          "Dead",
          "Alive",
          "Dead",
          "Dead",
          "Dead",
          "Dead",
          "Dead",
          "Dead",
          "Dead",
          "Dead",
          "Alive",
          "Alive",
          "Alive",
          "Alive",
          "Dead",
          "Alive",
          "Alive",
          "Dead",
          "Dead",
          "Dead",
          "Alive",
          "Dead",
          "Dead",
          "Dead",
          "Alive",
          "Dead",
          "Alive",
          "Dead",
          "Alive",
          "Alive",
          "Dead",
          "Dead",
          "Alive",
          "Dead",
          "Dead",
          "Dead",
          "Alive",
          "Dead",
          "Dead",
          "Alive",
          "Dead",
          "Alive",
          "Dead",
          "Alive",
          "Alive",
          "Dead",
          "alive",
          "Alive",
          "Alive"
         ],
         "xaxis": "x",
         "y": [
          404,
          402,
          395,
          395,
          394,
          388,
          387,
          384,
          383,
          383,
          382,
          381,
          380,
          379,
          372,
          370,
          368,
          368,
          366,
          365,
          362,
          360,
          359,
          358,
          357,
          356,
          353,
          353,
          352,
          347,
          345,
          345,
          344,
          343,
          341,
          341,
          341,
          340,
          339,
          338,
          338,
          337,
          337,
          336,
          336,
          333,
          332,
          331,
          330,
          329,
          328,
          327,
          327,
          326,
          326,
          325,
          325,
          324,
          322,
          322,
          321,
          320,
          320,
          316,
          316,
          315,
          314,
          314,
          313,
          313,
          313,
          312,
          311,
          310,
          309,
          309,
          308,
          308,
          307,
          306,
          306,
          305,
          300,
          299,
          296,
          295,
          292,
          291,
          291,
          291,
          290,
          290,
          289,
          288,
          286,
          286,
          285,
          284,
          284,
          282,
          281,
          280,
          279,
          278,
          278,
          278,
          275,
          271,
          271,
          271,
          270,
          270,
          270,
          269,
          268,
          268,
          267,
          267,
          266,
          265,
          265,
          264,
          263,
          261,
          261,
          261,
          258,
          258,
          257,
          256,
          256,
          256,
          256,
          255,
          255,
          255,
          254,
          253,
          252,
          251,
          251,
          249,
          248,
          247,
          244,
          244,
          243,
          242,
          241,
          240,
          239,
          238,
          237,
          237,
          233,
          233,
          233,
          233,
          232,
          232,
          231,
          230,
          229,
          229,
          228,
          228,
          226,
          226,
          225,
          224,
          224,
          223,
          223,
          222,
          221,
          221,
          221,
          221,
          220,
          220,
          220,
          220,
          220,
          220,
          219,
          219,
          219,
          218,
          218,
          218,
          218,
          217,
          217,
          217,
          216,
          216,
          214,
          213,
          212,
          212,
          211,
          211,
          211,
          211,
          210,
          210,
          209,
          209,
          209,
          209,
          209,
          209,
          209,
          208,
          208,
          208,
          208,
          208,
          208,
          208,
          207,
          207,
          206,
          206,
          206,
          206,
          205,
          205,
          205,
          205,
          204,
          204,
          204,
          204,
          204,
          204,
          204,
          204,
          204,
          204,
          204,
          203,
          203,
          203,
          203,
          202,
          202,
          202,
          202,
          202,
          202,
          202,
          202,
          202,
          202,
          202,
          201,
          201,
          201,
          201,
          201,
          201,
          201,
          201,
          200,
          200,
          200,
          200,
          200,
          200,
          200,
          200,
          200,
          200,
          200,
          200,
          200,
          199,
          199,
          199,
          199,
          199,
          199,
          199,
          199,
          199,
          199,
          199,
          199,
          198,
          198,
          198,
          198,
          198,
          198,
          198,
          198,
          198,
          198,
          198,
          197,
          197,
          197,
          197,
          197,
          197,
          197,
          197,
          197,
          197,
          197,
          197,
          197,
          197,
          197,
          196,
          196,
          196,
          196,
          196,
          196,
          196,
          196,
          196,
          196,
          196,
          196,
          196,
          196,
          196,
          196,
          196,
          196,
          196,
          195,
          195,
          195,
          195,
          195,
          195,
          195,
          195,
          195,
          195,
          195,
          195,
          195,
          195,
          194,
          194,
          194,
          194,
          194,
          194,
          194,
          194,
          194,
          194,
          194,
          194,
          194,
          194,
          194,
          194,
          194,
          194,
          194,
          193,
          193,
          193,
          193,
          193,
          193,
          193,
          193,
          193,
          193,
          193,
          193,
          192,
          192,
          192,
          192,
          192,
          192,
          192,
          192,
          192,
          192,
          192,
          192,
          192,
          192,
          192,
          192,
          192,
          192,
          192,
          191,
          191,
          191,
          191,
          191,
          191,
          191,
          191,
          191,
          191,
          191,
          191,
          191,
          191,
          191,
          191,
          191,
          191,
          191,
          191,
          191,
          191,
          191,
          191,
          191,
          191,
          191,
          191,
          191,
          191,
          190,
          190,
          190,
          190,
          190,
          190,
          190,
          190,
          190,
          190,
          190,
          190,
          190,
          190,
          190,
          190,
          190,
          190,
          190,
          190,
          190,
          190,
          190,
          189,
          189,
          189,
          189,
          189,
          189,
          189,
          189,
          189,
          189,
          189,
          189,
          189,
          189,
          189,
          189,
          189,
          189,
          189,
          189,
          189,
          189,
          189,
          189,
          189,
          189,
          189,
          189,
          189,
          188,
          188,
          188,
          188,
          188,
          188,
          188,
          188,
          188,
          188,
          188,
          188,
          188,
          188,
          188,
          188,
          188,
          187,
          187,
          187,
          187,
          187,
          187,
          187,
          187,
          187,
          187,
          187,
          187,
          187,
          187,
          187,
          187,
          187,
          187,
          187,
          187,
          187,
          186,
          186,
          186,
          186,
          186,
          186,
          186,
          186,
          186,
          186,
          186,
          186,
          186,
          186,
          186,
          186,
          186,
          186,
          186,
          186,
          186,
          186,
          186,
          186,
          186,
          186,
          186,
          186,
          185,
          185,
          185,
          185,
          185,
          185,
          185,
          185,
          185,
          185,
          185,
          185,
          185,
          185,
          185,
          185,
          185,
          185,
          185,
          185,
          185,
          185,
          185,
          185,
          185,
          185,
          185,
          185,
          184,
          184,
          184,
          184,
          184,
          184,
          184,
          184,
          184,
          184,
          184,
          184,
          184,
          184,
          184,
          184,
          184,
          184,
          184,
          184,
          184,
          184,
          184,
          184,
          184,
          184,
          184,
          184,
          184,
          184,
          184,
          184,
          184,
          184,
          184,
          184,
          184,
          184,
          184,
          184,
          184,
          184,
          184,
          183,
          183,
          183,
          183,
          183,
          183,
          183,
          183,
          183,
          183,
          183,
          183,
          183,
          183,
          183,
          183,
          183,
          183,
          183,
          183,
          183,
          183,
          183,
          183,
          183,
          183,
          183,
          183,
          183,
          183,
          183,
          183,
          183,
          183,
          183,
          183,
          183,
          183,
          182,
          182,
          182,
          182,
          182,
          182,
          182,
          182,
          182,
          182,
          182,
          182,
          182,
          182,
          182,
          182,
          182,
          182,
          182,
          182,
          182,
          182,
          182,
          182,
          182,
          182,
          182,
          182,
          182,
          182,
          182,
          182,
          181,
          181,
          181,
          181,
          181,
          181,
          181,
          181,
          181,
          181,
          181,
          181,
          181,
          181,
          181,
          181,
          181,
          181,
          181,
          181,
          181,
          181,
          181,
          181,
          181,
          181,
          181,
          181,
          181,
          181,
          181,
          180,
          180,
          180,
          180,
          180,
          180,
          180,
          180,
          180,
          180,
          180,
          180,
          180,
          180,
          180,
          180,
          180,
          180,
          180,
          180,
          180,
          180,
          180,
          180,
          180,
          180,
          180,
          180,
          180,
          180,
          180,
          180,
          180,
          180,
          180,
          180,
          180,
          179,
          179,
          179,
          179,
          179,
          179,
          179,
          179,
          179,
          179,
          179,
          179,
          179,
          179,
          179,
          179,
          179,
          179,
          179,
          179,
          179,
          179,
          179,
          179,
          179,
          179,
          179,
          179,
          179,
          178,
          178,
          178,
          178,
          178,
          178,
          178,
          178,
          178,
          178,
          178,
          178,
          178,
          178,
          178,
          178,
          178,
          178,
          178,
          178,
          178,
          178,
          178,
          178,
          178,
          178,
          178,
          178,
          178,
          177,
          177,
          177,
          177,
          177,
          177,
          177,
          177,
          177,
          177,
          177,
          177,
          177,
          177,
          177,
          177,
          177,
          177,
          177,
          177,
          177,
          177,
          177,
          177,
          177,
          177,
          177,
          177,
          177,
          177,
          177,
          177,
          177,
          177,
          177,
          177,
          177,
          176,
          176,
          176,
          176,
          176,
          176,
          176,
          176,
          176,
          176,
          176,
          176,
          176,
          176,
          176,
          176,
          176,
          176,
          176,
          176,
          176,
          176,
          176,
          176,
          176,
          176,
          176,
          176,
          176,
          176,
          176,
          176,
          176,
          176,
          175,
          175,
          175,
          175,
          175,
          175,
          175,
          175,
          175,
          175,
          175,
          175,
          175,
          175,
          175,
          175,
          175,
          175,
          175,
          175,
          175,
          175,
          175,
          175,
          175,
          175,
          175,
          175,
          175,
          175,
          175,
          175,
          175,
          175,
          175,
          175,
          175,
          175,
          175,
          175,
          174,
          174,
          174,
          174,
          174,
          174,
          174,
          174,
          174,
          174,
          174,
          174,
          174,
          174,
          174,
          174,
          174,
          174,
          174,
          174,
          174,
          174,
          174,
          174,
          174,
          174,
          174,
          174,
          174,
          174,
          173,
          173,
          173,
          173,
          173,
          173,
          173,
          173,
          173,
          173,
          173,
          173,
          173,
          173,
          173,
          173,
          173,
          173,
          173,
          173,
          173,
          173,
          173,
          173,
          173,
          173,
          173,
          173,
          173,
          173,
          173,
          173,
          172,
          172,
          172,
          172,
          172,
          172,
          172,
          172,
          172,
          172,
          172,
          172,
          172,
          172,
          172,
          172,
          172,
          172,
          172,
          172,
          172,
          172,
          172,
          172,
          172,
          172,
          172,
          172,
          172,
          172,
          172,
          172,
          172,
          172,
          172,
          172,
          172,
          171,
          171,
          171,
          171,
          171,
          171,
          171,
          171,
          171,
          171,
          171,
          171,
          171,
          171,
          171,
          171,
          171,
          171,
          171,
          171,
          171,
          171,
          171,
          171,
          171,
          171,
          171,
          171,
          171,
          171,
          171,
          171,
          170,
          170,
          170,
          170,
          170,
          170,
          170,
          170,
          170,
          170,
          170,
          170,
          170,
          170,
          170,
          170,
          170,
          170,
          170,
          170,
          170,
          170,
          170,
          170,
          170,
          170,
          170,
          169,
          169,
          169,
          169,
          169,
          169,
          169,
          169,
          169,
          169,
          169,
          169,
          169,
          169,
          169,
          169,
          169,
          169,
          169,
          169,
          169,
          169,
          169,
          169,
          169,
          169,
          169,
          169,
          169,
          169,
          169,
          169,
          169,
          169,
          169,
          169,
          169,
          169,
          168,
          168,
          168,
          168,
          168,
          168,
          168,
          168,
          168,
          168,
          168,
          168,
          168,
          168,
          168,
          168,
          168,
          168,
          168,
          168,
          168,
          167,
          167,
          167,
          167,
          167,
          167,
          167,
          167,
          167,
          167,
          167,
          167,
          167,
          167,
          167,
          167,
          167,
          167,
          167,
          167,
          167,
          167,
          167,
          167,
          166,
          166,
          166,
          166,
          166,
          166,
          166,
          166,
          166,
          166,
          166,
          166,
          166,
          166,
          166,
          166,
          166,
          166,
          166,
          166,
          166,
          166,
          166,
          166,
          166,
          166,
          166,
          166,
          165,
          165,
          165,
          165,
          165,
          165,
          165,
          165,
          165,
          165,
          165,
          165,
          165,
          165,
          165,
          165,
          165,
          165,
          165,
          165,
          165,
          164,
          164,
          164,
          164,
          164,
          164,
          164,
          164,
          164,
          164,
          164,
          164,
          164,
          164,
          164,
          164,
          164,
          164,
          164,
          164,
          164,
          164,
          164,
          163,
          163,
          163,
          163,
          163,
          163,
          163,
          163,
          163,
          163,
          163,
          163,
          163,
          163,
          163,
          163,
          163,
          162,
          162,
          162,
          162,
          162,
          162,
          162,
          162,
          162,
          162,
          162,
          162,
          162,
          162,
          162,
          162,
          162,
          162,
          162,
          162,
          162,
          162,
          161,
          161,
          161,
          161,
          161,
          161,
          161,
          161,
          161,
          161,
          161,
          161,
          161,
          161,
          161,
          160,
          160,
          160,
          160,
          160,
          160,
          160,
          160,
          160,
          160,
          160,
          160,
          160,
          160,
          160,
          160,
          160,
          160,
          160,
          159,
          159,
          159,
          159,
          159,
          159,
          159,
          159,
          159,
          159,
          158,
          158,
          158,
          158,
          158,
          158,
          158,
          158,
          158,
          157,
          157,
          157,
          157,
          157,
          157,
          157,
          157,
          157,
          157,
          157,
          157,
          157,
          157,
          157,
          156,
          156,
          156,
          156,
          156,
          156,
          156,
          156,
          156,
          156,
          155,
          155,
          155,
          155,
          155,
          154,
          154,
          154,
          154,
          154,
          154,
          154,
          154,
          154,
          154,
          154,
          154,
          153,
          153,
          153,
          153,
          153,
          153,
          153,
          152,
          152,
          152,
          152,
          152,
          152,
          152,
          152,
          152,
          151,
          151,
          150,
          150,
          150,
          150,
          150,
          149,
          149,
          149,
          149,
          148,
          147,
          147,
          147,
          146,
          145,
          145,
          144,
          144,
          143,
          143,
          143,
          143,
          142,
          142,
          142,
          140,
          139,
          138,
          138,
          137,
          137,
          135,
          135,
          133,
          132,
          132,
          131,
          126,
          125,
          125,
          125,
          124,
          124,
          123,
          123,
          122,
          121,
          121,
          120,
          120,
          117,
          116,
          115,
          114,
          113,
          112,
          112,
          111,
          111,
          111,
          111,
          109,
          105,
          104,
          103,
          103,
          102,
          100,
          99,
          98,
          98,
          98,
          95,
          95,
          95,
          93,
          93,
          91,
          89,
          89,
          88,
          87,
          86,
          85,
          85,
          83,
          82,
          82,
          81,
          81,
          78,
          77,
          77,
          76,
          76,
          75,
          74,
          73,
          73,
          73,
          72,
          72,
          71,
          71,
          69,
          69,
          68,
          67,
          67,
          65,
          63,
          61,
          61,
          60,
          57,
          56,
          56,
          55,
          55,
          54,
          54,
          53,
          53,
          52,
          51,
          50,
          49,
          48,
          48,
          45,
          45,
          44,
          44,
          43,
          43,
          40,
          40,
          39,
          38,
          38,
          38,
          37,
          37,
          36,
          35,
          35,
          33,
          32,
          32,
          27,
          26,
          24,
          24,
          23,
          23,
          23,
          22,
          21,
          21,
          18,
          17,
          17,
          17,
          17,
          15,
          15,
          15,
          14,
          13,
          12,
          11,
          9,
          7,
          7,
          6,
          5,
          5,
          5,
          5,
          5,
          4,
          4,
          3,
          3,
          3,
          2,
          1,
          1,
          1,
          1,
          1
         ],
         "yaxis": "y"
        }
       ],
       "layout": {
        "barmode": "relative",
        "coloraxis": {
         "colorbar": {
          "title": {
           "text": "age"
          }
         },
         "colorscale": [
          [
           0,
           "#0d0887"
          ],
          [
           0.1111111111111111,
           "#46039f"
          ],
          [
           0.2222222222222222,
           "#7201a8"
          ],
          [
           0.3333333333333333,
           "#9c179e"
          ],
          [
           0.4444444444444444,
           "#bd3786"
          ],
          [
           0.5555555555555556,
           "#d8576b"
          ],
          [
           0.6666666666666666,
           "#ed7953"
          ],
          [
           0.7777777777777778,
           "#fb9f3a"
          ],
          [
           0.8888888888888888,
           "#fdca26"
          ],
          [
           1,
           "#f0f921"
          ]
         ]
        },
        "legend": {
         "tracegroupgap": 0
        },
        "margin": {
         "t": 60
        },
        "template": {
         "data": {
          "bar": [
           {
            "error_x": {
             "color": "#2a3f5f"
            },
            "error_y": {
             "color": "#2a3f5f"
            },
            "marker": {
             "line": {
              "color": "#E5ECF6",
              "width": 0.5
             }
            },
            "type": "bar"
           }
          ],
          "barpolar": [
           {
            "marker": {
             "line": {
              "color": "#E5ECF6",
              "width": 0.5
             }
            },
            "type": "barpolar"
           }
          ],
          "carpet": [
           {
            "aaxis": {
             "endlinecolor": "#2a3f5f",
             "gridcolor": "white",
             "linecolor": "white",
             "minorgridcolor": "white",
             "startlinecolor": "#2a3f5f"
            },
            "baxis": {
             "endlinecolor": "#2a3f5f",
             "gridcolor": "white",
             "linecolor": "white",
             "minorgridcolor": "white",
             "startlinecolor": "#2a3f5f"
            },
            "type": "carpet"
           }
          ],
          "choropleth": [
           {
            "colorbar": {
             "outlinewidth": 0,
             "ticks": ""
            },
            "type": "choropleth"
           }
          ],
          "contour": [
           {
            "colorbar": {
             "outlinewidth": 0,
             "ticks": ""
            },
            "colorscale": [
             [
              0,
              "#0d0887"
             ],
             [
              0.1111111111111111,
              "#46039f"
             ],
             [
              0.2222222222222222,
              "#7201a8"
             ],
             [
              0.3333333333333333,
              "#9c179e"
             ],
             [
              0.4444444444444444,
              "#bd3786"
             ],
             [
              0.5555555555555556,
              "#d8576b"
             ],
             [
              0.6666666666666666,
              "#ed7953"
             ],
             [
              0.7777777777777778,
              "#fb9f3a"
             ],
             [
              0.8888888888888888,
              "#fdca26"
             ],
             [
              1,
              "#f0f921"
             ]
            ],
            "type": "contour"
           }
          ],
          "contourcarpet": [
           {
            "colorbar": {
             "outlinewidth": 0,
             "ticks": ""
            },
            "type": "contourcarpet"
           }
          ],
          "heatmap": [
           {
            "colorbar": {
             "outlinewidth": 0,
             "ticks": ""
            },
            "colorscale": [
             [
              0,
              "#0d0887"
             ],
             [
              0.1111111111111111,
              "#46039f"
             ],
             [
              0.2222222222222222,
              "#7201a8"
             ],
             [
              0.3333333333333333,
              "#9c179e"
             ],
             [
              0.4444444444444444,
              "#bd3786"
             ],
             [
              0.5555555555555556,
              "#d8576b"
             ],
             [
              0.6666666666666666,
              "#ed7953"
             ],
             [
              0.7777777777777778,
              "#fb9f3a"
             ],
             [
              0.8888888888888888,
              "#fdca26"
             ],
             [
              1,
              "#f0f921"
             ]
            ],
            "type": "heatmap"
           }
          ],
          "heatmapgl": [
           {
            "colorbar": {
             "outlinewidth": 0,
             "ticks": ""
            },
            "colorscale": [
             [
              0,
              "#0d0887"
             ],
             [
              0.1111111111111111,
              "#46039f"
             ],
             [
              0.2222222222222222,
              "#7201a8"
             ],
             [
              0.3333333333333333,
              "#9c179e"
             ],
             [
              0.4444444444444444,
              "#bd3786"
             ],
             [
              0.5555555555555556,
              "#d8576b"
             ],
             [
              0.6666666666666666,
              "#ed7953"
             ],
             [
              0.7777777777777778,
              "#fb9f3a"
             ],
             [
              0.8888888888888888,
              "#fdca26"
             ],
             [
              1,
              "#f0f921"
             ]
            ],
            "type": "heatmapgl"
           }
          ],
          "histogram": [
           {
            "marker": {
             "colorbar": {
              "outlinewidth": 0,
              "ticks": ""
             }
            },
            "type": "histogram"
           }
          ],
          "histogram2d": [
           {
            "colorbar": {
             "outlinewidth": 0,
             "ticks": ""
            },
            "colorscale": [
             [
              0,
              "#0d0887"
             ],
             [
              0.1111111111111111,
              "#46039f"
             ],
             [
              0.2222222222222222,
              "#7201a8"
             ],
             [
              0.3333333333333333,
              "#9c179e"
             ],
             [
              0.4444444444444444,
              "#bd3786"
             ],
             [
              0.5555555555555556,
              "#d8576b"
             ],
             [
              0.6666666666666666,
              "#ed7953"
             ],
             [
              0.7777777777777778,
              "#fb9f3a"
             ],
             [
              0.8888888888888888,
              "#fdca26"
             ],
             [
              1,
              "#f0f921"
             ]
            ],
            "type": "histogram2d"
           }
          ],
          "histogram2dcontour": [
           {
            "colorbar": {
             "outlinewidth": 0,
             "ticks": ""
            },
            "colorscale": [
             [
              0,
              "#0d0887"
             ],
             [
              0.1111111111111111,
              "#46039f"
             ],
             [
              0.2222222222222222,
              "#7201a8"
             ],
             [
              0.3333333333333333,
              "#9c179e"
             ],
             [
              0.4444444444444444,
              "#bd3786"
             ],
             [
              0.5555555555555556,
              "#d8576b"
             ],
             [
              0.6666666666666666,
              "#ed7953"
             ],
             [
              0.7777777777777778,
              "#fb9f3a"
             ],
             [
              0.8888888888888888,
              "#fdca26"
             ],
             [
              1,
              "#f0f921"
             ]
            ],
            "type": "histogram2dcontour"
           }
          ],
          "mesh3d": [
           {
            "colorbar": {
             "outlinewidth": 0,
             "ticks": ""
            },
            "type": "mesh3d"
           }
          ],
          "parcoords": [
           {
            "line": {
             "colorbar": {
              "outlinewidth": 0,
              "ticks": ""
             }
            },
            "type": "parcoords"
           }
          ],
          "pie": [
           {
            "automargin": true,
            "type": "pie"
           }
          ],
          "scatter": [
           {
            "marker": {
             "colorbar": {
              "outlinewidth": 0,
              "ticks": ""
             }
            },
            "type": "scatter"
           }
          ],
          "scatter3d": [
           {
            "line": {
             "colorbar": {
              "outlinewidth": 0,
              "ticks": ""
             }
            },
            "marker": {
             "colorbar": {
              "outlinewidth": 0,
              "ticks": ""
             }
            },
            "type": "scatter3d"
           }
          ],
          "scattercarpet": [
           {
            "marker": {
             "colorbar": {
              "outlinewidth": 0,
              "ticks": ""
             }
            },
            "type": "scattercarpet"
           }
          ],
          "scattergeo": [
           {
            "marker": {
             "colorbar": {
              "outlinewidth": 0,
              "ticks": ""
             }
            },
            "type": "scattergeo"
           }
          ],
          "scattergl": [
           {
            "marker": {
             "colorbar": {
              "outlinewidth": 0,
              "ticks": ""
             }
            },
            "type": "scattergl"
           }
          ],
          "scattermapbox": [
           {
            "marker": {
             "colorbar": {
              "outlinewidth": 0,
              "ticks": ""
             }
            },
            "type": "scattermapbox"
           }
          ],
          "scatterpolar": [
           {
            "marker": {
             "colorbar": {
              "outlinewidth": 0,
              "ticks": ""
             }
            },
            "type": "scatterpolar"
           }
          ],
          "scatterpolargl": [
           {
            "marker": {
             "colorbar": {
              "outlinewidth": 0,
              "ticks": ""
             }
            },
            "type": "scatterpolargl"
           }
          ],
          "scatterternary": [
           {
            "marker": {
             "colorbar": {
              "outlinewidth": 0,
              "ticks": ""
             }
            },
            "type": "scatterternary"
           }
          ],
          "surface": [
           {
            "colorbar": {
             "outlinewidth": 0,
             "ticks": ""
            },
            "colorscale": [
             [
              0,
              "#0d0887"
             ],
             [
              0.1111111111111111,
              "#46039f"
             ],
             [
              0.2222222222222222,
              "#7201a8"
             ],
             [
              0.3333333333333333,
              "#9c179e"
             ],
             [
              0.4444444444444444,
              "#bd3786"
             ],
             [
              0.5555555555555556,
              "#d8576b"
             ],
             [
              0.6666666666666666,
              "#ed7953"
             ],
             [
              0.7777777777777778,
              "#fb9f3a"
             ],
             [
              0.8888888888888888,
              "#fdca26"
             ],
             [
              1,
              "#f0f921"
             ]
            ],
            "type": "surface"
           }
          ],
          "table": [
           {
            "cells": {
             "fill": {
              "color": "#EBF0F8"
             },
             "line": {
              "color": "white"
             }
            },
            "header": {
             "fill": {
              "color": "#C8D4E3"
             },
             "line": {
              "color": "white"
             }
            },
            "type": "table"
           }
          ]
         },
         "layout": {
          "annotationdefaults": {
           "arrowcolor": "#2a3f5f",
           "arrowhead": 0,
           "arrowwidth": 1
          },
          "autotypenumbers": "strict",
          "coloraxis": {
           "colorbar": {
            "outlinewidth": 0,
            "ticks": ""
           }
          },
          "colorscale": {
           "diverging": [
            [
             0,
             "#8e0152"
            ],
            [
             0.1,
             "#c51b7d"
            ],
            [
             0.2,
             "#de77ae"
            ],
            [
             0.3,
             "#f1b6da"
            ],
            [
             0.4,
             "#fde0ef"
            ],
            [
             0.5,
             "#f7f7f7"
            ],
            [
             0.6,
             "#e6f5d0"
            ],
            [
             0.7,
             "#b8e186"
            ],
            [
             0.8,
             "#7fbc41"
            ],
            [
             0.9,
             "#4d9221"
            ],
            [
             1,
             "#276419"
            ]
           ],
           "sequential": [
            [
             0,
             "#0d0887"
            ],
            [
             0.1111111111111111,
             "#46039f"
            ],
            [
             0.2222222222222222,
             "#7201a8"
            ],
            [
             0.3333333333333333,
             "#9c179e"
            ],
            [
             0.4444444444444444,
             "#bd3786"
            ],
            [
             0.5555555555555556,
             "#d8576b"
            ],
            [
             0.6666666666666666,
             "#ed7953"
            ],
            [
             0.7777777777777778,
             "#fb9f3a"
            ],
            [
             0.8888888888888888,
             "#fdca26"
            ],
            [
             1,
             "#f0f921"
            ]
           ],
           "sequentialminus": [
            [
             0,
             "#0d0887"
            ],
            [
             0.1111111111111111,
             "#46039f"
            ],
            [
             0.2222222222222222,
             "#7201a8"
            ],
            [
             0.3333333333333333,
             "#9c179e"
            ],
            [
             0.4444444444444444,
             "#bd3786"
            ],
            [
             0.5555555555555556,
             "#d8576b"
            ],
            [
             0.6666666666666666,
             "#ed7953"
            ],
            [
             0.7777777777777778,
             "#fb9f3a"
            ],
            [
             0.8888888888888888,
             "#fdca26"
            ],
            [
             1,
             "#f0f921"
            ]
           ]
          },
          "colorway": [
           "#636efa",
           "#EF553B",
           "#00cc96",
           "#ab63fa",
           "#FFA15A",
           "#19d3f3",
           "#FF6692",
           "#B6E880",
           "#FF97FF",
           "#FECB52"
          ],
          "font": {
           "color": "#2a3f5f"
          },
          "geo": {
           "bgcolor": "white",
           "lakecolor": "white",
           "landcolor": "#E5ECF6",
           "showlakes": true,
           "showland": true,
           "subunitcolor": "white"
          },
          "hoverlabel": {
           "align": "left"
          },
          "hovermode": "closest",
          "mapbox": {
           "style": "light"
          },
          "paper_bgcolor": "white",
          "plot_bgcolor": "#E5ECF6",
          "polar": {
           "angularaxis": {
            "gridcolor": "white",
            "linecolor": "white",
            "ticks": ""
           },
           "bgcolor": "#E5ECF6",
           "radialaxis": {
            "gridcolor": "white",
            "linecolor": "white",
            "ticks": ""
           }
          },
          "scene": {
           "xaxis": {
            "backgroundcolor": "#E5ECF6",
            "gridcolor": "white",
            "gridwidth": 2,
            "linecolor": "white",
            "showbackground": true,
            "ticks": "",
            "zerolinecolor": "white"
           },
           "yaxis": {
            "backgroundcolor": "#E5ECF6",
            "gridcolor": "white",
            "gridwidth": 2,
            "linecolor": "white",
            "showbackground": true,
            "ticks": "",
            "zerolinecolor": "white"
           },
           "zaxis": {
            "backgroundcolor": "#E5ECF6",
            "gridcolor": "white",
            "gridwidth": 2,
            "linecolor": "white",
            "showbackground": true,
            "ticks": "",
            "zerolinecolor": "white"
           }
          },
          "shapedefaults": {
           "line": {
            "color": "#2a3f5f"
           }
          },
          "ternary": {
           "aaxis": {
            "gridcolor": "white",
            "linecolor": "white",
            "ticks": ""
           },
           "baxis": {
            "gridcolor": "white",
            "linecolor": "white",
            "ticks": ""
           },
           "bgcolor": "#E5ECF6",
           "caxis": {
            "gridcolor": "white",
            "linecolor": "white",
            "ticks": ""
           }
          },
          "title": {
           "x": 0.05
          },
          "xaxis": {
           "automargin": true,
           "gridcolor": "white",
           "linecolor": "white",
           "ticks": "",
           "title": {
            "standoff": 15
           },
           "zerolinecolor": "white",
           "zerolinewidth": 2
          },
          "yaxis": {
           "automargin": true,
           "gridcolor": "white",
           "linecolor": "white",
           "ticks": "",
           "title": {
            "standoff": 15
           },
           "zerolinecolor": "white",
           "zerolinewidth": 2
          }
         }
        },
        "xaxis": {
         "anchor": "y",
         "domain": [
          0,
          1
         ],
         "title": {
          "text": "health_status"
         }
        },
        "yaxis": {
         "anchor": "x",
         "domain": [
          0,
          1
         ],
         "title": {
          "text": "Number of Patients"
         }
        }
       }
      },
      "text/html": [
       "<div>                            <div id=\"e9578b57-5e6d-4d7b-aa86-3683ef927702\" class=\"plotly-graph-div\" style=\"height:525px; width:100%;\"></div>            <script type=\"text/javascript\">                require([\"plotly\"], function(Plotly) {                    window.PLOTLYENV=window.PLOTLYENV || {};                                    if (document.getElementById(\"e9578b57-5e6d-4d7b-aa86-3683ef927702\")) {                    Plotly.newPlot(                        \"e9578b57-5e6d-4d7b-aa86-3683ef927702\",                        [{\"alignmentgroup\": \"True\", \"hovertemplate\": \"health_status=%{x}<br>Number of Patients=%{y}<br>age=%{marker.color}<extra></extra>\", \"legendgroup\": \"\", \"marker\": {\"color\": [2, 3, 2, 2, 4, 2, 2, 2, 2, 2, 3, 3, 2, 2, 2, 2, 2, 2, 4, 2, 5, 2, 4, 3, 2, 2, 2, 3, 3, 3, 2, 3, 3, 3, 3, 4, 5, 3, 5, 3, 4, 3, 4, 3, 4, 4, 5, 3, 3, 3, 5, 4, 4, 4, 3, 4, 5, 4, 4, 5, 5, 3, 4, 5, 7, 5, 5, 6, 5, 4, 4, 7, 5, 4, 4, 6, 5, 4, 6, 5, 5, 5, 6, 7, 5, 5, 6, 6, 6, 5, 7, 6, 6, 8, 6, 6, 6, 6, 7, 6, 6, 7, 7, 6, 6, 7, 7, 8, 7, 7, 7, 7, 7, 6, 7, 8, 8, 6, 7, 7, 8, 8, 8, 7, 9, 8, 8, 9, 9, 7, 9, 9, 6, 8, 8, 8, 9, 8, 9, 58, 8, 8, 10, 9, 8, 8, 9, 10, 1, 7, 9, 9, 9, 1, 8, 11, 9, 1, 9, 9, 1, 10, 10, 10, 8, 25, 23, 1, 10, 9, 11, 1, 1, 9, 20, 10, 10, 31, 9, 10, 37, 10, 10, 60, 11, 11, 9, 10, 1, 1, 29, 10, 8, 1, 1, 10, 25, 17, 1, 57, 34, 33, 32, 1, 26, 19, 9, 33, 49, 31, 57, 11, 47, 30, 60, 10, 11, 1, 10, 47, 39, 31, 35, 56, 34, 38, 42, 12, 36, 10, 44, 18, 65, 20, 62, 19, 11, 28, 10, 10, 14, 14, 10, 34, 11, 60, 66, 11, 49, 26, 43, 11, 1, 34, 42, 19, 61, 29, 15, 61, 57, 26, 1, 44, 50, 61, 34, 37, 66, 49, 67, 36, 63, 18, 13, 12, 52, 62, 57, 66, 50, 26, 12, 12, 54, 59, 13, 40, 12, 58, 15, 39, 17, 21, 14, 67, 1, 37, 66, 50, 32, 12, 55, 44, 13, 11, 45, 40, 54, 58, 21, 22, 66, 21, 22, 63, 58, 50, 22, 27, 34, 65, 52, 21, 66, 19, 47, 59, 20, 14, 22, 37, 29, 69, 61, 11, 40, 66, 43, 50, 64, 19, 40, 21, 15, 40, 11, 41, 44, 15, 35, 19, 40, 40, 25, 37, 21, 23, 59, 48, 59, 61, 33, 49, 57, 38, 42, 29, 35, 34, 19, 25, 25, 11, 20, 32, 45, 18, 66, 24, 37, 46, 65, 69, 30, 62, 39, 31, 55, 41, 57, 43, 25, 32, 12, 48, 61, 61, 1, 48, 48, 29, 51, 51, 49, 51, 48, 32, 52, 17, 36, 63, 41, 63, 41, 64, 31, 36, 29, 55, 65, 18, 16, 11, 46, 62, 47, 29, 49, 39, 28, 47, 24, 46, 68, 35, 43, 42, 31, 36, 31, 26, 58, 50, 60, 64, 66, 66, 64, 60, 17, 69, 26, 11, 52, 46, 65, 26, 24, 15, 38, 39, 23, 39, 13, 54, 11, 68, 53, 33, 33, 32, 51, 41, 67, 11, 20, 59, 18, 49, 46, 30, 21, 30, 13, 26, 47, 49, 52, 60, 59, 55, 69, 49, 18, 32, 23, 14, 41, 56, 61, 14, 16, 57, 60, 45, 53, 50, 67, 52, 12, 20, 19, 36, 34, 67, 37, 25, 1, 35, 40, 36, 50, 27, 52, 11, 43, 16, 18, 27, 23, 69, 50, 28, 53, 38, 20, 54, 38, 41, 46, 29, 55, 36, 24, 18, 64, 68, 12, 36, 14, 14, 65, 67, 30, 40, 17, 32, 39, 38, 54, 23, 47, 25, 24, 53, 56, 26, 52, 51, 51, 54, 21, 47, 25, 14, 20, 17, 53, 19, 13, 19, 63, 31, 63, 30, 24, 31, 64, 47, 64, 24, 47, 65, 12, 48, 35, 23, 1, 50, 53, 42, 16, 28, 16, 18, 43, 17, 45, 27, 26, 60, 69, 61, 18, 42, 55, 17, 40, 16, 65, 16, 43, 12, 48, 52, 45, 35, 59, 21, 17, 22, 49, 21, 67, 58, 11, 41, 26, 38, 14, 60, 46, 46, 14, 15, 37, 24, 54, 18, 63, 67, 39, 45, 37, 54, 33, 50, 49, 68, 66, 37, 33, 46, 52, 40, 59, 60, 40, 62, 45, 44, 45, 33, 12, 27, 30, 18, 15, 19, 16, 22, 22, 69, 16, 29, 69, 65, 39, 49, 21, 64, 41, 59, 15, 13, 45, 15, 24, 25, 62, 45, 63, 68, 38, 33, 29, 13, 16, 16, 28, 43, 63, 24, 12, 34, 23, 17, 38, 13, 25, 53, 63, 63, 23, 48, 44, 30, 12, 51, 41, 22, 58, 25, 70, 61, 20, 68, 65, 40, 65, 55, 29, 36, 27, 13, 36, 13, 14, 59, 53, 36, 31, 60, 55, 48, 15, 40, 50, 23, 41, 38, 64, 22, 12, 50, 48, 52, 66, 26, 60, 44, 36, 54, 59, 42, 53, 17, 55, 55, 58, 64, 30, 64, 34, 32, 55, 46, 13, 33, 59, 44, 58, 40, 58, 27, 12, 28, 35, 37, 46, 69, 52, 45, 52, 38, 20, 46, 20, 18, 49, 29, 38, 68, 26, 26, 28, 45, 26, 25, 46, 14, 30, 53, 47, 68, 52, 20, 52, 57, 34, 59, 56, 51, 34, 34, 31, 43, 68, 30, 22, 49, 17, 22, 36, 35, 12, 23, 55, 60, 17, 57, 16, 63, 58, 43, 59, 62, 16, 59, 19, 53, 20, 20, 21, 68, 51, 15, 14, 49, 61, 62, 19, 16, 66, 39, 42, 28, 36, 27, 39, 65, 37, 30, 21, 20, 41, 60, 70, 25, 14, 19, 53, 41, 70, 68, 21, 14, 18, 39, 22, 30, 49, 29, 22, 28, 29, 39, 19, 70, 34, 56, 33, 33, 32, 16, 59, 18, 32, 33, 17, 15, 34, 34, 49, 58, 18, 57, 47, 26, 65, 67, 69, 22, 46, 47, 15, 33, 15, 19, 13, 19, 19, 39, 25, 67, 35, 25, 55, 45, 37, 16, 17, 44, 29, 29, 15, 39, 38, 33, 21, 27, 34, 16, 35, 21, 60, 17, 17, 48, 66, 66, 65, 67, 28, 42, 63, 24, 41, 48, 23, 27, 28, 63, 41, 43, 31, 62, 15, 70, 66, 30, 36, 52, 65, 47, 28, 36, 23, 54, 19, 25, 66, 35, 26, 56, 42, 17, 63, 32, 57, 58, 43, 36, 13, 14, 68, 22, 38, 65, 48, 47, 48, 18, 56, 13, 20, 35, 24, 20, 31, 27, 24, 12, 49, 57, 53, 24, 48, 39, 42, 61, 18, 68, 50, 35, 43, 69, 50, 33, 64, 48, 65, 51, 51, 21, 56, 44, 28, 45, 46, 50, 24, 50, 54, 67, 67, 54, 60, 51, 53, 44, 35, 29, 69, 57, 48, 30, 20, 14, 64, 45, 42, 55, 62, 32, 35, 42, 56, 58, 63, 36, 59, 44, 54, 42, 35, 64, 70, 43, 13, 44, 52, 47, 37, 37, 20, 69, 37, 62, 37, 54, 48, 24, 68, 15, 64, 64, 56, 54, 32, 66, 27, 43, 57, 47, 54, 61, 13, 54, 37, 49, 23, 51, 25, 61, 69, 32, 28, 56, 24, 41, 52, 70, 44, 38, 51, 58, 14, 51, 38, 66, 56, 43, 22, 35, 55, 27, 54, 32, 33, 61, 62, 41, 31, 62, 70, 70, 64, 15, 70, 70, 22, 53, 44, 40, 41, 69, 19, 27, 32, 56, 56, 43, 40, 35, 49, 69, 23, 48, 67, 57, 25, 61, 22, 69, 68, 48, 68, 24, 40, 55, 62, 62, 34, 17, 59, 68, 16, 32, 38, 58, 58, 12, 45, 57, 34, 57, 27, 50, 43, 61, 29, 64, 30, 60, 54, 24, 60, 56, 41, 43, 60, 64, 42, 42, 42, 26, 63, 38, 46, 16, 70, 40, 71, 70, 33, 53, 15, 53, 52, 68, 16, 54, 51, 32, 56, 59, 21, 29, 15, 63, 42, 27, 28, 53, 55, 27, 67, 45, 55, 71, 62, 13, 33, 65, 62, 25, 60, 62, 46, 31, 69, 51, 21, 38, 39, 67, 27, 63, 45, 31, 56, 39, 56, 40, 31, 62, 27, 61, 23, 23, 70, 70, 22, 31, 41, 42, 20, 67, 64, 26, 13, 56, 17, 12, 71, 28, 55, 58, 58, 58, 32, 46, 30, 13, 61, 51, 44, 31, 61, 47, 47, 45, 57, 63, 44, 31, 28, 56, 36, 68, 30, 28, 69, 39, 29, 23, 59, 57, 47, 38, 57, 55, 51, 28, 39, 67, 30, 26, 34, 42, 67, 27, 70, 14, 18, 62, 18, 23, 37, 72, 23, 33, 65, 51, 67, 45, 43, 70, 52, 37, 24, 70, 71, 69, 28, 71, 66, 71, 44, 44, 21, 70, 30, 68, 71, 71, 50, 71, 53, 46, 71, 65, 46, 50, 22, 71, 71, 53, 70, 71, 71, 72, 71, 71, 71, 35, 71, 72, 72, 71, 72, 72, 44, 71, 72, 72, 72, 72, 72, 72, 72, 72, 73, 72, 72, 73, 72, 73, 73, 73, 72, 73, 73, 72, 73, 73, 73, 72, 73, 73, 73, 73, 74, 73, 73, 74, 73, 73, 74, 74, 73, 75, 74, 74, 74, 74, 74, 74, 74, 73, 74, 75, 75, 74, 74, 75, 74, 74, 75, 74, 75, 75, 74, 75, 75, 74, 75, 75, 74, 75, 75, 75, 75, 75, 75, 75, 76, 76, 75, 75, 76, 76, 76, 76, 76, 76, 76, 76, 76, 76, 76, 76, 77, 76, 76, 76, 77, 76, 77, 76, 77, 77, 77, 77, 76, 77, 77, 77, 77, 77, 77, 77, 77, 77, 77, 77, 77, 77, 78, 78, 78, 78, 78, 78, 78, 78, 78, 78, 78, 78, 78, 78, 78, 78, 78, 78, 78, 78, 0, 0, 0, 0, 0, 0, 0, 0, 0, 0, 0, 0, 0, 0, 0, 0, 0, 32, 0, 0], \"coloraxis\": \"coloraxis\"}, \"name\": \"\", \"offsetgroup\": \"\", \"orientation\": \"v\", \"showlegend\": false, \"textposition\": \"auto\", \"type\": \"bar\", \"x\": [\"Alive\", \"Dead\", \"Dead\", \"Alive\", \"Dead\", \"Alive\", \"Dead\", \"Alive\", \"Dead\", \"Dead\", \"Dead\", \"Dead\", \"Alive\", \"Dead\", \"Alive\", \"Alive\", \"Dead\", \"Alive\", \"Dead\", \"Alive\", \"Dead\", \"Dead\", \"Dead\", \"Dead\", \"Dead\", \"Dead\", \"Dead\", \"Alive\", \"Alive\", \"Alive\", \"Alive\", \"Dead\", \"Alive\", \"Dead\", \"Alive\", \"Alive\", \"Dead\", \"Alive\", \"Dead\", \"Dead\", \"Alive\", \"Alive\", \"Alive\", \"Dead\", \"Dead\", \"Alive\", \"Dead\", \"Alive\", \"Dead\", \"Dead\", \"Dead\", \"Alive\", \"Dead\", \"Dead\", \"Alive\", \"Dead\", \"Alive\", \"Alive\", \"Alive\", \"Alive\", \"Alive\", \"Alive\", \"Dead\", \"Dead\", \"Dead\", \"Dead\", \"Dead\", \"Alive\", \"Dead\", \"Alive\", \"Alive\", \"Alive\", \"Alive\", \"Dead\", \"Dead\", \"Alive\", \"Alive\", \"Alive\", \"Dead\", \"Alive\", \"Alive\", \"Dead\", \"Dead\", \"Dead\", \"Alive\", \"Alive\", \"Alive\", \"Alive\", \"Alive\", \"Alive\", \"Alive\", \"Dead\", \"Alive\", \"Alive\", \"Dead\", \"Dead\", \"Dead\", \"Alive\", \"Dead\", \"Dead\", \"Dead\", \"Dead\", \"Alive\", \"Alive\", \"Alive\", \"Alive\", \"Dead\", \"Dead\", \"Alive\", \"Alive\", \"Alive\", \"Alive\", \"Dead\", \"Dead\", \"Dead\", \"Dead\", \"Dead\", \"Dead\", \"Alive\", \"Dead\", \"Alive\", \"Dead\", \"Dead\", \"Alive\", \"Dead\", \"Alive\", \"Dead\", \"Dead\", \"Dead\", \"Dead\", \"Alive\", \"Alive\", \"Alive\", \"Alive\", \"Alive\", \"Alive\", \"Alive\", \"Alive\", \"Dead\", \"Alive\", \"Dead\", \"Alive\", \"Dead\", \"Alive\", \"Dead\", \"Alive\", \"Alive\", \"Alive\", \"Alive\", \"Dead\", \"Alive\", \"Dead\", \"Dead\", \"Dead\", \"Alive\", \"Alive\", \"Alive\", \"Dead\", \"Alive\", \"Alive\", \"Alive\", \"Alive\", \"Alive\", \"Dead\", \"Dead\", \"Alive\", \"Alive\", \"Alive\", \"Alive\", \"Alive\", \"Dead\", \"Dead\", \"Alive\", \"Dead\", \"Alive\", \"Alive\", \"Dead\", \"Dead\", \"Dead\", \"Dead\", \"Dead\", \"Dead\", \"Alive\", \"Dead\", \"Alive\", \"Alive\", \"Dead\", \"Alive\", \"Alive\", \"Alive\", \"Alive\", \"Alive\", \"Dead\", \"Alive\", \"Dead\", \"Dead\", \"Dead\", \"Dead\", \"Dead\", \"Alive\", \"Alive\", \"Dead\", \"Alive\", \"Dead\", \"Alive\", \"Dead\", \"Dead\", \"Alive\", \"Alive\", \"Alive\", \"Dead\", \"Dead\", \"Alive\", \"Alive\", \"Dead\", \"Dead\", \"Alive\", \"Alive\", \"Alive\", \"Alive\", \"Dead\", \"Dead\", \"Alive\", \"Dead\", \"Dead\", \"Dead\", \"Dead\", \"Dead\", \"Dead\", \"Dead\", \"Dead\", \"Dead\", \"Alive\", \"Dead\", \"Alive\", \"Dead\", \"Alive\", \"Alive\", \"Alive\", \"Dead\", \"Dead\", \"Dead\", \"Dead\", \"Alive\", \"Dead\", \"Dead\", \"Dead\", \"Dead\", \"Alive\", \"Alive\", \"Dead\", \"Alive\", \"Dead\", \"Alive\", \"Dead\", \"Dead\", \"Dead\", \"Dead\", \"Dead\", \"Dead\", \"Dead\", \"Dead\", \"Alive\", \"Alive\", \"Alive\", \"Dead\", \"Alive\", \"Alive\", \"Dead\", \"Dead\", \"Dead\", \"Alive\", \"Alive\", \"Alive\", \"Dead\", \"Dead\", \"Alive\", \"Dead\", \"Dead\", \"Dead\", \"Dead\", \"Dead\", \"Alive\", \"Alive\", \"Alive\", \"Dead\", \"Alive\", \"Dead\", \"Alive\", \"Alive\", \"Dead\", \"Dead\", \"Alive\", \"Dead\", \"Dead\", \"Dead\", \"Alive\", \"Dead\", \"Dead\", \"Alive\", \"Dead\", \"Alive\", \"Dead\", \"Dead\", \"Dead\", \"Dead\", \"Dead\", \"Alive\", \"Dead\", \"Dead\", \"Dead\", \"Dead\", \"Dead\", \"Alive\", \"Dead\", \"Dead\", \"Dead\", \"Dead\", \"Dead\", \"Alive\", \"Dead\", \"Alive\", \"Alive\", \"Dead\", \"Alive\", \"Alive\", \"Alive\", \"Alive\", \"Alive\", \"Dead\", \"Alive\", \"Dead\", \"Alive\", \"Dead\", \"Alive\", \"Dead\", \"Alive\", \"Alive\", \"Alive\", \"Alive\", \"Alive\", \"Dead\", \"Alive\", \"Dead\", \"Dead\", \"Alive\", \"Alive\", \"Dead\", \"Dead\", \"Alive\", \"Dead\", \"Alive\", \"Dead\", \"Alive\", \"Alive\", \"Alive\", \"Alive\", \"Alive\", \"Dead\", \"Dead\", \"Alive\", \"Alive\", \"Alive\", \"Dead\", \"Alive\", \"Alive\", \"Dead\", \"Dead\", \"Dead\", \"Dead\", \"Alive\", \"Dead\", \"Alive\", \"Alive\", \"Dead\", \"Dead\", \"Alive\", \"Dead\", \"Dead\", \"Alive\", \"Alive\", \"Dead\", \"Dead\", \"Alive\", \"Alive\", \"Alive\", \"Alive\", \"Alive\", \"Alive\", \"Alive\", \"Alive\", \"Dead\", \"Dead\", \"Dead\", \"Dead\", \"Dead\", \"Alive\", \"Dead\", \"Dead\", \"Alive\", \"Dead\", \"Alive\", \"Dead\", \"Alive\", \"Dead\", \"Alive\", \"Alive\", \"Alive\", \"Dead\", \"Alive\", \"Dead\", \"Dead\", \"Alive\", \"Alive\", \"Alive\", \"Dead\", \"Dead\", \"Alive\", \"Dead\", \"Dead\", \"Alive\", \"Dead\", \"Alive\", \"Alive\", \"Dead\", \"Dead\", \"Alive\", \"Dead\", \"Dead\", \"Dead\", \"Dead\", \"Dead\", \"Alive\", \"Dead\", \"Alive\", \"Alive\", \"Alive\", \"Alive\", \"Dead\", \"Dead\", \"Dead\", \"Dead\", \"Alive\", \"Dead\", \"Alive\", \"Dead\", \"Alive\", \"Alive\", \"Alive\", \"Alive\", \"Alive\", \"Alive\", \"Dead\", \"Dead\", \"Alive\", \"Dead\", \"Dead\", \"Alive\", \"Alive\", \"Dead\", \"Alive\", \"Dead\", \"Alive\", \"Alive\", \"Dead\", \"Alive\", \"Dead\", \"Alive\", \"Alive\", \"Dead\", \"Alive\", \"Alive\", \"Alive\", \"Dead\", \"Dead\", \"Dead\", \"Dead\", \"Dead\", \"Dead\", \"Alive\", \"Dead\", \"Alive\", \"Dead\", \"Alive\", \"Dead\", \"Dead\", \"Dead\", \"Dead\", \"Alive\", \"Alive\", \"Dead\", \"Alive\", \"Alive\", \"Alive\", \"Alive\", \"Dead\", \"Dead\", \"Alive\", \"Alive\", \"Dead\", \"Alive\", \"Alive\", \"Alive\", \"Dead\", \"Alive\", \"Alive\", \"Alive\", \"Alive\", \"Dead\", \"Alive\", \"Alive\", \"Alive\", \"Dead\", \"Dead\", \"Dead\", \"Alive\", \"Dead\", \"Alive\", \"Dead\", \"Alive\", \"Dead\", \"Alive\", \"Alive\", \"Alive\", \"Dead\", \"Dead\", \"Alive\", \"Dead\", \"Alive\", \"Dead\", \"Dead\", \"Dead\", \"Alive\", \"Dead\", \"Dead\", \"Alive\", \"Alive\", \"Dead\", \"Dead\", \"Alive\", \"Alive\", \"Dead\", \"Dead\", \"Alive\", \"Dead\", \"Alive\", \"Dead\", \"Dead\", \"Alive\", \"Dead\", \"Alive\", \"Alive\", \"Dead\", \"Alive\", \"Alive\", \"Dead\", \"Alive\", \"Alive\", \"Dead\", \"Alive\", \"Alive\", \"Dead\", \"Dead\", \"Dead\", \"Alive\", \"Alive\", \"Alive\", \"Alive\", \"Alive\", \"Dead\", \"Dead\", \"Alive\", \"Dead\", \"Alive\", \"Dead\", \"Alive\", \"Dead\", \"Alive\", \"Dead\", \"Dead\", \"Alive\", \"Alive\", \"Alive\", \"Dead\", \"Dead\", \"Dead\", \"Dead\", \"Alive\", \"Dead\", \"Alive\", \"Dead\", \"Alive\", \"Dead\", \"Alive\", \"Dead\", \"Alive\", \"Alive\", \"Alive\", \"Dead\", \"Dead\", \"Dead\", \"Alive\", \"Dead\", \"Dead\", \"Alive\", \"Dead\", \"Dead\", \"Dead\", \"Dead\", \"Dead\", \"Alive\", \"Dead\", \"Dead\", \"Alive\", \"Alive\", \"Alive\", \"Alive\", \"Alive\", \"Dead\", \"Dead\", \"Dead\", \"Alive\", \"Dead\", \"Alive\", \"Alive\", \"Dead\", \"Alive\", \"Alive\", \"Alive\", \"Dead\", \"Dead\", \"Alive\", \"Alive\", \"Dead\", \"Alive\", \"Dead\", \"Alive\", \"Dead\", \"Dead\", \"Alive\", \"Alive\", \"Alive\", \"Alive\", \"Alive\", \"Dead\", \"Dead\", \"Dead\", \"Dead\", \"Alive\", \"Alive\", \"Dead\", \"Dead\", \"Alive\", \"Alive\", \"Dead\", \"Alive\", \"Alive\", \"Alive\", \"Dead\", \"Alive\", \"Alive\", \"Alive\", \"Dead\", \"Alive\", \"Dead\", \"Alive\", \"Alive\", \"Dead\", \"Dead\", \"Alive\", \"Dead\", \"Alive\", \"Dead\", \"Alive\", \"Dead\", \"Dead\", \"Alive\", \"Dead\", \"Dead\", \"Dead\", \"Dead\", \"Alive\", \"Alive\", \"Alive\", \"Dead\", \"Alive\", \"Alive\", \"Dead\", \"Dead\", \"Alive\", \"Alive\", \"Dead\", \"Dead\", \"Dead\", \"Dead\", \"Alive\", \"Alive\", \"Dead\", \"Dead\", \"Alive\", \"Alive\", \"Alive\", \"Alive\", \"Dead\", \"Dead\", \"Alive\", \"Alive\", \"Dead\", \"Dead\", \"Alive\", \"Alive\", \"Alive\", \"Dead\", \"Alive\", \"Dead\", \"Alive\", \"Alive\", \"Dead\", \"Dead\", \"Alive\", \"Alive\", \"Alive\", \"Dead\", \"Alive\", \"Dead\", \"Alive\", \"Alive\", \"Dead\", \"Dead\", \"Dead\", \"Dead\", \"Dead\", \"Alive\", \"Dead\", \"Dead\", \"Dead\", \"Alive\", \"Alive\", \"Dead\", \"Dead\", \"Alive\", \"Dead\", \"Alive\", \"Dead\", \"Alive\", \"Dead\", \"Dead\", \"Dead\", \"Dead\", \"Alive\", \"Dead\", \"Alive\", \"Alive\", \"Dead\", \"Dead\", \"Dead\", \"Alive\", \"Dead\", \"Dead\", \"Alive\", \"Alive\", \"Alive\", \"Alive\", \"Dead\", \"Alive\", \"Dead\", \"Dead\", \"Alive\", \"Alive\", \"Dead\", \"Dead\", \"Dead\", \"Dead\", \"Dead\", \"Dead\", \"Alive\", \"Dead\", \"Alive\", \"Alive\", \"Dead\", \"Alive\", \"Alive\", \"Alive\", \"Alive\", \"Dead\", \"Dead\", \"Alive\", \"Alive\", \"Dead\", \"Alive\", \"Alive\", \"Alive\", \"Dead\", \"Alive\", \"Alive\", \"Alive\", \"Alive\", \"Dead\", \"Dead\", \"Alive\", \"Alive\", \"Dead\", \"Alive\", \"Alive\", \"Dead\", \"Alive\", \"Alive\", \"Alive\", \"Dead\", \"Dead\", \"Alive\", \"Alive\", \"Alive\", \"Dead\", \"Alive\", \"Dead\", \"Alive\", \"Dead\", \"Alive\", \"Alive\", \"Dead\", \"Alive\", \"Dead\", \"Dead\", \"Dead\", \"Dead\", \"Dead\", \"Dead\", \"Dead\", \"Dead\", \"Dead\", \"Dead\", \"Alive\", \"Dead\", \"Dead\", \"Alive\", \"Alive\", \"Alive\", \"Alive\", \"Alive\", \"Alive\", \"Alive\", \"Alive\", \"Dead\", \"Alive\", \"Dead\", \"Dead\", \"Dead\", \"Alive\", \"Alive\", \"Dead\", \"Alive\", \"Alive\", \"Dead\", \"Dead\", \"Dead\", \"Dead\", \"Alive\", \"Alive\", \"Alive\", \"Alive\", \"Alive\", \"Alive\", \"Alive\", \"Alive\", \"Alive\", \"Dead\", \"Dead\", \"Alive\", \"Dead\", \"Dead\", \"Alive\", \"Alive\", \"Alive\", \"Alive\", \"Dead\", \"Alive\", \"Alive\", \"Alive\", \"Alive\", \"Alive\", \"Dead\", \"Alive\", \"Dead\", \"Alive\", \"Dead\", \"Alive\", \"Dead\", \"Dead\", \"Dead\", \"Alive\", \"Alive\", \"Dead\", \"Dead\", \"Alive\", \"Alive\", \"Alive\", \"Dead\", \"Alive\", \"Dead\", \"Dead\", \"Dead\", \"Dead\", \"Dead\", \"Alive\", \"Dead\", \"Alive\", \"Alive\", \"Dead\", \"Alive\", \"Alive\", \"Dead\", \"Alive\", \"Dead\", \"Alive\", \"Dead\", \"Dead\", \"Alive\", \"Dead\", \"Dead\", \"Alive\", \"Alive\", \"Alive\", \"Dead\", \"Dead\", \"Dead\", \"Dead\", \"Dead\", \"Dead\", \"Alive\", \"Alive\", \"Alive\", \"Dead\", \"Dead\", \"Dead\", \"Dead\", \"Alive\", \"Dead\", \"Alive\", \"Alive\", \"Alive\", \"Dead\", \"Alive\", \"Dead\", \"Dead\", \"Alive\", \"Alive\", \"Alive\", \"Alive\", \"Alive\", \"Dead\", \"Dead\", \"Dead\", \"Alive\", \"Alive\", \"Alive\", \"Alive\", \"Alive\", \"Dead\", \"Dead\", \"Alive\", \"Dead\", \"Dead\", \"Alive\", \"Dead\", \"Alive\", \"Alive\", \"Alive\", \"Dead\", \"Alive\", \"Alive\", \"Dead\", \"Dead\", \"Alive\", \"Alive\", \"Dead\", \"Alive\", \"Dead\", \"Dead\", \"Dead\", \"Alive\", \"Alive\", \"Alive\", \"Alive\", \"Alive\", \"Alive\", \"Dead\", \"Alive\", \"Alive\", \"Alive\", \"Alive\", \"Dead\", \"Alive\", \"Dead\", \"Alive\", \"Dead\", \"Dead\", \"Dead\", \"Dead\", \"Alive\", \"Alive\", \"Alive\", \"Dead\", \"Dead\", \"Alive\", \"Dead\", \"Dead\", \"Dead\", \"Alive\", \"Dead\", \"Dead\", \"Dead\", \"Dead\", \"Dead\", \"Alive\", \"Alive\", \"Dead\", \"Dead\", \"Dead\", \"Dead\", \"Alive\", \"Alive\", \"Dead\", \"Dead\", \"Alive\", \"Dead\", \"Dead\", \"Alive\", \"Alive\", \"Alive\", \"Alive\", \"Dead\", \"Dead\", \"Dead\", \"Alive\", \"Alive\", \"Alive\", \"Alive\", \"Alive\", \"Alive\", \"Dead\", \"Dead\", \"Dead\", \"Dead\", \"Dead\", \"Alive\", \"Alive\", \"Dead\", \"Alive\", \"Dead\", \"Alive\", \"Alive\", \"Alive\", \"Alive\", \"Dead\", \"Dead\", \"Alive\", \"Dead\", \"Dead\", \"Dead\", \"Alive\", \"Dead\", \"Dead\", \"Alive\", \"Alive\", \"Alive\", \"Dead\", \"Dead\", \"Dead\", \"Alive\", \"Alive\", \"Dead\", \"Dead\", \"Dead\", \"Alive\", \"Alive\", \"Alive\", \"Dead\", \"Alive\", \"Dead\", \"Dead\", \"Dead\", \"Alive\", \"Alive\", \"Dead\", \"Dead\", \"Dead\", \"Dead\", \"Alive\", \"Alive\", \"Dead\", \"Alive\", \"Alive\", \"Alive\", \"Dead\", \"Alive\", \"Dead\", \"Alive\", \"Alive\", \"Alive\", \"Alive\", \"Dead\", \"Dead\", \"Dead\", \"Alive\", \"Alive\", \"Dead\", \"Dead\", \"Dead\", \"Dead\", \"Alive\", \"Dead\", \"Dead\", \"Dead\", \"Dead\", \"Alive\", \"Dead\", \"Alive\", \"Dead\", \"Dead\", \"Alive\", \"Dead\", \"Alive\", \"Alive\", \"Alive\", \"Dead\", \"Dead\", \"Dead\", \"Alive\", \"Alive\", \"Alive\", \"Dead\", \"Dead\", \"Dead\", \"Dead\", \"Alive\", \"Alive\", \"Dead\", \"Alive\", \"Dead\", \"Dead\", \"Alive\", \"Alive\", \"Dead\", \"Dead\", \"Dead\", \"Dead\", \"Alive\", \"Dead\", \"Alive\", \"Dead\", \"Alive\", \"Alive\", \"Alive\", \"Alive\", \"Alive\", \"Dead\", \"Alive\", \"Alive\", \"Alive\", \"Dead\", \"Alive\", \"Dead\", \"Dead\", \"Alive\", \"Dead\", \"Dead\", \"Dead\", \"Dead\", \"Dead\", \"Alive\", \"Dead\", \"Alive\", \"Alive\", \"Dead\", \"Alive\", \"Alive\", \"Dead\", \"Dead\", \"Dead\", \"Alive\", \"Alive\", \"Alive\", \"Dead\", \"Alive\", \"Dead\", \"Alive\", \"Alive\", \"Alive\", \"Dead\", \"Dead\", \"Alive\", \"Alive\", \"Dead\", \"Alive\", \"Alive\", \"Dead\", \"Dead\", \"Dead\", \"Alive\", \"Dead\", \"Dead\", \"Dead\", \"Dead\", \"Alive\", \"Dead\", \"Alive\", \"Dead\", \"Dead\", \"Alive\", \"Alive\", \"Dead\", \"Alive\", \"Alive\", \"Alive\", \"Alive\", \"Alive\", \"Dead\", \"Dead\", \"Alive\", \"Dead\", \"Alive\", \"Dead\", \"Dead\", \"Alive\", \"Alive\", \"Dead\", \"Dead\", \"Dead\", \"Alive\", \"Dead\", \"Dead\", \"Alive\", \"Alive\", \"Alive\", \"Dead\", \"Alive\", \"Dead\", \"Alive\", \"Dead\", \"Alive\", \"Dead\", \"Alive\", \"Dead\", \"Dead\", \"Dead\", \"Alive\", \"Alive\", \"Alive\", \"Alive\", \"Dead\", \"Alive\", \"Alive\", \"Dead\", \"Alive\", \"Dead\", \"Dead\", \"Alive\", \"Dead\", \"Dead\", \"Alive\", \"Dead\", \"Alive\", \"Dead\", \"Alive\", \"Dead\", \"Alive\", \"Dead\", \"Dead\", \"Dead\", \"Dead\", \"Alive\", \"Dead\", \"Alive\", \"Dead\", \"Dead\", \"Dead\", \"Dead\", \"Alive\", \"Alive\", \"Alive\", \"Alive\", \"Dead\", \"Alive\", \"Alive\", \"Dead\", \"Dead\", \"Alive\", \"Alive\", \"Dead\", \"Alive\", \"Dead\", \"Dead\", \"Alive\", \"Dead\", \"Alive\", \"Dead\", \"Alive\", \"Alive\", \"Dead\", \"Dead\", \"Dead\", \"Dead\", \"Dead\", \"Alive\", \"Dead\", \"Dead\", \"Dead\", \"Dead\", \"Dead\", \"Alive\", \"Dead\", \"Alive\", \"Alive\", \"Dead\", \"Dead\", \"Alive\", \"Dead\", \"Dead\", \"Dead\", \"Alive\", \"Dead\", \"Alive\", \"Dead\", \"Alive\", \"Dead\", \"Alive\", \"Alive\", \"Dead\", \"Alive\", \"Alive\", \"Alive\", \"Alive\", \"Dead\", \"Dead\", \"Alive\", \"Alive\", \"Alive\", \"Alive\", \"Dead\", \"Alive\", \"Alive\", \"Dead\", \"Dead\", \"Dead\", \"Alive\", \"Dead\", \"Dead\", \"Dead\", \"Alive\", \"Alive\", \"Alive\", \"Dead\", \"Alive\", \"Alive\", \"Alive\", \"Alive\", \"Alive\", \"Dead\", \"Alive\", \"Dead\", \"Dead\", \"Alive\", \"Dead\", \"Alive\", \"Dead\", \"Alive\", \"Alive\", \"Alive\", \"Alive\", \"Dead\", \"Dead\", \"Alive\", \"Alive\", \"Alive\", \"Dead\", \"Dead\", \"Dead\", \"Dead\", \"Alive\", \"Alive\", \"Dead\", \"Alive\", \"Dead\", \"Dead\", \"Alive\", \"Dead\", \"Alive\", \"Dead\", \"Dead\", \"Alive\", \"Alive\", \"Alive\", \"Alive\", \"Dead\", \"Alive\", \"Dead\", \"Alive\", \"Dead\", \"Alive\", \"Dead\", \"Dead\", \"Dead\", \"Alive\", \"Dead\", \"Dead\", \"Dead\", \"Dead\", \"Alive\", \"Dead\", \"Alive\", \"Alive\", \"Alive\", \"Alive\", \"Dead\", \"Alive\", \"Dead\", \"Alive\", \"Dead\", \"Dead\", \"Alive\", \"Alive\", \"Dead\", \"Alive\", \"Alive\", \"Dead\", \"Dead\", \"Alive\", \"Alive\", \"Alive\", \"Alive\", \"Dead\", \"Alive\", \"Dead\", \"Dead\", \"Alive\", \"Dead\", \"Dead\", \"Dead\", \"Alive\", \"Dead\", \"Alive\", \"Alive\", \"Alive\", \"Dead\", \"Dead\", \"Alive\", \"Alive\", \"Dead\", \"Dead\", \"Alive\", \"Alive\", \"Alive\", \"Dead\", \"Alive\", \"Dead\", \"Dead\", \"Dead\", \"Alive\", \"Alive\", \"Alive\", \"Dead\", \"Dead\", \"Dead\", \"Alive\", \"Alive\", \"Alive\", \"Alive\", \"Dead\", \"Dead\", \"Alive\", \"Dead\", \"Dead\", \"Alive\", \"Alive\", \"Alive\", \"Alive\", \"Dead\", \"Dead\", \"Dead\", \"Dead\", \"Dead\", \"Dead\", \"Alive\", \"Dead\", \"Alive\", \"Alive\", \"Dead\", \"Dead\", \"Alive\", \"Alive\", \"Alive\", \"Dead\", \"Dead\", \"Alive\", \"Dead\", \"Alive\", \"Alive\", \"Dead\", \"Alive\", \"Dead\", \"Dead\", \"Dead\", \"Alive\", \"Alive\", \"Alive\", \"Dead\", \"Dead\", \"Dead\", \"Alive\", \"Alive\", \"Dead\", \"Alive\", \"Dead\", \"Dead\", \"Dead\", \"Dead\", \"Alive\", \"Alive\", \"Alive\", \"Alive\", \"Dead\", \"Alive\", \"Alive\", \"Alive\", \"Alive\", \"Alive\", \"Alive\", \"Alive\", \"Dead\", \"Alive\", \"Dead\", \"Alive\", \"Dead\", \"Dead\", \"Dead\", \"Dead\", \"Dead\", \"Dead\", \"Dead\", \"Dead\", \"Alive\", \"Alive\", \"Alive\", \"Alive\", \"Dead\", \"Alive\", \"Alive\", \"Dead\", \"Dead\", \"Dead\", \"Alive\", \"Dead\", \"Dead\", \"Dead\", \"Alive\", \"Dead\", \"Alive\", \"Dead\", \"Alive\", \"Alive\", \"Dead\", \"Dead\", \"Alive\", \"Dead\", \"Dead\", \"Dead\", \"Alive\", \"Dead\", \"Dead\", \"Alive\", \"Dead\", \"Alive\", \"Dead\", \"Alive\", \"Alive\", \"Dead\", \"alive\", \"Alive\", \"Alive\"], \"xaxis\": \"x\", \"y\": [404, 402, 395, 395, 394, 388, 387, 384, 383, 383, 382, 381, 380, 379, 372, 370, 368, 368, 366, 365, 362, 360, 359, 358, 357, 356, 353, 353, 352, 347, 345, 345, 344, 343, 341, 341, 341, 340, 339, 338, 338, 337, 337, 336, 336, 333, 332, 331, 330, 329, 328, 327, 327, 326, 326, 325, 325, 324, 322, 322, 321, 320, 320, 316, 316, 315, 314, 314, 313, 313, 313, 312, 311, 310, 309, 309, 308, 308, 307, 306, 306, 305, 300, 299, 296, 295, 292, 291, 291, 291, 290, 290, 289, 288, 286, 286, 285, 284, 284, 282, 281, 280, 279, 278, 278, 278, 275, 271, 271, 271, 270, 270, 270, 269, 268, 268, 267, 267, 266, 265, 265, 264, 263, 261, 261, 261, 258, 258, 257, 256, 256, 256, 256, 255, 255, 255, 254, 253, 252, 251, 251, 249, 248, 247, 244, 244, 243, 242, 241, 240, 239, 238, 237, 237, 233, 233, 233, 233, 232, 232, 231, 230, 229, 229, 228, 228, 226, 226, 225, 224, 224, 223, 223, 222, 221, 221, 221, 221, 220, 220, 220, 220, 220, 220, 219, 219, 219, 218, 218, 218, 218, 217, 217, 217, 216, 216, 214, 213, 212, 212, 211, 211, 211, 211, 210, 210, 209, 209, 209, 209, 209, 209, 209, 208, 208, 208, 208, 208, 208, 208, 207, 207, 206, 206, 206, 206, 205, 205, 205, 205, 204, 204, 204, 204, 204, 204, 204, 204, 204, 204, 204, 203, 203, 203, 203, 202, 202, 202, 202, 202, 202, 202, 202, 202, 202, 202, 201, 201, 201, 201, 201, 201, 201, 201, 200, 200, 200, 200, 200, 200, 200, 200, 200, 200, 200, 200, 200, 199, 199, 199, 199, 199, 199, 199, 199, 199, 199, 199, 199, 198, 198, 198, 198, 198, 198, 198, 198, 198, 198, 198, 197, 197, 197, 197, 197, 197, 197, 197, 197, 197, 197, 197, 197, 197, 197, 196, 196, 196, 196, 196, 196, 196, 196, 196, 196, 196, 196, 196, 196, 196, 196, 196, 196, 196, 195, 195, 195, 195, 195, 195, 195, 195, 195, 195, 195, 195, 195, 195, 194, 194, 194, 194, 194, 194, 194, 194, 194, 194, 194, 194, 194, 194, 194, 194, 194, 194, 194, 193, 193, 193, 193, 193, 193, 193, 193, 193, 193, 193, 193, 192, 192, 192, 192, 192, 192, 192, 192, 192, 192, 192, 192, 192, 192, 192, 192, 192, 192, 192, 191, 191, 191, 191, 191, 191, 191, 191, 191, 191, 191, 191, 191, 191, 191, 191, 191, 191, 191, 191, 191, 191, 191, 191, 191, 191, 191, 191, 191, 191, 190, 190, 190, 190, 190, 190, 190, 190, 190, 190, 190, 190, 190, 190, 190, 190, 190, 190, 190, 190, 190, 190, 190, 189, 189, 189, 189, 189, 189, 189, 189, 189, 189, 189, 189, 189, 189, 189, 189, 189, 189, 189, 189, 189, 189, 189, 189, 189, 189, 189, 189, 189, 188, 188, 188, 188, 188, 188, 188, 188, 188, 188, 188, 188, 188, 188, 188, 188, 188, 187, 187, 187, 187, 187, 187, 187, 187, 187, 187, 187, 187, 187, 187, 187, 187, 187, 187, 187, 187, 187, 186, 186, 186, 186, 186, 186, 186, 186, 186, 186, 186, 186, 186, 186, 186, 186, 186, 186, 186, 186, 186, 186, 186, 186, 186, 186, 186, 186, 185, 185, 185, 185, 185, 185, 185, 185, 185, 185, 185, 185, 185, 185, 185, 185, 185, 185, 185, 185, 185, 185, 185, 185, 185, 185, 185, 185, 184, 184, 184, 184, 184, 184, 184, 184, 184, 184, 184, 184, 184, 184, 184, 184, 184, 184, 184, 184, 184, 184, 184, 184, 184, 184, 184, 184, 184, 184, 184, 184, 184, 184, 184, 184, 184, 184, 184, 184, 184, 184, 184, 183, 183, 183, 183, 183, 183, 183, 183, 183, 183, 183, 183, 183, 183, 183, 183, 183, 183, 183, 183, 183, 183, 183, 183, 183, 183, 183, 183, 183, 183, 183, 183, 183, 183, 183, 183, 183, 183, 182, 182, 182, 182, 182, 182, 182, 182, 182, 182, 182, 182, 182, 182, 182, 182, 182, 182, 182, 182, 182, 182, 182, 182, 182, 182, 182, 182, 182, 182, 182, 182, 181, 181, 181, 181, 181, 181, 181, 181, 181, 181, 181, 181, 181, 181, 181, 181, 181, 181, 181, 181, 181, 181, 181, 181, 181, 181, 181, 181, 181, 181, 181, 180, 180, 180, 180, 180, 180, 180, 180, 180, 180, 180, 180, 180, 180, 180, 180, 180, 180, 180, 180, 180, 180, 180, 180, 180, 180, 180, 180, 180, 180, 180, 180, 180, 180, 180, 180, 180, 179, 179, 179, 179, 179, 179, 179, 179, 179, 179, 179, 179, 179, 179, 179, 179, 179, 179, 179, 179, 179, 179, 179, 179, 179, 179, 179, 179, 179, 178, 178, 178, 178, 178, 178, 178, 178, 178, 178, 178, 178, 178, 178, 178, 178, 178, 178, 178, 178, 178, 178, 178, 178, 178, 178, 178, 178, 178, 177, 177, 177, 177, 177, 177, 177, 177, 177, 177, 177, 177, 177, 177, 177, 177, 177, 177, 177, 177, 177, 177, 177, 177, 177, 177, 177, 177, 177, 177, 177, 177, 177, 177, 177, 177, 177, 176, 176, 176, 176, 176, 176, 176, 176, 176, 176, 176, 176, 176, 176, 176, 176, 176, 176, 176, 176, 176, 176, 176, 176, 176, 176, 176, 176, 176, 176, 176, 176, 176, 176, 175, 175, 175, 175, 175, 175, 175, 175, 175, 175, 175, 175, 175, 175, 175, 175, 175, 175, 175, 175, 175, 175, 175, 175, 175, 175, 175, 175, 175, 175, 175, 175, 175, 175, 175, 175, 175, 175, 175, 175, 174, 174, 174, 174, 174, 174, 174, 174, 174, 174, 174, 174, 174, 174, 174, 174, 174, 174, 174, 174, 174, 174, 174, 174, 174, 174, 174, 174, 174, 174, 173, 173, 173, 173, 173, 173, 173, 173, 173, 173, 173, 173, 173, 173, 173, 173, 173, 173, 173, 173, 173, 173, 173, 173, 173, 173, 173, 173, 173, 173, 173, 173, 172, 172, 172, 172, 172, 172, 172, 172, 172, 172, 172, 172, 172, 172, 172, 172, 172, 172, 172, 172, 172, 172, 172, 172, 172, 172, 172, 172, 172, 172, 172, 172, 172, 172, 172, 172, 172, 171, 171, 171, 171, 171, 171, 171, 171, 171, 171, 171, 171, 171, 171, 171, 171, 171, 171, 171, 171, 171, 171, 171, 171, 171, 171, 171, 171, 171, 171, 171, 171, 170, 170, 170, 170, 170, 170, 170, 170, 170, 170, 170, 170, 170, 170, 170, 170, 170, 170, 170, 170, 170, 170, 170, 170, 170, 170, 170, 169, 169, 169, 169, 169, 169, 169, 169, 169, 169, 169, 169, 169, 169, 169, 169, 169, 169, 169, 169, 169, 169, 169, 169, 169, 169, 169, 169, 169, 169, 169, 169, 169, 169, 169, 169, 169, 169, 168, 168, 168, 168, 168, 168, 168, 168, 168, 168, 168, 168, 168, 168, 168, 168, 168, 168, 168, 168, 168, 167, 167, 167, 167, 167, 167, 167, 167, 167, 167, 167, 167, 167, 167, 167, 167, 167, 167, 167, 167, 167, 167, 167, 167, 166, 166, 166, 166, 166, 166, 166, 166, 166, 166, 166, 166, 166, 166, 166, 166, 166, 166, 166, 166, 166, 166, 166, 166, 166, 166, 166, 166, 165, 165, 165, 165, 165, 165, 165, 165, 165, 165, 165, 165, 165, 165, 165, 165, 165, 165, 165, 165, 165, 164, 164, 164, 164, 164, 164, 164, 164, 164, 164, 164, 164, 164, 164, 164, 164, 164, 164, 164, 164, 164, 164, 164, 163, 163, 163, 163, 163, 163, 163, 163, 163, 163, 163, 163, 163, 163, 163, 163, 163, 162, 162, 162, 162, 162, 162, 162, 162, 162, 162, 162, 162, 162, 162, 162, 162, 162, 162, 162, 162, 162, 162, 161, 161, 161, 161, 161, 161, 161, 161, 161, 161, 161, 161, 161, 161, 161, 160, 160, 160, 160, 160, 160, 160, 160, 160, 160, 160, 160, 160, 160, 160, 160, 160, 160, 160, 159, 159, 159, 159, 159, 159, 159, 159, 159, 159, 158, 158, 158, 158, 158, 158, 158, 158, 158, 157, 157, 157, 157, 157, 157, 157, 157, 157, 157, 157, 157, 157, 157, 157, 156, 156, 156, 156, 156, 156, 156, 156, 156, 156, 155, 155, 155, 155, 155, 154, 154, 154, 154, 154, 154, 154, 154, 154, 154, 154, 154, 153, 153, 153, 153, 153, 153, 153, 152, 152, 152, 152, 152, 152, 152, 152, 152, 151, 151, 150, 150, 150, 150, 150, 149, 149, 149, 149, 148, 147, 147, 147, 146, 145, 145, 144, 144, 143, 143, 143, 143, 142, 142, 142, 140, 139, 138, 138, 137, 137, 135, 135, 133, 132, 132, 131, 126, 125, 125, 125, 124, 124, 123, 123, 122, 121, 121, 120, 120, 117, 116, 115, 114, 113, 112, 112, 111, 111, 111, 111, 109, 105, 104, 103, 103, 102, 100, 99, 98, 98, 98, 95, 95, 95, 93, 93, 91, 89, 89, 88, 87, 86, 85, 85, 83, 82, 82, 81, 81, 78, 77, 77, 76, 76, 75, 74, 73, 73, 73, 72, 72, 71, 71, 69, 69, 68, 67, 67, 65, 63, 61, 61, 60, 57, 56, 56, 55, 55, 54, 54, 53, 53, 52, 51, 50, 49, 48, 48, 45, 45, 44, 44, 43, 43, 40, 40, 39, 38, 38, 38, 37, 37, 36, 35, 35, 33, 32, 32, 27, 26, 24, 24, 23, 23, 23, 22, 21, 21, 18, 17, 17, 17, 17, 15, 15, 15, 14, 13, 12, 11, 9, 7, 7, 6, 5, 5, 5, 5, 5, 4, 4, 3, 3, 3, 2, 1, 1, 1, 1, 1], \"yaxis\": \"y\"}],                        {\"barmode\": \"relative\", \"coloraxis\": {\"colorbar\": {\"title\": {\"text\": \"age\"}}, \"colorscale\": [[0.0, \"#0d0887\"], [0.1111111111111111, \"#46039f\"], [0.2222222222222222, \"#7201a8\"], [0.3333333333333333, \"#9c179e\"], [0.4444444444444444, \"#bd3786\"], [0.5555555555555556, \"#d8576b\"], [0.6666666666666666, \"#ed7953\"], [0.7777777777777778, \"#fb9f3a\"], [0.8888888888888888, \"#fdca26\"], [1.0, \"#f0f921\"]]}, \"legend\": {\"tracegroupgap\": 0}, \"margin\": {\"t\": 60}, \"template\": {\"data\": {\"bar\": [{\"error_x\": {\"color\": \"#2a3f5f\"}, \"error_y\": {\"color\": \"#2a3f5f\"}, \"marker\": {\"line\": {\"color\": \"#E5ECF6\", \"width\": 0.5}}, \"type\": \"bar\"}], \"barpolar\": [{\"marker\": {\"line\": {\"color\": \"#E5ECF6\", \"width\": 0.5}}, \"type\": \"barpolar\"}], \"carpet\": [{\"aaxis\": {\"endlinecolor\": \"#2a3f5f\", \"gridcolor\": \"white\", \"linecolor\": \"white\", \"minorgridcolor\": \"white\", \"startlinecolor\": \"#2a3f5f\"}, \"baxis\": {\"endlinecolor\": \"#2a3f5f\", \"gridcolor\": \"white\", \"linecolor\": \"white\", \"minorgridcolor\": \"white\", \"startlinecolor\": \"#2a3f5f\"}, \"type\": \"carpet\"}], \"choropleth\": [{\"colorbar\": {\"outlinewidth\": 0, \"ticks\": \"\"}, \"type\": \"choropleth\"}], \"contour\": [{\"colorbar\": {\"outlinewidth\": 0, \"ticks\": \"\"}, \"colorscale\": [[0.0, \"#0d0887\"], [0.1111111111111111, \"#46039f\"], [0.2222222222222222, \"#7201a8\"], [0.3333333333333333, \"#9c179e\"], [0.4444444444444444, \"#bd3786\"], [0.5555555555555556, \"#d8576b\"], [0.6666666666666666, \"#ed7953\"], [0.7777777777777778, \"#fb9f3a\"], [0.8888888888888888, \"#fdca26\"], [1.0, \"#f0f921\"]], \"type\": \"contour\"}], \"contourcarpet\": [{\"colorbar\": {\"outlinewidth\": 0, \"ticks\": \"\"}, \"type\": \"contourcarpet\"}], \"heatmap\": [{\"colorbar\": {\"outlinewidth\": 0, \"ticks\": \"\"}, \"colorscale\": [[0.0, \"#0d0887\"], [0.1111111111111111, \"#46039f\"], [0.2222222222222222, \"#7201a8\"], [0.3333333333333333, \"#9c179e\"], [0.4444444444444444, \"#bd3786\"], [0.5555555555555556, \"#d8576b\"], [0.6666666666666666, \"#ed7953\"], [0.7777777777777778, \"#fb9f3a\"], [0.8888888888888888, \"#fdca26\"], [1.0, \"#f0f921\"]], \"type\": \"heatmap\"}], \"heatmapgl\": [{\"colorbar\": {\"outlinewidth\": 0, \"ticks\": \"\"}, \"colorscale\": [[0.0, \"#0d0887\"], [0.1111111111111111, \"#46039f\"], [0.2222222222222222, \"#7201a8\"], [0.3333333333333333, \"#9c179e\"], [0.4444444444444444, \"#bd3786\"], [0.5555555555555556, \"#d8576b\"], [0.6666666666666666, \"#ed7953\"], [0.7777777777777778, \"#fb9f3a\"], [0.8888888888888888, \"#fdca26\"], [1.0, \"#f0f921\"]], \"type\": \"heatmapgl\"}], \"histogram\": [{\"marker\": {\"colorbar\": {\"outlinewidth\": 0, \"ticks\": \"\"}}, \"type\": \"histogram\"}], \"histogram2d\": [{\"colorbar\": {\"outlinewidth\": 0, \"ticks\": \"\"}, \"colorscale\": [[0.0, \"#0d0887\"], [0.1111111111111111, \"#46039f\"], [0.2222222222222222, \"#7201a8\"], [0.3333333333333333, \"#9c179e\"], [0.4444444444444444, \"#bd3786\"], [0.5555555555555556, \"#d8576b\"], [0.6666666666666666, \"#ed7953\"], [0.7777777777777778, \"#fb9f3a\"], [0.8888888888888888, \"#fdca26\"], [1.0, \"#f0f921\"]], \"type\": \"histogram2d\"}], \"histogram2dcontour\": [{\"colorbar\": {\"outlinewidth\": 0, \"ticks\": \"\"}, \"colorscale\": [[0.0, \"#0d0887\"], [0.1111111111111111, \"#46039f\"], [0.2222222222222222, \"#7201a8\"], [0.3333333333333333, \"#9c179e\"], [0.4444444444444444, \"#bd3786\"], [0.5555555555555556, \"#d8576b\"], [0.6666666666666666, \"#ed7953\"], [0.7777777777777778, \"#fb9f3a\"], [0.8888888888888888, \"#fdca26\"], [1.0, \"#f0f921\"]], \"type\": \"histogram2dcontour\"}], \"mesh3d\": [{\"colorbar\": {\"outlinewidth\": 0, \"ticks\": \"\"}, \"type\": \"mesh3d\"}], \"parcoords\": [{\"line\": {\"colorbar\": {\"outlinewidth\": 0, \"ticks\": \"\"}}, \"type\": \"parcoords\"}], \"pie\": [{\"automargin\": true, \"type\": \"pie\"}], \"scatter\": [{\"marker\": {\"colorbar\": {\"outlinewidth\": 0, \"ticks\": \"\"}}, \"type\": \"scatter\"}], \"scatter3d\": [{\"line\": {\"colorbar\": {\"outlinewidth\": 0, \"ticks\": \"\"}}, \"marker\": {\"colorbar\": {\"outlinewidth\": 0, \"ticks\": \"\"}}, \"type\": \"scatter3d\"}], \"scattercarpet\": [{\"marker\": {\"colorbar\": {\"outlinewidth\": 0, \"ticks\": \"\"}}, \"type\": \"scattercarpet\"}], \"scattergeo\": [{\"marker\": {\"colorbar\": {\"outlinewidth\": 0, \"ticks\": \"\"}}, \"type\": \"scattergeo\"}], \"scattergl\": [{\"marker\": {\"colorbar\": {\"outlinewidth\": 0, \"ticks\": \"\"}}, \"type\": \"scattergl\"}], \"scattermapbox\": [{\"marker\": {\"colorbar\": {\"outlinewidth\": 0, \"ticks\": \"\"}}, \"type\": \"scattermapbox\"}], \"scatterpolar\": [{\"marker\": {\"colorbar\": {\"outlinewidth\": 0, \"ticks\": \"\"}}, \"type\": \"scatterpolar\"}], \"scatterpolargl\": [{\"marker\": {\"colorbar\": {\"outlinewidth\": 0, \"ticks\": \"\"}}, \"type\": \"scatterpolargl\"}], \"scatterternary\": [{\"marker\": {\"colorbar\": {\"outlinewidth\": 0, \"ticks\": \"\"}}, \"type\": \"scatterternary\"}], \"surface\": [{\"colorbar\": {\"outlinewidth\": 0, \"ticks\": \"\"}, \"colorscale\": [[0.0, \"#0d0887\"], [0.1111111111111111, \"#46039f\"], [0.2222222222222222, \"#7201a8\"], [0.3333333333333333, \"#9c179e\"], [0.4444444444444444, \"#bd3786\"], [0.5555555555555556, \"#d8576b\"], [0.6666666666666666, \"#ed7953\"], [0.7777777777777778, \"#fb9f3a\"], [0.8888888888888888, \"#fdca26\"], [1.0, \"#f0f921\"]], \"type\": \"surface\"}], \"table\": [{\"cells\": {\"fill\": {\"color\": \"#EBF0F8\"}, \"line\": {\"color\": \"white\"}}, \"header\": {\"fill\": {\"color\": \"#C8D4E3\"}, \"line\": {\"color\": \"white\"}}, \"type\": \"table\"}]}, \"layout\": {\"annotationdefaults\": {\"arrowcolor\": \"#2a3f5f\", \"arrowhead\": 0, \"arrowwidth\": 1}, \"autotypenumbers\": \"strict\", \"coloraxis\": {\"colorbar\": {\"outlinewidth\": 0, \"ticks\": \"\"}}, \"colorscale\": {\"diverging\": [[0, \"#8e0152\"], [0.1, \"#c51b7d\"], [0.2, \"#de77ae\"], [0.3, \"#f1b6da\"], [0.4, \"#fde0ef\"], [0.5, \"#f7f7f7\"], [0.6, \"#e6f5d0\"], [0.7, \"#b8e186\"], [0.8, \"#7fbc41\"], [0.9, \"#4d9221\"], [1, \"#276419\"]], \"sequential\": [[0.0, \"#0d0887\"], [0.1111111111111111, \"#46039f\"], [0.2222222222222222, \"#7201a8\"], [0.3333333333333333, \"#9c179e\"], [0.4444444444444444, \"#bd3786\"], [0.5555555555555556, \"#d8576b\"], [0.6666666666666666, \"#ed7953\"], [0.7777777777777778, \"#fb9f3a\"], [0.8888888888888888, \"#fdca26\"], [1.0, \"#f0f921\"]], \"sequentialminus\": [[0.0, \"#0d0887\"], [0.1111111111111111, \"#46039f\"], [0.2222222222222222, \"#7201a8\"], [0.3333333333333333, \"#9c179e\"], [0.4444444444444444, \"#bd3786\"], [0.5555555555555556, \"#d8576b\"], [0.6666666666666666, \"#ed7953\"], [0.7777777777777778, \"#fb9f3a\"], [0.8888888888888888, \"#fdca26\"], [1.0, \"#f0f921\"]]}, \"colorway\": [\"#636efa\", \"#EF553B\", \"#00cc96\", \"#ab63fa\", \"#FFA15A\", \"#19d3f3\", \"#FF6692\", \"#B6E880\", \"#FF97FF\", \"#FECB52\"], \"font\": {\"color\": \"#2a3f5f\"}, \"geo\": {\"bgcolor\": \"white\", \"lakecolor\": \"white\", \"landcolor\": \"#E5ECF6\", \"showlakes\": true, \"showland\": true, \"subunitcolor\": \"white\"}, \"hoverlabel\": {\"align\": \"left\"}, \"hovermode\": \"closest\", \"mapbox\": {\"style\": \"light\"}, \"paper_bgcolor\": \"white\", \"plot_bgcolor\": \"#E5ECF6\", \"polar\": {\"angularaxis\": {\"gridcolor\": \"white\", \"linecolor\": \"white\", \"ticks\": \"\"}, \"bgcolor\": \"#E5ECF6\", \"radialaxis\": {\"gridcolor\": \"white\", \"linecolor\": \"white\", \"ticks\": \"\"}}, \"scene\": {\"xaxis\": {\"backgroundcolor\": \"#E5ECF6\", \"gridcolor\": \"white\", \"gridwidth\": 2, \"linecolor\": \"white\", \"showbackground\": true, \"ticks\": \"\", \"zerolinecolor\": \"white\"}, \"yaxis\": {\"backgroundcolor\": \"#E5ECF6\", \"gridcolor\": \"white\", \"gridwidth\": 2, \"linecolor\": \"white\", \"showbackground\": true, \"ticks\": \"\", \"zerolinecolor\": \"white\"}, \"zaxis\": {\"backgroundcolor\": \"#E5ECF6\", \"gridcolor\": \"white\", \"gridwidth\": 2, \"linecolor\": \"white\", \"showbackground\": true, \"ticks\": \"\", \"zerolinecolor\": \"white\"}}, \"shapedefaults\": {\"line\": {\"color\": \"#2a3f5f\"}}, \"ternary\": {\"aaxis\": {\"gridcolor\": \"white\", \"linecolor\": \"white\", \"ticks\": \"\"}, \"baxis\": {\"gridcolor\": \"white\", \"linecolor\": \"white\", \"ticks\": \"\"}, \"bgcolor\": \"#E5ECF6\", \"caxis\": {\"gridcolor\": \"white\", \"linecolor\": \"white\", \"ticks\": \"\"}}, \"title\": {\"x\": 0.05}, \"xaxis\": {\"automargin\": true, \"gridcolor\": \"white\", \"linecolor\": \"white\", \"ticks\": \"\", \"title\": {\"standoff\": 15}, \"zerolinecolor\": \"white\", \"zerolinewidth\": 2}, \"yaxis\": {\"automargin\": true, \"gridcolor\": \"white\", \"linecolor\": \"white\", \"ticks\": \"\", \"title\": {\"standoff\": 15}, \"zerolinecolor\": \"white\", \"zerolinewidth\": 2}}}, \"xaxis\": {\"anchor\": \"y\", \"domain\": [0.0, 1.0], \"title\": {\"text\": \"health_status\"}}, \"yaxis\": {\"anchor\": \"x\", \"domain\": [0.0, 1.0], \"title\": {\"text\": \"Number of Patients\"}}},                        {\"responsive\": true}                    ).then(function(){\n",
       "                            \n",
       "var gd = document.getElementById('e9578b57-5e6d-4d7b-aa86-3683ef927702');\n",
       "var x = new MutationObserver(function (mutations, observer) {{\n",
       "        var display = window.getComputedStyle(gd).display;\n",
       "        if (!display || display === 'none') {{\n",
       "            console.log([gd, 'removed!']);\n",
       "            Plotly.purge(gd);\n",
       "            observer.disconnect();\n",
       "        }}\n",
       "}});\n",
       "\n",
       "// Listen for the removal of the full notebook cells\n",
       "var notebookContainer = gd.closest('#notebook-container');\n",
       "if (notebookContainer) {{\n",
       "    x.observe(notebookContainer, {childList: true});\n",
       "}}\n",
       "\n",
       "// Listen for the clearing of the current output cell\n",
       "var outputEl = gd.closest('.output');\n",
       "if (outputEl) {{\n",
       "    x.observe(outputEl, {childList: true});\n",
       "}}\n",
       "\n",
       "                        })                };                });            </script>        </div>"
      ]
     },
     "metadata": {},
     "output_type": "display_data"
    }
   ],
   "source": [
    "px.bar(data_age, x= 'health_status' , y='Number of Patients', color= 'age')\n"
   ]
  },
  {
   "cell_type": "code",
   "execution_count": 18,
   "id": "intimate-locator",
   "metadata": {
    "execution": {
     "iopub.execute_input": "2021-07-06T10:17:42.821084Z",
     "iopub.status.busy": "2021-07-06T10:17:42.820084Z",
     "iopub.status.idle": "2021-07-06T10:17:42.870130Z",
     "shell.execute_reply": "2021-07-06T10:17:42.870656Z",
     "shell.execute_reply.started": "2021-07-06T10:10:32.437957Z"
    },
    "papermill": {
     "duration": 0.17602,
     "end_time": "2021-07-06T10:17:42.870859",
     "exception": false,
     "start_time": "2021-07-06T10:17:42.694839",
     "status": "completed"
    },
    "tags": []
   },
   "outputs": [
    {
     "data": {
      "text/html": [
       "<div>\n",
       "<style scoped>\n",
       "    .dataframe tbody tr th:only-of-type {\n",
       "        vertical-align: middle;\n",
       "    }\n",
       "\n",
       "    .dataframe tbody tr th {\n",
       "        vertical-align: top;\n",
       "    }\n",
       "\n",
       "    .dataframe thead th {\n",
       "        text-align: right;\n",
       "    }\n",
       "</style>\n",
       "<table border=\"1\" class=\"dataframe\">\n",
       "  <thead>\n",
       "    <tr style=\"text-align: right;\">\n",
       "      <th></th>\n",
       "      <th>age</th>\n",
       "      <th>disease</th>\n",
       "      <th>Number of Patients</th>\n",
       "    </tr>\n",
       "  </thead>\n",
       "  <tbody>\n",
       "    <tr>\n",
       "      <th>28</th>\n",
       "      <td>2</td>\n",
       "      <td>Viral Haemmorrhaphic Fever</td>\n",
       "      <td>775</td>\n",
       "    </tr>\n",
       "    <tr>\n",
       "      <th>24</th>\n",
       "      <td>2</td>\n",
       "      <td>Marburg Virus</td>\n",
       "      <td>775</td>\n",
       "    </tr>\n",
       "    <tr>\n",
       "      <th>21</th>\n",
       "      <td>2</td>\n",
       "      <td>Diarrhoea</td>\n",
       "      <td>767</td>\n",
       "    </tr>\n",
       "    <tr>\n",
       "      <th>29</th>\n",
       "      <td>2</td>\n",
       "      <td>Yellow Fever</td>\n",
       "      <td>764</td>\n",
       "    </tr>\n",
       "    <tr>\n",
       "      <th>26</th>\n",
       "      <td>2</td>\n",
       "      <td>Meningitis</td>\n",
       "      <td>755</td>\n",
       "    </tr>\n",
       "    <tr>\n",
       "      <th>...</th>\n",
       "      <td>...</td>\n",
       "      <td>...</td>\n",
       "      <td>...</td>\n",
       "    </tr>\n",
       "    <tr>\n",
       "      <th>3</th>\n",
       "      <td>0</td>\n",
       "      <td>Malaria</td>\n",
       "      <td>7</td>\n",
       "    </tr>\n",
       "    <tr>\n",
       "      <th>6</th>\n",
       "      <td>0</td>\n",
       "      <td>Meningitis</td>\n",
       "      <td>5</td>\n",
       "    </tr>\n",
       "    <tr>\n",
       "      <th>5</th>\n",
       "      <td>0</td>\n",
       "      <td>Measles</td>\n",
       "      <td>4</td>\n",
       "    </tr>\n",
       "    <tr>\n",
       "      <th>1</th>\n",
       "      <td>0</td>\n",
       "      <td>Diarrhoea</td>\n",
       "      <td>3</td>\n",
       "    </tr>\n",
       "    <tr>\n",
       "      <th>4</th>\n",
       "      <td>0</td>\n",
       "      <td>Marburg Virus</td>\n",
       "      <td>2</td>\n",
       "    </tr>\n",
       "  </tbody>\n",
       "</table>\n",
       "<p>790 rows × 3 columns</p>\n",
       "</div>"
      ],
      "text/plain": [
       "    age                     disease  Number of Patients\n",
       "28    2  Viral Haemmorrhaphic Fever                 775\n",
       "24    2               Marburg Virus                 775\n",
       "21    2                   Diarrhoea                 767\n",
       "29    2                Yellow Fever                 764\n",
       "26    2                  Meningitis                 755\n",
       "..  ...                         ...                 ...\n",
       "3     0                     Malaria                   7\n",
       "6     0                  Meningitis                   5\n",
       "5     0                     Measles                   4\n",
       "1     0                   Diarrhoea                   3\n",
       "4     0               Marburg Virus                   2\n",
       "\n",
       "[790 rows x 3 columns]"
      ]
     },
     "execution_count": 18,
     "metadata": {},
     "output_type": "execute_result"
    }
   ],
   "source": [
    "data_age2= data.groupby(['age', 'disease' ])['id'].count().reset_index(name='Number of Patients').sort_values(by= 'Number of Patients', ascending= False)\n",
    "data_age2\n"
   ]
  },
  {
   "cell_type": "code",
   "execution_count": 19,
   "id": "musical-condition",
   "metadata": {
    "execution": {
     "iopub.execute_input": "2021-07-06T10:17:43.118760Z",
     "iopub.status.busy": "2021-07-06T10:17:43.118082Z",
     "iopub.status.idle": "2021-07-06T10:17:43.244517Z",
     "shell.execute_reply": "2021-07-06T10:17:43.245120Z",
     "shell.execute_reply.started": "2021-07-06T10:10:32.490512Z"
    },
    "papermill": {
     "duration": 0.254196,
     "end_time": "2021-07-06T10:17:43.245320",
     "exception": false,
     "start_time": "2021-07-06T10:17:42.991124",
     "status": "completed"
    },
    "tags": []
   },
   "outputs": [
    {
     "data": {
      "application/vnd.plotly.v1+json": {
       "config": {
        "plotlyServerURL": "https://plot.ly"
       },
       "data": [
        {
         "hovertemplate": "disease=Viral Haemmorrhaphic Fever<br>age=%{x}<br>Number of Patients=%{y}<extra></extra>",
         "legendgroup": "Viral Haemmorrhaphic Fever",
         "marker": {
          "color": "#636efa",
          "symbol": "circle"
         },
         "mode": "markers",
         "name": "Viral Haemmorrhaphic Fever",
         "orientation": "v",
         "showlegend": true,
         "type": "scatter",
         "x": [
          2,
          3,
          4,
          5,
          7,
          6,
          9,
          8,
          10,
          58,
          29,
          47,
          15,
          11,
          33,
          60,
          56,
          1,
          36,
          66,
          14,
          45,
          50,
          19,
          12,
          35,
          53,
          25,
          41,
          37,
          48,
          28,
          34,
          62,
          13,
          59,
          65,
          38,
          32,
          52,
          46,
          49,
          16,
          51,
          21,
          69,
          44,
          30,
          40,
          27,
          43,
          18,
          17,
          54,
          24,
          26,
          61,
          68,
          23,
          42,
          55,
          67,
          20,
          64,
          63,
          39,
          57,
          70,
          22,
          31,
          71,
          72,
          73,
          74,
          75,
          76,
          77,
          78,
          0
         ],
         "xaxis": "x",
         "y": [
          775,
          690,
          650,
          643,
          587,
          559,
          517,
          500,
          429,
          416,
          404,
          398,
          395,
          390,
          386,
          384,
          383,
          382,
          377,
          376,
          375,
          375,
          371,
          371,
          370,
          368,
          366,
          365,
          364,
          363,
          363,
          362,
          362,
          359,
          359,
          358,
          358,
          358,
          356,
          356,
          352,
          352,
          351,
          350,
          349,
          348,
          348,
          348,
          348,
          348,
          347,
          346,
          346,
          345,
          345,
          344,
          343,
          342,
          341,
          340,
          339,
          337,
          336,
          335,
          333,
          331,
          328,
          323,
          319,
          317,
          273,
          236,
          199,
          172,
          153,
          100,
          69,
          34,
          14
         ],
         "yaxis": "y"
        },
        {
         "hovertemplate": "disease=Marburg Virus<br>age=%{x}<br>Number of Patients=%{y}<extra></extra>",
         "legendgroup": "Marburg Virus",
         "marker": {
          "color": "#EF553B",
          "symbol": "circle"
         },
         "mode": "markers",
         "name": "Marburg Virus",
         "orientation": "v",
         "showlegend": true,
         "type": "scatter",
         "x": [
          2,
          4,
          3,
          5,
          6,
          7,
          8,
          9,
          10,
          1,
          50,
          42,
          61,
          11,
          54,
          18,
          47,
          52,
          66,
          17,
          36,
          33,
          26,
          28,
          39,
          38,
          13,
          12,
          29,
          62,
          49,
          65,
          40,
          32,
          22,
          67,
          69,
          34,
          41,
          24,
          20,
          64,
          37,
          43,
          25,
          53,
          19,
          55,
          70,
          35,
          44,
          57,
          45,
          15,
          30,
          48,
          60,
          16,
          14,
          51,
          59,
          21,
          63,
          27,
          31,
          68,
          56,
          58,
          23,
          71,
          46,
          72,
          73,
          74,
          75,
          76,
          77,
          78,
          0
         ],
         "xaxis": "x",
         "y": [
          775,
          686,
          669,
          635,
          579,
          534,
          532,
          470,
          468,
          443,
          391,
          389,
          387,
          384,
          382,
          381,
          377,
          377,
          375,
          372,
          371,
          371,
          371,
          371,
          370,
          370,
          370,
          367,
          366,
          365,
          362,
          361,
          358,
          358,
          357,
          357,
          357,
          356,
          356,
          355,
          353,
          353,
          352,
          351,
          350,
          349,
          349,
          349,
          347,
          346,
          346,
          345,
          345,
          344,
          342,
          342,
          341,
          338,
          338,
          338,
          338,
          337,
          332,
          332,
          331,
          330,
          327,
          327,
          326,
          312,
          308,
          279,
          209,
          171,
          162,
          103,
          75,
          36,
          2
         ],
         "yaxis": "y"
        },
        {
         "hovertemplate": "disease=Diarrhoea<br>age=%{x}<br>Number of Patients=%{y}<extra></extra>",
         "legendgroup": "Diarrhoea",
         "marker": {
          "color": "#00cc96",
          "symbol": "circle"
         },
         "mode": "markers",
         "name": "Diarrhoea",
         "orientation": "v",
         "showlegend": true,
         "type": "scatter",
         "x": [
          2,
          3,
          4,
          5,
          6,
          7,
          8,
          9,
          10,
          1,
          11,
          66,
          21,
          19,
          43,
          20,
          12,
          59,
          49,
          18,
          26,
          67,
          17,
          44,
          53,
          22,
          41,
          69,
          60,
          34,
          47,
          61,
          65,
          13,
          32,
          14,
          16,
          39,
          15,
          55,
          50,
          35,
          25,
          68,
          30,
          24,
          36,
          57,
          46,
          40,
          48,
          38,
          42,
          29,
          51,
          62,
          70,
          23,
          64,
          58,
          52,
          56,
          63,
          27,
          54,
          45,
          37,
          31,
          33,
          28,
          71,
          72,
          73,
          74,
          75,
          76,
          77,
          78,
          0
         ],
         "xaxis": "x",
         "y": [
          767,
          739,
          702,
          657,
          576,
          536,
          516,
          476,
          434,
          417,
          403,
          396,
          392,
          386,
          382,
          379,
          378,
          376,
          375,
          375,
          373,
          372,
          371,
          370,
          369,
          368,
          368,
          368,
          367,
          365,
          365,
          364,
          364,
          363,
          363,
          360,
          359,
          358,
          357,
          357,
          357,
          355,
          355,
          354,
          353,
          353,
          349,
          348,
          347,
          345,
          345,
          344,
          344,
          343,
          343,
          342,
          342,
          340,
          340,
          339,
          339,
          334,
          334,
          333,
          332,
          331,
          330,
          329,
          328,
          325,
          303,
          278,
          210,
          182,
          138,
          105,
          75,
          40,
          3
         ],
         "yaxis": "y"
        },
        {
         "hovertemplate": "disease=Yellow Fever<br>age=%{x}<br>Number of Patients=%{y}<extra></extra>",
         "legendgroup": "Yellow Fever",
         "marker": {
          "color": "#ab63fa",
          "symbol": "circle"
         },
         "mode": "markers",
         "name": "Yellow Fever",
         "orientation": "v",
         "showlegend": true,
         "type": "scatter",
         "x": [
          2,
          3,
          4,
          5,
          6,
          7,
          8,
          9,
          10,
          1,
          40,
          49,
          12,
          63,
          29,
          19,
          52,
          34,
          60,
          35,
          11,
          26,
          31,
          41,
          30,
          36,
          20,
          57,
          59,
          42,
          25,
          32,
          22,
          48,
          38,
          21,
          65,
          14,
          16,
          24,
          33,
          58,
          68,
          37,
          61,
          45,
          53,
          39,
          62,
          67,
          51,
          69,
          44,
          46,
          17,
          23,
          15,
          47,
          55,
          13,
          43,
          64,
          54,
          56,
          66,
          50,
          18,
          27,
          28,
          70,
          71,
          72,
          73,
          74,
          75,
          76,
          77,
          78,
          0
         ],
         "xaxis": "x",
         "y": [
          764,
          726,
          668,
          622,
          570,
          554,
          501,
          484,
          454,
          440,
          394,
          391,
          390,
          384,
          382,
          380,
          378,
          376,
          375,
          375,
          372,
          372,
          370,
          369,
          368,
          367,
          365,
          365,
          364,
          362,
          361,
          361,
          360,
          360,
          358,
          358,
          357,
          357,
          357,
          354,
          353,
          352,
          352,
          352,
          352,
          351,
          350,
          349,
          347,
          347,
          346,
          345,
          344,
          344,
          342,
          341,
          341,
          341,
          341,
          339,
          339,
          338,
          336,
          335,
          335,
          334,
          332,
          329,
          325,
          303,
          279,
          247,
          237,
          170,
          148,
          103,
          95,
          38,
          11
         ],
         "yaxis": "y"
        },
        {
         "hovertemplate": "disease=Meningitis<br>age=%{x}<br>Number of Patients=%{y}<extra></extra>",
         "legendgroup": "Meningitis",
         "marker": {
          "color": "#FFA15A",
          "symbol": "circle"
         },
         "mode": "markers",
         "name": "Meningitis",
         "orientation": "v",
         "showlegend": true,
         "type": "scatter",
         "x": [
          2,
          3,
          4,
          5,
          6,
          7,
          8,
          9,
          1,
          10,
          11,
          31,
          66,
          44,
          12,
          46,
          20,
          38,
          18,
          32,
          37,
          63,
          14,
          36,
          69,
          57,
          40,
          48,
          33,
          22,
          21,
          26,
          65,
          16,
          30,
          51,
          60,
          61,
          43,
          59,
          55,
          56,
          52,
          58,
          54,
          41,
          15,
          49,
          29,
          45,
          23,
          34,
          68,
          35,
          42,
          25,
          24,
          17,
          19,
          47,
          53,
          13,
          39,
          64,
          27,
          62,
          28,
          67,
          50,
          70,
          71,
          72,
          73,
          74,
          75,
          76,
          77,
          78,
          0
         ],
         "xaxis": "x",
         "y": [
          755,
          677,
          642,
          635,
          598,
          541,
          513,
          497,
          455,
          428,
          426,
          399,
          389,
          386,
          374,
          373,
          373,
          371,
          370,
          369,
          369,
          368,
          367,
          366,
          366,
          365,
          365,
          365,
          364,
          364,
          364,
          363,
          363,
          363,
          362,
          362,
          361,
          359,
          359,
          359,
          358,
          358,
          358,
          357,
          357,
          356,
          356,
          354,
          353,
          353,
          353,
          352,
          351,
          349,
          348,
          348,
          346,
          342,
          341,
          341,
          338,
          338,
          337,
          334,
          334,
          330,
          327,
          308,
          308,
          302,
          273,
          226,
          200,
          177,
          137,
          117,
          68,
          27,
          5
         ],
         "yaxis": "y"
        },
        {
         "hovertemplate": "disease=Measles<br>age=%{x}<br>Number of Patients=%{y}<extra></extra>",
         "legendgroup": "Measles",
         "marker": {
          "color": "#19d3f3",
          "symbol": "circle"
         },
         "mode": "markers",
         "name": "Measles",
         "orientation": "v",
         "showlegend": true,
         "type": "scatter",
         "x": [
          2,
          3,
          4,
          5,
          6,
          8,
          7,
          1,
          10,
          9,
          11,
          59,
          37,
          58,
          25,
          64,
          31,
          65,
          14,
          12,
          52,
          19,
          46,
          44,
          40,
          49,
          21,
          36,
          23,
          50,
          29,
          24,
          51,
          45,
          17,
          27,
          38,
          35,
          55,
          68,
          34,
          22,
          57,
          63,
          18,
          15,
          54,
          26,
          60,
          33,
          20,
          28,
          41,
          13,
          69,
          53,
          66,
          39,
          16,
          70,
          43,
          67,
          62,
          48,
          42,
          30,
          47,
          32,
          56,
          61,
          71,
          72,
          73,
          74,
          75,
          76,
          77,
          78,
          0
         ],
         "xaxis": "x",
         "y": [
          752,
          669,
          638,
          613,
          578,
          519,
          519,
          451,
          435,
          433,
          405,
          393,
          390,
          387,
          386,
          385,
          384,
          380,
          380,
          380,
          379,
          376,
          375,
          375,
          374,
          373,
          371,
          370,
          369,
          368,
          366,
          365,
          365,
          365,
          363,
          362,
          361,
          361,
          359,
          358,
          358,
          357,
          357,
          356,
          355,
          355,
          354,
          354,
          354,
          352,
          351,
          351,
          351,
          349,
          349,
          349,
          345,
          345,
          345,
          341,
          341,
          340,
          337,
          337,
          337,
          334,
          333,
          326,
          326,
          322,
          286,
          265,
          199,
          178,
          144,
          83,
          82,
          37,
          4
         ],
         "yaxis": "y"
        },
        {
         "hovertemplate": "disease=Malaria<br>age=%{x}<br>Number of Patients=%{y}<extra></extra>",
         "legendgroup": "Malaria",
         "marker": {
          "color": "#FF6692",
          "symbol": "circle"
         },
         "mode": "markers",
         "name": "Malaria",
         "orientation": "v",
         "showlegend": true,
         "type": "scatter",
         "x": [
          2,
          3,
          5,
          4,
          6,
          7,
          9,
          8,
          11,
          10,
          1,
          25,
          18,
          17,
          30,
          27,
          50,
          22,
          49,
          31,
          67,
          26,
          47,
          60,
          36,
          42,
          46,
          34,
          16,
          39,
          23,
          68,
          29,
          61,
          37,
          69,
          64,
          65,
          48,
          28,
          53,
          12,
          54,
          19,
          40,
          15,
          33,
          62,
          44,
          14,
          43,
          13,
          66,
          58,
          41,
          55,
          21,
          51,
          45,
          63,
          38,
          59,
          20,
          52,
          35,
          32,
          57,
          56,
          24,
          70,
          71,
          72,
          73,
          74,
          75,
          76,
          77,
          78,
          0
         ],
         "xaxis": "x",
         "y": [
          747,
          698,
          653,
          623,
          560,
          526,
          489,
          482,
          428,
          421,
          414,
          408,
          391,
          388,
          385,
          380,
          379,
          378,
          378,
          376,
          374,
          373,
          373,
          372,
          372,
          371,
          371,
          370,
          370,
          369,
          369,
          367,
          366,
          365,
          365,
          364,
          364,
          363,
          362,
          361,
          360,
          358,
          358,
          358,
          357,
          355,
          355,
          351,
          351,
          350,
          350,
          350,
          349,
          348,
          348,
          347,
          346,
          344,
          343,
          342,
          341,
          340,
          339,
          338,
          337,
          336,
          333,
          329,
          323,
          320,
          285,
          249,
          233,
          175,
          143,
          116,
          65,
          41,
          7
         ],
         "yaxis": "y"
        },
        {
         "hovertemplate": "disease=Ebola<br>age=%{x}<br>Number of Patients=%{y}<extra></extra>",
         "legendgroup": "Ebola",
         "marker": {
          "color": "#B6E880",
          "symbol": "circle"
         },
         "mode": "markers",
         "name": "Ebola",
         "orientation": "v",
         "showlegend": true,
         "type": "scatter",
         "x": [
          2,
          4,
          3,
          5,
          7,
          6,
          8,
          9,
          11,
          10,
          37,
          1,
          32,
          25,
          34,
          60,
          23,
          62,
          19,
          66,
          24,
          67,
          43,
          61,
          45,
          21,
          15,
          17,
          35,
          63,
          49,
          41,
          13,
          28,
          26,
          33,
          16,
          48,
          64,
          14,
          52,
          39,
          50,
          20,
          12,
          27,
          55,
          29,
          65,
          22,
          59,
          54,
          58,
          51,
          57,
          56,
          40,
          36,
          47,
          68,
          18,
          31,
          46,
          38,
          53,
          44,
          70,
          69,
          42,
          30,
          71,
          72,
          73,
          74,
          75,
          76,
          77,
          78,
          0
         ],
         "xaxis": "x",
         "y": [
          738,
          674,
          661,
          621,
          548,
          523,
          522,
          485,
          436,
          424,
          420,
          410,
          403,
          401,
          396,
          395,
          386,
          375,
          374,
          374,
          371,
          371,
          369,
          369,
          369,
          368,
          367,
          367,
          365,
          364,
          362,
          362,
          362,
          361,
          361,
          360,
          357,
          356,
          356,
          355,
          351,
          350,
          349,
          349,
          347,
          347,
          347,
          346,
          344,
          340,
          339,
          339,
          336,
          335,
          335,
          332,
          331,
          329,
          329,
          328,
          328,
          327,
          323,
          323,
          323,
          320,
          318,
          318,
          316,
          307,
          297,
          247,
          231,
          179,
          151,
          116,
          78,
          25,
          11
         ],
         "yaxis": "y"
        },
        {
         "hovertemplate": "disease=Cholera<br>age=%{x}<br>Number of Patients=%{y}<extra></extra>",
         "legendgroup": "Cholera",
         "marker": {
          "color": "#FF97FF",
          "symbol": "circle"
         },
         "mode": "markers",
         "name": "Cholera",
         "orientation": "v",
         "showlegend": true,
         "type": "scatter",
         "x": [
          3,
          2,
          4,
          5,
          7,
          6,
          9,
          8,
          1,
          10,
          57,
          66,
          11,
          49,
          40,
          31,
          29,
          50,
          21,
          12,
          18,
          14,
          19,
          26,
          16,
          58,
          59,
          63,
          38,
          48,
          20,
          64,
          47,
          55,
          54,
          13,
          41,
          39,
          43,
          61,
          33,
          17,
          52,
          24,
          30,
          36,
          67,
          15,
          34,
          46,
          37,
          32,
          70,
          45,
          51,
          22,
          68,
          25,
          69,
          23,
          28,
          60,
          56,
          42,
          65,
          27,
          62,
          53,
          35,
          44,
          71,
          72,
          73,
          74,
          75,
          76,
          77,
          78,
          0
         ],
         "xaxis": "x",
         "y": [
          728,
          701,
          657,
          635,
          587,
          583,
          476,
          472,
          452,
          450,
          403,
          393,
          393,
          389,
          383,
          382,
          381,
          381,
          380,
          379,
          379,
          378,
          378,
          378,
          375,
          375,
          373,
          372,
          372,
          371,
          371,
          370,
          370,
          370,
          369,
          368,
          367,
          367,
          365,
          363,
          361,
          361,
          360,
          357,
          357,
          356,
          355,
          355,
          354,
          351,
          350,
          348,
          346,
          346,
          346,
          345,
          341,
          338,
          337,
          335,
          334,
          334,
          329,
          328,
          328,
          325,
          323,
          317,
          311,
          299,
          299,
          255,
          222,
          166,
          146,
          110,
          73,
          45,
          10
         ],
         "yaxis": "y"
        },
        {
         "hovertemplate": "disease=Rubella Mars<br>age=%{x}<br>Number of Patients=%{y}<extra></extra>",
         "legendgroup": "Rubella Mars",
         "marker": {
          "color": "#FECB52",
          "symbol": "circle"
         },
         "mode": "markers",
         "name": "Rubella Mars",
         "orientation": "v",
         "showlegend": true,
         "type": "scatter",
         "x": [
          2,
          4,
          3,
          5,
          6,
          7,
          8,
          9,
          10,
          20,
          1,
          11,
          39,
          40,
          57,
          14,
          19,
          34,
          36,
          31,
          63,
          13,
          23,
          42,
          46,
          47,
          25,
          48,
          18,
          35,
          52,
          26,
          17,
          64,
          54,
          15,
          50,
          24,
          30,
          59,
          27,
          12,
          60,
          55,
          56,
          58,
          61,
          22,
          33,
          38,
          16,
          32,
          21,
          49,
          53,
          65,
          69,
          62,
          68,
          45,
          66,
          51,
          41,
          70,
          28,
          43,
          29,
          67,
          37,
          71,
          44,
          72,
          73,
          74,
          75,
          76,
          77,
          78,
          0
         ],
         "xaxis": "x",
         "y": [
          718,
          688,
          678,
          632,
          609,
          589,
          532,
          462,
          445,
          425,
          412,
          393,
          390,
          389,
          386,
          381,
          380,
          380,
          378,
          375,
          372,
          372,
          371,
          370,
          369,
          369,
          366,
          365,
          365,
          364,
          363,
          363,
          363,
          363,
          362,
          362,
          361,
          360,
          360,
          359,
          359,
          359,
          358,
          358,
          357,
          356,
          356,
          356,
          355,
          351,
          350,
          350,
          347,
          346,
          346,
          345,
          343,
          343,
          342,
          341,
          341,
          339,
          333,
          332,
          332,
          329,
          329,
          323,
          322,
          311,
          308,
          244,
          208,
          160,
          147,
          104,
          69,
          39,
          10
         ],
         "yaxis": "y"
        }
       ],
       "layout": {
        "legend": {
         "title": {
          "text": "disease"
         },
         "tracegroupgap": 0
        },
        "margin": {
         "t": 60
        },
        "template": {
         "data": {
          "bar": [
           {
            "error_x": {
             "color": "#2a3f5f"
            },
            "error_y": {
             "color": "#2a3f5f"
            },
            "marker": {
             "line": {
              "color": "#E5ECF6",
              "width": 0.5
             }
            },
            "type": "bar"
           }
          ],
          "barpolar": [
           {
            "marker": {
             "line": {
              "color": "#E5ECF6",
              "width": 0.5
             }
            },
            "type": "barpolar"
           }
          ],
          "carpet": [
           {
            "aaxis": {
             "endlinecolor": "#2a3f5f",
             "gridcolor": "white",
             "linecolor": "white",
             "minorgridcolor": "white",
             "startlinecolor": "#2a3f5f"
            },
            "baxis": {
             "endlinecolor": "#2a3f5f",
             "gridcolor": "white",
             "linecolor": "white",
             "minorgridcolor": "white",
             "startlinecolor": "#2a3f5f"
            },
            "type": "carpet"
           }
          ],
          "choropleth": [
           {
            "colorbar": {
             "outlinewidth": 0,
             "ticks": ""
            },
            "type": "choropleth"
           }
          ],
          "contour": [
           {
            "colorbar": {
             "outlinewidth": 0,
             "ticks": ""
            },
            "colorscale": [
             [
              0,
              "#0d0887"
             ],
             [
              0.1111111111111111,
              "#46039f"
             ],
             [
              0.2222222222222222,
              "#7201a8"
             ],
             [
              0.3333333333333333,
              "#9c179e"
             ],
             [
              0.4444444444444444,
              "#bd3786"
             ],
             [
              0.5555555555555556,
              "#d8576b"
             ],
             [
              0.6666666666666666,
              "#ed7953"
             ],
             [
              0.7777777777777778,
              "#fb9f3a"
             ],
             [
              0.8888888888888888,
              "#fdca26"
             ],
             [
              1,
              "#f0f921"
             ]
            ],
            "type": "contour"
           }
          ],
          "contourcarpet": [
           {
            "colorbar": {
             "outlinewidth": 0,
             "ticks": ""
            },
            "type": "contourcarpet"
           }
          ],
          "heatmap": [
           {
            "colorbar": {
             "outlinewidth": 0,
             "ticks": ""
            },
            "colorscale": [
             [
              0,
              "#0d0887"
             ],
             [
              0.1111111111111111,
              "#46039f"
             ],
             [
              0.2222222222222222,
              "#7201a8"
             ],
             [
              0.3333333333333333,
              "#9c179e"
             ],
             [
              0.4444444444444444,
              "#bd3786"
             ],
             [
              0.5555555555555556,
              "#d8576b"
             ],
             [
              0.6666666666666666,
              "#ed7953"
             ],
             [
              0.7777777777777778,
              "#fb9f3a"
             ],
             [
              0.8888888888888888,
              "#fdca26"
             ],
             [
              1,
              "#f0f921"
             ]
            ],
            "type": "heatmap"
           }
          ],
          "heatmapgl": [
           {
            "colorbar": {
             "outlinewidth": 0,
             "ticks": ""
            },
            "colorscale": [
             [
              0,
              "#0d0887"
             ],
             [
              0.1111111111111111,
              "#46039f"
             ],
             [
              0.2222222222222222,
              "#7201a8"
             ],
             [
              0.3333333333333333,
              "#9c179e"
             ],
             [
              0.4444444444444444,
              "#bd3786"
             ],
             [
              0.5555555555555556,
              "#d8576b"
             ],
             [
              0.6666666666666666,
              "#ed7953"
             ],
             [
              0.7777777777777778,
              "#fb9f3a"
             ],
             [
              0.8888888888888888,
              "#fdca26"
             ],
             [
              1,
              "#f0f921"
             ]
            ],
            "type": "heatmapgl"
           }
          ],
          "histogram": [
           {
            "marker": {
             "colorbar": {
              "outlinewidth": 0,
              "ticks": ""
             }
            },
            "type": "histogram"
           }
          ],
          "histogram2d": [
           {
            "colorbar": {
             "outlinewidth": 0,
             "ticks": ""
            },
            "colorscale": [
             [
              0,
              "#0d0887"
             ],
             [
              0.1111111111111111,
              "#46039f"
             ],
             [
              0.2222222222222222,
              "#7201a8"
             ],
             [
              0.3333333333333333,
              "#9c179e"
             ],
             [
              0.4444444444444444,
              "#bd3786"
             ],
             [
              0.5555555555555556,
              "#d8576b"
             ],
             [
              0.6666666666666666,
              "#ed7953"
             ],
             [
              0.7777777777777778,
              "#fb9f3a"
             ],
             [
              0.8888888888888888,
              "#fdca26"
             ],
             [
              1,
              "#f0f921"
             ]
            ],
            "type": "histogram2d"
           }
          ],
          "histogram2dcontour": [
           {
            "colorbar": {
             "outlinewidth": 0,
             "ticks": ""
            },
            "colorscale": [
             [
              0,
              "#0d0887"
             ],
             [
              0.1111111111111111,
              "#46039f"
             ],
             [
              0.2222222222222222,
              "#7201a8"
             ],
             [
              0.3333333333333333,
              "#9c179e"
             ],
             [
              0.4444444444444444,
              "#bd3786"
             ],
             [
              0.5555555555555556,
              "#d8576b"
             ],
             [
              0.6666666666666666,
              "#ed7953"
             ],
             [
              0.7777777777777778,
              "#fb9f3a"
             ],
             [
              0.8888888888888888,
              "#fdca26"
             ],
             [
              1,
              "#f0f921"
             ]
            ],
            "type": "histogram2dcontour"
           }
          ],
          "mesh3d": [
           {
            "colorbar": {
             "outlinewidth": 0,
             "ticks": ""
            },
            "type": "mesh3d"
           }
          ],
          "parcoords": [
           {
            "line": {
             "colorbar": {
              "outlinewidth": 0,
              "ticks": ""
             }
            },
            "type": "parcoords"
           }
          ],
          "pie": [
           {
            "automargin": true,
            "type": "pie"
           }
          ],
          "scatter": [
           {
            "marker": {
             "colorbar": {
              "outlinewidth": 0,
              "ticks": ""
             }
            },
            "type": "scatter"
           }
          ],
          "scatter3d": [
           {
            "line": {
             "colorbar": {
              "outlinewidth": 0,
              "ticks": ""
             }
            },
            "marker": {
             "colorbar": {
              "outlinewidth": 0,
              "ticks": ""
             }
            },
            "type": "scatter3d"
           }
          ],
          "scattercarpet": [
           {
            "marker": {
             "colorbar": {
              "outlinewidth": 0,
              "ticks": ""
             }
            },
            "type": "scattercarpet"
           }
          ],
          "scattergeo": [
           {
            "marker": {
             "colorbar": {
              "outlinewidth": 0,
              "ticks": ""
             }
            },
            "type": "scattergeo"
           }
          ],
          "scattergl": [
           {
            "marker": {
             "colorbar": {
              "outlinewidth": 0,
              "ticks": ""
             }
            },
            "type": "scattergl"
           }
          ],
          "scattermapbox": [
           {
            "marker": {
             "colorbar": {
              "outlinewidth": 0,
              "ticks": ""
             }
            },
            "type": "scattermapbox"
           }
          ],
          "scatterpolar": [
           {
            "marker": {
             "colorbar": {
              "outlinewidth": 0,
              "ticks": ""
             }
            },
            "type": "scatterpolar"
           }
          ],
          "scatterpolargl": [
           {
            "marker": {
             "colorbar": {
              "outlinewidth": 0,
              "ticks": ""
             }
            },
            "type": "scatterpolargl"
           }
          ],
          "scatterternary": [
           {
            "marker": {
             "colorbar": {
              "outlinewidth": 0,
              "ticks": ""
             }
            },
            "type": "scatterternary"
           }
          ],
          "surface": [
           {
            "colorbar": {
             "outlinewidth": 0,
             "ticks": ""
            },
            "colorscale": [
             [
              0,
              "#0d0887"
             ],
             [
              0.1111111111111111,
              "#46039f"
             ],
             [
              0.2222222222222222,
              "#7201a8"
             ],
             [
              0.3333333333333333,
              "#9c179e"
             ],
             [
              0.4444444444444444,
              "#bd3786"
             ],
             [
              0.5555555555555556,
              "#d8576b"
             ],
             [
              0.6666666666666666,
              "#ed7953"
             ],
             [
              0.7777777777777778,
              "#fb9f3a"
             ],
             [
              0.8888888888888888,
              "#fdca26"
             ],
             [
              1,
              "#f0f921"
             ]
            ],
            "type": "surface"
           }
          ],
          "table": [
           {
            "cells": {
             "fill": {
              "color": "#EBF0F8"
             },
             "line": {
              "color": "white"
             }
            },
            "header": {
             "fill": {
              "color": "#C8D4E3"
             },
             "line": {
              "color": "white"
             }
            },
            "type": "table"
           }
          ]
         },
         "layout": {
          "annotationdefaults": {
           "arrowcolor": "#2a3f5f",
           "arrowhead": 0,
           "arrowwidth": 1
          },
          "autotypenumbers": "strict",
          "coloraxis": {
           "colorbar": {
            "outlinewidth": 0,
            "ticks": ""
           }
          },
          "colorscale": {
           "diverging": [
            [
             0,
             "#8e0152"
            ],
            [
             0.1,
             "#c51b7d"
            ],
            [
             0.2,
             "#de77ae"
            ],
            [
             0.3,
             "#f1b6da"
            ],
            [
             0.4,
             "#fde0ef"
            ],
            [
             0.5,
             "#f7f7f7"
            ],
            [
             0.6,
             "#e6f5d0"
            ],
            [
             0.7,
             "#b8e186"
            ],
            [
             0.8,
             "#7fbc41"
            ],
            [
             0.9,
             "#4d9221"
            ],
            [
             1,
             "#276419"
            ]
           ],
           "sequential": [
            [
             0,
             "#0d0887"
            ],
            [
             0.1111111111111111,
             "#46039f"
            ],
            [
             0.2222222222222222,
             "#7201a8"
            ],
            [
             0.3333333333333333,
             "#9c179e"
            ],
            [
             0.4444444444444444,
             "#bd3786"
            ],
            [
             0.5555555555555556,
             "#d8576b"
            ],
            [
             0.6666666666666666,
             "#ed7953"
            ],
            [
             0.7777777777777778,
             "#fb9f3a"
            ],
            [
             0.8888888888888888,
             "#fdca26"
            ],
            [
             1,
             "#f0f921"
            ]
           ],
           "sequentialminus": [
            [
             0,
             "#0d0887"
            ],
            [
             0.1111111111111111,
             "#46039f"
            ],
            [
             0.2222222222222222,
             "#7201a8"
            ],
            [
             0.3333333333333333,
             "#9c179e"
            ],
            [
             0.4444444444444444,
             "#bd3786"
            ],
            [
             0.5555555555555556,
             "#d8576b"
            ],
            [
             0.6666666666666666,
             "#ed7953"
            ],
            [
             0.7777777777777778,
             "#fb9f3a"
            ],
            [
             0.8888888888888888,
             "#fdca26"
            ],
            [
             1,
             "#f0f921"
            ]
           ]
          },
          "colorway": [
           "#636efa",
           "#EF553B",
           "#00cc96",
           "#ab63fa",
           "#FFA15A",
           "#19d3f3",
           "#FF6692",
           "#B6E880",
           "#FF97FF",
           "#FECB52"
          ],
          "font": {
           "color": "#2a3f5f"
          },
          "geo": {
           "bgcolor": "white",
           "lakecolor": "white",
           "landcolor": "#E5ECF6",
           "showlakes": true,
           "showland": true,
           "subunitcolor": "white"
          },
          "hoverlabel": {
           "align": "left"
          },
          "hovermode": "closest",
          "mapbox": {
           "style": "light"
          },
          "paper_bgcolor": "white",
          "plot_bgcolor": "#E5ECF6",
          "polar": {
           "angularaxis": {
            "gridcolor": "white",
            "linecolor": "white",
            "ticks": ""
           },
           "bgcolor": "#E5ECF6",
           "radialaxis": {
            "gridcolor": "white",
            "linecolor": "white",
            "ticks": ""
           }
          },
          "scene": {
           "xaxis": {
            "backgroundcolor": "#E5ECF6",
            "gridcolor": "white",
            "gridwidth": 2,
            "linecolor": "white",
            "showbackground": true,
            "ticks": "",
            "zerolinecolor": "white"
           },
           "yaxis": {
            "backgroundcolor": "#E5ECF6",
            "gridcolor": "white",
            "gridwidth": 2,
            "linecolor": "white",
            "showbackground": true,
            "ticks": "",
            "zerolinecolor": "white"
           },
           "zaxis": {
            "backgroundcolor": "#E5ECF6",
            "gridcolor": "white",
            "gridwidth": 2,
            "linecolor": "white",
            "showbackground": true,
            "ticks": "",
            "zerolinecolor": "white"
           }
          },
          "shapedefaults": {
           "line": {
            "color": "#2a3f5f"
           }
          },
          "ternary": {
           "aaxis": {
            "gridcolor": "white",
            "linecolor": "white",
            "ticks": ""
           },
           "baxis": {
            "gridcolor": "white",
            "linecolor": "white",
            "ticks": ""
           },
           "bgcolor": "#E5ECF6",
           "caxis": {
            "gridcolor": "white",
            "linecolor": "white",
            "ticks": ""
           }
          },
          "title": {
           "x": 0.05
          },
          "xaxis": {
           "automargin": true,
           "gridcolor": "white",
           "linecolor": "white",
           "ticks": "",
           "title": {
            "standoff": 15
           },
           "zerolinecolor": "white",
           "zerolinewidth": 2
          },
          "yaxis": {
           "automargin": true,
           "gridcolor": "white",
           "linecolor": "white",
           "ticks": "",
           "title": {
            "standoff": 15
           },
           "zerolinecolor": "white",
           "zerolinewidth": 2
          }
         }
        },
        "xaxis": {
         "anchor": "y",
         "domain": [
          0,
          1
         ],
         "title": {
          "text": "age"
         }
        },
        "yaxis": {
         "anchor": "x",
         "domain": [
          0,
          1
         ],
         "title": {
          "text": "Number of Patients"
         }
        }
       }
      },
      "text/html": [
       "<div>                            <div id=\"77cf3233-f998-4d0b-8159-107940480a1f\" class=\"plotly-graph-div\" style=\"height:525px; width:100%;\"></div>            <script type=\"text/javascript\">                require([\"plotly\"], function(Plotly) {                    window.PLOTLYENV=window.PLOTLYENV || {};                                    if (document.getElementById(\"77cf3233-f998-4d0b-8159-107940480a1f\")) {                    Plotly.newPlot(                        \"77cf3233-f998-4d0b-8159-107940480a1f\",                        [{\"hovertemplate\": \"disease=Viral Haemmorrhaphic Fever<br>age=%{x}<br>Number of Patients=%{y}<extra></extra>\", \"legendgroup\": \"Viral Haemmorrhaphic Fever\", \"marker\": {\"color\": \"#636efa\", \"symbol\": \"circle\"}, \"mode\": \"markers\", \"name\": \"Viral Haemmorrhaphic Fever\", \"orientation\": \"v\", \"showlegend\": true, \"type\": \"scatter\", \"x\": [2, 3, 4, 5, 7, 6, 9, 8, 10, 58, 29, 47, 15, 11, 33, 60, 56, 1, 36, 66, 14, 45, 50, 19, 12, 35, 53, 25, 41, 37, 48, 28, 34, 62, 13, 59, 65, 38, 32, 52, 46, 49, 16, 51, 21, 69, 44, 30, 40, 27, 43, 18, 17, 54, 24, 26, 61, 68, 23, 42, 55, 67, 20, 64, 63, 39, 57, 70, 22, 31, 71, 72, 73, 74, 75, 76, 77, 78, 0], \"xaxis\": \"x\", \"y\": [775, 690, 650, 643, 587, 559, 517, 500, 429, 416, 404, 398, 395, 390, 386, 384, 383, 382, 377, 376, 375, 375, 371, 371, 370, 368, 366, 365, 364, 363, 363, 362, 362, 359, 359, 358, 358, 358, 356, 356, 352, 352, 351, 350, 349, 348, 348, 348, 348, 348, 347, 346, 346, 345, 345, 344, 343, 342, 341, 340, 339, 337, 336, 335, 333, 331, 328, 323, 319, 317, 273, 236, 199, 172, 153, 100, 69, 34, 14], \"yaxis\": \"y\"}, {\"hovertemplate\": \"disease=Marburg Virus<br>age=%{x}<br>Number of Patients=%{y}<extra></extra>\", \"legendgroup\": \"Marburg Virus\", \"marker\": {\"color\": \"#EF553B\", \"symbol\": \"circle\"}, \"mode\": \"markers\", \"name\": \"Marburg Virus\", \"orientation\": \"v\", \"showlegend\": true, \"type\": \"scatter\", \"x\": [2, 4, 3, 5, 6, 7, 8, 9, 10, 1, 50, 42, 61, 11, 54, 18, 47, 52, 66, 17, 36, 33, 26, 28, 39, 38, 13, 12, 29, 62, 49, 65, 40, 32, 22, 67, 69, 34, 41, 24, 20, 64, 37, 43, 25, 53, 19, 55, 70, 35, 44, 57, 45, 15, 30, 48, 60, 16, 14, 51, 59, 21, 63, 27, 31, 68, 56, 58, 23, 71, 46, 72, 73, 74, 75, 76, 77, 78, 0], \"xaxis\": \"x\", \"y\": [775, 686, 669, 635, 579, 534, 532, 470, 468, 443, 391, 389, 387, 384, 382, 381, 377, 377, 375, 372, 371, 371, 371, 371, 370, 370, 370, 367, 366, 365, 362, 361, 358, 358, 357, 357, 357, 356, 356, 355, 353, 353, 352, 351, 350, 349, 349, 349, 347, 346, 346, 345, 345, 344, 342, 342, 341, 338, 338, 338, 338, 337, 332, 332, 331, 330, 327, 327, 326, 312, 308, 279, 209, 171, 162, 103, 75, 36, 2], \"yaxis\": \"y\"}, {\"hovertemplate\": \"disease=Diarrhoea<br>age=%{x}<br>Number of Patients=%{y}<extra></extra>\", \"legendgroup\": \"Diarrhoea\", \"marker\": {\"color\": \"#00cc96\", \"symbol\": \"circle\"}, \"mode\": \"markers\", \"name\": \"Diarrhoea\", \"orientation\": \"v\", \"showlegend\": true, \"type\": \"scatter\", \"x\": [2, 3, 4, 5, 6, 7, 8, 9, 10, 1, 11, 66, 21, 19, 43, 20, 12, 59, 49, 18, 26, 67, 17, 44, 53, 22, 41, 69, 60, 34, 47, 61, 65, 13, 32, 14, 16, 39, 15, 55, 50, 35, 25, 68, 30, 24, 36, 57, 46, 40, 48, 38, 42, 29, 51, 62, 70, 23, 64, 58, 52, 56, 63, 27, 54, 45, 37, 31, 33, 28, 71, 72, 73, 74, 75, 76, 77, 78, 0], \"xaxis\": \"x\", \"y\": [767, 739, 702, 657, 576, 536, 516, 476, 434, 417, 403, 396, 392, 386, 382, 379, 378, 376, 375, 375, 373, 372, 371, 370, 369, 368, 368, 368, 367, 365, 365, 364, 364, 363, 363, 360, 359, 358, 357, 357, 357, 355, 355, 354, 353, 353, 349, 348, 347, 345, 345, 344, 344, 343, 343, 342, 342, 340, 340, 339, 339, 334, 334, 333, 332, 331, 330, 329, 328, 325, 303, 278, 210, 182, 138, 105, 75, 40, 3], \"yaxis\": \"y\"}, {\"hovertemplate\": \"disease=Yellow Fever<br>age=%{x}<br>Number of Patients=%{y}<extra></extra>\", \"legendgroup\": \"Yellow Fever\", \"marker\": {\"color\": \"#ab63fa\", \"symbol\": \"circle\"}, \"mode\": \"markers\", \"name\": \"Yellow Fever\", \"orientation\": \"v\", \"showlegend\": true, \"type\": \"scatter\", \"x\": [2, 3, 4, 5, 6, 7, 8, 9, 10, 1, 40, 49, 12, 63, 29, 19, 52, 34, 60, 35, 11, 26, 31, 41, 30, 36, 20, 57, 59, 42, 25, 32, 22, 48, 38, 21, 65, 14, 16, 24, 33, 58, 68, 37, 61, 45, 53, 39, 62, 67, 51, 69, 44, 46, 17, 23, 15, 47, 55, 13, 43, 64, 54, 56, 66, 50, 18, 27, 28, 70, 71, 72, 73, 74, 75, 76, 77, 78, 0], \"xaxis\": \"x\", \"y\": [764, 726, 668, 622, 570, 554, 501, 484, 454, 440, 394, 391, 390, 384, 382, 380, 378, 376, 375, 375, 372, 372, 370, 369, 368, 367, 365, 365, 364, 362, 361, 361, 360, 360, 358, 358, 357, 357, 357, 354, 353, 352, 352, 352, 352, 351, 350, 349, 347, 347, 346, 345, 344, 344, 342, 341, 341, 341, 341, 339, 339, 338, 336, 335, 335, 334, 332, 329, 325, 303, 279, 247, 237, 170, 148, 103, 95, 38, 11], \"yaxis\": \"y\"}, {\"hovertemplate\": \"disease=Meningitis<br>age=%{x}<br>Number of Patients=%{y}<extra></extra>\", \"legendgroup\": \"Meningitis\", \"marker\": {\"color\": \"#FFA15A\", \"symbol\": \"circle\"}, \"mode\": \"markers\", \"name\": \"Meningitis\", \"orientation\": \"v\", \"showlegend\": true, \"type\": \"scatter\", \"x\": [2, 3, 4, 5, 6, 7, 8, 9, 1, 10, 11, 31, 66, 44, 12, 46, 20, 38, 18, 32, 37, 63, 14, 36, 69, 57, 40, 48, 33, 22, 21, 26, 65, 16, 30, 51, 60, 61, 43, 59, 55, 56, 52, 58, 54, 41, 15, 49, 29, 45, 23, 34, 68, 35, 42, 25, 24, 17, 19, 47, 53, 13, 39, 64, 27, 62, 28, 67, 50, 70, 71, 72, 73, 74, 75, 76, 77, 78, 0], \"xaxis\": \"x\", \"y\": [755, 677, 642, 635, 598, 541, 513, 497, 455, 428, 426, 399, 389, 386, 374, 373, 373, 371, 370, 369, 369, 368, 367, 366, 366, 365, 365, 365, 364, 364, 364, 363, 363, 363, 362, 362, 361, 359, 359, 359, 358, 358, 358, 357, 357, 356, 356, 354, 353, 353, 353, 352, 351, 349, 348, 348, 346, 342, 341, 341, 338, 338, 337, 334, 334, 330, 327, 308, 308, 302, 273, 226, 200, 177, 137, 117, 68, 27, 5], \"yaxis\": \"y\"}, {\"hovertemplate\": \"disease=Measles<br>age=%{x}<br>Number of Patients=%{y}<extra></extra>\", \"legendgroup\": \"Measles\", \"marker\": {\"color\": \"#19d3f3\", \"symbol\": \"circle\"}, \"mode\": \"markers\", \"name\": \"Measles\", \"orientation\": \"v\", \"showlegend\": true, \"type\": \"scatter\", \"x\": [2, 3, 4, 5, 6, 8, 7, 1, 10, 9, 11, 59, 37, 58, 25, 64, 31, 65, 14, 12, 52, 19, 46, 44, 40, 49, 21, 36, 23, 50, 29, 24, 51, 45, 17, 27, 38, 35, 55, 68, 34, 22, 57, 63, 18, 15, 54, 26, 60, 33, 20, 28, 41, 13, 69, 53, 66, 39, 16, 70, 43, 67, 62, 48, 42, 30, 47, 32, 56, 61, 71, 72, 73, 74, 75, 76, 77, 78, 0], \"xaxis\": \"x\", \"y\": [752, 669, 638, 613, 578, 519, 519, 451, 435, 433, 405, 393, 390, 387, 386, 385, 384, 380, 380, 380, 379, 376, 375, 375, 374, 373, 371, 370, 369, 368, 366, 365, 365, 365, 363, 362, 361, 361, 359, 358, 358, 357, 357, 356, 355, 355, 354, 354, 354, 352, 351, 351, 351, 349, 349, 349, 345, 345, 345, 341, 341, 340, 337, 337, 337, 334, 333, 326, 326, 322, 286, 265, 199, 178, 144, 83, 82, 37, 4], \"yaxis\": \"y\"}, {\"hovertemplate\": \"disease=Malaria<br>age=%{x}<br>Number of Patients=%{y}<extra></extra>\", \"legendgroup\": \"Malaria\", \"marker\": {\"color\": \"#FF6692\", \"symbol\": \"circle\"}, \"mode\": \"markers\", \"name\": \"Malaria\", \"orientation\": \"v\", \"showlegend\": true, \"type\": \"scatter\", \"x\": [2, 3, 5, 4, 6, 7, 9, 8, 11, 10, 1, 25, 18, 17, 30, 27, 50, 22, 49, 31, 67, 26, 47, 60, 36, 42, 46, 34, 16, 39, 23, 68, 29, 61, 37, 69, 64, 65, 48, 28, 53, 12, 54, 19, 40, 15, 33, 62, 44, 14, 43, 13, 66, 58, 41, 55, 21, 51, 45, 63, 38, 59, 20, 52, 35, 32, 57, 56, 24, 70, 71, 72, 73, 74, 75, 76, 77, 78, 0], \"xaxis\": \"x\", \"y\": [747, 698, 653, 623, 560, 526, 489, 482, 428, 421, 414, 408, 391, 388, 385, 380, 379, 378, 378, 376, 374, 373, 373, 372, 372, 371, 371, 370, 370, 369, 369, 367, 366, 365, 365, 364, 364, 363, 362, 361, 360, 358, 358, 358, 357, 355, 355, 351, 351, 350, 350, 350, 349, 348, 348, 347, 346, 344, 343, 342, 341, 340, 339, 338, 337, 336, 333, 329, 323, 320, 285, 249, 233, 175, 143, 116, 65, 41, 7], \"yaxis\": \"y\"}, {\"hovertemplate\": \"disease=Ebola<br>age=%{x}<br>Number of Patients=%{y}<extra></extra>\", \"legendgroup\": \"Ebola\", \"marker\": {\"color\": \"#B6E880\", \"symbol\": \"circle\"}, \"mode\": \"markers\", \"name\": \"Ebola\", \"orientation\": \"v\", \"showlegend\": true, \"type\": \"scatter\", \"x\": [2, 4, 3, 5, 7, 6, 8, 9, 11, 10, 37, 1, 32, 25, 34, 60, 23, 62, 19, 66, 24, 67, 43, 61, 45, 21, 15, 17, 35, 63, 49, 41, 13, 28, 26, 33, 16, 48, 64, 14, 52, 39, 50, 20, 12, 27, 55, 29, 65, 22, 59, 54, 58, 51, 57, 56, 40, 36, 47, 68, 18, 31, 46, 38, 53, 44, 70, 69, 42, 30, 71, 72, 73, 74, 75, 76, 77, 78, 0], \"xaxis\": \"x\", \"y\": [738, 674, 661, 621, 548, 523, 522, 485, 436, 424, 420, 410, 403, 401, 396, 395, 386, 375, 374, 374, 371, 371, 369, 369, 369, 368, 367, 367, 365, 364, 362, 362, 362, 361, 361, 360, 357, 356, 356, 355, 351, 350, 349, 349, 347, 347, 347, 346, 344, 340, 339, 339, 336, 335, 335, 332, 331, 329, 329, 328, 328, 327, 323, 323, 323, 320, 318, 318, 316, 307, 297, 247, 231, 179, 151, 116, 78, 25, 11], \"yaxis\": \"y\"}, {\"hovertemplate\": \"disease=Cholera<br>age=%{x}<br>Number of Patients=%{y}<extra></extra>\", \"legendgroup\": \"Cholera\", \"marker\": {\"color\": \"#FF97FF\", \"symbol\": \"circle\"}, \"mode\": \"markers\", \"name\": \"Cholera\", \"orientation\": \"v\", \"showlegend\": true, \"type\": \"scatter\", \"x\": [3, 2, 4, 5, 7, 6, 9, 8, 1, 10, 57, 66, 11, 49, 40, 31, 29, 50, 21, 12, 18, 14, 19, 26, 16, 58, 59, 63, 38, 48, 20, 64, 47, 55, 54, 13, 41, 39, 43, 61, 33, 17, 52, 24, 30, 36, 67, 15, 34, 46, 37, 32, 70, 45, 51, 22, 68, 25, 69, 23, 28, 60, 56, 42, 65, 27, 62, 53, 35, 44, 71, 72, 73, 74, 75, 76, 77, 78, 0], \"xaxis\": \"x\", \"y\": [728, 701, 657, 635, 587, 583, 476, 472, 452, 450, 403, 393, 393, 389, 383, 382, 381, 381, 380, 379, 379, 378, 378, 378, 375, 375, 373, 372, 372, 371, 371, 370, 370, 370, 369, 368, 367, 367, 365, 363, 361, 361, 360, 357, 357, 356, 355, 355, 354, 351, 350, 348, 346, 346, 346, 345, 341, 338, 337, 335, 334, 334, 329, 328, 328, 325, 323, 317, 311, 299, 299, 255, 222, 166, 146, 110, 73, 45, 10], \"yaxis\": \"y\"}, {\"hovertemplate\": \"disease=Rubella Mars<br>age=%{x}<br>Number of Patients=%{y}<extra></extra>\", \"legendgroup\": \"Rubella Mars\", \"marker\": {\"color\": \"#FECB52\", \"symbol\": \"circle\"}, \"mode\": \"markers\", \"name\": \"Rubella Mars\", \"orientation\": \"v\", \"showlegend\": true, \"type\": \"scatter\", \"x\": [2, 4, 3, 5, 6, 7, 8, 9, 10, 20, 1, 11, 39, 40, 57, 14, 19, 34, 36, 31, 63, 13, 23, 42, 46, 47, 25, 48, 18, 35, 52, 26, 17, 64, 54, 15, 50, 24, 30, 59, 27, 12, 60, 55, 56, 58, 61, 22, 33, 38, 16, 32, 21, 49, 53, 65, 69, 62, 68, 45, 66, 51, 41, 70, 28, 43, 29, 67, 37, 71, 44, 72, 73, 74, 75, 76, 77, 78, 0], \"xaxis\": \"x\", \"y\": [718, 688, 678, 632, 609, 589, 532, 462, 445, 425, 412, 393, 390, 389, 386, 381, 380, 380, 378, 375, 372, 372, 371, 370, 369, 369, 366, 365, 365, 364, 363, 363, 363, 363, 362, 362, 361, 360, 360, 359, 359, 359, 358, 358, 357, 356, 356, 356, 355, 351, 350, 350, 347, 346, 346, 345, 343, 343, 342, 341, 341, 339, 333, 332, 332, 329, 329, 323, 322, 311, 308, 244, 208, 160, 147, 104, 69, 39, 10], \"yaxis\": \"y\"}],                        {\"legend\": {\"title\": {\"text\": \"disease\"}, \"tracegroupgap\": 0}, \"margin\": {\"t\": 60}, \"template\": {\"data\": {\"bar\": [{\"error_x\": {\"color\": \"#2a3f5f\"}, \"error_y\": {\"color\": \"#2a3f5f\"}, \"marker\": {\"line\": {\"color\": \"#E5ECF6\", \"width\": 0.5}}, \"type\": \"bar\"}], \"barpolar\": [{\"marker\": {\"line\": {\"color\": \"#E5ECF6\", \"width\": 0.5}}, \"type\": \"barpolar\"}], \"carpet\": [{\"aaxis\": {\"endlinecolor\": \"#2a3f5f\", \"gridcolor\": \"white\", \"linecolor\": \"white\", \"minorgridcolor\": \"white\", \"startlinecolor\": \"#2a3f5f\"}, \"baxis\": {\"endlinecolor\": \"#2a3f5f\", \"gridcolor\": \"white\", \"linecolor\": \"white\", \"minorgridcolor\": \"white\", \"startlinecolor\": \"#2a3f5f\"}, \"type\": \"carpet\"}], \"choropleth\": [{\"colorbar\": {\"outlinewidth\": 0, \"ticks\": \"\"}, \"type\": \"choropleth\"}], \"contour\": [{\"colorbar\": {\"outlinewidth\": 0, \"ticks\": \"\"}, \"colorscale\": [[0.0, \"#0d0887\"], [0.1111111111111111, \"#46039f\"], [0.2222222222222222, \"#7201a8\"], [0.3333333333333333, \"#9c179e\"], [0.4444444444444444, \"#bd3786\"], [0.5555555555555556, \"#d8576b\"], [0.6666666666666666, \"#ed7953\"], [0.7777777777777778, \"#fb9f3a\"], [0.8888888888888888, \"#fdca26\"], [1.0, \"#f0f921\"]], \"type\": \"contour\"}], \"contourcarpet\": [{\"colorbar\": {\"outlinewidth\": 0, \"ticks\": \"\"}, \"type\": \"contourcarpet\"}], \"heatmap\": [{\"colorbar\": {\"outlinewidth\": 0, \"ticks\": \"\"}, \"colorscale\": [[0.0, \"#0d0887\"], [0.1111111111111111, \"#46039f\"], [0.2222222222222222, \"#7201a8\"], [0.3333333333333333, \"#9c179e\"], [0.4444444444444444, \"#bd3786\"], [0.5555555555555556, \"#d8576b\"], [0.6666666666666666, \"#ed7953\"], [0.7777777777777778, \"#fb9f3a\"], [0.8888888888888888, \"#fdca26\"], [1.0, \"#f0f921\"]], \"type\": \"heatmap\"}], \"heatmapgl\": [{\"colorbar\": {\"outlinewidth\": 0, \"ticks\": \"\"}, \"colorscale\": [[0.0, \"#0d0887\"], [0.1111111111111111, \"#46039f\"], [0.2222222222222222, \"#7201a8\"], [0.3333333333333333, \"#9c179e\"], [0.4444444444444444, \"#bd3786\"], [0.5555555555555556, \"#d8576b\"], [0.6666666666666666, \"#ed7953\"], [0.7777777777777778, \"#fb9f3a\"], [0.8888888888888888, \"#fdca26\"], [1.0, \"#f0f921\"]], \"type\": \"heatmapgl\"}], \"histogram\": [{\"marker\": {\"colorbar\": {\"outlinewidth\": 0, \"ticks\": \"\"}}, \"type\": \"histogram\"}], \"histogram2d\": [{\"colorbar\": {\"outlinewidth\": 0, \"ticks\": \"\"}, \"colorscale\": [[0.0, \"#0d0887\"], [0.1111111111111111, \"#46039f\"], [0.2222222222222222, \"#7201a8\"], [0.3333333333333333, \"#9c179e\"], [0.4444444444444444, \"#bd3786\"], [0.5555555555555556, \"#d8576b\"], [0.6666666666666666, \"#ed7953\"], [0.7777777777777778, \"#fb9f3a\"], [0.8888888888888888, \"#fdca26\"], [1.0, \"#f0f921\"]], \"type\": \"histogram2d\"}], \"histogram2dcontour\": [{\"colorbar\": {\"outlinewidth\": 0, \"ticks\": \"\"}, \"colorscale\": [[0.0, \"#0d0887\"], [0.1111111111111111, \"#46039f\"], [0.2222222222222222, \"#7201a8\"], [0.3333333333333333, \"#9c179e\"], [0.4444444444444444, \"#bd3786\"], [0.5555555555555556, \"#d8576b\"], [0.6666666666666666, \"#ed7953\"], [0.7777777777777778, \"#fb9f3a\"], [0.8888888888888888, \"#fdca26\"], [1.0, \"#f0f921\"]], \"type\": \"histogram2dcontour\"}], \"mesh3d\": [{\"colorbar\": {\"outlinewidth\": 0, \"ticks\": \"\"}, \"type\": \"mesh3d\"}], \"parcoords\": [{\"line\": {\"colorbar\": {\"outlinewidth\": 0, \"ticks\": \"\"}}, \"type\": \"parcoords\"}], \"pie\": [{\"automargin\": true, \"type\": \"pie\"}], \"scatter\": [{\"marker\": {\"colorbar\": {\"outlinewidth\": 0, \"ticks\": \"\"}}, \"type\": \"scatter\"}], \"scatter3d\": [{\"line\": {\"colorbar\": {\"outlinewidth\": 0, \"ticks\": \"\"}}, \"marker\": {\"colorbar\": {\"outlinewidth\": 0, \"ticks\": \"\"}}, \"type\": \"scatter3d\"}], \"scattercarpet\": [{\"marker\": {\"colorbar\": {\"outlinewidth\": 0, \"ticks\": \"\"}}, \"type\": \"scattercarpet\"}], \"scattergeo\": [{\"marker\": {\"colorbar\": {\"outlinewidth\": 0, \"ticks\": \"\"}}, \"type\": \"scattergeo\"}], \"scattergl\": [{\"marker\": {\"colorbar\": {\"outlinewidth\": 0, \"ticks\": \"\"}}, \"type\": \"scattergl\"}], \"scattermapbox\": [{\"marker\": {\"colorbar\": {\"outlinewidth\": 0, \"ticks\": \"\"}}, \"type\": \"scattermapbox\"}], \"scatterpolar\": [{\"marker\": {\"colorbar\": {\"outlinewidth\": 0, \"ticks\": \"\"}}, \"type\": \"scatterpolar\"}], \"scatterpolargl\": [{\"marker\": {\"colorbar\": {\"outlinewidth\": 0, \"ticks\": \"\"}}, \"type\": \"scatterpolargl\"}], \"scatterternary\": [{\"marker\": {\"colorbar\": {\"outlinewidth\": 0, \"ticks\": \"\"}}, \"type\": \"scatterternary\"}], \"surface\": [{\"colorbar\": {\"outlinewidth\": 0, \"ticks\": \"\"}, \"colorscale\": [[0.0, \"#0d0887\"], [0.1111111111111111, \"#46039f\"], [0.2222222222222222, \"#7201a8\"], [0.3333333333333333, \"#9c179e\"], [0.4444444444444444, \"#bd3786\"], [0.5555555555555556, \"#d8576b\"], [0.6666666666666666, \"#ed7953\"], [0.7777777777777778, \"#fb9f3a\"], [0.8888888888888888, \"#fdca26\"], [1.0, \"#f0f921\"]], \"type\": \"surface\"}], \"table\": [{\"cells\": {\"fill\": {\"color\": \"#EBF0F8\"}, \"line\": {\"color\": \"white\"}}, \"header\": {\"fill\": {\"color\": \"#C8D4E3\"}, \"line\": {\"color\": \"white\"}}, \"type\": \"table\"}]}, \"layout\": {\"annotationdefaults\": {\"arrowcolor\": \"#2a3f5f\", \"arrowhead\": 0, \"arrowwidth\": 1}, \"autotypenumbers\": \"strict\", \"coloraxis\": {\"colorbar\": {\"outlinewidth\": 0, \"ticks\": \"\"}}, \"colorscale\": {\"diverging\": [[0, \"#8e0152\"], [0.1, \"#c51b7d\"], [0.2, \"#de77ae\"], [0.3, \"#f1b6da\"], [0.4, \"#fde0ef\"], [0.5, \"#f7f7f7\"], [0.6, \"#e6f5d0\"], [0.7, \"#b8e186\"], [0.8, \"#7fbc41\"], [0.9, \"#4d9221\"], [1, \"#276419\"]], \"sequential\": [[0.0, \"#0d0887\"], [0.1111111111111111, \"#46039f\"], [0.2222222222222222, \"#7201a8\"], [0.3333333333333333, \"#9c179e\"], [0.4444444444444444, \"#bd3786\"], [0.5555555555555556, \"#d8576b\"], [0.6666666666666666, \"#ed7953\"], [0.7777777777777778, \"#fb9f3a\"], [0.8888888888888888, \"#fdca26\"], [1.0, \"#f0f921\"]], \"sequentialminus\": [[0.0, \"#0d0887\"], [0.1111111111111111, \"#46039f\"], [0.2222222222222222, \"#7201a8\"], [0.3333333333333333, \"#9c179e\"], [0.4444444444444444, \"#bd3786\"], [0.5555555555555556, \"#d8576b\"], [0.6666666666666666, \"#ed7953\"], [0.7777777777777778, \"#fb9f3a\"], [0.8888888888888888, \"#fdca26\"], [1.0, \"#f0f921\"]]}, \"colorway\": [\"#636efa\", \"#EF553B\", \"#00cc96\", \"#ab63fa\", \"#FFA15A\", \"#19d3f3\", \"#FF6692\", \"#B6E880\", \"#FF97FF\", \"#FECB52\"], \"font\": {\"color\": \"#2a3f5f\"}, \"geo\": {\"bgcolor\": \"white\", \"lakecolor\": \"white\", \"landcolor\": \"#E5ECF6\", \"showlakes\": true, \"showland\": true, \"subunitcolor\": \"white\"}, \"hoverlabel\": {\"align\": \"left\"}, \"hovermode\": \"closest\", \"mapbox\": {\"style\": \"light\"}, \"paper_bgcolor\": \"white\", \"plot_bgcolor\": \"#E5ECF6\", \"polar\": {\"angularaxis\": {\"gridcolor\": \"white\", \"linecolor\": \"white\", \"ticks\": \"\"}, \"bgcolor\": \"#E5ECF6\", \"radialaxis\": {\"gridcolor\": \"white\", \"linecolor\": \"white\", \"ticks\": \"\"}}, \"scene\": {\"xaxis\": {\"backgroundcolor\": \"#E5ECF6\", \"gridcolor\": \"white\", \"gridwidth\": 2, \"linecolor\": \"white\", \"showbackground\": true, \"ticks\": \"\", \"zerolinecolor\": \"white\"}, \"yaxis\": {\"backgroundcolor\": \"#E5ECF6\", \"gridcolor\": \"white\", \"gridwidth\": 2, \"linecolor\": \"white\", \"showbackground\": true, \"ticks\": \"\", \"zerolinecolor\": \"white\"}, \"zaxis\": {\"backgroundcolor\": \"#E5ECF6\", \"gridcolor\": \"white\", \"gridwidth\": 2, \"linecolor\": \"white\", \"showbackground\": true, \"ticks\": \"\", \"zerolinecolor\": \"white\"}}, \"shapedefaults\": {\"line\": {\"color\": \"#2a3f5f\"}}, \"ternary\": {\"aaxis\": {\"gridcolor\": \"white\", \"linecolor\": \"white\", \"ticks\": \"\"}, \"baxis\": {\"gridcolor\": \"white\", \"linecolor\": \"white\", \"ticks\": \"\"}, \"bgcolor\": \"#E5ECF6\", \"caxis\": {\"gridcolor\": \"white\", \"linecolor\": \"white\", \"ticks\": \"\"}}, \"title\": {\"x\": 0.05}, \"xaxis\": {\"automargin\": true, \"gridcolor\": \"white\", \"linecolor\": \"white\", \"ticks\": \"\", \"title\": {\"standoff\": 15}, \"zerolinecolor\": \"white\", \"zerolinewidth\": 2}, \"yaxis\": {\"automargin\": true, \"gridcolor\": \"white\", \"linecolor\": \"white\", \"ticks\": \"\", \"title\": {\"standoff\": 15}, \"zerolinecolor\": \"white\", \"zerolinewidth\": 2}}}, \"xaxis\": {\"anchor\": \"y\", \"domain\": [0.0, 1.0], \"title\": {\"text\": \"age\"}}, \"yaxis\": {\"anchor\": \"x\", \"domain\": [0.0, 1.0], \"title\": {\"text\": \"Number of Patients\"}}},                        {\"responsive\": true}                    ).then(function(){\n",
       "                            \n",
       "var gd = document.getElementById('77cf3233-f998-4d0b-8159-107940480a1f');\n",
       "var x = new MutationObserver(function (mutations, observer) {{\n",
       "        var display = window.getComputedStyle(gd).display;\n",
       "        if (!display || display === 'none') {{\n",
       "            console.log([gd, 'removed!']);\n",
       "            Plotly.purge(gd);\n",
       "            observer.disconnect();\n",
       "        }}\n",
       "}});\n",
       "\n",
       "// Listen for the removal of the full notebook cells\n",
       "var notebookContainer = gd.closest('#notebook-container');\n",
       "if (notebookContainer) {{\n",
       "    x.observe(notebookContainer, {childList: true});\n",
       "}}\n",
       "\n",
       "// Listen for the clearing of the current output cell\n",
       "var outputEl = gd.closest('.output');\n",
       "if (outputEl) {{\n",
       "    x.observe(outputEl, {childList: true});\n",
       "}}\n",
       "\n",
       "                        })                };                });            </script>        </div>"
      ]
     },
     "metadata": {},
     "output_type": "display_data"
    }
   ],
   "source": [
    "px.scatter(data_age2, x= 'age', y='Number of Patients' , color='disease' )"
   ]
  },
  {
   "cell_type": "code",
   "execution_count": 20,
   "id": "textile-blank",
   "metadata": {
    "execution": {
     "iopub.execute_input": "2021-07-06T10:17:43.512257Z",
     "iopub.status.busy": "2021-07-06T10:17:43.511489Z",
     "iopub.status.idle": "2021-07-06T10:17:43.583765Z",
     "shell.execute_reply": "2021-07-06T10:17:43.583200Z",
     "shell.execute_reply.started": "2021-07-06T10:10:32.607777Z"
    },
    "papermill": {
     "duration": 0.206213,
     "end_time": "2021-07-06T10:17:43.583943",
     "exception": false,
     "start_time": "2021-07-06T10:17:43.377730",
     "status": "completed"
    },
    "tags": []
   },
   "outputs": [
    {
     "data": {
      "text/html": [
       "<div>\n",
       "<style scoped>\n",
       "    .dataframe tbody tr th:only-of-type {\n",
       "        vertical-align: middle;\n",
       "    }\n",
       "\n",
       "    .dataframe tbody tr th {\n",
       "        vertical-align: top;\n",
       "    }\n",
       "\n",
       "    .dataframe thead th {\n",
       "        text-align: right;\n",
       "    }\n",
       "</style>\n",
       "<table border=\"1\" class=\"dataframe\">\n",
       "  <thead>\n",
       "    <tr style=\"text-align: right;\">\n",
       "      <th></th>\n",
       "      <th>serotype</th>\n",
       "      <th>disease</th>\n",
       "      <th>Number of Patients</th>\n",
       "    </tr>\n",
       "  </thead>\n",
       "  <tbody>\n",
       "    <tr>\n",
       "      <th>2</th>\n",
       "      <td>Neisseria meningitidis group W (NmW)</td>\n",
       "      <td>Meningitis</td>\n",
       "      <td>14194</td>\n",
       "    </tr>\n",
       "    <tr>\n",
       "      <th>1</th>\n",
       "      <td>Neisseria meningitidis group C (NmC)</td>\n",
       "      <td>Meningitis</td>\n",
       "      <td>7130</td>\n",
       "    </tr>\n",
       "    <tr>\n",
       "      <th>0</th>\n",
       "      <td>Neisseria meningitidis group A (NmA)</td>\n",
       "      <td>Meningitis</td>\n",
       "      <td>7038</td>\n",
       "    </tr>\n",
       "  </tbody>\n",
       "</table>\n",
       "</div>"
      ],
      "text/plain": [
       "                               serotype     disease  Number of Patients\n",
       "2  Neisseria meningitidis group W (NmW)  Meningitis               14194\n",
       "1  Neisseria meningitidis group C (NmC)  Meningitis                7130\n",
       "0  Neisseria meningitidis group A (NmA)  Meningitis                7038"
      ]
     },
     "execution_count": 20,
     "metadata": {},
     "output_type": "execute_result"
    }
   ],
   "source": [
    "data_serotype= data.groupby(['serotype', 'disease' ])['id'].count().reset_index(name='Number of Patients').sort_values(by= 'Number of Patients', ascending= False)\n",
    "data_serotype"
   ]
  },
  {
   "cell_type": "code",
   "execution_count": 21,
   "id": "radical-short",
   "metadata": {
    "execution": {
     "iopub.execute_input": "2021-07-06T10:17:43.906721Z",
     "iopub.status.busy": "2021-07-06T10:17:43.901433Z",
     "iopub.status.idle": "2021-07-06T10:17:43.925710Z",
     "shell.execute_reply": "2021-07-06T10:17:43.924936Z",
     "shell.execute_reply.started": "2021-07-06T10:10:32.684605Z"
    },
    "papermill": {
     "duration": 0.208346,
     "end_time": "2021-07-06T10:17:43.925889",
     "exception": false,
     "start_time": "2021-07-06T10:17:43.717543",
     "status": "completed"
    },
    "tags": []
   },
   "outputs": [
    {
     "data": {
      "application/vnd.plotly.v1+json": {
       "config": {
        "plotlyServerURL": "https://plot.ly"
       },
       "data": [
        {
         "alignmentgroup": "True",
         "hovertemplate": "disease=Meningitis<br>serotype=%{x}<br>Number of Patients=%{y}<extra></extra>",
         "legendgroup": "Meningitis",
         "marker": {
          "color": "#636efa"
         },
         "name": "Meningitis",
         "offsetgroup": "Meningitis",
         "orientation": "v",
         "showlegend": true,
         "textposition": "auto",
         "type": "bar",
         "x": [
          "Neisseria meningitidis group W (NmW)",
          "Neisseria meningitidis group C (NmC)",
          "Neisseria meningitidis group A (NmA)"
         ],
         "xaxis": "x",
         "y": [
          14194,
          7130,
          7038
         ],
         "yaxis": "y"
        }
       ],
       "layout": {
        "barmode": "relative",
        "legend": {
         "title": {
          "text": "disease"
         },
         "tracegroupgap": 0
        },
        "margin": {
         "t": 60
        },
        "template": {
         "data": {
          "bar": [
           {
            "error_x": {
             "color": "#2a3f5f"
            },
            "error_y": {
             "color": "#2a3f5f"
            },
            "marker": {
             "line": {
              "color": "#E5ECF6",
              "width": 0.5
             }
            },
            "type": "bar"
           }
          ],
          "barpolar": [
           {
            "marker": {
             "line": {
              "color": "#E5ECF6",
              "width": 0.5
             }
            },
            "type": "barpolar"
           }
          ],
          "carpet": [
           {
            "aaxis": {
             "endlinecolor": "#2a3f5f",
             "gridcolor": "white",
             "linecolor": "white",
             "minorgridcolor": "white",
             "startlinecolor": "#2a3f5f"
            },
            "baxis": {
             "endlinecolor": "#2a3f5f",
             "gridcolor": "white",
             "linecolor": "white",
             "minorgridcolor": "white",
             "startlinecolor": "#2a3f5f"
            },
            "type": "carpet"
           }
          ],
          "choropleth": [
           {
            "colorbar": {
             "outlinewidth": 0,
             "ticks": ""
            },
            "type": "choropleth"
           }
          ],
          "contour": [
           {
            "colorbar": {
             "outlinewidth": 0,
             "ticks": ""
            },
            "colorscale": [
             [
              0,
              "#0d0887"
             ],
             [
              0.1111111111111111,
              "#46039f"
             ],
             [
              0.2222222222222222,
              "#7201a8"
             ],
             [
              0.3333333333333333,
              "#9c179e"
             ],
             [
              0.4444444444444444,
              "#bd3786"
             ],
             [
              0.5555555555555556,
              "#d8576b"
             ],
             [
              0.6666666666666666,
              "#ed7953"
             ],
             [
              0.7777777777777778,
              "#fb9f3a"
             ],
             [
              0.8888888888888888,
              "#fdca26"
             ],
             [
              1,
              "#f0f921"
             ]
            ],
            "type": "contour"
           }
          ],
          "contourcarpet": [
           {
            "colorbar": {
             "outlinewidth": 0,
             "ticks": ""
            },
            "type": "contourcarpet"
           }
          ],
          "heatmap": [
           {
            "colorbar": {
             "outlinewidth": 0,
             "ticks": ""
            },
            "colorscale": [
             [
              0,
              "#0d0887"
             ],
             [
              0.1111111111111111,
              "#46039f"
             ],
             [
              0.2222222222222222,
              "#7201a8"
             ],
             [
              0.3333333333333333,
              "#9c179e"
             ],
             [
              0.4444444444444444,
              "#bd3786"
             ],
             [
              0.5555555555555556,
              "#d8576b"
             ],
             [
              0.6666666666666666,
              "#ed7953"
             ],
             [
              0.7777777777777778,
              "#fb9f3a"
             ],
             [
              0.8888888888888888,
              "#fdca26"
             ],
             [
              1,
              "#f0f921"
             ]
            ],
            "type": "heatmap"
           }
          ],
          "heatmapgl": [
           {
            "colorbar": {
             "outlinewidth": 0,
             "ticks": ""
            },
            "colorscale": [
             [
              0,
              "#0d0887"
             ],
             [
              0.1111111111111111,
              "#46039f"
             ],
             [
              0.2222222222222222,
              "#7201a8"
             ],
             [
              0.3333333333333333,
              "#9c179e"
             ],
             [
              0.4444444444444444,
              "#bd3786"
             ],
             [
              0.5555555555555556,
              "#d8576b"
             ],
             [
              0.6666666666666666,
              "#ed7953"
             ],
             [
              0.7777777777777778,
              "#fb9f3a"
             ],
             [
              0.8888888888888888,
              "#fdca26"
             ],
             [
              1,
              "#f0f921"
             ]
            ],
            "type": "heatmapgl"
           }
          ],
          "histogram": [
           {
            "marker": {
             "colorbar": {
              "outlinewidth": 0,
              "ticks": ""
             }
            },
            "type": "histogram"
           }
          ],
          "histogram2d": [
           {
            "colorbar": {
             "outlinewidth": 0,
             "ticks": ""
            },
            "colorscale": [
             [
              0,
              "#0d0887"
             ],
             [
              0.1111111111111111,
              "#46039f"
             ],
             [
              0.2222222222222222,
              "#7201a8"
             ],
             [
              0.3333333333333333,
              "#9c179e"
             ],
             [
              0.4444444444444444,
              "#bd3786"
             ],
             [
              0.5555555555555556,
              "#d8576b"
             ],
             [
              0.6666666666666666,
              "#ed7953"
             ],
             [
              0.7777777777777778,
              "#fb9f3a"
             ],
             [
              0.8888888888888888,
              "#fdca26"
             ],
             [
              1,
              "#f0f921"
             ]
            ],
            "type": "histogram2d"
           }
          ],
          "histogram2dcontour": [
           {
            "colorbar": {
             "outlinewidth": 0,
             "ticks": ""
            },
            "colorscale": [
             [
              0,
              "#0d0887"
             ],
             [
              0.1111111111111111,
              "#46039f"
             ],
             [
              0.2222222222222222,
              "#7201a8"
             ],
             [
              0.3333333333333333,
              "#9c179e"
             ],
             [
              0.4444444444444444,
              "#bd3786"
             ],
             [
              0.5555555555555556,
              "#d8576b"
             ],
             [
              0.6666666666666666,
              "#ed7953"
             ],
             [
              0.7777777777777778,
              "#fb9f3a"
             ],
             [
              0.8888888888888888,
              "#fdca26"
             ],
             [
              1,
              "#f0f921"
             ]
            ],
            "type": "histogram2dcontour"
           }
          ],
          "mesh3d": [
           {
            "colorbar": {
             "outlinewidth": 0,
             "ticks": ""
            },
            "type": "mesh3d"
           }
          ],
          "parcoords": [
           {
            "line": {
             "colorbar": {
              "outlinewidth": 0,
              "ticks": ""
             }
            },
            "type": "parcoords"
           }
          ],
          "pie": [
           {
            "automargin": true,
            "type": "pie"
           }
          ],
          "scatter": [
           {
            "marker": {
             "colorbar": {
              "outlinewidth": 0,
              "ticks": ""
             }
            },
            "type": "scatter"
           }
          ],
          "scatter3d": [
           {
            "line": {
             "colorbar": {
              "outlinewidth": 0,
              "ticks": ""
             }
            },
            "marker": {
             "colorbar": {
              "outlinewidth": 0,
              "ticks": ""
             }
            },
            "type": "scatter3d"
           }
          ],
          "scattercarpet": [
           {
            "marker": {
             "colorbar": {
              "outlinewidth": 0,
              "ticks": ""
             }
            },
            "type": "scattercarpet"
           }
          ],
          "scattergeo": [
           {
            "marker": {
             "colorbar": {
              "outlinewidth": 0,
              "ticks": ""
             }
            },
            "type": "scattergeo"
           }
          ],
          "scattergl": [
           {
            "marker": {
             "colorbar": {
              "outlinewidth": 0,
              "ticks": ""
             }
            },
            "type": "scattergl"
           }
          ],
          "scattermapbox": [
           {
            "marker": {
             "colorbar": {
              "outlinewidth": 0,
              "ticks": ""
             }
            },
            "type": "scattermapbox"
           }
          ],
          "scatterpolar": [
           {
            "marker": {
             "colorbar": {
              "outlinewidth": 0,
              "ticks": ""
             }
            },
            "type": "scatterpolar"
           }
          ],
          "scatterpolargl": [
           {
            "marker": {
             "colorbar": {
              "outlinewidth": 0,
              "ticks": ""
             }
            },
            "type": "scatterpolargl"
           }
          ],
          "scatterternary": [
           {
            "marker": {
             "colorbar": {
              "outlinewidth": 0,
              "ticks": ""
             }
            },
            "type": "scatterternary"
           }
          ],
          "surface": [
           {
            "colorbar": {
             "outlinewidth": 0,
             "ticks": ""
            },
            "colorscale": [
             [
              0,
              "#0d0887"
             ],
             [
              0.1111111111111111,
              "#46039f"
             ],
             [
              0.2222222222222222,
              "#7201a8"
             ],
             [
              0.3333333333333333,
              "#9c179e"
             ],
             [
              0.4444444444444444,
              "#bd3786"
             ],
             [
              0.5555555555555556,
              "#d8576b"
             ],
             [
              0.6666666666666666,
              "#ed7953"
             ],
             [
              0.7777777777777778,
              "#fb9f3a"
             ],
             [
              0.8888888888888888,
              "#fdca26"
             ],
             [
              1,
              "#f0f921"
             ]
            ],
            "type": "surface"
           }
          ],
          "table": [
           {
            "cells": {
             "fill": {
              "color": "#EBF0F8"
             },
             "line": {
              "color": "white"
             }
            },
            "header": {
             "fill": {
              "color": "#C8D4E3"
             },
             "line": {
              "color": "white"
             }
            },
            "type": "table"
           }
          ]
         },
         "layout": {
          "annotationdefaults": {
           "arrowcolor": "#2a3f5f",
           "arrowhead": 0,
           "arrowwidth": 1
          },
          "autotypenumbers": "strict",
          "coloraxis": {
           "colorbar": {
            "outlinewidth": 0,
            "ticks": ""
           }
          },
          "colorscale": {
           "diverging": [
            [
             0,
             "#8e0152"
            ],
            [
             0.1,
             "#c51b7d"
            ],
            [
             0.2,
             "#de77ae"
            ],
            [
             0.3,
             "#f1b6da"
            ],
            [
             0.4,
             "#fde0ef"
            ],
            [
             0.5,
             "#f7f7f7"
            ],
            [
             0.6,
             "#e6f5d0"
            ],
            [
             0.7,
             "#b8e186"
            ],
            [
             0.8,
             "#7fbc41"
            ],
            [
             0.9,
             "#4d9221"
            ],
            [
             1,
             "#276419"
            ]
           ],
           "sequential": [
            [
             0,
             "#0d0887"
            ],
            [
             0.1111111111111111,
             "#46039f"
            ],
            [
             0.2222222222222222,
             "#7201a8"
            ],
            [
             0.3333333333333333,
             "#9c179e"
            ],
            [
             0.4444444444444444,
             "#bd3786"
            ],
            [
             0.5555555555555556,
             "#d8576b"
            ],
            [
             0.6666666666666666,
             "#ed7953"
            ],
            [
             0.7777777777777778,
             "#fb9f3a"
            ],
            [
             0.8888888888888888,
             "#fdca26"
            ],
            [
             1,
             "#f0f921"
            ]
           ],
           "sequentialminus": [
            [
             0,
             "#0d0887"
            ],
            [
             0.1111111111111111,
             "#46039f"
            ],
            [
             0.2222222222222222,
             "#7201a8"
            ],
            [
             0.3333333333333333,
             "#9c179e"
            ],
            [
             0.4444444444444444,
             "#bd3786"
            ],
            [
             0.5555555555555556,
             "#d8576b"
            ],
            [
             0.6666666666666666,
             "#ed7953"
            ],
            [
             0.7777777777777778,
             "#fb9f3a"
            ],
            [
             0.8888888888888888,
             "#fdca26"
            ],
            [
             1,
             "#f0f921"
            ]
           ]
          },
          "colorway": [
           "#636efa",
           "#EF553B",
           "#00cc96",
           "#ab63fa",
           "#FFA15A",
           "#19d3f3",
           "#FF6692",
           "#B6E880",
           "#FF97FF",
           "#FECB52"
          ],
          "font": {
           "color": "#2a3f5f"
          },
          "geo": {
           "bgcolor": "white",
           "lakecolor": "white",
           "landcolor": "#E5ECF6",
           "showlakes": true,
           "showland": true,
           "subunitcolor": "white"
          },
          "hoverlabel": {
           "align": "left"
          },
          "hovermode": "closest",
          "mapbox": {
           "style": "light"
          },
          "paper_bgcolor": "white",
          "plot_bgcolor": "#E5ECF6",
          "polar": {
           "angularaxis": {
            "gridcolor": "white",
            "linecolor": "white",
            "ticks": ""
           },
           "bgcolor": "#E5ECF6",
           "radialaxis": {
            "gridcolor": "white",
            "linecolor": "white",
            "ticks": ""
           }
          },
          "scene": {
           "xaxis": {
            "backgroundcolor": "#E5ECF6",
            "gridcolor": "white",
            "gridwidth": 2,
            "linecolor": "white",
            "showbackground": true,
            "ticks": "",
            "zerolinecolor": "white"
           },
           "yaxis": {
            "backgroundcolor": "#E5ECF6",
            "gridcolor": "white",
            "gridwidth": 2,
            "linecolor": "white",
            "showbackground": true,
            "ticks": "",
            "zerolinecolor": "white"
           },
           "zaxis": {
            "backgroundcolor": "#E5ECF6",
            "gridcolor": "white",
            "gridwidth": 2,
            "linecolor": "white",
            "showbackground": true,
            "ticks": "",
            "zerolinecolor": "white"
           }
          },
          "shapedefaults": {
           "line": {
            "color": "#2a3f5f"
           }
          },
          "ternary": {
           "aaxis": {
            "gridcolor": "white",
            "linecolor": "white",
            "ticks": ""
           },
           "baxis": {
            "gridcolor": "white",
            "linecolor": "white",
            "ticks": ""
           },
           "bgcolor": "#E5ECF6",
           "caxis": {
            "gridcolor": "white",
            "linecolor": "white",
            "ticks": ""
           }
          },
          "title": {
           "x": 0.05
          },
          "xaxis": {
           "automargin": true,
           "gridcolor": "white",
           "linecolor": "white",
           "ticks": "",
           "title": {
            "standoff": 15
           },
           "zerolinecolor": "white",
           "zerolinewidth": 2
          },
          "yaxis": {
           "automargin": true,
           "gridcolor": "white",
           "linecolor": "white",
           "ticks": "",
           "title": {
            "standoff": 15
           },
           "zerolinecolor": "white",
           "zerolinewidth": 2
          }
         }
        },
        "xaxis": {
         "anchor": "y",
         "domain": [
          0,
          1
         ],
         "title": {
          "text": "serotype"
         }
        },
        "yaxis": {
         "anchor": "x",
         "domain": [
          0,
          1
         ],
         "title": {
          "text": "Number of Patients"
         }
        }
       }
      },
      "text/html": [
       "<div>                            <div id=\"c790a6f1-3123-4399-8e9a-00ebfcdc3f4d\" class=\"plotly-graph-div\" style=\"height:525px; width:100%;\"></div>            <script type=\"text/javascript\">                require([\"plotly\"], function(Plotly) {                    window.PLOTLYENV=window.PLOTLYENV || {};                                    if (document.getElementById(\"c790a6f1-3123-4399-8e9a-00ebfcdc3f4d\")) {                    Plotly.newPlot(                        \"c790a6f1-3123-4399-8e9a-00ebfcdc3f4d\",                        [{\"alignmentgroup\": \"True\", \"hovertemplate\": \"disease=Meningitis<br>serotype=%{x}<br>Number of Patients=%{y}<extra></extra>\", \"legendgroup\": \"Meningitis\", \"marker\": {\"color\": \"#636efa\"}, \"name\": \"Meningitis\", \"offsetgroup\": \"Meningitis\", \"orientation\": \"v\", \"showlegend\": true, \"textposition\": \"auto\", \"type\": \"bar\", \"x\": [\"Neisseria meningitidis group W (NmW)\", \"Neisseria meningitidis group C (NmC)\", \"Neisseria meningitidis group A (NmA)\"], \"xaxis\": \"x\", \"y\": [14194, 7130, 7038], \"yaxis\": \"y\"}],                        {\"barmode\": \"relative\", \"legend\": {\"title\": {\"text\": \"disease\"}, \"tracegroupgap\": 0}, \"margin\": {\"t\": 60}, \"template\": {\"data\": {\"bar\": [{\"error_x\": {\"color\": \"#2a3f5f\"}, \"error_y\": {\"color\": \"#2a3f5f\"}, \"marker\": {\"line\": {\"color\": \"#E5ECF6\", \"width\": 0.5}}, \"type\": \"bar\"}], \"barpolar\": [{\"marker\": {\"line\": {\"color\": \"#E5ECF6\", \"width\": 0.5}}, \"type\": \"barpolar\"}], \"carpet\": [{\"aaxis\": {\"endlinecolor\": \"#2a3f5f\", \"gridcolor\": \"white\", \"linecolor\": \"white\", \"minorgridcolor\": \"white\", \"startlinecolor\": \"#2a3f5f\"}, \"baxis\": {\"endlinecolor\": \"#2a3f5f\", \"gridcolor\": \"white\", \"linecolor\": \"white\", \"minorgridcolor\": \"white\", \"startlinecolor\": \"#2a3f5f\"}, \"type\": \"carpet\"}], \"choropleth\": [{\"colorbar\": {\"outlinewidth\": 0, \"ticks\": \"\"}, \"type\": \"choropleth\"}], \"contour\": [{\"colorbar\": {\"outlinewidth\": 0, \"ticks\": \"\"}, \"colorscale\": [[0.0, \"#0d0887\"], [0.1111111111111111, \"#46039f\"], [0.2222222222222222, \"#7201a8\"], [0.3333333333333333, \"#9c179e\"], [0.4444444444444444, \"#bd3786\"], [0.5555555555555556, \"#d8576b\"], [0.6666666666666666, \"#ed7953\"], [0.7777777777777778, \"#fb9f3a\"], [0.8888888888888888, \"#fdca26\"], [1.0, \"#f0f921\"]], \"type\": \"contour\"}], \"contourcarpet\": [{\"colorbar\": {\"outlinewidth\": 0, \"ticks\": \"\"}, \"type\": \"contourcarpet\"}], \"heatmap\": [{\"colorbar\": {\"outlinewidth\": 0, \"ticks\": \"\"}, \"colorscale\": [[0.0, \"#0d0887\"], [0.1111111111111111, \"#46039f\"], [0.2222222222222222, \"#7201a8\"], [0.3333333333333333, \"#9c179e\"], [0.4444444444444444, \"#bd3786\"], [0.5555555555555556, \"#d8576b\"], [0.6666666666666666, \"#ed7953\"], [0.7777777777777778, \"#fb9f3a\"], [0.8888888888888888, \"#fdca26\"], [1.0, \"#f0f921\"]], \"type\": \"heatmap\"}], \"heatmapgl\": [{\"colorbar\": {\"outlinewidth\": 0, \"ticks\": \"\"}, \"colorscale\": [[0.0, \"#0d0887\"], [0.1111111111111111, \"#46039f\"], [0.2222222222222222, \"#7201a8\"], [0.3333333333333333, \"#9c179e\"], [0.4444444444444444, \"#bd3786\"], [0.5555555555555556, \"#d8576b\"], [0.6666666666666666, \"#ed7953\"], [0.7777777777777778, \"#fb9f3a\"], [0.8888888888888888, \"#fdca26\"], [1.0, \"#f0f921\"]], \"type\": \"heatmapgl\"}], \"histogram\": [{\"marker\": {\"colorbar\": {\"outlinewidth\": 0, \"ticks\": \"\"}}, \"type\": \"histogram\"}], \"histogram2d\": [{\"colorbar\": {\"outlinewidth\": 0, \"ticks\": \"\"}, \"colorscale\": [[0.0, \"#0d0887\"], [0.1111111111111111, \"#46039f\"], [0.2222222222222222, \"#7201a8\"], [0.3333333333333333, \"#9c179e\"], [0.4444444444444444, \"#bd3786\"], [0.5555555555555556, \"#d8576b\"], [0.6666666666666666, \"#ed7953\"], [0.7777777777777778, \"#fb9f3a\"], [0.8888888888888888, \"#fdca26\"], [1.0, \"#f0f921\"]], \"type\": \"histogram2d\"}], \"histogram2dcontour\": [{\"colorbar\": {\"outlinewidth\": 0, \"ticks\": \"\"}, \"colorscale\": [[0.0, \"#0d0887\"], [0.1111111111111111, \"#46039f\"], [0.2222222222222222, \"#7201a8\"], [0.3333333333333333, \"#9c179e\"], [0.4444444444444444, \"#bd3786\"], [0.5555555555555556, \"#d8576b\"], [0.6666666666666666, \"#ed7953\"], [0.7777777777777778, \"#fb9f3a\"], [0.8888888888888888, \"#fdca26\"], [1.0, \"#f0f921\"]], \"type\": \"histogram2dcontour\"}], \"mesh3d\": [{\"colorbar\": {\"outlinewidth\": 0, \"ticks\": \"\"}, \"type\": \"mesh3d\"}], \"parcoords\": [{\"line\": {\"colorbar\": {\"outlinewidth\": 0, \"ticks\": \"\"}}, \"type\": \"parcoords\"}], \"pie\": [{\"automargin\": true, \"type\": \"pie\"}], \"scatter\": [{\"marker\": {\"colorbar\": {\"outlinewidth\": 0, \"ticks\": \"\"}}, \"type\": \"scatter\"}], \"scatter3d\": [{\"line\": {\"colorbar\": {\"outlinewidth\": 0, \"ticks\": \"\"}}, \"marker\": {\"colorbar\": {\"outlinewidth\": 0, \"ticks\": \"\"}}, \"type\": \"scatter3d\"}], \"scattercarpet\": [{\"marker\": {\"colorbar\": {\"outlinewidth\": 0, \"ticks\": \"\"}}, \"type\": \"scattercarpet\"}], \"scattergeo\": [{\"marker\": {\"colorbar\": {\"outlinewidth\": 0, \"ticks\": \"\"}}, \"type\": \"scattergeo\"}], \"scattergl\": [{\"marker\": {\"colorbar\": {\"outlinewidth\": 0, \"ticks\": \"\"}}, \"type\": \"scattergl\"}], \"scattermapbox\": [{\"marker\": {\"colorbar\": {\"outlinewidth\": 0, \"ticks\": \"\"}}, \"type\": \"scattermapbox\"}], \"scatterpolar\": [{\"marker\": {\"colorbar\": {\"outlinewidth\": 0, \"ticks\": \"\"}}, \"type\": \"scatterpolar\"}], \"scatterpolargl\": [{\"marker\": {\"colorbar\": {\"outlinewidth\": 0, \"ticks\": \"\"}}, \"type\": \"scatterpolargl\"}], \"scatterternary\": [{\"marker\": {\"colorbar\": {\"outlinewidth\": 0, \"ticks\": \"\"}}, \"type\": \"scatterternary\"}], \"surface\": [{\"colorbar\": {\"outlinewidth\": 0, \"ticks\": \"\"}, \"colorscale\": [[0.0, \"#0d0887\"], [0.1111111111111111, \"#46039f\"], [0.2222222222222222, \"#7201a8\"], [0.3333333333333333, \"#9c179e\"], [0.4444444444444444, \"#bd3786\"], [0.5555555555555556, \"#d8576b\"], [0.6666666666666666, \"#ed7953\"], [0.7777777777777778, \"#fb9f3a\"], [0.8888888888888888, \"#fdca26\"], [1.0, \"#f0f921\"]], \"type\": \"surface\"}], \"table\": [{\"cells\": {\"fill\": {\"color\": \"#EBF0F8\"}, \"line\": {\"color\": \"white\"}}, \"header\": {\"fill\": {\"color\": \"#C8D4E3\"}, \"line\": {\"color\": \"white\"}}, \"type\": \"table\"}]}, \"layout\": {\"annotationdefaults\": {\"arrowcolor\": \"#2a3f5f\", \"arrowhead\": 0, \"arrowwidth\": 1}, \"autotypenumbers\": \"strict\", \"coloraxis\": {\"colorbar\": {\"outlinewidth\": 0, \"ticks\": \"\"}}, \"colorscale\": {\"diverging\": [[0, \"#8e0152\"], [0.1, \"#c51b7d\"], [0.2, \"#de77ae\"], [0.3, \"#f1b6da\"], [0.4, \"#fde0ef\"], [0.5, \"#f7f7f7\"], [0.6, \"#e6f5d0\"], [0.7, \"#b8e186\"], [0.8, \"#7fbc41\"], [0.9, \"#4d9221\"], [1, \"#276419\"]], \"sequential\": [[0.0, \"#0d0887\"], [0.1111111111111111, \"#46039f\"], [0.2222222222222222, \"#7201a8\"], [0.3333333333333333, \"#9c179e\"], [0.4444444444444444, \"#bd3786\"], [0.5555555555555556, \"#d8576b\"], [0.6666666666666666, \"#ed7953\"], [0.7777777777777778, \"#fb9f3a\"], [0.8888888888888888, \"#fdca26\"], [1.0, \"#f0f921\"]], \"sequentialminus\": [[0.0, \"#0d0887\"], [0.1111111111111111, \"#46039f\"], [0.2222222222222222, \"#7201a8\"], [0.3333333333333333, \"#9c179e\"], [0.4444444444444444, \"#bd3786\"], [0.5555555555555556, \"#d8576b\"], [0.6666666666666666, \"#ed7953\"], [0.7777777777777778, \"#fb9f3a\"], [0.8888888888888888, \"#fdca26\"], [1.0, \"#f0f921\"]]}, \"colorway\": [\"#636efa\", \"#EF553B\", \"#00cc96\", \"#ab63fa\", \"#FFA15A\", \"#19d3f3\", \"#FF6692\", \"#B6E880\", \"#FF97FF\", \"#FECB52\"], \"font\": {\"color\": \"#2a3f5f\"}, \"geo\": {\"bgcolor\": \"white\", \"lakecolor\": \"white\", \"landcolor\": \"#E5ECF6\", \"showlakes\": true, \"showland\": true, \"subunitcolor\": \"white\"}, \"hoverlabel\": {\"align\": \"left\"}, \"hovermode\": \"closest\", \"mapbox\": {\"style\": \"light\"}, \"paper_bgcolor\": \"white\", \"plot_bgcolor\": \"#E5ECF6\", \"polar\": {\"angularaxis\": {\"gridcolor\": \"white\", \"linecolor\": \"white\", \"ticks\": \"\"}, \"bgcolor\": \"#E5ECF6\", \"radialaxis\": {\"gridcolor\": \"white\", \"linecolor\": \"white\", \"ticks\": \"\"}}, \"scene\": {\"xaxis\": {\"backgroundcolor\": \"#E5ECF6\", \"gridcolor\": \"white\", \"gridwidth\": 2, \"linecolor\": \"white\", \"showbackground\": true, \"ticks\": \"\", \"zerolinecolor\": \"white\"}, \"yaxis\": {\"backgroundcolor\": \"#E5ECF6\", \"gridcolor\": \"white\", \"gridwidth\": 2, \"linecolor\": \"white\", \"showbackground\": true, \"ticks\": \"\", \"zerolinecolor\": \"white\"}, \"zaxis\": {\"backgroundcolor\": \"#E5ECF6\", \"gridcolor\": \"white\", \"gridwidth\": 2, \"linecolor\": \"white\", \"showbackground\": true, \"ticks\": \"\", \"zerolinecolor\": \"white\"}}, \"shapedefaults\": {\"line\": {\"color\": \"#2a3f5f\"}}, \"ternary\": {\"aaxis\": {\"gridcolor\": \"white\", \"linecolor\": \"white\", \"ticks\": \"\"}, \"baxis\": {\"gridcolor\": \"white\", \"linecolor\": \"white\", \"ticks\": \"\"}, \"bgcolor\": \"#E5ECF6\", \"caxis\": {\"gridcolor\": \"white\", \"linecolor\": \"white\", \"ticks\": \"\"}}, \"title\": {\"x\": 0.05}, \"xaxis\": {\"automargin\": true, \"gridcolor\": \"white\", \"linecolor\": \"white\", \"ticks\": \"\", \"title\": {\"standoff\": 15}, \"zerolinecolor\": \"white\", \"zerolinewidth\": 2}, \"yaxis\": {\"automargin\": true, \"gridcolor\": \"white\", \"linecolor\": \"white\", \"ticks\": \"\", \"title\": {\"standoff\": 15}, \"zerolinecolor\": \"white\", \"zerolinewidth\": 2}}}, \"xaxis\": {\"anchor\": \"y\", \"domain\": [0.0, 1.0], \"title\": {\"text\": \"serotype\"}}, \"yaxis\": {\"anchor\": \"x\", \"domain\": [0.0, 1.0], \"title\": {\"text\": \"Number of Patients\"}}},                        {\"responsive\": true}                    ).then(function(){\n",
       "                            \n",
       "var gd = document.getElementById('c790a6f1-3123-4399-8e9a-00ebfcdc3f4d');\n",
       "var x = new MutationObserver(function (mutations, observer) {{\n",
       "        var display = window.getComputedStyle(gd).display;\n",
       "        if (!display || display === 'none') {{\n",
       "            console.log([gd, 'removed!']);\n",
       "            Plotly.purge(gd);\n",
       "            observer.disconnect();\n",
       "        }}\n",
       "}});\n",
       "\n",
       "// Listen for the removal of the full notebook cells\n",
       "var notebookContainer = gd.closest('#notebook-container');\n",
       "if (notebookContainer) {{\n",
       "    x.observe(notebookContainer, {childList: true});\n",
       "}}\n",
       "\n",
       "// Listen for the clearing of the current output cell\n",
       "var outputEl = gd.closest('.output');\n",
       "if (outputEl) {{\n",
       "    x.observe(outputEl, {childList: true});\n",
       "}}\n",
       "\n",
       "                        })                };                });            </script>        </div>"
      ]
     },
     "metadata": {},
     "output_type": "display_data"
    }
   ],
   "source": [
    "px.bar(data_serotype, x='serotype' , y='Number of Patients', color= 'disease' )\n"
   ]
  },
  {
   "cell_type": "code",
   "execution_count": null,
   "id": "upset-tenant",
   "metadata": {
    "papermill": {
     "duration": 0.138325,
     "end_time": "2021-07-06T10:17:44.205513",
     "exception": false,
     "start_time": "2021-07-06T10:17:44.067188",
     "status": "completed"
    },
    "tags": []
   },
   "outputs": [],
   "source": []
  },
  {
   "cell_type": "markdown",
   "id": "verbal-barrier",
   "metadata": {
    "papermill": {
     "duration": 0.138964,
     "end_time": "2021-07-06T10:17:44.486726",
     "exception": false,
     "start_time": "2021-07-06T10:17:44.347762",
     "status": "completed"
    },
    "tags": []
   },
   "source": [
    "Conclusion:\n",
    "\n",
    "we can colculde from Data-Visulization that dieseases can occur independent of state, settlement, gender. and maybe only age is a feature which can affect the health-Status"
   ]
  },
  {
   "cell_type": "code",
   "execution_count": 22,
   "id": "renewable-theology",
   "metadata": {
    "execution": {
     "iopub.execute_input": "2021-07-06T10:17:44.836197Z",
     "iopub.status.busy": "2021-07-06T10:17:44.810487Z",
     "iopub.status.idle": "2021-07-06T10:17:44.844366Z",
     "shell.execute_reply": "2021-07-06T10:17:44.843747Z",
     "shell.execute_reply.started": "2021-07-06T10:10:32.760724Z"
    },
    "papermill": {
     "duration": 0.217187,
     "end_time": "2021-07-06T10:17:44.844525",
     "exception": false,
     "start_time": "2021-07-06T10:17:44.627338",
     "status": "completed"
    },
    "tags": []
   },
   "outputs": [
    {
     "data": {
      "text/plain": [
       "Dead     142289\n",
       "Alive    142194\n",
       "alive         1\n",
       "Name: health_status, dtype: int64"
      ]
     },
     "execution_count": 22,
     "metadata": {},
     "output_type": "execute_result"
    }
   ],
   "source": [
    "data.health_status.value_counts()"
   ]
  },
  {
   "cell_type": "code",
   "execution_count": 23,
   "id": "administrative-determination",
   "metadata": {
    "execution": {
     "iopub.execute_input": "2021-07-06T10:17:45.170643Z",
     "iopub.status.busy": "2021-07-06T10:17:45.169308Z",
     "iopub.status.idle": "2021-07-06T10:17:45.179807Z",
     "shell.execute_reply": "2021-07-06T10:17:45.178836Z",
     "shell.execute_reply.started": "2021-07-06T10:10:32.835568Z"
    },
    "papermill": {
     "duration": 0.196792,
     "end_time": "2021-07-06T10:17:45.180098",
     "exception": false,
     "start_time": "2021-07-06T10:17:44.983306",
     "status": "completed"
    },
    "tags": []
   },
   "outputs": [
    {
     "name": "stderr",
     "output_type": "stream",
     "text": [
      "/opt/conda/lib/python3.7/site-packages/pandas/core/indexing.py:1720: SettingWithCopyWarning:\n",
      "\n",
      "\n",
      "A value is trying to be set on a copy of a slice from a DataFrame.\n",
      "Try using .loc[row_indexer,col_indexer] = value instead\n",
      "\n",
      "See the caveats in the documentation: https://pandas.pydata.org/pandas-docs/stable/user_guide/indexing.html#returning-a-view-versus-a-copy\n",
      "\n"
     ]
    }
   ],
   "source": [
    "\n",
    "data.loc[df['health_status']== 'alive', 'health_status']='Alive'        "
   ]
  },
  {
   "cell_type": "code",
   "execution_count": 24,
   "id": "african-expression",
   "metadata": {
    "execution": {
     "iopub.execute_input": "2021-07-06T10:17:45.555341Z",
     "iopub.status.busy": "2021-07-06T10:17:45.552122Z",
     "iopub.status.idle": "2021-07-06T10:17:45.559077Z",
     "shell.execute_reply": "2021-07-06T10:17:45.559633Z",
     "shell.execute_reply.started": "2021-07-06T10:10:32.892573Z"
    },
    "papermill": {
     "duration": 0.215041,
     "end_time": "2021-07-06T10:17:45.559823",
     "exception": false,
     "start_time": "2021-07-06T10:17:45.344782",
     "status": "completed"
    },
    "tags": []
   },
   "outputs": [
    {
     "data": {
      "text/plain": [
       "Dead     142289\n",
       "Alive    142195\n",
       "Name: health_status, dtype: int64"
      ]
     },
     "execution_count": 24,
     "metadata": {},
     "output_type": "execute_result"
    }
   ],
   "source": [
    "data.health_status.value_counts()"
   ]
  },
  {
   "cell_type": "code",
   "execution_count": 25,
   "id": "charitable-newfoundland",
   "metadata": {
    "execution": {
     "iopub.execute_input": "2021-07-06T10:17:45.843433Z",
     "iopub.status.busy": "2021-07-06T10:17:45.842713Z",
     "iopub.status.idle": "2021-07-06T10:17:45.891282Z",
     "shell.execute_reply": "2021-07-06T10:17:45.891801Z",
     "shell.execute_reply.started": "2021-07-06T10:10:32.965912Z"
    },
    "papermill": {
     "duration": 0.190562,
     "end_time": "2021-07-06T10:17:45.892047",
     "exception": false,
     "start_time": "2021-07-06T10:17:45.701485",
     "status": "completed"
    },
    "tags": []
   },
   "outputs": [],
   "source": [
    "data.loc[df['report_outcome']== 'confirmed', 'report_outcome']='Confirmed'     "
   ]
  },
  {
   "cell_type": "code",
   "execution_count": 26,
   "id": "caroline-elizabeth",
   "metadata": {
    "execution": {
     "iopub.execute_input": "2021-07-06T10:17:46.288473Z",
     "iopub.status.busy": "2021-07-06T10:17:46.285550Z",
     "iopub.status.idle": "2021-07-06T10:17:46.293703Z",
     "shell.execute_reply": "2021-07-06T10:17:46.294247Z",
     "shell.execute_reply.started": "2021-07-06T10:10:33.020170Z"
    },
    "papermill": {
     "duration": 0.26297,
     "end_time": "2021-07-06T10:17:46.294434",
     "exception": false,
     "start_time": "2021-07-06T10:17:46.031464",
     "status": "completed"
    },
    "tags": []
   },
   "outputs": [
    {
     "data": {
      "text/plain": [
       "Not Confirmed    142746\n",
       "Confirmed        141738\n",
       "Name: report_outcome, dtype: int64"
      ]
     },
     "execution_count": 26,
     "metadata": {},
     "output_type": "execute_result"
    }
   ],
   "source": [
    "data.report_outcome.value_counts()"
   ]
  },
  {
   "cell_type": "code",
   "execution_count": 27,
   "id": "stainless-caution",
   "metadata": {
    "execution": {
     "iopub.execute_input": "2021-07-06T10:17:46.584572Z",
     "iopub.status.busy": "2021-07-06T10:17:46.583823Z",
     "iopub.status.idle": "2021-07-06T10:17:47.549494Z",
     "shell.execute_reply": "2021-07-06T10:17:47.548905Z",
     "shell.execute_reply.started": "2021-07-06T10:10:33.097498Z"
    },
    "papermill": {
     "duration": 1.114977,
     "end_time": "2021-07-06T10:17:47.549654",
     "exception": false,
     "start_time": "2021-07-06T10:17:46.434677",
     "status": "completed"
    },
    "tags": []
   },
   "outputs": [
    {
     "data": {
      "text/html": [
       "<div>\n",
       "<style scoped>\n",
       "    .dataframe tbody tr th:only-of-type {\n",
       "        vertical-align: middle;\n",
       "    }\n",
       "\n",
       "    .dataframe tbody tr th {\n",
       "        vertical-align: top;\n",
       "    }\n",
       "\n",
       "    .dataframe thead th {\n",
       "        text-align: right;\n",
       "    }\n",
       "</style>\n",
       "<table border=\"1\" class=\"dataframe\">\n",
       "  <thead>\n",
       "    <tr style=\"text-align: right;\">\n",
       "      <th></th>\n",
       "      <th>gender</th>\n",
       "      <th>state</th>\n",
       "      <th>settlement</th>\n",
       "      <th>report_year</th>\n",
       "      <th>age</th>\n",
       "      <th>disease</th>\n",
       "      <th>serotype</th>\n",
       "      <th>health_status</th>\n",
       "      <th>report_outcome</th>\n",
       "    </tr>\n",
       "  </thead>\n",
       "  <tbody>\n",
       "    <tr>\n",
       "      <th>0</th>\n",
       "      <td>0</td>\n",
       "      <td>32</td>\n",
       "      <td>0</td>\n",
       "      <td>9</td>\n",
       "      <td>32</td>\n",
       "      <td>0</td>\n",
       "      <td>3</td>\n",
       "      <td>0</td>\n",
       "      <td>0</td>\n",
       "    </tr>\n",
       "    <tr>\n",
       "      <th>1</th>\n",
       "      <td>1</td>\n",
       "      <td>10</td>\n",
       "      <td>0</td>\n",
       "      <td>8</td>\n",
       "      <td>32</td>\n",
       "      <td>4</td>\n",
       "      <td>3</td>\n",
       "      <td>0</td>\n",
       "      <td>0</td>\n",
       "    </tr>\n",
       "    <tr>\n",
       "      <th>2</th>\n",
       "      <td>0</td>\n",
       "      <td>27</td>\n",
       "      <td>1</td>\n",
       "      <td>3</td>\n",
       "      <td>24</td>\n",
       "      <td>4</td>\n",
       "      <td>3</td>\n",
       "      <td>1</td>\n",
       "      <td>1</td>\n",
       "    </tr>\n",
       "    <tr>\n",
       "      <th>3</th>\n",
       "      <td>0</td>\n",
       "      <td>28</td>\n",
       "      <td>0</td>\n",
       "      <td>1</td>\n",
       "      <td>63</td>\n",
       "      <td>5</td>\n",
       "      <td>3</td>\n",
       "      <td>0</td>\n",
       "      <td>1</td>\n",
       "    </tr>\n",
       "    <tr>\n",
       "      <th>4</th>\n",
       "      <td>1</td>\n",
       "      <td>30</td>\n",
       "      <td>1</td>\n",
       "      <td>8</td>\n",
       "      <td>9</td>\n",
       "      <td>7</td>\n",
       "      <td>3</td>\n",
       "      <td>0</td>\n",
       "      <td>0</td>\n",
       "    </tr>\n",
       "  </tbody>\n",
       "</table>\n",
       "</div>"
      ],
      "text/plain": [
       "   gender  state  settlement  report_year  age  disease  serotype  health_status  report_outcome\n",
       "0       0     32           0            9   32        0         3              0               0\n",
       "1       1     10           0            8   32        4         3              0               0\n",
       "2       0     27           1            3   24        4         3              1               1\n",
       "3       0     28           0            1   63        5         3              0               1\n",
       "4       1     30           1            8    9        7         3              0               0"
      ]
     },
     "execution_count": 27,
     "metadata": {},
     "output_type": "execute_result"
    }
   ],
   "source": [
    "from sklearn.preprocessing import LabelEncoder\n",
    "le=LabelEncoder()\n",
    "def Labelencoder_feature(x):\n",
    "    le=LabelEncoder()\n",
    "    x=le.fit_transform(x)\n",
    "    return x\n",
    "data2=data.drop(columns=['id'])\n",
    "data2=data2.apply(Labelencoder_feature)\n",
    "data2.head()"
   ]
  },
  {
   "cell_type": "code",
   "execution_count": 28,
   "id": "thousand-floating",
   "metadata": {
    "execution": {
     "iopub.execute_input": "2021-07-06T10:17:47.839497Z",
     "iopub.status.busy": "2021-07-06T10:17:47.838747Z",
     "iopub.status.idle": "2021-07-06T10:17:48.608424Z",
     "shell.execute_reply": "2021-07-06T10:17:48.607372Z",
     "shell.execute_reply.started": "2021-07-06T10:10:33.891587Z"
    },
    "papermill": {
     "duration": 0.918815,
     "end_time": "2021-07-06T10:17:48.608591",
     "exception": false,
     "start_time": "2021-07-06T10:17:47.689776",
     "status": "completed"
    },
    "tags": []
   },
   "outputs": [
    {
     "data": {
      "text/plain": [
       "<AxesSubplot:>"
      ]
     },
     "execution_count": 28,
     "metadata": {},
     "output_type": "execute_result"
    },
    {
     "data": {
      "image/png": "[encoded data removed]",
      "text/plain": [
       "<Figure size 1440x720 with 2 Axes>"
      ]
     },
     "metadata": {
      "needs_background": "light"
     },
     "output_type": "display_data"
    }
   ],
   "source": [
    "fig = plt.figure(figsize=(20,10))\n",
    "sns.heatmap(data2.corr(), annot = True, fmt = '.2f', cmap = 'Blues', )"
   ]
  },
  {
   "cell_type": "code",
   "execution_count": 29,
   "id": "tropical-wesley",
   "metadata": {
    "execution": {
     "iopub.execute_input": "2021-07-06T10:17:48.905435Z",
     "iopub.status.busy": "2021-07-06T10:17:48.904711Z",
     "iopub.status.idle": "2021-07-06T10:18:37.626426Z",
     "shell.execute_reply": "2021-07-06T10:18:37.626962Z"
    },
    "papermill": {
     "duration": 48.87123,
     "end_time": "2021-07-06T10:18:37.627160",
     "exception": false,
     "start_time": "2021-07-06T10:17:48.755930",
     "status": "completed"
    },
    "tags": []
   },
   "outputs": [
    {
     "data": {
      "text/plain": [
       "<seaborn.axisgrid.PairGrid at 0x7f7011990950>"
      ]
     },
     "execution_count": 29,
     "metadata": {},
     "output_type": "execute_result"
    },
    {
     "data": {
      "image/png": "[encoded data removed]",
      "text/plain": [
       "<Figure size 1440x1440 with 72 Axes>"
      ]
     },
     "metadata": {
      "needs_background": "light"
     },
     "output_type": "display_data"
    }
   ],
   "source": [
    "Features_Region_p=sns.PairGrid(data2, hue='disease')\n",
    "\n",
    "Features_Region_p.map_diag(plt.hist)\n",
    "Features_Region_p.map_offdiag(plt.scatter)"
   ]
  },
  {
   "cell_type": "markdown",
   "id": "practical-explanation",
   "metadata": {
    "papermill": {
     "duration": 0.141605,
     "end_time": "2021-07-06T10:18:37.910863",
     "exception": false,
     "start_time": "2021-07-06T10:18:37.769258",
     "status": "completed"
    },
    "tags": []
   },
   "source": [
    "the only feature which may have a correlation with dieseas is serotype and we see it is why this feature has values only for a spesific disease (Meninigent)\n",
    "there is no reason to continue forecasting with aid of these features. Diseases have no colrelation with other features "
   ]
  }
 ],
 "metadata": {
  "kernelspec": {
   "display_name": "Python 3",
   "language": "python",
   "name": "python3"
  },
  "language_info": {
   "codemirror_mode": {
    "name": "ipython",
    "version": 3
   },
   "file_extension": ".py",
   "mimetype": "text/x-python",
   "name": "python",
   "nbconvert_exporter": "python",
   "pygments_lexer": "ipython3",
   "version": "3.7.9"
  },
  "papermill": {
   "default_parameters": {},
   "duration": 73.644257,
   "end_time": "2021-07-06T10:18:39.268351",
   "environment_variables": {},
   "exception": null,
   "input_path": "__notebook__.ipynb",
   "output_path": "__notebook__.ipynb",
   "parameters": {},
   "start_time": "2021-07-06T10:17:25.624094",
   "version": "2.3.2"
  }
 },
 "nbformat": 4,
 "nbformat_minor": 5
}
